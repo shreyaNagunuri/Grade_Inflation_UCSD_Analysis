{
 "cells": [
  {
   "cell_type": "markdown",
   "metadata": {},
   "source": [
    "# COGS 108 - UCSD Grade Inflation\n",
    "\n",
    "# Permissions\n",
    "\n",
    "Place an `X` in the appropriate bracket below to specify if you would like your group's project to be made available to the public. (Note that student names will be included (but PIDs will be scraped from any groups who include their PIDs).\n",
    "\n",
    "* [X] YES - make available\n",
    "* [  ] NO - keep private\n",
    "\n",
    "# Names\n",
    "\n",
    "- Sirui Huang\n",
    "- Tianqi Li\n",
    "- Jacob Mccoy\n",
    "- Shreya Nagunuri\n",
    "- Juliet Raynovich\n",
    "\n",
    "# Abstract\n",
    "\n",
    "Please write one to four paragraphs that describe a very brief overview of why you did this, how you did, and the major findings and conclusions."
   ]
  },
  {
   "cell_type": "markdown",
   "metadata": {},
   "source": [
    "# Research Question"
   ]
  },
  {
   "cell_type": "markdown",
   "metadata": {},
   "source": [
    "-  Include a specific, clear data science question.\n",
    "-  Make sure what you're measuring (variables) to answer the question is clear\n",
    "\n",
    "What is your research question? Include the specific question you're setting out to answer. This question should be specific, answerable with data, and clear. A general question with specific subquestions is permitted. (1-2 sentences)\n",
    "\n"
   ]
  },
  {
   "cell_type": "markdown",
   "metadata": {},
   "source": [
    "Using CAPES data, has there been a trend of grade inflation at UCSD over the past 15 years? If so, has grade inflation been more prominent in particular departments more than others. In this research question, we would like to study a department's average grade over time."
   ]
  },
  {
   "cell_type": "markdown",
   "metadata": {},
   "source": [
    "## Background and Prior Work"
   ]
  },
  {
   "cell_type": "markdown",
   "metadata": {},
   "source": [
    "\n",
    "- Include a general introduction to your topic\n",
    "- Include explanation of what work has been done previously\n",
    "- Include citations or links to previous work\n",
    "\n",
    "This section will present the background and context of your topic and question in a few paragraphs. Include a general introduction to your topic and then describe what information you currently know about the topic after doing your initial research. Include references to other projects who have asked similar questions or approached similar problems. Explain what others have learned in their projects.\n",
    "\n",
    "Find some relevant prior work, and reference those sources, summarizing what each did and what they learned. Even if you think you have a totally novel question, find the most similar prior work that you can and discuss how it relates to your project.\n",
    "\n",
    "References can be research publications, but they need not be. Blogs, GitHub repositories, company websites, etc., are all viable references if they are relevant to your project. It must be clear which information comes from which references. (2-3 paragraphs, including at least 2 references)\n",
    "\n",
    "  **Use inline citation through HTML footnotes to specify which references support which statements** \n",
    "\n",
    "For example: After government genocide in the 20th century, real birds were replaced with surveillance drones designed to look just like birds.<a name=\"cite_ref-1\"></a>[<sup>1</sup>](#cite_note-1) Use a minimum of 2 or 3 citations, but we prefer more.<a name=\"cite_ref-2\"></a>[<sup>2</sup>](#cite_note-2) You need enough to fully explain and back up important facts. \n",
    "\n",
    "Note that if you click a footnote number in the paragraph above it will transport you to the proper entry in the footnotes list below.  And if you click the ^ in the footnote entry, it will return you to the place in the main text where the footnote is made.\n",
    "\n",
    "To understand the HTML here, `<a name=\"#...\"> </a>` is a tag that allows you produce a named reference for a given location.  Markdown has the construciton `[text with hyperlink](#named reference)` that will produce a clickable link that transports you the named reference.\n",
    "\n",
    "1. <a name=\"cite_note-1\"></a> [^](#cite_ref-1) Lorenz, T. (9 Dec 2021) Birds Aren’t Real, or Are They? Inside a Gen Z Conspiracy Theory. *The New York Times*. https://www.nytimes.com/2021/12/09/technology/birds-arent-real-gen-z-misinformation.html \n",
    "2. <a name=\"cite_note-2\"></a> [^](#cite_ref-2) Also refs should be important to the background, not some randomly chosen vaguely related stuff. Include a web link if possible in refs as above.\n"
   ]
  },
  {
   "cell_type": "markdown",
   "metadata": {},
   "source": [
    "Grade inflation is a reference to the trend of increasin grade over time, in this case, at universities. Experts find grade inflation to be a significant issue in society because it signals that students shouldn't try as hard to get the grade that they deserve.1 In addition, it may signal to employers that students are not prepared to leave their learning and join the workforce.1 Thus, universities try to curb the impact of grade inflation by grading on a curve and reducing the number of As given much to the chargin of students. This system was created in hopes for students feel as if they deserved their grade more, although someone has to fill the lower quota of students.2\n",
    "\n",
    "There hasn't been much research on grade inflation at UCSD especially on a department level. However, we do know that the average GPA of UCSD students has increased from 2000 to 2015 from a 3.0 to a 3.153. This analysis is limited to an overall perspective and we don't know if a particular department drives this growth. In addition, this increase may not even be attributed to grade inflation but the growth of UCSD to a more prestigious university. 4 There has been research done on grade inflation on a national level and some researchers find that \"grades have risen at high schools and dropped at four-year colleges, in general, and selective four-year institutions, in particular\". This heavily contridicts previous reporting most likely because this research paper defines grade inflation as the \"signalling power of grades\".5\n",
    "\n",
    "Our research aims to build on previous research in a couple different ways. Firstly, our research would include more recent student grades from Fall Quarter 2023. In addition, we would aim to understand inflation on a departmental level since there many be specific departments that award higher grades every year compared to other departments."
   ]
  },
  {
   "cell_type": "markdown",
   "metadata": {},
   "source": [
    "# Hypothesis\n"
   ]
  },
  {
   "cell_type": "markdown",
   "metadata": {},
   "source": [
    "\n",
    "- Include your team's hypothesis\n",
    "- Ensure that this hypothesis is clear to readers\n",
    "- Explain why you think this will be the outcome (what was your thinking?)\n",
    "\n",
    "What is your main hypothesis/predictions about what the answer to your question is? Briefly explain your thinking. (2-3 sentences)"
   ]
  },
  {
   "cell_type": "markdown",
   "metadata": {},
   "source": [
    "Grade inflation at UCSD (from 2007 Summer Session to 2023 Spring) has become more prominent specifically in the humanties departments.\n",
    "\n",
    "The reason why we think that grade inflation has increased at UCSD because grade inflation has been a trend in other top universities like the Ivy Leagues. In order to keep up with the competition, other universities like the UC system, including UCSD have implemented systems to increase grades. In addition, due to COVID-19 online resources like Chat-GPT and Chegg have become more common which has lead to the democratization of information. We believe that this results in students doing better in class and thus increasing grades. The reason why we suspect this to be the case in the humanities departments is because those classes have become more labor based instead of based on a specific criteria. Writing classes at UCSD have become more forgiving in writing standards in order to become a more inclusive place for ideas and growth."
   ]
  },
  {
   "cell_type": "markdown",
   "metadata": {},
   "source": [
    "# Data"
   ]
  },
  {
   "cell_type": "markdown",
   "metadata": {},
   "source": [
    "## Data overview\n",
    "\n",
    "For each dataset include the following information\n",
    "- Dataset #1\n",
    "  - Dataset Name:\n",
    "  - Link to the dataset:\n",
    "  - Number of observations:\n",
    "  - Number of variables:\n",
    "- Dataset #2 (if you have more than one!)\n",
    "  - Dataset Name:\n",
    "  - Link to the dataset:\n",
    "  - Number of observations:\n",
    "  - Number of variables:\n",
    "- etc\n",
    "\n",
    "Now write 2 - 5 sentences describing each dataset here. Include a short description of the important variables in the dataset; what the metrics and datatypes are, what concepts they may be proxies for. Include information about how you would need to wrangle/clean/preprocess the dataset\n",
    "\n",
    "If you plan to use multiple datasets, add a few sentences about how you plan to combine these datasets."
   ]
  },
  {
   "cell_type": "markdown",
   "metadata": {},
   "source": [
    "Dataset Name: UCSD CAPEs Data Link: https://www.kaggle.com/datasets/sanbornpnguyen/ucsdcapes/data Number of observations: 63363 observations about the data Number of Variables: 11\n",
    "\n",
    "The UCSD CAPEs Dataset has 11 different variables that consist of the questions that students answer when filling out the CAPEs end of the year form. The variable names are Instructor, Course, Quarter, Total Enrolled in Course, Total CAPEs Given, Percentage Recommended Class, Percentage Recommended Professor, Study Hours per Week, Average Grade Expected, Average Grade Received, and Evalulation URL. The column Course refers to the particular course number with the name of the course (ie. AAS 10 - Intro/African-American Studies) as a string. The Average Grade Expected and Average Grade Received are all string columns that provide the letter grade and a GPA version of the grade. In addition, Study Hours per Week column is a float number that describes the average number of hours students spent studying that week.\n",
    "\n",
    "The average grade recieved and expected is also important to study grade inflation at UCSD because without it we don't know what exactly the scores students are recieving. The number of hours studied per week for a class is also important because with it we can determine what may be the cause of grade inflation if it exists.\n",
    "\n",
    "Fortunately, the data is clean enough because the data came from a form that students should fill in and most of the data is a drop down, a multiple choice question, or autofilled from the student's academic record. For the preprocessing, we need to drop all rows that have a n/a value for Average Grade Expected and Average Grade Received since without it you can't create a proper GPA for that course. Next we need to drop unnecessary columns and switch datatypes for the GPA columns for easier calculation."
   ]
  },
  {
   "cell_type": "markdown",
   "metadata": {},
   "source": [
    "## UCSD CAPEs"
   ]
  },
  {
   "cell_type": "code",
   "execution_count": 1,
   "metadata": {},
   "outputs": [
    {
     "data": {
      "text/html": [
       "<div>\n",
       "<style scoped>\n",
       "    .dataframe tbody tr th:only-of-type {\n",
       "        vertical-align: middle;\n",
       "    }\n",
       "\n",
       "    .dataframe tbody tr th {\n",
       "        vertical-align: top;\n",
       "    }\n",
       "\n",
       "    .dataframe thead th {\n",
       "        text-align: right;\n",
       "    }\n",
       "</style>\n",
       "<table border=\"1\" class=\"dataframe\">\n",
       "  <thead>\n",
       "    <tr style=\"text-align: right;\">\n",
       "      <th></th>\n",
       "      <th>Instructor</th>\n",
       "      <th>Course</th>\n",
       "      <th>Quarter</th>\n",
       "      <th>Total Enrolled in Course</th>\n",
       "      <th>Total CAPEs Given</th>\n",
       "      <th>Percentage Recommended Class</th>\n",
       "      <th>Percentage Recommended Professor</th>\n",
       "      <th>Study Hours per Week</th>\n",
       "      <th>Average Grade Expected</th>\n",
       "      <th>Average Grade Received</th>\n",
       "      <th>Evalulation URL</th>\n",
       "    </tr>\n",
       "  </thead>\n",
       "  <tbody>\n",
       "    <tr>\n",
       "      <th>0</th>\n",
       "      <td>Butler Elizabeth Annette</td>\n",
       "      <td>AAS 10 - Intro/African-American Studies (A)</td>\n",
       "      <td>SP23</td>\n",
       "      <td>66</td>\n",
       "      <td>48</td>\n",
       "      <td>93.5%</td>\n",
       "      <td>100.0%</td>\n",
       "      <td>2.80</td>\n",
       "      <td>A- (3.84)</td>\n",
       "      <td>B+ (3.67)</td>\n",
       "      <td>https://cape.ucsd.edu/CAPEReport.aspx?sectioni...</td>\n",
       "    </tr>\n",
       "    <tr>\n",
       "      <th>1</th>\n",
       "      <td>Butler Elizabeth Annette</td>\n",
       "      <td>AAS 170 - Legacies of Research (A)</td>\n",
       "      <td>SP23</td>\n",
       "      <td>20</td>\n",
       "      <td>7</td>\n",
       "      <td>100.0%</td>\n",
       "      <td>100.0%</td>\n",
       "      <td>2.50</td>\n",
       "      <td>A- (3.86)</td>\n",
       "      <td>A- (3.92)</td>\n",
       "      <td>https://cape.ucsd.edu/CAPEReport.aspx?sectioni...</td>\n",
       "    </tr>\n",
       "    <tr>\n",
       "      <th>2</th>\n",
       "      <td>Jones Ian William Nasser</td>\n",
       "      <td>ANAR 111 - Foundations of Archaeology (A)</td>\n",
       "      <td>SP23</td>\n",
       "      <td>16</td>\n",
       "      <td>3</td>\n",
       "      <td>100.0%</td>\n",
       "      <td>100.0%</td>\n",
       "      <td>3.83</td>\n",
       "      <td>B+ (3.67)</td>\n",
       "      <td>NaN</td>\n",
       "      <td>https://cape.ucsd.edu/CAPEReport.aspx?sectioni...</td>\n",
       "    </tr>\n",
       "    <tr>\n",
       "      <th>3</th>\n",
       "      <td>Shtienberg Gilad</td>\n",
       "      <td>ANAR 115 - Coastal Geomorphology/Environ (A)</td>\n",
       "      <td>SP23</td>\n",
       "      <td>26</td>\n",
       "      <td>6</td>\n",
       "      <td>100.0%</td>\n",
       "      <td>83.3%</td>\n",
       "      <td>3.83</td>\n",
       "      <td>B+ (3.50)</td>\n",
       "      <td>B (3.07)</td>\n",
       "      <td>https://cape.ucsd.edu/CAPEReport.aspx?sectioni...</td>\n",
       "    </tr>\n",
       "    <tr>\n",
       "      <th>4</th>\n",
       "      <td>Braswell Geoffrey E.</td>\n",
       "      <td>ANAR 155 - Stdy Abrd: Ancient Mesoamerica (A)</td>\n",
       "      <td>SP23</td>\n",
       "      <td>22</td>\n",
       "      <td>9</td>\n",
       "      <td>100.0%</td>\n",
       "      <td>100.0%</td>\n",
       "      <td>5.17</td>\n",
       "      <td>A (4.00)</td>\n",
       "      <td>A (4.00)</td>\n",
       "      <td>https://cape.ucsd.edu/CAPEReport.aspx?sectioni...</td>\n",
       "    </tr>\n",
       "  </tbody>\n",
       "</table>\n",
       "</div>"
      ],
      "text/plain": [
       "                 Instructor                                         Course  \\\n",
       "0  Butler Elizabeth Annette    AAS 10 - Intro/African-American Studies (A)   \n",
       "1  Butler Elizabeth Annette             AAS 170 - Legacies of Research (A)   \n",
       "2  Jones Ian William Nasser      ANAR 111 - Foundations of Archaeology (A)   \n",
       "3          Shtienberg Gilad   ANAR 115 - Coastal Geomorphology/Environ (A)   \n",
       "4      Braswell Geoffrey E.  ANAR 155 - Stdy Abrd: Ancient Mesoamerica (A)   \n",
       "\n",
       "  Quarter  Total Enrolled in Course  Total CAPEs Given  \\\n",
       "0    SP23                        66                 48   \n",
       "1    SP23                        20                  7   \n",
       "2    SP23                        16                  3   \n",
       "3    SP23                        26                  6   \n",
       "4    SP23                        22                  9   \n",
       "\n",
       "  Percentage Recommended Class Percentage Recommended Professor  \\\n",
       "0                        93.5%                           100.0%   \n",
       "1                       100.0%                           100.0%   \n",
       "2                       100.0%                           100.0%   \n",
       "3                       100.0%                            83.3%   \n",
       "4                       100.0%                           100.0%   \n",
       "\n",
       "   Study Hours per Week Average Grade Expected Average Grade Received  \\\n",
       "0                  2.80              A- (3.84)              B+ (3.67)   \n",
       "1                  2.50              A- (3.86)              A- (3.92)   \n",
       "2                  3.83              B+ (3.67)                    NaN   \n",
       "3                  3.83              B+ (3.50)               B (3.07)   \n",
       "4                  5.17               A (4.00)               A (4.00)   \n",
       "\n",
       "                                     Evalulation URL  \n",
       "0  https://cape.ucsd.edu/CAPEReport.aspx?sectioni...  \n",
       "1  https://cape.ucsd.edu/CAPEReport.aspx?sectioni...  \n",
       "2  https://cape.ucsd.edu/CAPEReport.aspx?sectioni...  \n",
       "3  https://cape.ucsd.edu/CAPEReport.aspx?sectioni...  \n",
       "4  https://cape.ucsd.edu/CAPEReport.aspx?sectioni...  "
      ]
     },
     "execution_count": 1,
     "metadata": {},
     "output_type": "execute_result"
    }
   ],
   "source": [
    "## YOUR CODE TO LOAD/CLEAN/TIDY/WRANGLE THE DATA GOES HERE\n",
    "## FEEL FREE TO ADD MULTIPLE CELLS PER SECTION \n",
    "import pandas as pd\n",
    "df = pd.read_csv('capes_data.csv')\n",
    "df.head()"
   ]
  },
  {
   "cell_type": "markdown",
   "metadata": {},
   "source": [
    "Here we would not use Evalulation URL column, and we want to drop any rows missing value at Average Grade Received and Average Grade Expected, so:"
   ]
  },
  {
   "cell_type": "code",
   "execution_count": 2,
   "metadata": {},
   "outputs": [
    {
     "data": {
      "text/html": [
       "<div>\n",
       "<style scoped>\n",
       "    .dataframe tbody tr th:only-of-type {\n",
       "        vertical-align: middle;\n",
       "    }\n",
       "\n",
       "    .dataframe tbody tr th {\n",
       "        vertical-align: top;\n",
       "    }\n",
       "\n",
       "    .dataframe thead th {\n",
       "        text-align: right;\n",
       "    }\n",
       "</style>\n",
       "<table border=\"1\" class=\"dataframe\">\n",
       "  <thead>\n",
       "    <tr style=\"text-align: right;\">\n",
       "      <th></th>\n",
       "      <th>Instructor</th>\n",
       "      <th>Course</th>\n",
       "      <th>Quarter</th>\n",
       "      <th>Total Enrolled in Course</th>\n",
       "      <th>Total CAPEs Given</th>\n",
       "      <th>Percentage Recommended Class</th>\n",
       "      <th>Percentage Recommended Professor</th>\n",
       "      <th>Study Hours per Week</th>\n",
       "      <th>Average Grade Expected</th>\n",
       "      <th>Average Grade Received</th>\n",
       "    </tr>\n",
       "  </thead>\n",
       "  <tbody>\n",
       "    <tr>\n",
       "      <th>0</th>\n",
       "      <td>Butler Elizabeth Annette</td>\n",
       "      <td>AAS 10 - Intro/African-American Studies (A)</td>\n",
       "      <td>SP23</td>\n",
       "      <td>66</td>\n",
       "      <td>48</td>\n",
       "      <td>93.5%</td>\n",
       "      <td>100.0%</td>\n",
       "      <td>2.80</td>\n",
       "      <td>A- (3.84)</td>\n",
       "      <td>B+ (3.67)</td>\n",
       "    </tr>\n",
       "    <tr>\n",
       "      <th>1</th>\n",
       "      <td>Butler Elizabeth Annette</td>\n",
       "      <td>AAS 170 - Legacies of Research (A)</td>\n",
       "      <td>SP23</td>\n",
       "      <td>20</td>\n",
       "      <td>7</td>\n",
       "      <td>100.0%</td>\n",
       "      <td>100.0%</td>\n",
       "      <td>2.50</td>\n",
       "      <td>A- (3.86)</td>\n",
       "      <td>A- (3.92)</td>\n",
       "    </tr>\n",
       "    <tr>\n",
       "      <th>3</th>\n",
       "      <td>Shtienberg Gilad</td>\n",
       "      <td>ANAR 115 - Coastal Geomorphology/Environ (A)</td>\n",
       "      <td>SP23</td>\n",
       "      <td>26</td>\n",
       "      <td>6</td>\n",
       "      <td>100.0%</td>\n",
       "      <td>83.3%</td>\n",
       "      <td>3.83</td>\n",
       "      <td>B+ (3.50)</td>\n",
       "      <td>B (3.07)</td>\n",
       "    </tr>\n",
       "    <tr>\n",
       "      <th>4</th>\n",
       "      <td>Braswell Geoffrey E.</td>\n",
       "      <td>ANAR 155 - Stdy Abrd: Ancient Mesoamerica (A)</td>\n",
       "      <td>SP23</td>\n",
       "      <td>22</td>\n",
       "      <td>9</td>\n",
       "      <td>100.0%</td>\n",
       "      <td>100.0%</td>\n",
       "      <td>5.17</td>\n",
       "      <td>A (4.00)</td>\n",
       "      <td>A (4.00)</td>\n",
       "    </tr>\n",
       "    <tr>\n",
       "      <th>5</th>\n",
       "      <td>Hrvoj Mihic Branka</td>\n",
       "      <td>ANBI 111 - Human Evolution (A)</td>\n",
       "      <td>SP23</td>\n",
       "      <td>22</td>\n",
       "      <td>4</td>\n",
       "      <td>100.0%</td>\n",
       "      <td>100.0%</td>\n",
       "      <td>2.50</td>\n",
       "      <td>A (4.00)</td>\n",
       "      <td>B- (2.95)</td>\n",
       "    </tr>\n",
       "  </tbody>\n",
       "</table>\n",
       "</div>"
      ],
      "text/plain": [
       "                 Instructor                                         Course  \\\n",
       "0  Butler Elizabeth Annette    AAS 10 - Intro/African-American Studies (A)   \n",
       "1  Butler Elizabeth Annette             AAS 170 - Legacies of Research (A)   \n",
       "3          Shtienberg Gilad   ANAR 115 - Coastal Geomorphology/Environ (A)   \n",
       "4      Braswell Geoffrey E.  ANAR 155 - Stdy Abrd: Ancient Mesoamerica (A)   \n",
       "5        Hrvoj Mihic Branka                 ANBI 111 - Human Evolution (A)   \n",
       "\n",
       "  Quarter  Total Enrolled in Course  Total CAPEs Given  \\\n",
       "0    SP23                        66                 48   \n",
       "1    SP23                        20                  7   \n",
       "3    SP23                        26                  6   \n",
       "4    SP23                        22                  9   \n",
       "5    SP23                        22                  4   \n",
       "\n",
       "  Percentage Recommended Class Percentage Recommended Professor  \\\n",
       "0                        93.5%                           100.0%   \n",
       "1                       100.0%                           100.0%   \n",
       "3                       100.0%                            83.3%   \n",
       "4                       100.0%                           100.0%   \n",
       "5                       100.0%                           100.0%   \n",
       "\n",
       "   Study Hours per Week Average Grade Expected Average Grade Received  \n",
       "0                  2.80              A- (3.84)              B+ (3.67)  \n",
       "1                  2.50              A- (3.86)              A- (3.92)  \n",
       "3                  3.83              B+ (3.50)               B (3.07)  \n",
       "4                  5.17               A (4.00)               A (4.00)  \n",
       "5                  2.50               A (4.00)              B- (2.95)  "
      ]
     },
     "execution_count": 2,
     "metadata": {},
     "output_type": "execute_result"
    }
   ],
   "source": [
    "df = df.drop(columns = \"Evalulation URL\")\n",
    "cols = [\"Average Grade Received\", \"Average Grade Expected\"]\n",
    "drop_empty=df.dropna(subset=cols, how = \"any\")\n",
    "drop_empty.head()"
   ]
  },
  {
   "cell_type": "markdown",
   "metadata": {},
   "source": [
    "## DATA Cleaning:"
   ]
  },
  {
   "cell_type": "markdown",
   "metadata": {},
   "source": [
    "Here we want the column \"Average Grade Received\" only contains numeric results, and add one more column to seperate these courses into years rather than quarters."
   ]
  },
  {
   "cell_type": "code",
   "execution_count": 3,
   "metadata": {
    "scrolled": true
   },
   "outputs": [
    {
     "name": "stderr",
     "output_type": "stream",
     "text": [
      "/tmp/ipykernel_434/2174106351.py:22: SettingWithCopyWarning: \n",
      "A value is trying to be set on a copy of a slice from a DataFrame.\n",
      "Try using .loc[row_indexer,col_indexer] = value instead\n",
      "\n",
      "See the caveats in the documentation: https://pandas.pydata.org/pandas-docs/stable/user_guide/indexing.html#returning-a-view-versus-a-copy\n",
      "  drop_empty['Avg Int Grade Received'] = drop_empty['Average Grade Received'].apply(standardize_avggrade)\n",
      "/tmp/ipykernel_434/2174106351.py:23: SettingWithCopyWarning: \n",
      "A value is trying to be set on a copy of a slice from a DataFrame.\n",
      "Try using .loc[row_indexer,col_indexer] = value instead\n",
      "\n",
      "See the caveats in the documentation: https://pandas.pydata.org/pandas-docs/stable/user_guide/indexing.html#returning-a-view-versus-a-copy\n",
      "  drop_empty['Year'] = drop_empty['Quarter'].apply(standardize_year)\n"
     ]
    },
    {
     "data": {
      "text/html": [
       "<div>\n",
       "<style scoped>\n",
       "    .dataframe tbody tr th:only-of-type {\n",
       "        vertical-align: middle;\n",
       "    }\n",
       "\n",
       "    .dataframe tbody tr th {\n",
       "        vertical-align: top;\n",
       "    }\n",
       "\n",
       "    .dataframe thead th {\n",
       "        text-align: right;\n",
       "    }\n",
       "</style>\n",
       "<table border=\"1\" class=\"dataframe\">\n",
       "  <thead>\n",
       "    <tr style=\"text-align: right;\">\n",
       "      <th></th>\n",
       "      <th>Instructor</th>\n",
       "      <th>Course</th>\n",
       "      <th>Quarter</th>\n",
       "      <th>Total Enrolled in Course</th>\n",
       "      <th>Total CAPEs Given</th>\n",
       "      <th>Percentage Recommended Class</th>\n",
       "      <th>Percentage Recommended Professor</th>\n",
       "      <th>Study Hours per Week</th>\n",
       "      <th>Average Grade Expected</th>\n",
       "      <th>Average Grade Received</th>\n",
       "      <th>Avg Int Grade Received</th>\n",
       "      <th>Year</th>\n",
       "    </tr>\n",
       "  </thead>\n",
       "  <tbody>\n",
       "    <tr>\n",
       "      <th>0</th>\n",
       "      <td>Butler Elizabeth Annette</td>\n",
       "      <td>AAS 10 - Intro/African-American Studies (A)</td>\n",
       "      <td>SP23</td>\n",
       "      <td>66</td>\n",
       "      <td>48</td>\n",
       "      <td>93.5%</td>\n",
       "      <td>100.0%</td>\n",
       "      <td>2.80</td>\n",
       "      <td>A- (3.84)</td>\n",
       "      <td>B+ (3.67)</td>\n",
       "      <td>3.67</td>\n",
       "      <td>23</td>\n",
       "    </tr>\n",
       "    <tr>\n",
       "      <th>1</th>\n",
       "      <td>Butler Elizabeth Annette</td>\n",
       "      <td>AAS 170 - Legacies of Research (A)</td>\n",
       "      <td>SP23</td>\n",
       "      <td>20</td>\n",
       "      <td>7</td>\n",
       "      <td>100.0%</td>\n",
       "      <td>100.0%</td>\n",
       "      <td>2.50</td>\n",
       "      <td>A- (3.86)</td>\n",
       "      <td>A- (3.92)</td>\n",
       "      <td>3.92</td>\n",
       "      <td>23</td>\n",
       "    </tr>\n",
       "    <tr>\n",
       "      <th>3</th>\n",
       "      <td>Shtienberg Gilad</td>\n",
       "      <td>ANAR 115 - Coastal Geomorphology/Environ (A)</td>\n",
       "      <td>SP23</td>\n",
       "      <td>26</td>\n",
       "      <td>6</td>\n",
       "      <td>100.0%</td>\n",
       "      <td>83.3%</td>\n",
       "      <td>3.83</td>\n",
       "      <td>B+ (3.50)</td>\n",
       "      <td>B (3.07)</td>\n",
       "      <td>3.07</td>\n",
       "      <td>23</td>\n",
       "    </tr>\n",
       "    <tr>\n",
       "      <th>4</th>\n",
       "      <td>Braswell Geoffrey E.</td>\n",
       "      <td>ANAR 155 - Stdy Abrd: Ancient Mesoamerica (A)</td>\n",
       "      <td>SP23</td>\n",
       "      <td>22</td>\n",
       "      <td>9</td>\n",
       "      <td>100.0%</td>\n",
       "      <td>100.0%</td>\n",
       "      <td>5.17</td>\n",
       "      <td>A (4.00)</td>\n",
       "      <td>A (4.00)</td>\n",
       "      <td>4.00</td>\n",
       "      <td>23</td>\n",
       "    </tr>\n",
       "    <tr>\n",
       "      <th>5</th>\n",
       "      <td>Hrvoj Mihic Branka</td>\n",
       "      <td>ANBI 111 - Human Evolution (A)</td>\n",
       "      <td>SP23</td>\n",
       "      <td>22</td>\n",
       "      <td>4</td>\n",
       "      <td>100.0%</td>\n",
       "      <td>100.0%</td>\n",
       "      <td>2.50</td>\n",
       "      <td>A (4.00)</td>\n",
       "      <td>B- (2.95)</td>\n",
       "      <td>2.95</td>\n",
       "      <td>23</td>\n",
       "    </tr>\n",
       "  </tbody>\n",
       "</table>\n",
       "</div>"
      ],
      "text/plain": [
       "                 Instructor                                         Course  \\\n",
       "0  Butler Elizabeth Annette    AAS 10 - Intro/African-American Studies (A)   \n",
       "1  Butler Elizabeth Annette             AAS 170 - Legacies of Research (A)   \n",
       "3          Shtienberg Gilad   ANAR 115 - Coastal Geomorphology/Environ (A)   \n",
       "4      Braswell Geoffrey E.  ANAR 155 - Stdy Abrd: Ancient Mesoamerica (A)   \n",
       "5        Hrvoj Mihic Branka                 ANBI 111 - Human Evolution (A)   \n",
       "\n",
       "  Quarter  Total Enrolled in Course  Total CAPEs Given  \\\n",
       "0    SP23                        66                 48   \n",
       "1    SP23                        20                  7   \n",
       "3    SP23                        26                  6   \n",
       "4    SP23                        22                  9   \n",
       "5    SP23                        22                  4   \n",
       "\n",
       "  Percentage Recommended Class Percentage Recommended Professor  \\\n",
       "0                        93.5%                           100.0%   \n",
       "1                       100.0%                           100.0%   \n",
       "3                       100.0%                            83.3%   \n",
       "4                       100.0%                           100.0%   \n",
       "5                       100.0%                           100.0%   \n",
       "\n",
       "   Study Hours per Week Average Grade Expected Average Grade Received  \\\n",
       "0                  2.80              A- (3.84)              B+ (3.67)   \n",
       "1                  2.50              A- (3.86)              A- (3.92)   \n",
       "3                  3.83              B+ (3.50)               B (3.07)   \n",
       "4                  5.17               A (4.00)               A (4.00)   \n",
       "5                  2.50               A (4.00)              B- (2.95)   \n",
       "\n",
       "   Avg Int Grade Received  Year  \n",
       "0                    3.67    23  \n",
       "1                    3.92    23  \n",
       "3                    3.07    23  \n",
       "4                    4.00    23  \n",
       "5                    2.95    23  "
      ]
     },
     "execution_count": 3,
     "metadata": {},
     "output_type": "execute_result"
    }
   ],
   "source": [
    "def standardize_avggrade(string):\n",
    "    in_brackets = False\n",
    "    current_substring = \"\"\n",
    "    count = 0\n",
    " \n",
    "    for c in string:\n",
    "        if c == '(':\n",
    "            in_brackets = True\n",
    "        elif c == \")\" and in_brackets:\n",
    "            in_brackets = False\n",
    "        elif in_brackets:\n",
    "            current_substring += c\n",
    "    \n",
    "    return float(current_substring)\n",
    "\n",
    "def standardize_year(string):\n",
    "    current_substring = \"\"\n",
    "    return int(string[2:4])\n",
    "            \n",
    "    return int(current_substring)\n",
    "\n",
    "drop_empty['Avg Int Grade Received'] = drop_empty['Average Grade Received'].apply(standardize_avggrade)\n",
    "drop_empty['Year'] = drop_empty['Quarter'].apply(standardize_year)\n",
    "drop_empty.head()"
   ]
  },
  {
   "cell_type": "markdown",
   "metadata": {},
   "source": [
    "Also, since we want to check the difference between departments, we extract the course code from column Course, it could represents the departments."
   ]
  },
  {
   "cell_type": "code",
   "execution_count": 4,
   "metadata": {},
   "outputs": [
    {
     "name": "stderr",
     "output_type": "stream",
     "text": [
      "/tmp/ipykernel_434/1512607885.py:5: SettingWithCopyWarning: \n",
      "A value is trying to be set on a copy of a slice from a DataFrame.\n",
      "Try using .loc[row_indexer,col_indexer] = value instead\n",
      "\n",
      "See the caveats in the documentation: https://pandas.pydata.org/pandas-docs/stable/user_guide/indexing.html#returning-a-view-versus-a-copy\n",
      "  drop_empty['Department'] = drop_empty['Course'].apply(get_department)\n"
     ]
    },
    {
     "data": {
      "text/html": [
       "<div>\n",
       "<style scoped>\n",
       "    .dataframe tbody tr th:only-of-type {\n",
       "        vertical-align: middle;\n",
       "    }\n",
       "\n",
       "    .dataframe tbody tr th {\n",
       "        vertical-align: top;\n",
       "    }\n",
       "\n",
       "    .dataframe thead th {\n",
       "        text-align: right;\n",
       "    }\n",
       "</style>\n",
       "<table border=\"1\" class=\"dataframe\">\n",
       "  <thead>\n",
       "    <tr style=\"text-align: right;\">\n",
       "      <th></th>\n",
       "      <th>Instructor</th>\n",
       "      <th>Course</th>\n",
       "      <th>Quarter</th>\n",
       "      <th>Total Enrolled in Course</th>\n",
       "      <th>Total CAPEs Given</th>\n",
       "      <th>Percentage Recommended Class</th>\n",
       "      <th>Percentage Recommended Professor</th>\n",
       "      <th>Study Hours per Week</th>\n",
       "      <th>Average Grade Expected</th>\n",
       "      <th>Average Grade Received</th>\n",
       "      <th>Avg Int Grade Received</th>\n",
       "      <th>Year</th>\n",
       "      <th>Department</th>\n",
       "    </tr>\n",
       "  </thead>\n",
       "  <tbody>\n",
       "    <tr>\n",
       "      <th>0</th>\n",
       "      <td>Butler Elizabeth Annette</td>\n",
       "      <td>AAS 10 - Intro/African-American Studies (A)</td>\n",
       "      <td>SP23</td>\n",
       "      <td>66</td>\n",
       "      <td>48</td>\n",
       "      <td>93.5%</td>\n",
       "      <td>100.0%</td>\n",
       "      <td>2.80</td>\n",
       "      <td>A- (3.84)</td>\n",
       "      <td>B+ (3.67)</td>\n",
       "      <td>3.67</td>\n",
       "      <td>23</td>\n",
       "      <td>AAS</td>\n",
       "    </tr>\n",
       "    <tr>\n",
       "      <th>1</th>\n",
       "      <td>Butler Elizabeth Annette</td>\n",
       "      <td>AAS 170 - Legacies of Research (A)</td>\n",
       "      <td>SP23</td>\n",
       "      <td>20</td>\n",
       "      <td>7</td>\n",
       "      <td>100.0%</td>\n",
       "      <td>100.0%</td>\n",
       "      <td>2.50</td>\n",
       "      <td>A- (3.86)</td>\n",
       "      <td>A- (3.92)</td>\n",
       "      <td>3.92</td>\n",
       "      <td>23</td>\n",
       "      <td>AAS</td>\n",
       "    </tr>\n",
       "    <tr>\n",
       "      <th>3</th>\n",
       "      <td>Shtienberg Gilad</td>\n",
       "      <td>ANAR 115 - Coastal Geomorphology/Environ (A)</td>\n",
       "      <td>SP23</td>\n",
       "      <td>26</td>\n",
       "      <td>6</td>\n",
       "      <td>100.0%</td>\n",
       "      <td>83.3%</td>\n",
       "      <td>3.83</td>\n",
       "      <td>B+ (3.50)</td>\n",
       "      <td>B (3.07)</td>\n",
       "      <td>3.07</td>\n",
       "      <td>23</td>\n",
       "      <td>ANAR</td>\n",
       "    </tr>\n",
       "    <tr>\n",
       "      <th>4</th>\n",
       "      <td>Braswell Geoffrey E.</td>\n",
       "      <td>ANAR 155 - Stdy Abrd: Ancient Mesoamerica (A)</td>\n",
       "      <td>SP23</td>\n",
       "      <td>22</td>\n",
       "      <td>9</td>\n",
       "      <td>100.0%</td>\n",
       "      <td>100.0%</td>\n",
       "      <td>5.17</td>\n",
       "      <td>A (4.00)</td>\n",
       "      <td>A (4.00)</td>\n",
       "      <td>4.00</td>\n",
       "      <td>23</td>\n",
       "      <td>ANAR</td>\n",
       "    </tr>\n",
       "    <tr>\n",
       "      <th>5</th>\n",
       "      <td>Hrvoj Mihic Branka</td>\n",
       "      <td>ANBI 111 - Human Evolution (A)</td>\n",
       "      <td>SP23</td>\n",
       "      <td>22</td>\n",
       "      <td>4</td>\n",
       "      <td>100.0%</td>\n",
       "      <td>100.0%</td>\n",
       "      <td>2.50</td>\n",
       "      <td>A (4.00)</td>\n",
       "      <td>B- (2.95)</td>\n",
       "      <td>2.95</td>\n",
       "      <td>23</td>\n",
       "      <td>ANBI</td>\n",
       "    </tr>\n",
       "  </tbody>\n",
       "</table>\n",
       "</div>"
      ],
      "text/plain": [
       "                 Instructor                                         Course  \\\n",
       "0  Butler Elizabeth Annette    AAS 10 - Intro/African-American Studies (A)   \n",
       "1  Butler Elizabeth Annette             AAS 170 - Legacies of Research (A)   \n",
       "3          Shtienberg Gilad   ANAR 115 - Coastal Geomorphology/Environ (A)   \n",
       "4      Braswell Geoffrey E.  ANAR 155 - Stdy Abrd: Ancient Mesoamerica (A)   \n",
       "5        Hrvoj Mihic Branka                 ANBI 111 - Human Evolution (A)   \n",
       "\n",
       "  Quarter  Total Enrolled in Course  Total CAPEs Given  \\\n",
       "0    SP23                        66                 48   \n",
       "1    SP23                        20                  7   \n",
       "3    SP23                        26                  6   \n",
       "4    SP23                        22                  9   \n",
       "5    SP23                        22                  4   \n",
       "\n",
       "  Percentage Recommended Class Percentage Recommended Professor  \\\n",
       "0                        93.5%                           100.0%   \n",
       "1                       100.0%                           100.0%   \n",
       "3                       100.0%                            83.3%   \n",
       "4                       100.0%                           100.0%   \n",
       "5                       100.0%                           100.0%   \n",
       "\n",
       "   Study Hours per Week Average Grade Expected Average Grade Received  \\\n",
       "0                  2.80              A- (3.84)              B+ (3.67)   \n",
       "1                  2.50              A- (3.86)              A- (3.92)   \n",
       "3                  3.83              B+ (3.50)               B (3.07)   \n",
       "4                  5.17               A (4.00)               A (4.00)   \n",
       "5                  2.50               A (4.00)              B- (2.95)   \n",
       "\n",
       "   Avg Int Grade Received  Year Department  \n",
       "0                    3.67    23        AAS  \n",
       "1                    3.92    23        AAS  \n",
       "3                    3.07    23       ANAR  \n",
       "4                    4.00    23       ANAR  \n",
       "5                    2.95    23       ANBI  "
      ]
     },
     "execution_count": 4,
     "metadata": {},
     "output_type": "execute_result"
    }
   ],
   "source": [
    "def get_department(string):\n",
    "    current_substring = \"\"\n",
    "    return string[0:4].strip()\n",
    "\n",
    "drop_empty['Department'] = drop_empty['Course'].apply(get_department)\n",
    "\n",
    "drop_empty.head()"
   ]
  },
  {
   "cell_type": "markdown",
   "metadata": {},
   "source": [
    "Here, we check grades given by each government through 2007 to 2023"
   ]
  },
  {
   "cell_type": "code",
   "execution_count": 5,
   "metadata": {
    "scrolled": true
   },
   "outputs": [
    {
     "data": {
      "text/html": [
       "<div>\n",
       "<style scoped>\n",
       "    .dataframe tbody tr th:only-of-type {\n",
       "        vertical-align: middle;\n",
       "    }\n",
       "\n",
       "    .dataframe tbody tr th {\n",
       "        vertical-align: top;\n",
       "    }\n",
       "\n",
       "    .dataframe thead th {\n",
       "        text-align: right;\n",
       "    }\n",
       "</style>\n",
       "<table border=\"1\" class=\"dataframe\">\n",
       "  <thead>\n",
       "    <tr style=\"text-align: right;\">\n",
       "      <th></th>\n",
       "      <th>Year</th>\n",
       "      <th>Department</th>\n",
       "      <th>Avg Int Grade Received</th>\n",
       "    </tr>\n",
       "  </thead>\n",
       "  <tbody>\n",
       "    <tr>\n",
       "      <th>0</th>\n",
       "      <td>7</td>\n",
       "      <td>ANAR</td>\n",
       "      <td>2.610000</td>\n",
       "    </tr>\n",
       "    <tr>\n",
       "      <th>1</th>\n",
       "      <td>7</td>\n",
       "      <td>ANBI</td>\n",
       "      <td>3.040000</td>\n",
       "    </tr>\n",
       "    <tr>\n",
       "      <th>2</th>\n",
       "      <td>7</td>\n",
       "      <td>ANSC</td>\n",
       "      <td>3.090000</td>\n",
       "    </tr>\n",
       "    <tr>\n",
       "      <th>3</th>\n",
       "      <td>7</td>\n",
       "      <td>ANTH</td>\n",
       "      <td>2.906667</td>\n",
       "    </tr>\n",
       "    <tr>\n",
       "      <th>4</th>\n",
       "      <td>7</td>\n",
       "      <td>BENG</td>\n",
       "      <td>3.377143</td>\n",
       "    </tr>\n",
       "  </tbody>\n",
       "</table>\n",
       "</div>"
      ],
      "text/plain": [
       "   Year Department  Avg Int Grade Received\n",
       "0     7       ANAR                2.610000\n",
       "1     7       ANBI                3.040000\n",
       "2     7       ANSC                3.090000\n",
       "3     7       ANTH                2.906667\n",
       "4     7       BENG                3.377143"
      ]
     },
     "execution_count": 5,
     "metadata": {},
     "output_type": "execute_result"
    }
   ],
   "source": [
    "average_grade_df = drop_empty.groupby(['Year', 'Department'])['Avg Int Grade Received'].mean().reset_index()\n",
    "average_grade_df.head()"
   ]
  },
  {
   "cell_type": "markdown",
   "metadata": {},
   "source": [
    "Here we do the same cleaning for the Grade Expected, which would be the comparison to the actual grades."
   ]
  },
  {
   "cell_type": "code",
   "execution_count": 6,
   "metadata": {},
   "outputs": [
    {
     "name": "stderr",
     "output_type": "stream",
     "text": [
      "/tmp/ipykernel_434/1778468686.py:1: SettingWithCopyWarning: \n",
      "A value is trying to be set on a copy of a slice from a DataFrame.\n",
      "Try using .loc[row_indexer,col_indexer] = value instead\n",
      "\n",
      "See the caveats in the documentation: https://pandas.pydata.org/pandas-docs/stable/user_guide/indexing.html#returning-a-view-versus-a-copy\n",
      "  drop_empty['Avg Int Grade Expected'] = drop_empty['Average Grade Expected'].apply(standardize_avggrade)\n"
     ]
    }
   ],
   "source": [
    "drop_empty['Avg Int Grade Expected'] = drop_empty['Average Grade Expected'].apply(standardize_avggrade)"
   ]
  },
  {
   "cell_type": "code",
   "execution_count": 7,
   "metadata": {},
   "outputs": [],
   "source": [
    "average_grade_exp_df = drop_empty.groupby(['Year', 'Department'])['Avg Int Grade Expected'].mean().reset_index()"
   ]
  },
  {
   "cell_type": "code",
   "execution_count": 8,
   "metadata": {},
   "outputs": [
    {
     "data": {
      "text/html": [
       "<div>\n",
       "<style scoped>\n",
       "    .dataframe tbody tr th:only-of-type {\n",
       "        vertical-align: middle;\n",
       "    }\n",
       "\n",
       "    .dataframe tbody tr th {\n",
       "        vertical-align: top;\n",
       "    }\n",
       "\n",
       "    .dataframe thead th {\n",
       "        text-align: right;\n",
       "    }\n",
       "</style>\n",
       "<table border=\"1\" class=\"dataframe\">\n",
       "  <thead>\n",
       "    <tr style=\"text-align: right;\">\n",
       "      <th></th>\n",
       "      <th>Year</th>\n",
       "      <th>Department</th>\n",
       "      <th>Avg Int Grade Expected</th>\n",
       "    </tr>\n",
       "  </thead>\n",
       "  <tbody>\n",
       "    <tr>\n",
       "      <th>0</th>\n",
       "      <td>7</td>\n",
       "      <td>ANAR</td>\n",
       "      <td>3.120000</td>\n",
       "    </tr>\n",
       "    <tr>\n",
       "      <th>1</th>\n",
       "      <td>7</td>\n",
       "      <td>ANBI</td>\n",
       "      <td>3.375000</td>\n",
       "    </tr>\n",
       "    <tr>\n",
       "      <th>2</th>\n",
       "      <td>7</td>\n",
       "      <td>ANSC</td>\n",
       "      <td>3.545000</td>\n",
       "    </tr>\n",
       "    <tr>\n",
       "      <th>3</th>\n",
       "      <td>7</td>\n",
       "      <td>ANTH</td>\n",
       "      <td>3.360000</td>\n",
       "    </tr>\n",
       "    <tr>\n",
       "      <th>4</th>\n",
       "      <td>7</td>\n",
       "      <td>BENG</td>\n",
       "      <td>3.581429</td>\n",
       "    </tr>\n",
       "  </tbody>\n",
       "</table>\n",
       "</div>"
      ],
      "text/plain": [
       "   Year Department  Avg Int Grade Expected\n",
       "0     7       ANAR                3.120000\n",
       "1     7       ANBI                3.375000\n",
       "2     7       ANSC                3.545000\n",
       "3     7       ANTH                3.360000\n",
       "4     7       BENG                3.581429"
      ]
     },
     "execution_count": 8,
     "metadata": {},
     "output_type": "execute_result"
    }
   ],
   "source": [
    "average_grade_exp_df.head()"
   ]
  },
  {
   "cell_type": "markdown",
   "metadata": {},
   "source": [
    "Type Markdown and LaTeX:  𝛼2"
   ]
  },
  {
   "cell_type": "markdown",
   "metadata": {},
   "source": [
    "## EDA"
   ]
  },
  {
   "cell_type": "code",
   "execution_count": 9,
   "metadata": {},
   "outputs": [
    {
     "data": {
      "text/plain": [
       "array(['AAS', 'ANAR', 'ANBI', 'ANSC', 'ANTH', 'AWP', 'BENG', 'BIBC',\n",
       "       'BICD', 'BIEB', 'BILD', 'BIMM', 'BIPN', 'BISP', 'CAT', 'CENG',\n",
       "       'CGS', 'CHEM', 'CHIN', 'COGS', 'COMM', 'CSE', 'CSS', 'DOC', 'DSC',\n",
       "       'DSGN', 'ECE', 'ECON', 'EDS', 'ENG', 'ENVR', 'ESYS', 'ETHN',\n",
       "       'FMPH', 'GLBH', 'HDS', 'HIAF', 'HIEA', 'HIEU', 'HIGL', 'HILA',\n",
       "       'HILD', 'HINE', 'HISC', 'HITO', 'HIUS', 'HUM', 'INTL', 'JAPN',\n",
       "       'LATI', 'LIGN', 'LIHL', 'LTAM', 'LTEA', 'LTEN', 'LTEU', 'LTKO',\n",
       "       'LTLA', 'LTSP', 'LTWL', 'LTWR', 'MAE', 'MATH', 'MGT', 'MMW', 'MUS',\n",
       "       'NANO', 'PHIL', 'PHYS', 'POLI', 'PSYC', 'RELI', 'SE 1', 'SE 3',\n",
       "       'SE 9', 'SIO', 'SOCI', 'SYN', 'TDAC', 'TDDE', 'TDDR', 'TDGE',\n",
       "       'TDHT', 'TDMV', 'TDPF', 'TDPR', 'TDTR', 'USP', 'VIS', 'WCWP',\n",
       "       'CCS', 'GSS', 'LTCH', 'LTTH', 'LTCS', 'LTGK', 'LTGM', 'TDDM',\n",
       "       'LAWS', 'ERC', 'TDPW', 'JWSP', 'LTFR', 'LTRU', 'HMNR', 'TWS',\n",
       "       'LTIT', 'HDP', 'ELWR', 'FPMU', 'ICAM', 'SE 2', 'TDHD', 'JUDA',\n",
       "       'COCU', 'COGN', 'COHI', 'COMT', 'COSF', 'TDCH', 'TMC', 'LTAF',\n",
       "       'STPA', 'SOCA', 'SOCB', 'SOCC', 'SOCD', 'SOCL'], dtype=object)"
      ]
     },
     "execution_count": 9,
     "metadata": {},
     "output_type": "execute_result"
    }
   ],
   "source": [
    "drop_empty['Department'].unique()"
   ]
  },
  {
   "cell_type": "markdown",
   "metadata": {},
   "source": [
    "We could see there are too many departments in CAPE, it is not practical to consider such a mount of departments in the analysis, Instead, try to figure the most representive STEM departments and Humanity departments"
   ]
  },
  {
   "cell_type": "code",
   "execution_count": 10,
   "metadata": {},
   "outputs": [
    {
     "data": {
      "text/html": [
       "<div>\n",
       "<style scoped>\n",
       "    .dataframe tbody tr th:only-of-type {\n",
       "        vertical-align: middle;\n",
       "    }\n",
       "\n",
       "    .dataframe tbody tr th {\n",
       "        vertical-align: top;\n",
       "    }\n",
       "\n",
       "    .dataframe thead th {\n",
       "        text-align: right;\n",
       "    }\n",
       "</style>\n",
       "<table border=\"1\" class=\"dataframe\">\n",
       "  <thead>\n",
       "    <tr style=\"text-align: right;\">\n",
       "      <th></th>\n",
       "      <th>Department</th>\n",
       "      <th>Total Enrolled in Course</th>\n",
       "    </tr>\n",
       "  </thead>\n",
       "  <tbody>\n",
       "    <tr>\n",
       "      <th>0</th>\n",
       "      <td>MATH</td>\n",
       "      <td>415630</td>\n",
       "    </tr>\n",
       "    <tr>\n",
       "      <th>1</th>\n",
       "      <td>CHEM</td>\n",
       "      <td>347948</td>\n",
       "    </tr>\n",
       "    <tr>\n",
       "      <th>2</th>\n",
       "      <td>ECON</td>\n",
       "      <td>282947</td>\n",
       "    </tr>\n",
       "    <tr>\n",
       "      <th>3</th>\n",
       "      <td>CSE</td>\n",
       "      <td>275693</td>\n",
       "    </tr>\n",
       "    <tr>\n",
       "      <th>4</th>\n",
       "      <td>PHYS</td>\n",
       "      <td>258046</td>\n",
       "    </tr>\n",
       "  </tbody>\n",
       "</table>\n",
       "</div>"
      ],
      "text/plain": [
       "  Department  Total Enrolled in Course\n",
       "0       MATH                    415630\n",
       "1       CHEM                    347948\n",
       "2       ECON                    282947\n",
       "3        CSE                    275693\n",
       "4       PHYS                    258046"
      ]
     },
     "execution_count": 10,
     "metadata": {},
     "output_type": "execute_result"
    }
   ],
   "source": [
    "Department_Enrolled = drop_empty.groupby(['Department'])['Total Enrolled in Course'].sum().sort_values(ascending=False).reset_index()\n",
    "Department_Enrolled.head()"
   ]
  },
  {
   "cell_type": "code",
   "execution_count": 11,
   "metadata": {},
   "outputs": [
    {
     "data": {
      "text/html": [
       "<div>\n",
       "<style scoped>\n",
       "    .dataframe tbody tr th:only-of-type {\n",
       "        vertical-align: middle;\n",
       "    }\n",
       "\n",
       "    .dataframe tbody tr th {\n",
       "        vertical-align: top;\n",
       "    }\n",
       "\n",
       "    .dataframe thead th {\n",
       "        text-align: right;\n",
       "    }\n",
       "</style>\n",
       "<table border=\"1\" class=\"dataframe\">\n",
       "  <thead>\n",
       "    <tr style=\"text-align: right;\">\n",
       "      <th></th>\n",
       "      <th>Department</th>\n",
       "      <th>Total CAPEs Given</th>\n",
       "    </tr>\n",
       "  </thead>\n",
       "  <tbody>\n",
       "    <tr>\n",
       "      <th>0</th>\n",
       "      <td>MATH</td>\n",
       "      <td>202420</td>\n",
       "    </tr>\n",
       "    <tr>\n",
       "      <th>1</th>\n",
       "      <td>CHEM</td>\n",
       "      <td>178500</td>\n",
       "    </tr>\n",
       "    <tr>\n",
       "      <th>2</th>\n",
       "      <td>CSE</td>\n",
       "      <td>142491</td>\n",
       "    </tr>\n",
       "    <tr>\n",
       "      <th>3</th>\n",
       "      <td>PSYC</td>\n",
       "      <td>138964</td>\n",
       "    </tr>\n",
       "    <tr>\n",
       "      <th>4</th>\n",
       "      <td>MGT</td>\n",
       "      <td>112355</td>\n",
       "    </tr>\n",
       "  </tbody>\n",
       "</table>\n",
       "</div>"
      ],
      "text/plain": [
       "  Department  Total CAPEs Given\n",
       "0       MATH             202420\n",
       "1       CHEM             178500\n",
       "2        CSE             142491\n",
       "3       PSYC             138964\n",
       "4        MGT             112355"
      ]
     },
     "execution_count": 11,
     "metadata": {},
     "output_type": "execute_result"
    }
   ],
   "source": [
    "Department_CAPE_Submit = drop_empty.groupby(['Department'])['Total CAPEs Given'].sum().sort_values(ascending=False).reset_index()\n",
    "Department_CAPE_Submit.head()"
   ]
  },
  {
   "cell_type": "markdown",
   "metadata": {},
   "source": [
    "Here, I list the Top 5 STEM Departments and Top 5 HUM Departments by summing up the total number of students enrolled and total number of students who submitted CAPE. It is interesting that the final lists are quite similiar.\n",
    "\n",
    "Math, Chemistry, Econ, CSE, and Physics departments are the most representative departments in STEM fields. And Psychology, Political Science, MGT, Biology, and MMW are the most representative departments in Humanity fields.\n",
    "\n",
    "Note: BIMM(Biology/ Molecular Biology, Microbiology) and BILD(Biology lover division) belong to biology department"
   ]
  },
  {
   "cell_type": "code",
   "execution_count": 12,
   "metadata": {},
   "outputs": [],
   "source": [
    "STEM_Department_Enroll = ['MATH','CHEM','ECON','CSE','PHYS']\n",
    "HUM_Department_Enroll = ['PSYC','POLI','MGT','BILD','MMW']"
   ]
  },
  {
   "cell_type": "code",
   "execution_count": 13,
   "metadata": {},
   "outputs": [],
   "source": [
    "STEM_Department_CAPE = ['MATH','CHEM','CSE','ECON','PHYS']\n",
    "HUM_Department_CAPE = ['PSYC','MGT','POLI','MMW','BIMM']"
   ]
  },
  {
   "cell_type": "markdown",
   "metadata": {},
   "source": [
    "We continue to refine our data by dividing them into two datasets, STEM_CAPE, HUM_CAPE"
   ]
  },
  {
   "cell_type": "code",
   "execution_count": 14,
   "metadata": {},
   "outputs": [],
   "source": [
    "STEM_CAPE = drop_empty[(drop_empty['Department']=='MATH') |\n",
    "                      (drop_empty['Department']=='CHEM') |\n",
    "                      (drop_empty['Department']=='ECON')|\n",
    "                      (drop_empty['Department']=='CSE')|\n",
    "                      (drop_empty['Department']=='PHYS')]\n",
    "HUM_CAPE = drop_empty[(drop_empty['Department']=='PSYC') |\n",
    "                      (drop_empty['Department']=='MGT') |\n",
    "                      (drop_empty['Department']=='POLI')|\n",
    "                      (drop_empty['Department']=='MMW')|\n",
    "                      (drop_empty['Department']=='BIMM')|\n",
    "                     (drop_empty['Department']=='BILD')]"
   ]
  },
  {
   "cell_type": "code",
   "execution_count": 15,
   "metadata": {},
   "outputs": [
    {
     "data": {
      "text/html": [
       "<div>\n",
       "<style scoped>\n",
       "    .dataframe tbody tr th:only-of-type {\n",
       "        vertical-align: middle;\n",
       "    }\n",
       "\n",
       "    .dataframe tbody tr th {\n",
       "        vertical-align: top;\n",
       "    }\n",
       "\n",
       "    .dataframe thead th {\n",
       "        text-align: right;\n",
       "    }\n",
       "</style>\n",
       "<table border=\"1\" class=\"dataframe\">\n",
       "  <thead>\n",
       "    <tr style=\"text-align: right;\">\n",
       "      <th></th>\n",
       "      <th>Instructor</th>\n",
       "      <th>Course</th>\n",
       "      <th>Quarter</th>\n",
       "      <th>Total Enrolled in Course</th>\n",
       "      <th>Total CAPEs Given</th>\n",
       "      <th>Percentage Recommended Class</th>\n",
       "      <th>Percentage Recommended Professor</th>\n",
       "      <th>Study Hours per Week</th>\n",
       "      <th>Average Grade Expected</th>\n",
       "      <th>Average Grade Received</th>\n",
       "      <th>Avg Int Grade Received</th>\n",
       "      <th>Year</th>\n",
       "      <th>Department</th>\n",
       "      <th>Avg Int Grade Expected</th>\n",
       "    </tr>\n",
       "  </thead>\n",
       "  <tbody>\n",
       "    <tr>\n",
       "      <th>169</th>\n",
       "      <td>Li Shaowei</td>\n",
       "      <td>CHEM 100A - Analytical Chemistry Lab (A)</td>\n",
       "      <td>SP23</td>\n",
       "      <td>102</td>\n",
       "      <td>41</td>\n",
       "      <td>66.7%</td>\n",
       "      <td>69.4%</td>\n",
       "      <td>10.56</td>\n",
       "      <td>B (3.24)</td>\n",
       "      <td>B+ (3.35)</td>\n",
       "      <td>3.35</td>\n",
       "      <td>23</td>\n",
       "      <td>CHEM</td>\n",
       "      <td>3.24</td>\n",
       "    </tr>\n",
       "    <tr>\n",
       "      <th>170</th>\n",
       "      <td>Pomeroy Robert S.</td>\n",
       "      <td>CHEM 100B - Instrumental Chemistry Lab (A)</td>\n",
       "      <td>SP23</td>\n",
       "      <td>30</td>\n",
       "      <td>13</td>\n",
       "      <td>83.3%</td>\n",
       "      <td>83.3%</td>\n",
       "      <td>8.96</td>\n",
       "      <td>B (3.23)</td>\n",
       "      <td>B (3.04)</td>\n",
       "      <td>3.04</td>\n",
       "      <td>23</td>\n",
       "      <td>CHEM</td>\n",
       "      <td>3.23</td>\n",
       "    </tr>\n",
       "    <tr>\n",
       "      <th>172</th>\n",
       "      <td>Sinha Amitabha</td>\n",
       "      <td>CHEM 105A - Physical Chemistry Laboratory (B)</td>\n",
       "      <td>SP23</td>\n",
       "      <td>37</td>\n",
       "      <td>11</td>\n",
       "      <td>72.7%</td>\n",
       "      <td>90.9%</td>\n",
       "      <td>9.41</td>\n",
       "      <td>B- (2.91)</td>\n",
       "      <td>B- (2.87)</td>\n",
       "      <td>2.87</td>\n",
       "      <td>23</td>\n",
       "      <td>CHEM</td>\n",
       "      <td>2.91</td>\n",
       "    </tr>\n",
       "    <tr>\n",
       "      <th>173</th>\n",
       "      <td>Jennings Patricia A.</td>\n",
       "      <td>CHEM 108 - Protein Biochemistry Lab (A)</td>\n",
       "      <td>SP23</td>\n",
       "      <td>48</td>\n",
       "      <td>16</td>\n",
       "      <td>81.3%</td>\n",
       "      <td>56.3%</td>\n",
       "      <td>7.50</td>\n",
       "      <td>B+ (3.31)</td>\n",
       "      <td>B+ (3.61)</td>\n",
       "      <td>3.61</td>\n",
       "      <td>23</td>\n",
       "      <td>CHEM</td>\n",
       "      <td>3.31</td>\n",
       "    </tr>\n",
       "    <tr>\n",
       "      <th>174</th>\n",
       "      <td>Jennings Patricia A.</td>\n",
       "      <td>CHEM 108 - Protein Biochemistry Lab (B)</td>\n",
       "      <td>SP23</td>\n",
       "      <td>42</td>\n",
       "      <td>17</td>\n",
       "      <td>58.8%</td>\n",
       "      <td>50.0%</td>\n",
       "      <td>6.38</td>\n",
       "      <td>B+ (3.65)</td>\n",
       "      <td>B+ (3.57)</td>\n",
       "      <td>3.57</td>\n",
       "      <td>23</td>\n",
       "      <td>CHEM</td>\n",
       "      <td>3.65</td>\n",
       "    </tr>\n",
       "  </tbody>\n",
       "</table>\n",
       "</div>"
      ],
      "text/plain": [
       "               Instructor                                         Course  \\\n",
       "169            Li Shaowei       CHEM 100A - Analytical Chemistry Lab (A)   \n",
       "170     Pomeroy Robert S.     CHEM 100B - Instrumental Chemistry Lab (A)   \n",
       "172        Sinha Amitabha  CHEM 105A - Physical Chemistry Laboratory (B)   \n",
       "173  Jennings Patricia A.        CHEM 108 - Protein Biochemistry Lab (A)   \n",
       "174  Jennings Patricia A.        CHEM 108 - Protein Biochemistry Lab (B)   \n",
       "\n",
       "    Quarter  Total Enrolled in Course  Total CAPEs Given  \\\n",
       "169    SP23                       102                 41   \n",
       "170    SP23                        30                 13   \n",
       "172    SP23                        37                 11   \n",
       "173    SP23                        48                 16   \n",
       "174    SP23                        42                 17   \n",
       "\n",
       "    Percentage Recommended Class Percentage Recommended Professor  \\\n",
       "169                        66.7%                            69.4%   \n",
       "170                        83.3%                            83.3%   \n",
       "172                        72.7%                            90.9%   \n",
       "173                        81.3%                            56.3%   \n",
       "174                        58.8%                            50.0%   \n",
       "\n",
       "     Study Hours per Week Average Grade Expected Average Grade Received  \\\n",
       "169                 10.56               B (3.24)              B+ (3.35)   \n",
       "170                  8.96               B (3.23)               B (3.04)   \n",
       "172                  9.41              B- (2.91)              B- (2.87)   \n",
       "173                  7.50              B+ (3.31)              B+ (3.61)   \n",
       "174                  6.38              B+ (3.65)              B+ (3.57)   \n",
       "\n",
       "     Avg Int Grade Received  Year Department  Avg Int Grade Expected  \n",
       "169                    3.35    23       CHEM                    3.24  \n",
       "170                    3.04    23       CHEM                    3.23  \n",
       "172                    2.87    23       CHEM                    2.91  \n",
       "173                    3.61    23       CHEM                    3.31  \n",
       "174                    3.57    23       CHEM                    3.65  "
      ]
     },
     "execution_count": 15,
     "metadata": {},
     "output_type": "execute_result"
    }
   ],
   "source": [
    "STEM_CAPE.head()"
   ]
  },
  {
   "cell_type": "code",
   "execution_count": 16,
   "metadata": {},
   "outputs": [
    {
     "data": {
      "text/html": [
       "<div>\n",
       "<style scoped>\n",
       "    .dataframe tbody tr th:only-of-type {\n",
       "        vertical-align: middle;\n",
       "    }\n",
       "\n",
       "    .dataframe tbody tr th {\n",
       "        vertical-align: top;\n",
       "    }\n",
       "\n",
       "    .dataframe thead th {\n",
       "        text-align: right;\n",
       "    }\n",
       "</style>\n",
       "<table border=\"1\" class=\"dataframe\">\n",
       "  <thead>\n",
       "    <tr style=\"text-align: right;\">\n",
       "      <th></th>\n",
       "      <th>Instructor</th>\n",
       "      <th>Course</th>\n",
       "      <th>Quarter</th>\n",
       "      <th>Total Enrolled in Course</th>\n",
       "      <th>Total CAPEs Given</th>\n",
       "      <th>Percentage Recommended Class</th>\n",
       "      <th>Percentage Recommended Professor</th>\n",
       "      <th>Study Hours per Week</th>\n",
       "      <th>Average Grade Expected</th>\n",
       "      <th>Average Grade Received</th>\n",
       "      <th>Avg Int Grade Received</th>\n",
       "      <th>Year</th>\n",
       "      <th>Department</th>\n",
       "      <th>Avg Int Grade Expected</th>\n",
       "    </tr>\n",
       "  </thead>\n",
       "  <tbody>\n",
       "    <tr>\n",
       "      <th>83</th>\n",
       "      <td>Patrick Gentry</td>\n",
       "      <td>BILD 1 - The Cell (A)</td>\n",
       "      <td>SP23</td>\n",
       "      <td>134</td>\n",
       "      <td>44</td>\n",
       "      <td>87.8%</td>\n",
       "      <td>78.0%</td>\n",
       "      <td>5.86</td>\n",
       "      <td>B (3.03)</td>\n",
       "      <td>B- (2.91)</td>\n",
       "      <td>2.91</td>\n",
       "      <td>23</td>\n",
       "      <td>BILD</td>\n",
       "      <td>3.03</td>\n",
       "    </tr>\n",
       "    <tr>\n",
       "      <th>84</th>\n",
       "      <td>Rusert Jessica Marie</td>\n",
       "      <td>BILD 1 - The Cell (D)</td>\n",
       "      <td>SP23</td>\n",
       "      <td>157</td>\n",
       "      <td>102</td>\n",
       "      <td>81.2%</td>\n",
       "      <td>86.0%</td>\n",
       "      <td>5.81</td>\n",
       "      <td>B- (2.93)</td>\n",
       "      <td>C+ (2.44)</td>\n",
       "      <td>2.44</td>\n",
       "      <td>23</td>\n",
       "      <td>BILD</td>\n",
       "      <td>2.93</td>\n",
       "    </tr>\n",
       "    <tr>\n",
       "      <th>85</th>\n",
       "      <td>Burg Michael</td>\n",
       "      <td>BILD 2 - Multicellular Life (A)</td>\n",
       "      <td>SP23</td>\n",
       "      <td>238</td>\n",
       "      <td>186</td>\n",
       "      <td>96.2%</td>\n",
       "      <td>95.2%</td>\n",
       "      <td>5.39</td>\n",
       "      <td>B (3.23)</td>\n",
       "      <td>B- (2.94)</td>\n",
       "      <td>2.94</td>\n",
       "      <td>23</td>\n",
       "      <td>BILD</td>\n",
       "      <td>3.23</td>\n",
       "    </tr>\n",
       "    <tr>\n",
       "      <th>86</th>\n",
       "      <td>Park Ji Young</td>\n",
       "      <td>BILD 2 - Multicellular Life (B)</td>\n",
       "      <td>SP23</td>\n",
       "      <td>205</td>\n",
       "      <td>165</td>\n",
       "      <td>96.3%</td>\n",
       "      <td>96.3%</td>\n",
       "      <td>6.10</td>\n",
       "      <td>B+ (3.42)</td>\n",
       "      <td>B (3.01)</td>\n",
       "      <td>3.01</td>\n",
       "      <td>23</td>\n",
       "      <td>BILD</td>\n",
       "      <td>3.42</td>\n",
       "    </tr>\n",
       "    <tr>\n",
       "      <th>87</th>\n",
       "      <td>Park Ji Young</td>\n",
       "      <td>BILD 2 - Multicellular Life (C)</td>\n",
       "      <td>SP23</td>\n",
       "      <td>245</td>\n",
       "      <td>197</td>\n",
       "      <td>93.9%</td>\n",
       "      <td>93.8%</td>\n",
       "      <td>5.72</td>\n",
       "      <td>B+ (3.43)</td>\n",
       "      <td>B- (2.92)</td>\n",
       "      <td>2.92</td>\n",
       "      <td>23</td>\n",
       "      <td>BILD</td>\n",
       "      <td>3.43</td>\n",
       "    </tr>\n",
       "  </tbody>\n",
       "</table>\n",
       "</div>"
      ],
      "text/plain": [
       "              Instructor                           Course Quarter  \\\n",
       "83        Patrick Gentry            BILD 1 - The Cell (A)    SP23   \n",
       "84  Rusert Jessica Marie            BILD 1 - The Cell (D)    SP23   \n",
       "85          Burg Michael  BILD 2 - Multicellular Life (A)    SP23   \n",
       "86         Park Ji Young  BILD 2 - Multicellular Life (B)    SP23   \n",
       "87         Park Ji Young  BILD 2 - Multicellular Life (C)    SP23   \n",
       "\n",
       "    Total Enrolled in Course  Total CAPEs Given Percentage Recommended Class  \\\n",
       "83                       134                 44                        87.8%   \n",
       "84                       157                102                        81.2%   \n",
       "85                       238                186                        96.2%   \n",
       "86                       205                165                        96.3%   \n",
       "87                       245                197                        93.9%   \n",
       "\n",
       "   Percentage Recommended Professor  Study Hours per Week  \\\n",
       "83                            78.0%                  5.86   \n",
       "84                            86.0%                  5.81   \n",
       "85                            95.2%                  5.39   \n",
       "86                            96.3%                  6.10   \n",
       "87                            93.8%                  5.72   \n",
       "\n",
       "   Average Grade Expected Average Grade Received  Avg Int Grade Received  \\\n",
       "83               B (3.03)              B- (2.91)                    2.91   \n",
       "84              B- (2.93)              C+ (2.44)                    2.44   \n",
       "85               B (3.23)              B- (2.94)                    2.94   \n",
       "86              B+ (3.42)               B (3.01)                    3.01   \n",
       "87              B+ (3.43)              B- (2.92)                    2.92   \n",
       "\n",
       "    Year Department  Avg Int Grade Expected  \n",
       "83    23       BILD                    3.03  \n",
       "84    23       BILD                    2.93  \n",
       "85    23       BILD                    3.23  \n",
       "86    23       BILD                    3.42  \n",
       "87    23       BILD                    3.43  "
      ]
     },
     "execution_count": 16,
     "metadata": {},
     "output_type": "execute_result"
    }
   ],
   "source": [
    "HUM_CAPE.head()"
   ]
  },
  {
   "cell_type": "code",
   "execution_count": 17,
   "metadata": {},
   "outputs": [],
   "source": [
    "import matplotlib.pyplot as plt"
   ]
  },
  {
   "cell_type": "code",
   "execution_count": 18,
   "metadata": {},
   "outputs": [
    {
     "data": {
      "text/plain": [
       "<matplotlib.legend.Legend at 0x7f6061cb40a0>"
      ]
     },
     "execution_count": 18,
     "metadata": {},
     "output_type": "execute_result"
    },
    {
     "data": {
      "image/png": "[encoded data removed]",
      "text/plain": [
       "<Figure size 432x288 with 1 Axes>"
      ]
     },
     "metadata": {
      "needs_background": "light"
     },
     "output_type": "display_data"
    }
   ],
   "source": [
    "STEM_RECEIVED = STEM_CAPE['Avg Int Grade Received']\n",
    "HUM_RECEIVED = HUM_CAPE['Avg Int Grade Received']\n",
    "plt.hist(STEM_RECEIVED, alpha = 0.4, label = \"STEM_RECEIVED\", density = True, bins = 30)\n",
    "plt.hist(HUM_RECEIVED, alpha = 0.4, label = \"HUM_RECEIVED\", density = True, bins = 30)\n",
    "plt.title(\"Histogram of Grades From STEM and HUM\")\n",
    "plt.xlabel(\"Grade\")\n",
    "plt.ylabel(\"Density\")\n",
    "plt.legend()"
   ]
  },
  {
   "cell_type": "markdown",
   "metadata": {},
   "source": [
    "Here, we could see that the overall grades given by HUM departments have a great difference with STEM departments, the peak of STEM is between 2.5 to 3, while the peak of HUM is between 3 to 3.5. With this overall looking, let's seperately look these two departments."
   ]
  },
  {
   "cell_type": "code",
   "execution_count": 19,
   "metadata": {},
   "outputs": [
    {
     "data": {
      "text/html": [
       "<div>\n",
       "<style scoped>\n",
       "    .dataframe tbody tr th:only-of-type {\n",
       "        vertical-align: middle;\n",
       "    }\n",
       "\n",
       "    .dataframe tbody tr th {\n",
       "        vertical-align: top;\n",
       "    }\n",
       "\n",
       "    .dataframe thead th {\n",
       "        text-align: right;\n",
       "    }\n",
       "</style>\n",
       "<table border=\"1\" class=\"dataframe\">\n",
       "  <thead>\n",
       "    <tr style=\"text-align: right;\">\n",
       "      <th></th>\n",
       "      <th>Year</th>\n",
       "      <th>Avg Int Grade Received</th>\n",
       "    </tr>\n",
       "  </thead>\n",
       "  <tbody>\n",
       "    <tr>\n",
       "      <th>0</th>\n",
       "      <td>7</td>\n",
       "      <td>2.871333</td>\n",
       "    </tr>\n",
       "    <tr>\n",
       "      <th>1</th>\n",
       "      <td>8</td>\n",
       "      <td>2.868373</td>\n",
       "    </tr>\n",
       "    <tr>\n",
       "      <th>2</th>\n",
       "      <td>9</td>\n",
       "      <td>2.897060</td>\n",
       "    </tr>\n",
       "    <tr>\n",
       "      <th>3</th>\n",
       "      <td>10</td>\n",
       "      <td>2.913467</td>\n",
       "    </tr>\n",
       "    <tr>\n",
       "      <th>4</th>\n",
       "      <td>11</td>\n",
       "      <td>2.976430</td>\n",
       "    </tr>\n",
       "    <tr>\n",
       "      <th>5</th>\n",
       "      <td>12</td>\n",
       "      <td>2.942203</td>\n",
       "    </tr>\n",
       "    <tr>\n",
       "      <th>6</th>\n",
       "      <td>13</td>\n",
       "      <td>2.945239</td>\n",
       "    </tr>\n",
       "    <tr>\n",
       "      <th>7</th>\n",
       "      <td>14</td>\n",
       "      <td>2.974543</td>\n",
       "    </tr>\n",
       "    <tr>\n",
       "      <th>8</th>\n",
       "      <td>15</td>\n",
       "      <td>3.010443</td>\n",
       "    </tr>\n",
       "    <tr>\n",
       "      <th>9</th>\n",
       "      <td>16</td>\n",
       "      <td>3.004250</td>\n",
       "    </tr>\n",
       "    <tr>\n",
       "      <th>10</th>\n",
       "      <td>17</td>\n",
       "      <td>3.006349</td>\n",
       "    </tr>\n",
       "    <tr>\n",
       "      <th>11</th>\n",
       "      <td>18</td>\n",
       "      <td>2.993106</td>\n",
       "    </tr>\n",
       "    <tr>\n",
       "      <th>12</th>\n",
       "      <td>19</td>\n",
       "      <td>2.998390</td>\n",
       "    </tr>\n",
       "    <tr>\n",
       "      <th>13</th>\n",
       "      <td>20</td>\n",
       "      <td>3.255258</td>\n",
       "    </tr>\n",
       "    <tr>\n",
       "      <th>14</th>\n",
       "      <td>21</td>\n",
       "      <td>3.179365</td>\n",
       "    </tr>\n",
       "    <tr>\n",
       "      <th>15</th>\n",
       "      <td>22</td>\n",
       "      <td>3.086200</td>\n",
       "    </tr>\n",
       "    <tr>\n",
       "      <th>16</th>\n",
       "      <td>23</td>\n",
       "      <td>3.033271</td>\n",
       "    </tr>\n",
       "  </tbody>\n",
       "</table>\n",
       "</div>"
      ],
      "text/plain": [
       "    Year  Avg Int Grade Received\n",
       "0      7                2.871333\n",
       "1      8                2.868373\n",
       "2      9                2.897060\n",
       "3     10                2.913467\n",
       "4     11                2.976430\n",
       "5     12                2.942203\n",
       "6     13                2.945239\n",
       "7     14                2.974543\n",
       "8     15                3.010443\n",
       "9     16                3.004250\n",
       "10    17                3.006349\n",
       "11    18                2.993106\n",
       "12    19                2.998390\n",
       "13    20                3.255258\n",
       "14    21                3.179365\n",
       "15    22                3.086200\n",
       "16    23                3.033271"
      ]
     },
     "execution_count": 19,
     "metadata": {},
     "output_type": "execute_result"
    }
   ],
   "source": [
    "#Check the mean score each year\n",
    "STEM_GRA = STEM_CAPE.groupby(['Year'])['Avg Int Grade Received'].mean().reset_index()\n",
    "STEM_GRA"
   ]
  },
  {
   "cell_type": "code",
   "execution_count": 20,
   "metadata": {},
   "outputs": [
    {
     "data": {
      "text/html": [
       "<div>\n",
       "<style scoped>\n",
       "    .dataframe tbody tr th:only-of-type {\n",
       "        vertical-align: middle;\n",
       "    }\n",
       "\n",
       "    .dataframe tbody tr th {\n",
       "        vertical-align: top;\n",
       "    }\n",
       "\n",
       "    .dataframe thead th {\n",
       "        text-align: right;\n",
       "    }\n",
       "</style>\n",
       "<table border=\"1\" class=\"dataframe\">\n",
       "  <thead>\n",
       "    <tr style=\"text-align: right;\">\n",
       "      <th></th>\n",
       "      <th>Year</th>\n",
       "      <th>Avg Int Grade Received</th>\n",
       "    </tr>\n",
       "  </thead>\n",
       "  <tbody>\n",
       "    <tr>\n",
       "      <th>0</th>\n",
       "      <td>7</td>\n",
       "      <td>3.075781</td>\n",
       "    </tr>\n",
       "    <tr>\n",
       "      <th>1</th>\n",
       "      <td>8</td>\n",
       "      <td>3.139346</td>\n",
       "    </tr>\n",
       "    <tr>\n",
       "      <th>2</th>\n",
       "      <td>9</td>\n",
       "      <td>3.144966</td>\n",
       "    </tr>\n",
       "    <tr>\n",
       "      <th>3</th>\n",
       "      <td>10</td>\n",
       "      <td>3.129429</td>\n",
       "    </tr>\n",
       "    <tr>\n",
       "      <th>4</th>\n",
       "      <td>11</td>\n",
       "      <td>3.134179</td>\n",
       "    </tr>\n",
       "    <tr>\n",
       "      <th>5</th>\n",
       "      <td>12</td>\n",
       "      <td>3.174704</td>\n",
       "    </tr>\n",
       "    <tr>\n",
       "      <th>6</th>\n",
       "      <td>13</td>\n",
       "      <td>3.195466</td>\n",
       "    </tr>\n",
       "    <tr>\n",
       "      <th>7</th>\n",
       "      <td>14</td>\n",
       "      <td>3.219019</td>\n",
       "    </tr>\n",
       "    <tr>\n",
       "      <th>8</th>\n",
       "      <td>15</td>\n",
       "      <td>3.237237</td>\n",
       "    </tr>\n",
       "    <tr>\n",
       "      <th>9</th>\n",
       "      <td>16</td>\n",
       "      <td>3.279582</td>\n",
       "    </tr>\n",
       "    <tr>\n",
       "      <th>10</th>\n",
       "      <td>17</td>\n",
       "      <td>3.278133</td>\n",
       "    </tr>\n",
       "    <tr>\n",
       "      <th>11</th>\n",
       "      <td>18</td>\n",
       "      <td>3.290559</td>\n",
       "    </tr>\n",
       "    <tr>\n",
       "      <th>12</th>\n",
       "      <td>19</td>\n",
       "      <td>3.237041</td>\n",
       "    </tr>\n",
       "    <tr>\n",
       "      <th>13</th>\n",
       "      <td>20</td>\n",
       "      <td>3.481212</td>\n",
       "    </tr>\n",
       "    <tr>\n",
       "      <th>14</th>\n",
       "      <td>21</td>\n",
       "      <td>3.430417</td>\n",
       "    </tr>\n",
       "    <tr>\n",
       "      <th>15</th>\n",
       "      <td>22</td>\n",
       "      <td>3.350079</td>\n",
       "    </tr>\n",
       "    <tr>\n",
       "      <th>16</th>\n",
       "      <td>23</td>\n",
       "      <td>3.334615</td>\n",
       "    </tr>\n",
       "  </tbody>\n",
       "</table>\n",
       "</div>"
      ],
      "text/plain": [
       "    Year  Avg Int Grade Received\n",
       "0      7                3.075781\n",
       "1      8                3.139346\n",
       "2      9                3.144966\n",
       "3     10                3.129429\n",
       "4     11                3.134179\n",
       "5     12                3.174704\n",
       "6     13                3.195466\n",
       "7     14                3.219019\n",
       "8     15                3.237237\n",
       "9     16                3.279582\n",
       "10    17                3.278133\n",
       "11    18                3.290559\n",
       "12    19                3.237041\n",
       "13    20                3.481212\n",
       "14    21                3.430417\n",
       "15    22                3.350079\n",
       "16    23                3.334615"
      ]
     },
     "execution_count": 20,
     "metadata": {},
     "output_type": "execute_result"
    }
   ],
   "source": [
    "HUM_GRA = HUM_CAPE.groupby(['Year'])['Avg Int Grade Received'].mean().reset_index()\n",
    "HUM_GRA"
   ]
  },
  {
   "cell_type": "code",
   "execution_count": 21,
   "metadata": {},
   "outputs": [
    {
     "data": {
      "text/plain": [
       "<AxesSubplot:xlabel='Year'>"
      ]
     },
     "execution_count": 21,
     "metadata": {},
     "output_type": "execute_result"
    },
    {
     "data": {
      "image/png": "[encoded data removed]",
      "text/plain": [
       "<Figure size 1080x360 with 1 Axes>"
      ]
     },
     "metadata": {
      "needs_background": "light"
     },
     "output_type": "display_data"
    }
   ],
   "source": [
    "STEM_CAPE.groupby(['Year'])['Avg Int Grade Received'].mean().plot(figsize = (15, 5))\n",
    "HUM_CAPE.groupby(['Year'])['Avg Int Grade Received'].mean().plot(figsize = (15, 5))"
   ]
  },
  {
   "cell_type": "markdown",
   "metadata": {},
   "source": [
    "It seems that STEM does not change their graded a lot but have a great increase at 2020 and 2021. Instead, HUM departments clearly increased their average grade, starting from 3.07 to 3.33. We look it in boxplot for more details:"
   ]
  },
  {
   "cell_type": "code",
   "execution_count": 22,
   "metadata": {
    "scrolled": true
   },
   "outputs": [
    {
     "data": {
      "image/png": "[encoded data removed]",
      "text/plain": [
       "<Figure size 1440x720 with 1 Axes>"
      ]
     },
     "metadata": {
      "needs_background": "light"
     },
     "output_type": "display_data"
    }
   ],
   "source": [
    "STEM_YEAR = STEM_CAPE[['Avg Int Grade Received','Year']]\n",
    "STEM_TREND = STEM_YEAR.boxplot(by='Year', meanline=True, showmeans=True, showcaps=True, \n",
    "                showbox=True, showfliers=True, return_type='axes', figsize = (20, 10))"
   ]
  },
  {
   "cell_type": "code",
   "execution_count": 23,
   "metadata": {},
   "outputs": [
    {
     "data": {
      "image/png": "[encoded data removed]",
      "text/plain": [
       "<Figure size 1440x720 with 1 Axes>"
      ]
     },
     "metadata": {
      "needs_background": "light"
     },
     "output_type": "display_data"
    }
   ],
   "source": [
    "HUM_YEAR = HUM_CAPE[['Avg Int Grade Received','Year']]\n",
    "HUM_TREND = HUM_YEAR.boxplot(by='Year', meanline=True, showmeans=True, showcaps=True, \n",
    "                showbox=True, showfliers=True, return_type='axes', figsize = (20, 10))"
   ]
  },
  {
   "cell_type": "markdown",
   "metadata": {},
   "source": [
    "It seems that not only the mean of the grades, HUM has a overall higher distribution of grades, then we move to check the grade inflation each year."
   ]
  },
  {
   "cell_type": "markdown",
   "metadata": {},
   "source": [
    "Using these box plots we can also examine for outliers. We can see that there are no significant outliers in either the humanities and STEM departments because there wasn't a particular year where GPAs were much greater than or less than compared to previous years. However, we look at the data in each year we can see more of a distribution and more outliers. For example, there is a clear outlier in the humanities graph in 2007 where there was a department that had an average grade of <2.0. However in the bigger picture, we can see that the data has no outliers."
   ]
  },
  {
   "cell_type": "code",
   "execution_count": 24,
   "metadata": {},
   "outputs": [],
   "source": [
    "GPA_List_S = STEM_GRA['Avg Int Grade Received'].tolist()\n",
    "GPA_Inflation_S = []\n",
    "GPA_Inflation_S.append(0)\n",
    "base = GPA_List_S[0]\n",
    "for i in range(1,len(GPA_List_S)):\n",
    "    Rate  = ((GPA_List_S[i] - base)/base)*100\n",
    "    GPA_Inflation_S.append(Rate)\n",
    "    base = GPA_List_S[i]\n",
    "\n",
    "STEM_GRA['Inflation'] = GPA_Inflation_S"
   ]
  },
  {
   "cell_type": "code",
   "execution_count": 25,
   "metadata": {},
   "outputs": [
    {
     "ename": "KeyError",
     "evalue": "'Column not found: Inflation'",
     "output_type": "error",
     "traceback": [
      "\u001b[0;31m---------------------------------------------------------------------------\u001b[0m",
      "\u001b[0;31mKeyError\u001b[0m                                  Traceback (most recent call last)",
      "\u001b[0;32m/tmp/ipykernel_434/248229763.py\u001b[0m in \u001b[0;36m<module>\u001b[0;34m\u001b[0m\n\u001b[1;32m      1\u001b[0m \u001b[0mSTEM_GRA\u001b[0m\u001b[0;34m.\u001b[0m\u001b[0mgroupby\u001b[0m\u001b[0;34m(\u001b[0m\u001b[0;34m[\u001b[0m\u001b[0;34m'Year'\u001b[0m\u001b[0;34m]\u001b[0m\u001b[0;34m)\u001b[0m\u001b[0;34m[\u001b[0m\u001b[0;34m'Inflation'\u001b[0m\u001b[0;34m]\u001b[0m\u001b[0;34m.\u001b[0m\u001b[0mmean\u001b[0m\u001b[0;34m(\u001b[0m\u001b[0;34m)\u001b[0m\u001b[0;34m.\u001b[0m\u001b[0mplot\u001b[0m\u001b[0;34m(\u001b[0m\u001b[0mfigsize\u001b[0m \u001b[0;34m=\u001b[0m \u001b[0;34m(\u001b[0m\u001b[0;36m15\u001b[0m\u001b[0;34m,\u001b[0m \u001b[0;36m5\u001b[0m\u001b[0;34m)\u001b[0m\u001b[0;34m,\u001b[0m \u001b[0mlabel\u001b[0m\u001b[0;34m=\u001b[0m\u001b[0;34m\"STEM Inflation\"\u001b[0m\u001b[0;34m)\u001b[0m\u001b[0;34m\u001b[0m\u001b[0;34m\u001b[0m\u001b[0m\n\u001b[0;32m----> 2\u001b[0;31m \u001b[0mHUM_GRA\u001b[0m\u001b[0;34m.\u001b[0m\u001b[0mgroupby\u001b[0m\u001b[0;34m(\u001b[0m\u001b[0;34m[\u001b[0m\u001b[0;34m'Year'\u001b[0m\u001b[0;34m]\u001b[0m\u001b[0;34m)\u001b[0m\u001b[0;34m[\u001b[0m\u001b[0;34m'Inflation'\u001b[0m\u001b[0;34m]\u001b[0m\u001b[0;34m.\u001b[0m\u001b[0mmean\u001b[0m\u001b[0;34m(\u001b[0m\u001b[0;34m)\u001b[0m\u001b[0;34m.\u001b[0m\u001b[0mplot\u001b[0m\u001b[0;34m(\u001b[0m\u001b[0mfigsize\u001b[0m \u001b[0;34m=\u001b[0m \u001b[0;34m(\u001b[0m\u001b[0;36m15\u001b[0m\u001b[0;34m,\u001b[0m \u001b[0;36m5\u001b[0m\u001b[0;34m)\u001b[0m\u001b[0;34m,\u001b[0m\u001b[0mlabel\u001b[0m\u001b[0;34m=\u001b[0m\u001b[0;34m\"HUM Inflation\"\u001b[0m\u001b[0;34m)\u001b[0m\u001b[0;34m\u001b[0m\u001b[0;34m\u001b[0m\u001b[0m\n\u001b[0m\u001b[1;32m      3\u001b[0m \u001b[0mplt\u001b[0m\u001b[0;34m.\u001b[0m\u001b[0mxlabel\u001b[0m\u001b[0;34m(\u001b[0m\u001b[0;34m\"Year\"\u001b[0m\u001b[0;34m)\u001b[0m\u001b[0;34m\u001b[0m\u001b[0;34m\u001b[0m\u001b[0m\n\u001b[1;32m      4\u001b[0m \u001b[0mplt\u001b[0m\u001b[0;34m.\u001b[0m\u001b[0mylabel\u001b[0m\u001b[0;34m(\u001b[0m\u001b[0;34m\"Inflation\"\u001b[0m\u001b[0;34m)\u001b[0m\u001b[0;34m\u001b[0m\u001b[0;34m\u001b[0m\u001b[0m\n\u001b[1;32m      5\u001b[0m \u001b[0mplt\u001b[0m\u001b[0;34m.\u001b[0m\u001b[0mtitle\u001b[0m\u001b[0;34m(\u001b[0m\u001b[0;34m\"Relative Inflation rate(compared to previous year)\"\u001b[0m\u001b[0;34m)\u001b[0m\u001b[0;34m\u001b[0m\u001b[0;34m\u001b[0m\u001b[0m\n",
      "\u001b[0;32m/opt/conda/lib/python3.9/site-packages/pandas/core/groupby/generic.py\u001b[0m in \u001b[0;36m__getitem__\u001b[0;34m(self, key)\u001b[0m\n\u001b[1;32m   1769\u001b[0m                 \u001b[0;34m\"Use a list instead.\"\u001b[0m\u001b[0;34m\u001b[0m\u001b[0;34m\u001b[0m\u001b[0m\n\u001b[1;32m   1770\u001b[0m             )\n\u001b[0;32m-> 1771\u001b[0;31m         \u001b[0;32mreturn\u001b[0m \u001b[0msuper\u001b[0m\u001b[0;34m(\u001b[0m\u001b[0;34m)\u001b[0m\u001b[0;34m.\u001b[0m\u001b[0m__getitem__\u001b[0m\u001b[0;34m(\u001b[0m\u001b[0mkey\u001b[0m\u001b[0;34m)\u001b[0m\u001b[0;34m\u001b[0m\u001b[0;34m\u001b[0m\u001b[0m\n\u001b[0m\u001b[1;32m   1772\u001b[0m \u001b[0;34m\u001b[0m\u001b[0m\n\u001b[1;32m   1773\u001b[0m     \u001b[0;32mdef\u001b[0m \u001b[0m_gotitem\u001b[0m\u001b[0;34m(\u001b[0m\u001b[0mself\u001b[0m\u001b[0;34m,\u001b[0m \u001b[0mkey\u001b[0m\u001b[0;34m,\u001b[0m \u001b[0mndim\u001b[0m\u001b[0;34m:\u001b[0m \u001b[0mint\u001b[0m\u001b[0;34m,\u001b[0m \u001b[0msubset\u001b[0m\u001b[0;34m=\u001b[0m\u001b[0;32mNone\u001b[0m\u001b[0;34m)\u001b[0m\u001b[0;34m:\u001b[0m\u001b[0;34m\u001b[0m\u001b[0;34m\u001b[0m\u001b[0m\n",
      "\u001b[0;32m/opt/conda/lib/python3.9/site-packages/pandas/core/base.py\u001b[0m in \u001b[0;36m__getitem__\u001b[0;34m(self, key)\u001b[0m\n\u001b[1;32m    242\u001b[0m         \u001b[0;32melse\u001b[0m\u001b[0;34m:\u001b[0m\u001b[0;34m\u001b[0m\u001b[0;34m\u001b[0m\u001b[0m\n\u001b[1;32m    243\u001b[0m             \u001b[0;32mif\u001b[0m \u001b[0mkey\u001b[0m \u001b[0;32mnot\u001b[0m \u001b[0;32min\u001b[0m \u001b[0mself\u001b[0m\u001b[0;34m.\u001b[0m\u001b[0mobj\u001b[0m\u001b[0;34m:\u001b[0m\u001b[0;34m\u001b[0m\u001b[0;34m\u001b[0m\u001b[0m\n\u001b[0;32m--> 244\u001b[0;31m                 \u001b[0;32mraise\u001b[0m \u001b[0mKeyError\u001b[0m\u001b[0;34m(\u001b[0m\u001b[0;34mf\"Column not found: {key}\"\u001b[0m\u001b[0;34m)\u001b[0m\u001b[0;34m\u001b[0m\u001b[0;34m\u001b[0m\u001b[0m\n\u001b[0m\u001b[1;32m    245\u001b[0m             \u001b[0mndim\u001b[0m \u001b[0;34m=\u001b[0m \u001b[0mself\u001b[0m\u001b[0;34m.\u001b[0m\u001b[0mobj\u001b[0m\u001b[0;34m[\u001b[0m\u001b[0mkey\u001b[0m\u001b[0;34m]\u001b[0m\u001b[0;34m.\u001b[0m\u001b[0mndim\u001b[0m\u001b[0;34m\u001b[0m\u001b[0;34m\u001b[0m\u001b[0m\n\u001b[1;32m    246\u001b[0m             \u001b[0;32mreturn\u001b[0m \u001b[0mself\u001b[0m\u001b[0;34m.\u001b[0m\u001b[0m_gotitem\u001b[0m\u001b[0;34m(\u001b[0m\u001b[0mkey\u001b[0m\u001b[0;34m,\u001b[0m \u001b[0mndim\u001b[0m\u001b[0;34m=\u001b[0m\u001b[0mndim\u001b[0m\u001b[0;34m)\u001b[0m\u001b[0;34m\u001b[0m\u001b[0;34m\u001b[0m\u001b[0m\n",
      "\u001b[0;31mKeyError\u001b[0m: 'Column not found: Inflation'"
     ]
    },
    {
     "data": {
      "image/png": "[encoded data removed]",
      "text/plain": [
       "<Figure size 1080x360 with 1 Axes>"
      ]
     },
     "metadata": {
      "needs_background": "light"
     },
     "output_type": "display_data"
    }
   ],
   "source": [
    "STEM_GRA.groupby(['Year'])['Inflation'].mean().plot(figsize = (15, 5), label=\"STEM Inflation\")\n",
    "HUM_GRA.groupby(['Year'])['Inflation'].mean().plot(figsize = (15, 5),label=\"HUM Inflation\")\n",
    "plt.xlabel(\"Year\")\n",
    "plt.ylabel(\"Inflation\")\n",
    "plt.title(\"Relative Inflation rate(compared to previous year)\")\n",
    "plt.legend()"
   ]
  },
  {
   "cell_type": "code",
   "execution_count": null,
   "metadata": {},
   "outputs": [],
   "source": [
    "GPA_List_H = HUM_GRA['Avg Int Grade Received'].tolist()\n",
    "GPA_Inflation_H = []\n",
    "GPA_Inflation_H.append(0)\n",
    "base = GPA_List_H[0]\n",
    "for i in range(1,len(GPA_List_H)):\n",
    "    Rate  = ((GPA_List_H[i] - base)/base)*100\n",
    "    GPA_Inflation_H.append(Rate)\n",
    "    base = GPA_List_H[i]\n",
    "\n",
    "HUM_GRA['Inflation'] = GPA_Inflation_H\n"
   ]
  },
  {
   "cell_type": "markdown",
   "metadata": {},
   "source": [
    "This plot gives us the relative inflation from 2007 to 2022, we could see that despite the overall grades from HUM is higher than STEM, their relatively inflations did not show a significant difference. Let's move to the absolute inflation, which regards 2007 as base."
   ]
  },
  {
   "cell_type": "code",
   "execution_count": null,
   "metadata": {},
   "outputs": [],
   "source": [
    "GPA_List_S = STEM_GRA['Avg Int Grade Received'].tolist()\n",
    "GPA_Inflation_S = []\n",
    "GPA_Inflation_S.append(0)\n",
    "base = GPA_List_S[0]\n",
    "for i in range(1,len(GPA_List_S)):\n",
    "    Rate  = ((GPA_List_S[i] - base)/base)*100\n",
    "    GPA_Inflation_S.append(Rate)\n",
    "    \n",
    "\n",
    "STEM_GRA['Absolute Inflation'] = GPA_Inflation_S\n",
    "GPA_List_H = HUM_GRA['Avg Int Grade Received'].tolist()\n",
    "GPA_Inflation_H = []\n",
    "GPA_Inflation_H.append(0)\n",
    "base = GPA_List_H[0]\n",
    "for i in range(1,len(GPA_List_H)):\n",
    "    Rate  = ((GPA_List_H[i] - base)/base)*100\n",
    "    GPA_Inflation_H.append(Rate)\n",
    "\n",
    "HUM_GRA['Absolute Inflation'] = GPA_Inflation_H\n",
    "STEM_GRA.groupby(['Year'])['Absolute Inflation'].mean().plot(figsize = (15, 5), label=\"STEM Inflation\")\n",
    "HUM_GRA.groupby(['Year'])['Absolute Inflation'].mean().plot(figsize = (15, 5),label=\"HUM Inflation\")\n",
    "plt.xlabel(\"Year\")\n",
    "plt.ylabel(\"Inflation\")\n",
    "plt.title(\"Absolute Inflation rate(compared to previous year)\")\n",
    "plt.legend()"
   ]
  },
  {
   "cell_type": "markdown",
   "metadata": {},
   "source": [
    "This plot seems reflect that HUM Inflation is faster than STEM Inflation. This and relative inflation implies that HUM Inflation is not affected by short-term factor (like covid-19, both departments inflate their grades but the degree they inflate are almost equal). However, HUM Inflation is faster because the long-term factor, which would gradually inflate the grade but cannot be detected in relative inflation rate.\n",
    "\n",
    "Thus, based on our hypothesis, we turn to look at the Grade expected by students. We beleived that if the expected grades is close to the actual grade, it implies that these department are more liktly to be lenient towards their students. In this case, we want to know whether HUM departments have a closer expected grade than STEM departments.\n",
    "\n",
    "If the answer is yes, it means that HUM departments are much more affected by expectations from students, causing the Grade Inflation."
   ]
  },
  {
   "cell_type": "markdown",
   "metadata": {},
   "source": [
    "From this graph, we can see that there is a clear relationship between time and the average grade at UCSD."
   ]
  },
  {
   "cell_type": "code",
   "execution_count": null,
   "metadata": {},
   "outputs": [],
   "source": [
    "STEM_GRA['Expected'] = STEM_CAPE.groupby(['Year'])['Avg Int Grade Expected'].mean().tolist()\n",
    "Expected = STEM_GRA['Expected'].tolist()\n",
    "Actual = STEM_GRA['Avg Int Grade Received'].tolist()\n",
    "rate = []\n",
    "for i in range(0,len(Actual)):\n",
    "    rate.append(((Expected[i] - Actual[i])/Actual[i])*100)\n",
    "STEM_GRA[\"EX_AC_R\"] = rate"
   ]
  },
  {
   "cell_type": "code",
   "execution_count": null,
   "metadata": {},
   "outputs": [],
   "source": [
    "HUM_GRA['Expected'] = HUM_CAPE.groupby(['Year'])['Avg Int Grade Expected'].mean().tolist()\n",
    "Expected = HUM_GRA['Expected'].tolist()\n",
    "Actual = HUM_GRA['Avg Int Grade Received'].tolist()\n",
    "rate = []\n",
    "for i in range(0,len(Actual)):\n",
    "    rate.append(((Expected[i] - Actual[i])/Actual[i])*100)\n",
    "HUM_GRA[\"EX_AC_R\"] = rate"
   ]
  },
  {
   "cell_type": "code",
   "execution_count": null,
   "metadata": {},
   "outputs": [],
   "source": [
    "STEM_GRA.groupby(['Year'])['EX_AC_R'].mean().plot(figsize = (15, 5), label=\"STEM Expectation\")\n",
    "HUM_GRA.groupby(['Year'])['EX_AC_R'].mean().plot(figsize = (15, 5),label=\"HUM Expectation\")\n",
    "plt.xlabel(\"Year\")\n",
    "plt.ylabel(\"Expectation\")\n",
    "plt.title(\"Degrees between Expected Grades and Actual Grades\")\n",
    "plt.legend()"
   ]
  },
  {
   "cell_type": "markdown",
   "metadata": {},
   "source": [
    "Here, We could see STEM Expectation is much higher than the actual grades, implying that STEM departments are strict to Grade Control. However, HUM Departments are affected by students' expectation more."
   ]
  },
  {
   "cell_type": "markdown",
   "metadata": {},
   "source": [
    "This graph also shows the clear relationship between the expected grades and time."
   ]
  },
  {
   "cell_type": "markdown",
   "metadata": {},
   "source": [
    "# Ethics & Privacy"
   ]
  },
  {
   "cell_type": "markdown",
   "metadata": {},
   "source": [
    "- Thoughtful discussion of ethical concerns included\n",
    "- Ethical concerns consider the whole data science process (question asked, data collected, data being used, the bias in data, analysis, post-analysis, etc.)\n",
    "- How your group handled bias/ethical concerns clearly described\n",
    "\n",
    "Acknowledge and address any ethics & privacy related issues of your question(s), proposed dataset(s), and/or analyses. Use the information provided in lecture to guide your group discussion and thinking. If you need further guidance, check out [Deon's Ethics Checklist](http://deon.drivendata.org/#data-science-ethics-checklist). In particular:\n",
    "\n",
    "- Are there any biases/privacy/terms of use issues with the data you propsed?\n",
    "- Are there potential biases in your dataset(s), in terms of who it composes, and how it was collected, that may be problematic in terms of it allowing for equitable analysis? (For example, does your data exclude particular populations, or is it likely to reflect particular human biases in a way that could be a problem?)\n",
    "- How will you set out to detect these specific biases before, during, and after/when communicating your analysis?\n",
    "- Are there any other issues related to your topic area, data, and/or analyses that are potentially problematic in terms of data privacy and equitable impact?\n",
    "- How will you handle issues you identified?"
   ]
  },
  {
   "cell_type": "markdown",
   "metadata": {},
   "source": [
    "There are very minimal ethics and privacy concerns related to this dataset since there is no personal information about the student's individual grades available on the dataset.\n",
    "\n",
    "There may be a slight bias in who composes the data because the students who fill out CAPES are already more willing to participate in the class for extra credit. The grade expected and the grade recieved are different because the people who fill out capes are a different section than the overall class demographic. While this selection bias exists in the dataset, we don't suspect it having a large affect on the conclusions made by our research. This reason why this is the case is because we are studying an overall trend of growth or decay in grades. If this bias where to exist, then it would exist in every year that we analyze CAPES so ranges would be uneffected by this bias.\n",
    "\n",
    "We will communitcate these specfic biases that we find when discussing our analysis to inform readers about this potential issue.\n",
    "\n",
    "There are no other issues related to your topic area, data, and/or analyses that are potentially problematic in terms of data privacy and equitable impact. There is little our project can do to fix any issues however we will mention these issues to highlight them to the reader."
   ]
  },
  {
   "cell_type": "markdown",
   "metadata": {},
   "source": [
    "# Discusison and Conclusion\n",
    "\n",
    "Wrap it all up here.  Somewhere between 3 and 10 paragraphs roughly.  A good time to refer back to your Background section and review how this work extended the previous stuff. \n",
    "\n",
    "\n",
    "# Team Contributions\n",
    "\n",
    "Speficy who did what.  This should be pretty granular, perhaps bullet points, no more than a few sentences per person."
   ]
  }
 ],
 "metadata": {
  "kernelspec": {
   "display_name": "Python 3 (ipykernel)",
   "language": "python",
   "name": "python3"
  },
  "language_info": {
   "codemirror_mode": {
    "name": "ipython",
    "version": 3
   },
   "file_extension": ".py",
   "mimetype": "text/x-python",
   "name": "python",
   "nbconvert_exporter": "python",
   "pygments_lexer": "ipython3",
   "version": "3.9.5"
  }
 },
 "nbformat": 4,
 "nbformat_minor": 2
}
