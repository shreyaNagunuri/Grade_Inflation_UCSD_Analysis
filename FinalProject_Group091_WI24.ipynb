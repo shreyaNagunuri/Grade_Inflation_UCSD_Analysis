{
 "cells": [
  {
   "cell_type": "markdown",
   "metadata": {},
   "source": [
    "# COGS 108 - UCSD Grade Inflation\n",
    "\n",
    "# Permissions\n",
    "\n",
    "Place an `X` in the appropriate bracket below to specify if you would like your group's project to be made available to the public. (Note that student names will be included (but PIDs will be scraped from any groups who include their PIDs).\n",
    "\n",
    "* [X] YES - make available\n",
    "* [  ] NO - keep private\n",
    "\n",
    "# Names\n",
    "\n",
    "- Sirui Huang\n",
    "- Tianqi Li\n",
    "- Jacob Mccoy\n",
    "- Shreya Nagunuri\n",
    "- Juliet Raynovich\n",
    "\n",
    "# Abstract\n",
    "\n",
    "Please write one to four paragraphs that describe a very brief overview of why you did this, how you did, and the major findings and conclusions."
   ]
  },
  {
   "cell_type": "markdown",
   "metadata": {},
   "source": [
    "# Research Question"
   ]
  },
  {
   "cell_type": "markdown",
   "metadata": {},
   "source": [
    "-  Include a specific, clear data science question.\n",
    "-  Make sure what you're measuring (variables) to answer the question is clear\n",
    "\n",
    "What is your research question? Include the specific question you're setting out to answer. This question should be specific, answerable with data, and clear. A general question with specific subquestions is permitted. (1-2 sentences)\n",
    "\n"
   ]
  },
  {
   "cell_type": "markdown",
   "metadata": {},
   "source": [
    "Using CAPES data, has there been a trend of grade inflation at UCSD over the past 15 years? If so, has grade inflation been more prominent in particular departments more than others. In this research question, we would like to study a department's average grade over time."
   ]
  },
  {
   "cell_type": "markdown",
   "metadata": {},
   "source": [
    "## Background and Prior Work"
   ]
  },
  {
   "cell_type": "markdown",
   "metadata": {},
   "source": [
    "\n",
    "- Include a general introduction to your topic\n",
    "- Include explanation of what work has been done previously\n",
    "- Include citations or links to previous work\n",
    "\n",
    "This section will present the background and context of your topic and question in a few paragraphs. Include a general introduction to your topic and then describe what information you currently know about the topic after doing your initial research. Include references to other projects who have asked similar questions or approached similar problems. Explain what others have learned in their projects.\n",
    "\n",
    "Find some relevant prior work, and reference those sources, summarizing what each did and what they learned. Even if you think you have a totally novel question, find the most similar prior work that you can and discuss how it relates to your project.\n",
    "\n",
    "References can be research publications, but they need not be. Blogs, GitHub repositories, company websites, etc., are all viable references if they are relevant to your project. It must be clear which information comes from which references. (2-3 paragraphs, including at least 2 references)\n",
    "\n",
    "  **Use inline citation through HTML footnotes to specify which references support which statements** \n",
    "\n",
    "For example: After government genocide in the 20th century, real birds were replaced with surveillance drones designed to look just like birds.<a name=\"cite_ref-1\"></a>[<sup>1</sup>](#cite_note-1) Use a minimum of 2 or 3 citations, but we prefer more.<a name=\"cite_ref-2\"></a>[<sup>2</sup>](#cite_note-2) You need enough to fully explain and back up important facts. \n",
    "\n",
    "Note that if you click a footnote number in the paragraph above it will transport you to the proper entry in the footnotes list below.  And if you click the ^ in the footnote entry, it will return you to the place in the main text where the footnote is made.\n",
    "\n",
    "To understand the HTML here, `<a name=\"#...\"> </a>` is a tag that allows you produce a named reference for a given location.  Markdown has the construciton `[text with hyperlink](#named reference)` that will produce a clickable link that transports you the named reference.\n",
    "\n",
    "1. <a name=\"cite_note-1\"></a> [^](#cite_ref-1) Lorenz, T. (9 Dec 2021) Birds Aren’t Real, or Are They? Inside a Gen Z Conspiracy Theory. *The New York Times*. https://www.nytimes.com/2021/12/09/technology/birds-arent-real-gen-z-misinformation.html \n",
    "2. <a name=\"cite_note-2\"></a> [^](#cite_ref-2) Also refs should be important to the background, not some randomly chosen vaguely related stuff. Include a web link if possible in refs as above.\n"
   ]
  },
  {
   "cell_type": "markdown",
   "metadata": {},
   "source": [
    "Grade inflation is a reference to the trend of increasin grade over time, in this case, at universities. Experts find grade inflation to be a significant issue in society because it signals that students shouldn't try as hard to get the grade that they deserve.1 In addition, it may signal to employers that students are not prepared to leave their learning and join the workforce.1 Thus, universities try to curb the impact of grade inflation by grading on a curve and reducing the number of As given much to the chargin of students. This system was created in hopes for students feel as if they deserved their grade more, although someone has to fill the lower quota of students.2\n",
    "\n",
    "There hasn't been much research on grade inflation at UCSD especially on a department level. However, we do know that the average GPA of UCSD students has increased from 2000 to 2015 from a 3.0 to a 3.153. This analysis is limited to an overall perspective and we don't know if a particular department drives this growth. In addition, this increase may not even be attributed to grade inflation but the growth of UCSD to a more prestigious university. 4 There has been research done on grade inflation on a national level and some researchers find that \"grades have risen at high schools and dropped at four-year colleges, in general, and selective four-year institutions, in particular\". This heavily contridicts previous reporting most likely because this research paper defines grade inflation as the \"signalling power of grades\".5\n",
    "\n",
    "Our research aims to build on previous research in a couple different ways. Firstly, our research would include more recent student grades from Fall Quarter 2023. In addition, we would aim to understand inflation on a departmental level since there many be specific departments that award higher grades every year compared to other departments."
   ]
  },
  {
   "cell_type": "markdown",
   "metadata": {},
   "source": [
    "# Hypothesis\n"
   ]
  },
  {
   "cell_type": "markdown",
   "metadata": {},
   "source": [
    "\n",
    "- Include your team's hypothesis\n",
    "- Ensure that this hypothesis is clear to readers\n",
    "- Explain why you think this will be the outcome (what was your thinking?)\n",
    "\n",
    "What is your main hypothesis/predictions about what the answer to your question is? Briefly explain your thinking. (2-3 sentences)"
   ]
  },
  {
   "cell_type": "markdown",
   "metadata": {},
   "source": [
    "Grade inflation at UCSD (from 2007 Summer Session to 2023 Spring) has become more prominent specifically in the humanties departments.\n",
    "\n",
    "The reason why we think that grade inflation has increased at UCSD because grade inflation has been a trend in other top universities like the Ivy Leagues. In order to keep up with the competition, other universities like the UC system, including UCSD have implemented systems to increase grades. In addition, due to COVID-19 online resources like Chat-GPT and Chegg have become more common which has lead to the democratization of information. We believe that this results in students doing better in class and thus increasing grades. The reason why we suspect this to be the case in the humanities departments is because those classes have become more labor based instead of based on a specific criteria. Writing classes at UCSD have become more forgiving in writing standards in order to become a more inclusive place for ideas and growth."
   ]
  },
  {
   "cell_type": "markdown",
   "metadata": {},
   "source": [
    "# Data"
   ]
  },
  {
   "cell_type": "markdown",
   "metadata": {},
   "source": [
    "## Data overview\n",
    "\n",
    "For each dataset include the following information\n",
    "- Dataset #1\n",
    "  - Dataset Name:\n",
    "  - Link to the dataset:\n",
    "  - Number of observations:\n",
    "  - Number of variables:\n",
    "- Dataset #2 (if you have more than one!)\n",
    "  - Dataset Name:\n",
    "  - Link to the dataset:\n",
    "  - Number of observations:\n",
    "  - Number of variables:\n",
    "- etc\n",
    "\n",
    "Now write 2 - 5 sentences describing each dataset here. Include a short description of the important variables in the dataset; what the metrics and datatypes are, what concepts they may be proxies for. Include information about how you would need to wrangle/clean/preprocess the dataset\n",
    "\n",
    "If you plan to use multiple datasets, add a few sentences about how you plan to combine these datasets."
   ]
  },
  {
   "cell_type": "markdown",
   "metadata": {},
   "source": [
    "Dataset Name: UCSD CAPEs Data Link: https://www.kaggle.com/datasets/sanbornpnguyen/ucsdcapes/data Number of observations: 63363 observations about the data Number of Variables: 11\n",
    "\n",
    "The UCSD CAPEs Dataset has 11 different variables that consist of the questions that students answer when filling out the CAPEs end of the year form. The variable names are Instructor, Course, Quarter, Total Enrolled in Course, Total CAPEs Given, Percentage Recommended Class, Percentage Recommended Professor, Study Hours per Week, Average Grade Expected, Average Grade Received, and Evalulation URL. The column Course refers to the particular course number with the name of the course (ie. AAS 10 - Intro/African-American Studies) as a string. The Average Grade Expected and Average Grade Received are all string columns that provide the letter grade and a GPA version of the grade. In addition, Study Hours per Week column is a float number that describes the average number of hours students spent studying that week.\n",
    "\n",
    "The average grade recieved and expected is also important to study grade inflation at UCSD because without it we don't know what exactly the scores students are recieving. The number of hours studied per week for a class is also important because with it we can determine what may be the cause of grade inflation if it exists.\n",
    "\n",
    "Fortunately, the data is clean enough because the data came from a form that students should fill in and most of the data is a drop down, a multiple choice question, or autofilled from the student's academic record. For the preprocessing, we need to drop all rows that have a n/a value for Average Grade Expected and Average Grade Received since without it you can't create a proper GPA for that course. Next we need to drop unnecessary columns and switch datatypes for the GPA columns for easier calculation."
   ]
  },
  {
   "cell_type": "markdown",
   "metadata": {},
   "source": [
    "## UCSD CAPEs"
   ]
  },
  {
   "cell_type": "code",
   "execution_count": 1,
   "metadata": {},
   "outputs": [
    {
     "data": {
      "text/html": [
       "<div>\n",
       "<style scoped>\n",
       "    .dataframe tbody tr th:only-of-type {\n",
       "        vertical-align: middle;\n",
       "    }\n",
       "\n",
       "    .dataframe tbody tr th {\n",
       "        vertical-align: top;\n",
       "    }\n",
       "\n",
       "    .dataframe thead th {\n",
       "        text-align: right;\n",
       "    }\n",
       "</style>\n",
       "<table border=\"1\" class=\"dataframe\">\n",
       "  <thead>\n",
       "    <tr style=\"text-align: right;\">\n",
       "      <th></th>\n",
       "      <th>Instructor</th>\n",
       "      <th>Course</th>\n",
       "      <th>Quarter</th>\n",
       "      <th>Total Enrolled in Course</th>\n",
       "      <th>Total CAPEs Given</th>\n",
       "      <th>Percentage Recommended Class</th>\n",
       "      <th>Percentage Recommended Professor</th>\n",
       "      <th>Study Hours per Week</th>\n",
       "      <th>Average Grade Expected</th>\n",
       "      <th>Average Grade Received</th>\n",
       "      <th>Evalulation URL</th>\n",
       "    </tr>\n",
       "  </thead>\n",
       "  <tbody>\n",
       "    <tr>\n",
       "      <th>0</th>\n",
       "      <td>Butler Elizabeth Annette</td>\n",
       "      <td>AAS 10 - Intro/African-American Studies (A)</td>\n",
       "      <td>SP23</td>\n",
       "      <td>66</td>\n",
       "      <td>48</td>\n",
       "      <td>93.5%</td>\n",
       "      <td>100.0%</td>\n",
       "      <td>2.80</td>\n",
       "      <td>A- (3.84)</td>\n",
       "      <td>B+ (3.67)</td>\n",
       "      <td>https://cape.ucsd.edu/CAPEReport.aspx?sectioni...</td>\n",
       "    </tr>\n",
       "    <tr>\n",
       "      <th>1</th>\n",
       "      <td>Butler Elizabeth Annette</td>\n",
       "      <td>AAS 170 - Legacies of Research (A)</td>\n",
       "      <td>SP23</td>\n",
       "      <td>20</td>\n",
       "      <td>7</td>\n",
       "      <td>100.0%</td>\n",
       "      <td>100.0%</td>\n",
       "      <td>2.50</td>\n",
       "      <td>A- (3.86)</td>\n",
       "      <td>A- (3.92)</td>\n",
       "      <td>https://cape.ucsd.edu/CAPEReport.aspx?sectioni...</td>\n",
       "    </tr>\n",
       "    <tr>\n",
       "      <th>2</th>\n",
       "      <td>Jones Ian William Nasser</td>\n",
       "      <td>ANAR 111 - Foundations of Archaeology (A)</td>\n",
       "      <td>SP23</td>\n",
       "      <td>16</td>\n",
       "      <td>3</td>\n",
       "      <td>100.0%</td>\n",
       "      <td>100.0%</td>\n",
       "      <td>3.83</td>\n",
       "      <td>B+ (3.67)</td>\n",
       "      <td>NaN</td>\n",
       "      <td>https://cape.ucsd.edu/CAPEReport.aspx?sectioni...</td>\n",
       "    </tr>\n",
       "    <tr>\n",
       "      <th>3</th>\n",
       "      <td>Shtienberg Gilad</td>\n",
       "      <td>ANAR 115 - Coastal Geomorphology/Environ (A)</td>\n",
       "      <td>SP23</td>\n",
       "      <td>26</td>\n",
       "      <td>6</td>\n",
       "      <td>100.0%</td>\n",
       "      <td>83.3%</td>\n",
       "      <td>3.83</td>\n",
       "      <td>B+ (3.50)</td>\n",
       "      <td>B (3.07)</td>\n",
       "      <td>https://cape.ucsd.edu/CAPEReport.aspx?sectioni...</td>\n",
       "    </tr>\n",
       "    <tr>\n",
       "      <th>4</th>\n",
       "      <td>Braswell Geoffrey E.</td>\n",
       "      <td>ANAR 155 - Stdy Abrd: Ancient Mesoamerica (A)</td>\n",
       "      <td>SP23</td>\n",
       "      <td>22</td>\n",
       "      <td>9</td>\n",
       "      <td>100.0%</td>\n",
       "      <td>100.0%</td>\n",
       "      <td>5.17</td>\n",
       "      <td>A (4.00)</td>\n",
       "      <td>A (4.00)</td>\n",
       "      <td>https://cape.ucsd.edu/CAPEReport.aspx?sectioni...</td>\n",
       "    </tr>\n",
       "  </tbody>\n",
       "</table>\n",
       "</div>"
      ],
      "text/plain": [
       "                 Instructor                                         Course  \\\n",
       "0  Butler Elizabeth Annette    AAS 10 - Intro/African-American Studies (A)   \n",
       "1  Butler Elizabeth Annette             AAS 170 - Legacies of Research (A)   \n",
       "2  Jones Ian William Nasser      ANAR 111 - Foundations of Archaeology (A)   \n",
       "3          Shtienberg Gilad   ANAR 115 - Coastal Geomorphology/Environ (A)   \n",
       "4      Braswell Geoffrey E.  ANAR 155 - Stdy Abrd: Ancient Mesoamerica (A)   \n",
       "\n",
       "  Quarter  Total Enrolled in Course  Total CAPEs Given  \\\n",
       "0    SP23                        66                 48   \n",
       "1    SP23                        20                  7   \n",
       "2    SP23                        16                  3   \n",
       "3    SP23                        26                  6   \n",
       "4    SP23                        22                  9   \n",
       "\n",
       "  Percentage Recommended Class Percentage Recommended Professor  \\\n",
       "0                        93.5%                           100.0%   \n",
       "1                       100.0%                           100.0%   \n",
       "2                       100.0%                           100.0%   \n",
       "3                       100.0%                            83.3%   \n",
       "4                       100.0%                           100.0%   \n",
       "\n",
       "   Study Hours per Week Average Grade Expected Average Grade Received  \\\n",
       "0                  2.80              A- (3.84)              B+ (3.67)   \n",
       "1                  2.50              A- (3.86)              A- (3.92)   \n",
       "2                  3.83              B+ (3.67)                    NaN   \n",
       "3                  3.83              B+ (3.50)               B (3.07)   \n",
       "4                  5.17               A (4.00)               A (4.00)   \n",
       "\n",
       "                                     Evalulation URL  \n",
       "0  https://cape.ucsd.edu/CAPEReport.aspx?sectioni...  \n",
       "1  https://cape.ucsd.edu/CAPEReport.aspx?sectioni...  \n",
       "2  https://cape.ucsd.edu/CAPEReport.aspx?sectioni...  \n",
       "3  https://cape.ucsd.edu/CAPEReport.aspx?sectioni...  \n",
       "4  https://cape.ucsd.edu/CAPEReport.aspx?sectioni...  "
      ]
     },
     "execution_count": 1,
     "metadata": {},
     "output_type": "execute_result"
    }
   ],
   "source": [
    "## YOUR CODE TO LOAD/CLEAN/TIDY/WRANGLE THE DATA GOES HERE\n",
    "## FEEL FREE TO ADD MULTIPLE CELLS PER SECTION \n",
    "import pandas as pd\n",
    "df = pd.read_csv('capes_data.csv')\n",
    "df.head()"
   ]
  },
  {
   "cell_type": "markdown",
   "metadata": {},
   "source": [
    "Here we will not use the Evaluation URL column in our analysis, and we will be dropping any rows missing values in the Average Grade Received and Average Grade Expected columns in order to ensure data cleanliness, therefore:"
   ]
  },
  {
   "cell_type": "code",
   "execution_count": 2,
   "metadata": {},
   "outputs": [
    {
     "data": {
      "text/html": [
       "<div>\n",
       "<style scoped>\n",
       "    .dataframe tbody tr th:only-of-type {\n",
       "        vertical-align: middle;\n",
       "    }\n",
       "\n",
       "    .dataframe tbody tr th {\n",
       "        vertical-align: top;\n",
       "    }\n",
       "\n",
       "    .dataframe thead th {\n",
       "        text-align: right;\n",
       "    }\n",
       "</style>\n",
       "<table border=\"1\" class=\"dataframe\">\n",
       "  <thead>\n",
       "    <tr style=\"text-align: right;\">\n",
       "      <th></th>\n",
       "      <th>Instructor</th>\n",
       "      <th>Course</th>\n",
       "      <th>Quarter</th>\n",
       "      <th>Total Enrolled in Course</th>\n",
       "      <th>Total CAPEs Given</th>\n",
       "      <th>Percentage Recommended Class</th>\n",
       "      <th>Percentage Recommended Professor</th>\n",
       "      <th>Study Hours per Week</th>\n",
       "      <th>Average Grade Expected</th>\n",
       "      <th>Average Grade Received</th>\n",
       "    </tr>\n",
       "  </thead>\n",
       "  <tbody>\n",
       "    <tr>\n",
       "      <th>0</th>\n",
       "      <td>Butler Elizabeth Annette</td>\n",
       "      <td>AAS 10 - Intro/African-American Studies (A)</td>\n",
       "      <td>SP23</td>\n",
       "      <td>66</td>\n",
       "      <td>48</td>\n",
       "      <td>93.5%</td>\n",
       "      <td>100.0%</td>\n",
       "      <td>2.80</td>\n",
       "      <td>A- (3.84)</td>\n",
       "      <td>B+ (3.67)</td>\n",
       "    </tr>\n",
       "    <tr>\n",
       "      <th>1</th>\n",
       "      <td>Butler Elizabeth Annette</td>\n",
       "      <td>AAS 170 - Legacies of Research (A)</td>\n",
       "      <td>SP23</td>\n",
       "      <td>20</td>\n",
       "      <td>7</td>\n",
       "      <td>100.0%</td>\n",
       "      <td>100.0%</td>\n",
       "      <td>2.50</td>\n",
       "      <td>A- (3.86)</td>\n",
       "      <td>A- (3.92)</td>\n",
       "    </tr>\n",
       "    <tr>\n",
       "      <th>3</th>\n",
       "      <td>Shtienberg Gilad</td>\n",
       "      <td>ANAR 115 - Coastal Geomorphology/Environ (A)</td>\n",
       "      <td>SP23</td>\n",
       "      <td>26</td>\n",
       "      <td>6</td>\n",
       "      <td>100.0%</td>\n",
       "      <td>83.3%</td>\n",
       "      <td>3.83</td>\n",
       "      <td>B+ (3.50)</td>\n",
       "      <td>B (3.07)</td>\n",
       "    </tr>\n",
       "    <tr>\n",
       "      <th>4</th>\n",
       "      <td>Braswell Geoffrey E.</td>\n",
       "      <td>ANAR 155 - Stdy Abrd: Ancient Mesoamerica (A)</td>\n",
       "      <td>SP23</td>\n",
       "      <td>22</td>\n",
       "      <td>9</td>\n",
       "      <td>100.0%</td>\n",
       "      <td>100.0%</td>\n",
       "      <td>5.17</td>\n",
       "      <td>A (4.00)</td>\n",
       "      <td>A (4.00)</td>\n",
       "    </tr>\n",
       "    <tr>\n",
       "      <th>5</th>\n",
       "      <td>Hrvoj Mihic Branka</td>\n",
       "      <td>ANBI 111 - Human Evolution (A)</td>\n",
       "      <td>SP23</td>\n",
       "      <td>22</td>\n",
       "      <td>4</td>\n",
       "      <td>100.0%</td>\n",
       "      <td>100.0%</td>\n",
       "      <td>2.50</td>\n",
       "      <td>A (4.00)</td>\n",
       "      <td>B- (2.95)</td>\n",
       "    </tr>\n",
       "  </tbody>\n",
       "</table>\n",
       "</div>"
      ],
      "text/plain": [
       "                 Instructor                                         Course  \\\n",
       "0  Butler Elizabeth Annette    AAS 10 - Intro/African-American Studies (A)   \n",
       "1  Butler Elizabeth Annette             AAS 170 - Legacies of Research (A)   \n",
       "3          Shtienberg Gilad   ANAR 115 - Coastal Geomorphology/Environ (A)   \n",
       "4      Braswell Geoffrey E.  ANAR 155 - Stdy Abrd: Ancient Mesoamerica (A)   \n",
       "5        Hrvoj Mihic Branka                 ANBI 111 - Human Evolution (A)   \n",
       "\n",
       "  Quarter  Total Enrolled in Course  Total CAPEs Given  \\\n",
       "0    SP23                        66                 48   \n",
       "1    SP23                        20                  7   \n",
       "3    SP23                        26                  6   \n",
       "4    SP23                        22                  9   \n",
       "5    SP23                        22                  4   \n",
       "\n",
       "  Percentage Recommended Class Percentage Recommended Professor  \\\n",
       "0                        93.5%                           100.0%   \n",
       "1                       100.0%                           100.0%   \n",
       "3                       100.0%                            83.3%   \n",
       "4                       100.0%                           100.0%   \n",
       "5                       100.0%                           100.0%   \n",
       "\n",
       "   Study Hours per Week Average Grade Expected Average Grade Received  \n",
       "0                  2.80              A- (3.84)              B+ (3.67)  \n",
       "1                  2.50              A- (3.86)              A- (3.92)  \n",
       "3                  3.83              B+ (3.50)               B (3.07)  \n",
       "4                  5.17               A (4.00)               A (4.00)  \n",
       "5                  2.50               A (4.00)              B- (2.95)  "
      ]
     },
     "execution_count": 2,
     "metadata": {},
     "output_type": "execute_result"
    }
   ],
   "source": [
    "df = df.drop(columns = \"Evalulation URL\")\n",
    "cols = [\"Average Grade Received\", \"Average Grade Expected\"]\n",
    "drop_empty=df.dropna(subset=cols, how = \"any\")\n",
    "drop_empty.head()"
   ]
  },
  {
   "cell_type": "markdown",
   "metadata": {},
   "source": [
    "## DATA Cleaning:"
   ]
  },
  {
   "cell_type": "markdown",
   "metadata": {},
   "source": [
    "We want the 'Average Grade Received' column to exclusively contain numeric values. Additionally, we will add an additional column in order to categorize these courses into years instead of quarters."
   ]
  },
  {
   "cell_type": "code",
   "execution_count": 3,
   "metadata": {
    "scrolled": true
   },
   "outputs": [
    {
     "name": "stderr",
     "output_type": "stream",
     "text": [
      "/tmp/ipykernel_453/2174106351.py:22: SettingWithCopyWarning: \n",
      "A value is trying to be set on a copy of a slice from a DataFrame.\n",
      "Try using .loc[row_indexer,col_indexer] = value instead\n",
      "\n",
      "See the caveats in the documentation: https://pandas.pydata.org/pandas-docs/stable/user_guide/indexing.html#returning-a-view-versus-a-copy\n",
      "  drop_empty['Avg Int Grade Received'] = drop_empty['Average Grade Received'].apply(standardize_avggrade)\n",
      "/tmp/ipykernel_453/2174106351.py:23: SettingWithCopyWarning: \n",
      "A value is trying to be set on a copy of a slice from a DataFrame.\n",
      "Try using .loc[row_indexer,col_indexer] = value instead\n",
      "\n",
      "See the caveats in the documentation: https://pandas.pydata.org/pandas-docs/stable/user_guide/indexing.html#returning-a-view-versus-a-copy\n",
      "  drop_empty['Year'] = drop_empty['Quarter'].apply(standardize_year)\n"
     ]
    },
    {
     "data": {
      "text/html": [
       "<div>\n",
       "<style scoped>\n",
       "    .dataframe tbody tr th:only-of-type {\n",
       "        vertical-align: middle;\n",
       "    }\n",
       "\n",
       "    .dataframe tbody tr th {\n",
       "        vertical-align: top;\n",
       "    }\n",
       "\n",
       "    .dataframe thead th {\n",
       "        text-align: right;\n",
       "    }\n",
       "</style>\n",
       "<table border=\"1\" class=\"dataframe\">\n",
       "  <thead>\n",
       "    <tr style=\"text-align: right;\">\n",
       "      <th></th>\n",
       "      <th>Instructor</th>\n",
       "      <th>Course</th>\n",
       "      <th>Quarter</th>\n",
       "      <th>Total Enrolled in Course</th>\n",
       "      <th>Total CAPEs Given</th>\n",
       "      <th>Percentage Recommended Class</th>\n",
       "      <th>Percentage Recommended Professor</th>\n",
       "      <th>Study Hours per Week</th>\n",
       "      <th>Average Grade Expected</th>\n",
       "      <th>Average Grade Received</th>\n",
       "      <th>Avg Int Grade Received</th>\n",
       "      <th>Year</th>\n",
       "    </tr>\n",
       "  </thead>\n",
       "  <tbody>\n",
       "    <tr>\n",
       "      <th>0</th>\n",
       "      <td>Butler Elizabeth Annette</td>\n",
       "      <td>AAS 10 - Intro/African-American Studies (A)</td>\n",
       "      <td>SP23</td>\n",
       "      <td>66</td>\n",
       "      <td>48</td>\n",
       "      <td>93.5%</td>\n",
       "      <td>100.0%</td>\n",
       "      <td>2.80</td>\n",
       "      <td>A- (3.84)</td>\n",
       "      <td>B+ (3.67)</td>\n",
       "      <td>3.67</td>\n",
       "      <td>23</td>\n",
       "    </tr>\n",
       "    <tr>\n",
       "      <th>1</th>\n",
       "      <td>Butler Elizabeth Annette</td>\n",
       "      <td>AAS 170 - Legacies of Research (A)</td>\n",
       "      <td>SP23</td>\n",
       "      <td>20</td>\n",
       "      <td>7</td>\n",
       "      <td>100.0%</td>\n",
       "      <td>100.0%</td>\n",
       "      <td>2.50</td>\n",
       "      <td>A- (3.86)</td>\n",
       "      <td>A- (3.92)</td>\n",
       "      <td>3.92</td>\n",
       "      <td>23</td>\n",
       "    </tr>\n",
       "    <tr>\n",
       "      <th>3</th>\n",
       "      <td>Shtienberg Gilad</td>\n",
       "      <td>ANAR 115 - Coastal Geomorphology/Environ (A)</td>\n",
       "      <td>SP23</td>\n",
       "      <td>26</td>\n",
       "      <td>6</td>\n",
       "      <td>100.0%</td>\n",
       "      <td>83.3%</td>\n",
       "      <td>3.83</td>\n",
       "      <td>B+ (3.50)</td>\n",
       "      <td>B (3.07)</td>\n",
       "      <td>3.07</td>\n",
       "      <td>23</td>\n",
       "    </tr>\n",
       "    <tr>\n",
       "      <th>4</th>\n",
       "      <td>Braswell Geoffrey E.</td>\n",
       "      <td>ANAR 155 - Stdy Abrd: Ancient Mesoamerica (A)</td>\n",
       "      <td>SP23</td>\n",
       "      <td>22</td>\n",
       "      <td>9</td>\n",
       "      <td>100.0%</td>\n",
       "      <td>100.0%</td>\n",
       "      <td>5.17</td>\n",
       "      <td>A (4.00)</td>\n",
       "      <td>A (4.00)</td>\n",
       "      <td>4.00</td>\n",
       "      <td>23</td>\n",
       "    </tr>\n",
       "    <tr>\n",
       "      <th>5</th>\n",
       "      <td>Hrvoj Mihic Branka</td>\n",
       "      <td>ANBI 111 - Human Evolution (A)</td>\n",
       "      <td>SP23</td>\n",
       "      <td>22</td>\n",
       "      <td>4</td>\n",
       "      <td>100.0%</td>\n",
       "      <td>100.0%</td>\n",
       "      <td>2.50</td>\n",
       "      <td>A (4.00)</td>\n",
       "      <td>B- (2.95)</td>\n",
       "      <td>2.95</td>\n",
       "      <td>23</td>\n",
       "    </tr>\n",
       "  </tbody>\n",
       "</table>\n",
       "</div>"
      ],
      "text/plain": [
       "                 Instructor                                         Course  \\\n",
       "0  Butler Elizabeth Annette    AAS 10 - Intro/African-American Studies (A)   \n",
       "1  Butler Elizabeth Annette             AAS 170 - Legacies of Research (A)   \n",
       "3          Shtienberg Gilad   ANAR 115 - Coastal Geomorphology/Environ (A)   \n",
       "4      Braswell Geoffrey E.  ANAR 155 - Stdy Abrd: Ancient Mesoamerica (A)   \n",
       "5        Hrvoj Mihic Branka                 ANBI 111 - Human Evolution (A)   \n",
       "\n",
       "  Quarter  Total Enrolled in Course  Total CAPEs Given  \\\n",
       "0    SP23                        66                 48   \n",
       "1    SP23                        20                  7   \n",
       "3    SP23                        26                  6   \n",
       "4    SP23                        22                  9   \n",
       "5    SP23                        22                  4   \n",
       "\n",
       "  Percentage Recommended Class Percentage Recommended Professor  \\\n",
       "0                        93.5%                           100.0%   \n",
       "1                       100.0%                           100.0%   \n",
       "3                       100.0%                            83.3%   \n",
       "4                       100.0%                           100.0%   \n",
       "5                       100.0%                           100.0%   \n",
       "\n",
       "   Study Hours per Week Average Grade Expected Average Grade Received  \\\n",
       "0                  2.80              A- (3.84)              B+ (3.67)   \n",
       "1                  2.50              A- (3.86)              A- (3.92)   \n",
       "3                  3.83              B+ (3.50)               B (3.07)   \n",
       "4                  5.17               A (4.00)               A (4.00)   \n",
       "5                  2.50               A (4.00)              B- (2.95)   \n",
       "\n",
       "   Avg Int Grade Received  Year  \n",
       "0                    3.67    23  \n",
       "1                    3.92    23  \n",
       "3                    3.07    23  \n",
       "4                    4.00    23  \n",
       "5                    2.95    23  "
      ]
     },
     "execution_count": 3,
     "metadata": {},
     "output_type": "execute_result"
    }
   ],
   "source": [
    "def standardize_avggrade(string):\n",
    "    in_brackets = False\n",
    "    current_substring = \"\"\n",
    "    count = 0\n",
    " \n",
    "    for c in string:\n",
    "        if c == '(':\n",
    "            in_brackets = True\n",
    "        elif c == \")\" and in_brackets:\n",
    "            in_brackets = False\n",
    "        elif in_brackets:\n",
    "            current_substring += c\n",
    "    \n",
    "    return float(current_substring)\n",
    "\n",
    "def standardize_year(string):\n",
    "    current_substring = \"\"\n",
    "    return int(string[2:4])\n",
    "            \n",
    "    return int(current_substring)\n",
    "\n",
    "drop_empty['Avg Int Grade Received'] = drop_empty['Average Grade Received'].apply(standardize_avggrade)\n",
    "drop_empty['Year'] = drop_empty['Quarter'].apply(standardize_year)\n",
    "drop_empty.head()"
   ]
  },
  {
   "cell_type": "markdown",
   "metadata": {},
   "source": [
    "Additionally, since we want to check the differences between departments, we extract the course code from the 'Course' column, since it can serve as a representation of the departments."
   ]
  },
  {
   "cell_type": "code",
   "execution_count": 4,
   "metadata": {},
   "outputs": [
    {
     "name": "stderr",
     "output_type": "stream",
     "text": [
      "/tmp/ipykernel_453/1512607885.py:5: SettingWithCopyWarning: \n",
      "A value is trying to be set on a copy of a slice from a DataFrame.\n",
      "Try using .loc[row_indexer,col_indexer] = value instead\n",
      "\n",
      "See the caveats in the documentation: https://pandas.pydata.org/pandas-docs/stable/user_guide/indexing.html#returning-a-view-versus-a-copy\n",
      "  drop_empty['Department'] = drop_empty['Course'].apply(get_department)\n"
     ]
    },
    {
     "data": {
      "text/html": [
       "<div>\n",
       "<style scoped>\n",
       "    .dataframe tbody tr th:only-of-type {\n",
       "        vertical-align: middle;\n",
       "    }\n",
       "\n",
       "    .dataframe tbody tr th {\n",
       "        vertical-align: top;\n",
       "    }\n",
       "\n",
       "    .dataframe thead th {\n",
       "        text-align: right;\n",
       "    }\n",
       "</style>\n",
       "<table border=\"1\" class=\"dataframe\">\n",
       "  <thead>\n",
       "    <tr style=\"text-align: right;\">\n",
       "      <th></th>\n",
       "      <th>Instructor</th>\n",
       "      <th>Course</th>\n",
       "      <th>Quarter</th>\n",
       "      <th>Total Enrolled in Course</th>\n",
       "      <th>Total CAPEs Given</th>\n",
       "      <th>Percentage Recommended Class</th>\n",
       "      <th>Percentage Recommended Professor</th>\n",
       "      <th>Study Hours per Week</th>\n",
       "      <th>Average Grade Expected</th>\n",
       "      <th>Average Grade Received</th>\n",
       "      <th>Avg Int Grade Received</th>\n",
       "      <th>Year</th>\n",
       "      <th>Department</th>\n",
       "    </tr>\n",
       "  </thead>\n",
       "  <tbody>\n",
       "    <tr>\n",
       "      <th>0</th>\n",
       "      <td>Butler Elizabeth Annette</td>\n",
       "      <td>AAS 10 - Intro/African-American Studies (A)</td>\n",
       "      <td>SP23</td>\n",
       "      <td>66</td>\n",
       "      <td>48</td>\n",
       "      <td>93.5%</td>\n",
       "      <td>100.0%</td>\n",
       "      <td>2.80</td>\n",
       "      <td>A- (3.84)</td>\n",
       "      <td>B+ (3.67)</td>\n",
       "      <td>3.67</td>\n",
       "      <td>23</td>\n",
       "      <td>AAS</td>\n",
       "    </tr>\n",
       "    <tr>\n",
       "      <th>1</th>\n",
       "      <td>Butler Elizabeth Annette</td>\n",
       "      <td>AAS 170 - Legacies of Research (A)</td>\n",
       "      <td>SP23</td>\n",
       "      <td>20</td>\n",
       "      <td>7</td>\n",
       "      <td>100.0%</td>\n",
       "      <td>100.0%</td>\n",
       "      <td>2.50</td>\n",
       "      <td>A- (3.86)</td>\n",
       "      <td>A- (3.92)</td>\n",
       "      <td>3.92</td>\n",
       "      <td>23</td>\n",
       "      <td>AAS</td>\n",
       "    </tr>\n",
       "    <tr>\n",
       "      <th>3</th>\n",
       "      <td>Shtienberg Gilad</td>\n",
       "      <td>ANAR 115 - Coastal Geomorphology/Environ (A)</td>\n",
       "      <td>SP23</td>\n",
       "      <td>26</td>\n",
       "      <td>6</td>\n",
       "      <td>100.0%</td>\n",
       "      <td>83.3%</td>\n",
       "      <td>3.83</td>\n",
       "      <td>B+ (3.50)</td>\n",
       "      <td>B (3.07)</td>\n",
       "      <td>3.07</td>\n",
       "      <td>23</td>\n",
       "      <td>ANAR</td>\n",
       "    </tr>\n",
       "    <tr>\n",
       "      <th>4</th>\n",
       "      <td>Braswell Geoffrey E.</td>\n",
       "      <td>ANAR 155 - Stdy Abrd: Ancient Mesoamerica (A)</td>\n",
       "      <td>SP23</td>\n",
       "      <td>22</td>\n",
       "      <td>9</td>\n",
       "      <td>100.0%</td>\n",
       "      <td>100.0%</td>\n",
       "      <td>5.17</td>\n",
       "      <td>A (4.00)</td>\n",
       "      <td>A (4.00)</td>\n",
       "      <td>4.00</td>\n",
       "      <td>23</td>\n",
       "      <td>ANAR</td>\n",
       "    </tr>\n",
       "    <tr>\n",
       "      <th>5</th>\n",
       "      <td>Hrvoj Mihic Branka</td>\n",
       "      <td>ANBI 111 - Human Evolution (A)</td>\n",
       "      <td>SP23</td>\n",
       "      <td>22</td>\n",
       "      <td>4</td>\n",
       "      <td>100.0%</td>\n",
       "      <td>100.0%</td>\n",
       "      <td>2.50</td>\n",
       "      <td>A (4.00)</td>\n",
       "      <td>B- (2.95)</td>\n",
       "      <td>2.95</td>\n",
       "      <td>23</td>\n",
       "      <td>ANBI</td>\n",
       "    </tr>\n",
       "  </tbody>\n",
       "</table>\n",
       "</div>"
      ],
      "text/plain": [
       "                 Instructor                                         Course  \\\n",
       "0  Butler Elizabeth Annette    AAS 10 - Intro/African-American Studies (A)   \n",
       "1  Butler Elizabeth Annette             AAS 170 - Legacies of Research (A)   \n",
       "3          Shtienberg Gilad   ANAR 115 - Coastal Geomorphology/Environ (A)   \n",
       "4      Braswell Geoffrey E.  ANAR 155 - Stdy Abrd: Ancient Mesoamerica (A)   \n",
       "5        Hrvoj Mihic Branka                 ANBI 111 - Human Evolution (A)   \n",
       "\n",
       "  Quarter  Total Enrolled in Course  Total CAPEs Given  \\\n",
       "0    SP23                        66                 48   \n",
       "1    SP23                        20                  7   \n",
       "3    SP23                        26                  6   \n",
       "4    SP23                        22                  9   \n",
       "5    SP23                        22                  4   \n",
       "\n",
       "  Percentage Recommended Class Percentage Recommended Professor  \\\n",
       "0                        93.5%                           100.0%   \n",
       "1                       100.0%                           100.0%   \n",
       "3                       100.0%                            83.3%   \n",
       "4                       100.0%                           100.0%   \n",
       "5                       100.0%                           100.0%   \n",
       "\n",
       "   Study Hours per Week Average Grade Expected Average Grade Received  \\\n",
       "0                  2.80              A- (3.84)              B+ (3.67)   \n",
       "1                  2.50              A- (3.86)              A- (3.92)   \n",
       "3                  3.83              B+ (3.50)               B (3.07)   \n",
       "4                  5.17               A (4.00)               A (4.00)   \n",
       "5                  2.50               A (4.00)              B- (2.95)   \n",
       "\n",
       "   Avg Int Grade Received  Year Department  \n",
       "0                    3.67    23        AAS  \n",
       "1                    3.92    23        AAS  \n",
       "3                    3.07    23       ANAR  \n",
       "4                    4.00    23       ANAR  \n",
       "5                    2.95    23       ANBI  "
      ]
     },
     "execution_count": 4,
     "metadata": {},
     "output_type": "execute_result"
    }
   ],
   "source": [
    "def get_department(string):\n",
    "    current_substring = \"\"\n",
    "    return string[0:4].strip()\n",
    "\n",
    "drop_empty['Department'] = drop_empty['Course'].apply(get_department)\n",
    "\n",
    "drop_empty.head()"
   ]
  },
  {
   "cell_type": "markdown",
   "metadata": {},
   "source": [
    "Here, we examine the grades assigned by each department from 2007 to 2023."
   ]
  },
  {
   "cell_type": "code",
   "execution_count": 5,
   "metadata": {
    "scrolled": true
   },
   "outputs": [
    {
     "data": {
      "text/html": [
       "<div>\n",
       "<style scoped>\n",
       "    .dataframe tbody tr th:only-of-type {\n",
       "        vertical-align: middle;\n",
       "    }\n",
       "\n",
       "    .dataframe tbody tr th {\n",
       "        vertical-align: top;\n",
       "    }\n",
       "\n",
       "    .dataframe thead th {\n",
       "        text-align: right;\n",
       "    }\n",
       "</style>\n",
       "<table border=\"1\" class=\"dataframe\">\n",
       "  <thead>\n",
       "    <tr style=\"text-align: right;\">\n",
       "      <th></th>\n",
       "      <th>Year</th>\n",
       "      <th>Department</th>\n",
       "      <th>Avg Int Grade Received</th>\n",
       "    </tr>\n",
       "  </thead>\n",
       "  <tbody>\n",
       "    <tr>\n",
       "      <th>0</th>\n",
       "      <td>7</td>\n",
       "      <td>ANAR</td>\n",
       "      <td>2.610000</td>\n",
       "    </tr>\n",
       "    <tr>\n",
       "      <th>1</th>\n",
       "      <td>7</td>\n",
       "      <td>ANBI</td>\n",
       "      <td>3.040000</td>\n",
       "    </tr>\n",
       "    <tr>\n",
       "      <th>2</th>\n",
       "      <td>7</td>\n",
       "      <td>ANSC</td>\n",
       "      <td>3.090000</td>\n",
       "    </tr>\n",
       "    <tr>\n",
       "      <th>3</th>\n",
       "      <td>7</td>\n",
       "      <td>ANTH</td>\n",
       "      <td>2.906667</td>\n",
       "    </tr>\n",
       "    <tr>\n",
       "      <th>4</th>\n",
       "      <td>7</td>\n",
       "      <td>BENG</td>\n",
       "      <td>3.377143</td>\n",
       "    </tr>\n",
       "  </tbody>\n",
       "</table>\n",
       "</div>"
      ],
      "text/plain": [
       "   Year Department  Avg Int Grade Received\n",
       "0     7       ANAR                2.610000\n",
       "1     7       ANBI                3.040000\n",
       "2     7       ANSC                3.090000\n",
       "3     7       ANTH                2.906667\n",
       "4     7       BENG                3.377143"
      ]
     },
     "execution_count": 5,
     "metadata": {},
     "output_type": "execute_result"
    }
   ],
   "source": [
    "average_grade_df = drop_empty.groupby(['Year', 'Department'])['Avg Int Grade Received'].mean().reset_index()\n",
    "average_grade_df.head()"
   ]
  },
  {
   "cell_type": "markdown",
   "metadata": {},
   "source": [
    "Here we do the same cleaning for the Grade Expected, which would be the comparison to the actual grades."
   ]
  },
  {
   "cell_type": "code",
   "execution_count": 6,
   "metadata": {},
   "outputs": [
    {
     "name": "stderr",
     "output_type": "stream",
     "text": [
      "/tmp/ipykernel_453/1778468686.py:1: SettingWithCopyWarning: \n",
      "A value is trying to be set on a copy of a slice from a DataFrame.\n",
      "Try using .loc[row_indexer,col_indexer] = value instead\n",
      "\n",
      "See the caveats in the documentation: https://pandas.pydata.org/pandas-docs/stable/user_guide/indexing.html#returning-a-view-versus-a-copy\n",
      "  drop_empty['Avg Int Grade Expected'] = drop_empty['Average Grade Expected'].apply(standardize_avggrade)\n"
     ]
    }
   ],
   "source": [
    "drop_empty['Avg Int Grade Expected'] = drop_empty['Average Grade Expected'].apply(standardize_avggrade)"
   ]
  },
  {
   "cell_type": "code",
   "execution_count": 7,
   "metadata": {},
   "outputs": [],
   "source": [
    "average_grade_exp_df = drop_empty.groupby(['Year', 'Department'])['Avg Int Grade Expected'].mean().reset_index()"
   ]
  },
  {
   "cell_type": "code",
   "execution_count": 8,
   "metadata": {},
   "outputs": [
    {
     "data": {
      "text/html": [
       "<div>\n",
       "<style scoped>\n",
       "    .dataframe tbody tr th:only-of-type {\n",
       "        vertical-align: middle;\n",
       "    }\n",
       "\n",
       "    .dataframe tbody tr th {\n",
       "        vertical-align: top;\n",
       "    }\n",
       "\n",
       "    .dataframe thead th {\n",
       "        text-align: right;\n",
       "    }\n",
       "</style>\n",
       "<table border=\"1\" class=\"dataframe\">\n",
       "  <thead>\n",
       "    <tr style=\"text-align: right;\">\n",
       "      <th></th>\n",
       "      <th>Year</th>\n",
       "      <th>Department</th>\n",
       "      <th>Avg Int Grade Expected</th>\n",
       "    </tr>\n",
       "  </thead>\n",
       "  <tbody>\n",
       "    <tr>\n",
       "      <th>0</th>\n",
       "      <td>7</td>\n",
       "      <td>ANAR</td>\n",
       "      <td>3.120000</td>\n",
       "    </tr>\n",
       "    <tr>\n",
       "      <th>1</th>\n",
       "      <td>7</td>\n",
       "      <td>ANBI</td>\n",
       "      <td>3.375000</td>\n",
       "    </tr>\n",
       "    <tr>\n",
       "      <th>2</th>\n",
       "      <td>7</td>\n",
       "      <td>ANSC</td>\n",
       "      <td>3.545000</td>\n",
       "    </tr>\n",
       "    <tr>\n",
       "      <th>3</th>\n",
       "      <td>7</td>\n",
       "      <td>ANTH</td>\n",
       "      <td>3.360000</td>\n",
       "    </tr>\n",
       "    <tr>\n",
       "      <th>4</th>\n",
       "      <td>7</td>\n",
       "      <td>BENG</td>\n",
       "      <td>3.581429</td>\n",
       "    </tr>\n",
       "  </tbody>\n",
       "</table>\n",
       "</div>"
      ],
      "text/plain": [
       "   Year Department  Avg Int Grade Expected\n",
       "0     7       ANAR                3.120000\n",
       "1     7       ANBI                3.375000\n",
       "2     7       ANSC                3.545000\n",
       "3     7       ANTH                3.360000\n",
       "4     7       BENG                3.581429"
      ]
     },
     "execution_count": 8,
     "metadata": {},
     "output_type": "execute_result"
    }
   ],
   "source": [
    "average_grade_exp_df.head()"
   ]
  },
  {
   "cell_type": "markdown",
   "metadata": {},
   "source": [
    "Type Markdown and LaTeX:  𝛼2"
   ]
  },
  {
   "cell_type": "markdown",
   "metadata": {},
   "source": [
    "## EDA"
   ]
  },
  {
   "cell_type": "code",
   "execution_count": 9,
   "metadata": {},
   "outputs": [
    {
     "data": {
      "text/plain": [
       "array(['AAS', 'ANAR', 'ANBI', 'ANSC', 'ANTH', 'AWP', 'BENG', 'BIBC',\n",
       "       'BICD', 'BIEB', 'BILD', 'BIMM', 'BIPN', 'BISP', 'CAT', 'CENG',\n",
       "       'CGS', 'CHEM', 'CHIN', 'COGS', 'COMM', 'CSE', 'CSS', 'DOC', 'DSC',\n",
       "       'DSGN', 'ECE', 'ECON', 'EDS', 'ENG', 'ENVR', 'ESYS', 'ETHN',\n",
       "       'FMPH', 'GLBH', 'HDS', 'HIAF', 'HIEA', 'HIEU', 'HIGL', 'HILA',\n",
       "       'HILD', 'HINE', 'HISC', 'HITO', 'HIUS', 'HUM', 'INTL', 'JAPN',\n",
       "       'LATI', 'LIGN', 'LIHL', 'LTAM', 'LTEA', 'LTEN', 'LTEU', 'LTKO',\n",
       "       'LTLA', 'LTSP', 'LTWL', 'LTWR', 'MAE', 'MATH', 'MGT', 'MMW', 'MUS',\n",
       "       'NANO', 'PHIL', 'PHYS', 'POLI', 'PSYC', 'RELI', 'SE 1', 'SE 3',\n",
       "       'SE 9', 'SIO', 'SOCI', 'SYN', 'TDAC', 'TDDE', 'TDDR', 'TDGE',\n",
       "       'TDHT', 'TDMV', 'TDPF', 'TDPR', 'TDTR', 'USP', 'VIS', 'WCWP',\n",
       "       'CCS', 'GSS', 'LTCH', 'LTTH', 'LTCS', 'LTGK', 'LTGM', 'TDDM',\n",
       "       'LAWS', 'ERC', 'TDPW', 'JWSP', 'LTFR', 'LTRU', 'HMNR', 'TWS',\n",
       "       'LTIT', 'HDP', 'ELWR', 'FPMU', 'ICAM', 'SE 2', 'TDHD', 'JUDA',\n",
       "       'COCU', 'COGN', 'COHI', 'COMT', 'COSF', 'TDCH', 'TMC', 'LTAF',\n",
       "       'STPA', 'SOCA', 'SOCB', 'SOCC', 'SOCD', 'SOCL'], dtype=object)"
      ]
     },
     "execution_count": 9,
     "metadata": {},
     "output_type": "execute_result"
    }
   ],
   "source": [
    "drop_empty['Department'].unique()"
   ]
  },
  {
   "cell_type": "markdown",
   "metadata": {},
   "source": [
    "We can see at first glance that there are too many departments in CAPE and that it is not practical to consider such an amount of departments in meaningful analysis. Therefore, a more focused approach is required, particularly one that focuses on the most representative STEM and Humanities departments. Due to the nebulous nature of determining significance based upon core disciplines, significance in academia, and social impact - we have chosen to focus primarily on a quantitative manner of determining the most representative departments in STEM and Humanities."
   ]
  },
  {
   "cell_type": "code",
   "execution_count": 10,
   "metadata": {},
   "outputs": [
    {
     "data": {
      "text/html": [
       "<div>\n",
       "<style scoped>\n",
       "    .dataframe tbody tr th:only-of-type {\n",
       "        vertical-align: middle;\n",
       "    }\n",
       "\n",
       "    .dataframe tbody tr th {\n",
       "        vertical-align: top;\n",
       "    }\n",
       "\n",
       "    .dataframe thead th {\n",
       "        text-align: right;\n",
       "    }\n",
       "</style>\n",
       "<table border=\"1\" class=\"dataframe\">\n",
       "  <thead>\n",
       "    <tr style=\"text-align: right;\">\n",
       "      <th></th>\n",
       "      <th>Department</th>\n",
       "      <th>Total Enrolled in Course</th>\n",
       "    </tr>\n",
       "  </thead>\n",
       "  <tbody>\n",
       "    <tr>\n",
       "      <th>0</th>\n",
       "      <td>MATH</td>\n",
       "      <td>415630</td>\n",
       "    </tr>\n",
       "    <tr>\n",
       "      <th>1</th>\n",
       "      <td>CHEM</td>\n",
       "      <td>347948</td>\n",
       "    </tr>\n",
       "    <tr>\n",
       "      <th>2</th>\n",
       "      <td>ECON</td>\n",
       "      <td>282947</td>\n",
       "    </tr>\n",
       "    <tr>\n",
       "      <th>3</th>\n",
       "      <td>CSE</td>\n",
       "      <td>275693</td>\n",
       "    </tr>\n",
       "    <tr>\n",
       "      <th>4</th>\n",
       "      <td>PHYS</td>\n",
       "      <td>258046</td>\n",
       "    </tr>\n",
       "  </tbody>\n",
       "</table>\n",
       "</div>"
      ],
      "text/plain": [
       "  Department  Total Enrolled in Course\n",
       "0       MATH                    415630\n",
       "1       CHEM                    347948\n",
       "2       ECON                    282947\n",
       "3        CSE                    275693\n",
       "4       PHYS                    258046"
      ]
     },
     "execution_count": 10,
     "metadata": {},
     "output_type": "execute_result"
    }
   ],
   "source": [
    "Department_Enrolled = drop_empty.groupby(['Department'])['Total Enrolled in Course'].sum().sort_values(ascending=False).reset_index()\n",
    "Department_Enrolled.head()"
   ]
  },
  {
   "cell_type": "code",
   "execution_count": 11,
   "metadata": {},
   "outputs": [
    {
     "data": {
      "text/html": [
       "<div>\n",
       "<style scoped>\n",
       "    .dataframe tbody tr th:only-of-type {\n",
       "        vertical-align: middle;\n",
       "    }\n",
       "\n",
       "    .dataframe tbody tr th {\n",
       "        vertical-align: top;\n",
       "    }\n",
       "\n",
       "    .dataframe thead th {\n",
       "        text-align: right;\n",
       "    }\n",
       "</style>\n",
       "<table border=\"1\" class=\"dataframe\">\n",
       "  <thead>\n",
       "    <tr style=\"text-align: right;\">\n",
       "      <th></th>\n",
       "      <th>Department</th>\n",
       "      <th>Total CAPEs Given</th>\n",
       "    </tr>\n",
       "  </thead>\n",
       "  <tbody>\n",
       "    <tr>\n",
       "      <th>0</th>\n",
       "      <td>MATH</td>\n",
       "      <td>202420</td>\n",
       "    </tr>\n",
       "    <tr>\n",
       "      <th>1</th>\n",
       "      <td>CHEM</td>\n",
       "      <td>178500</td>\n",
       "    </tr>\n",
       "    <tr>\n",
       "      <th>2</th>\n",
       "      <td>CSE</td>\n",
       "      <td>142491</td>\n",
       "    </tr>\n",
       "    <tr>\n",
       "      <th>3</th>\n",
       "      <td>PSYC</td>\n",
       "      <td>138964</td>\n",
       "    </tr>\n",
       "    <tr>\n",
       "      <th>4</th>\n",
       "      <td>MGT</td>\n",
       "      <td>112355</td>\n",
       "    </tr>\n",
       "  </tbody>\n",
       "</table>\n",
       "</div>"
      ],
      "text/plain": [
       "  Department  Total CAPEs Given\n",
       "0       MATH             202420\n",
       "1       CHEM             178500\n",
       "2        CSE             142491\n",
       "3       PSYC             138964\n",
       "4        MGT             112355"
      ]
     },
     "execution_count": 11,
     "metadata": {},
     "output_type": "execute_result"
    }
   ],
   "source": [
    "Department_CAPE_Submit = drop_empty.groupby(['Department'])['Total CAPEs Given'].sum().sort_values(ascending=False).reset_index()\n",
    "Department_CAPE_Submit.head()"
   ]
  },
  {
   "cell_type": "markdown",
   "metadata": {},
   "source": [
    "Here, we list the top five STEM (Science, Technology, Engineering, and Mathematics) Departments and top five Humanities (HUM) Departments by summing up the total number of students enrolled as well as the total number of students who submitted CAPE evaluations. It is interesting to note that the final lists are quite similiar.\n",
    "\n",
    "The most representative STEM departments include Mathematics, Chemistry, Economics, Computer Science and Engineering (CSE), and Physics. These departments serve as the most notable of the STEM disciplines, having substantial student enrollment as well as a high number of CAPE submissions. Mathematics serves to provide tools and problem-solving fundamentals required for analysis in many scientific domains while Chemistry is important for understanding the various properties of matter and elements. Economics affords insights into economic systems and decision-making processes overall, and CSE covers many different fields with STEM, but primarily computational methodologies. Finally, Physics serves to explore the universe, from particles to cosmology. \n"

"The most representative of the HUM departments consists of  Psychology, Political Science, Managment (MGT), Biology, and Making of the Modern World (MMW). Psychology examines the complexities of behavior, cognition, as well as various social dynamics and issues found within humanity. Political science serves to analyize political systems, power structures, policy, and institutions. Management is primarily concerned with organizational leadership, strategy and decision making. Biology investigates the ecosystem and organisms within it, while MMW explores historical, cultural, societal, and intellectual developments within the modern world. \n",
    "\n",
    "An important note is that specialities of Biology such as Molecular Biology, Microbiology (BIMM) and lower-division studies (BILD) are consolidated, therefore helping to contribute to the large numbers and representation of Biology."
   ]
  },
  {
   "cell_type": "code",
   "execution_count": 12,
   "metadata": {},
   "outputs": [],
   "source": [
    "STEM_Department_Enroll = ['MATH','CHEM','ECON','CSE','PHYS']\n",
    "HUM_Department_Enroll = ['PSYC','POLI','MGT','BILD','MMW']"
   ]
  },
  {
   "cell_type": "code",
   "execution_count": 13,
   "metadata": {},
   "outputs": [],
   "source": [
    "STEM_Department_CAPE = ['MATH','CHEM','CSE','ECON','PHYS']\n",
    "HUM_Department_CAPE = ['PSYC','MGT','POLI','MMW','BIMM']"
   ]
  },
  {
   "cell_type": "markdown",
   "metadata": {},
   "source": [
    "We continue to refine our data by dividing them into two datasets: STEM_CAPE and HUM_CAPE. By dividing the data in such a way, we are able to extract insights and trends from the data as well as further organizing and cleaning it. STEM_CAPE holds the data related to STEM-related departments, while HUM_CAPE contains the data related to Humanities departments. This approach allows us to take a closer look at the data, as well as making it easier for us to visualize it all."
   ]
  },
  {
   "cell_type": "code",
   "execution_count": 14,
   "metadata": {},
   "outputs": [],
   "source": [
    "STEM_CAPE = drop_empty[(drop_empty['Department']=='MATH') |\n",
    "                      (drop_empty['Department']=='CHEM') |\n",
    "                      (drop_empty['Department']=='ECON')|\n",
    "                      (drop_empty['Department']=='CSE')|\n",
    "                      (drop_empty['Department']=='PHYS')]\n",
    "HUM_CAPE = drop_empty[(drop_empty['Department']=='PSYC') |\n",
    "                      (drop_empty['Department']=='MGT') |\n",
    "                      (drop_empty['Department']=='POLI')|\n",
    "                      (drop_empty['Department']=='MMW')|\n",
    "                      (drop_empty['Department']=='BIMM')|\n",
    "                     (drop_empty['Department']=='BILD')]"
   ]
  },
  {
   "cell_type": "code",
   "execution_count": 15,
   "metadata": {},
   "outputs": [
    {
     "data": {
      "text/html": [
       "<div>\n",
       "<style scoped>\n",
       "    .dataframe tbody tr th:only-of-type {\n",
       "        vertical-align: middle;\n",
       "    }\n",
       "\n",
       "    .dataframe tbody tr th {\n",
       "        vertical-align: top;\n",
       "    }\n",
       "\n",
       "    .dataframe thead th {\n",
       "        text-align: right;\n",
       "    }\n",
       "</style>\n",
       "<table border=\"1\" class=\"dataframe\">\n",
       "  <thead>\n",
       "    <tr style=\"text-align: right;\">\n",
       "      <th></th>\n",
       "      <th>Instructor</th>\n",
       "      <th>Course</th>\n",
       "      <th>Quarter</th>\n",
       "      <th>Total Enrolled in Course</th>\n",
       "      <th>Total CAPEs Given</th>\n",
       "      <th>Percentage Recommended Class</th>\n",
       "      <th>Percentage Recommended Professor</th>\n",
       "      <th>Study Hours per Week</th>\n",
       "      <th>Average Grade Expected</th>\n",
       "      <th>Average Grade Received</th>\n",
       "      <th>Avg Int Grade Received</th>\n",
       "      <th>Year</th>\n",
       "      <th>Department</th>\n",
       "      <th>Avg Int Grade Expected</th>\n",
       "    </tr>\n",
       "  </thead>\n",
       "  <tbody>\n",
       "    <tr>\n",
       "      <th>169</th>\n",
       "      <td>Li Shaowei</td>\n",
       "      <td>CHEM 100A - Analytical Chemistry Lab (A)</td>\n",
       "      <td>SP23</td>\n",
       "      <td>102</td>\n",
       "      <td>41</td>\n",
       "      <td>66.7%</td>\n",
       "      <td>69.4%</td>\n",
       "      <td>10.56</td>\n",
       "      <td>B (3.24)</td>\n",
       "      <td>B+ (3.35)</td>\n",
       "      <td>3.35</td>\n",
       "      <td>23</td>\n",
       "      <td>CHEM</td>\n",
       "      <td>3.24</td>\n",
       "    </tr>\n",
       "    <tr>\n",
       "      <th>170</th>\n",
       "      <td>Pomeroy Robert S.</td>\n",
       "      <td>CHEM 100B - Instrumental Chemistry Lab (A)</td>\n",
       "      <td>SP23</td>\n",
       "      <td>30</td>\n",
       "      <td>13</td>\n",
       "      <td>83.3%</td>\n",
       "      <td>83.3%</td>\n",
       "      <td>8.96</td>\n",
       "      <td>B (3.23)</td>\n",
       "      <td>B (3.04)</td>\n",
       "      <td>3.04</td>\n",
       "      <td>23</td>\n",
       "      <td>CHEM</td>\n",
       "      <td>3.23</td>\n",
       "    </tr>\n",
       "    <tr>\n",
       "      <th>172</th>\n",
       "      <td>Sinha Amitabha</td>\n",
       "      <td>CHEM 105A - Physical Chemistry Laboratory (B)</td>\n",
       "      <td>SP23</td>\n",
       "      <td>37</td>\n",
       "      <td>11</td>\n",
       "      <td>72.7%</td>\n",
       "      <td>90.9%</td>\n",
       "      <td>9.41</td>\n",
       "      <td>B- (2.91)</td>\n",
       "      <td>B- (2.87)</td>\n",
       "      <td>2.87</td>\n",
       "      <td>23</td>\n",
       "      <td>CHEM</td>\n",
       "      <td>2.91</td>\n",
       "    </tr>\n",
       "    <tr>\n",
       "      <th>173</th>\n",
       "      <td>Jennings Patricia A.</td>\n",
       "      <td>CHEM 108 - Protein Biochemistry Lab (A)</td>\n",
       "      <td>SP23</td>\n",
       "      <td>48</td>\n",
       "      <td>16</td>\n",
       "      <td>81.3%</td>\n",
       "      <td>56.3%</td>\n",
       "      <td>7.50</td>\n",
       "      <td>B+ (3.31)</td>\n",
       "      <td>B+ (3.61)</td>\n",
       "      <td>3.61</td>\n",
       "      <td>23</td>\n",
       "      <td>CHEM</td>\n",
       "      <td>3.31</td>\n",
       "    </tr>\n",
       "    <tr>\n",
       "      <th>174</th>\n",
       "      <td>Jennings Patricia A.</td>\n",
       "      <td>CHEM 108 - Protein Biochemistry Lab (B)</td>\n",
       "      <td>SP23</td>\n",
       "      <td>42</td>\n",
       "      <td>17</td>\n",
       "      <td>58.8%</td>\n",
       "      <td>50.0%</td>\n",
       "      <td>6.38</td>\n",
       "      <td>B+ (3.65)</td>\n",
       "      <td>B+ (3.57)</td>\n",
       "      <td>3.57</td>\n",
       "      <td>23</td>\n",
       "      <td>CHEM</td>\n",
       "      <td>3.65</td>\n",
       "    </tr>\n",
       "  </tbody>\n",
       "</table>\n",
       "</div>"
      ],
      "text/plain": [
       "               Instructor                                         Course  \\\n",
       "169            Li Shaowei       CHEM 100A - Analytical Chemistry Lab (A)   \n",
       "170     Pomeroy Robert S.     CHEM 100B - Instrumental Chemistry Lab (A)   \n",
       "172        Sinha Amitabha  CHEM 105A - Physical Chemistry Laboratory (B)   \n",
       "173  Jennings Patricia A.        CHEM 108 - Protein Biochemistry Lab (A)   \n",
       "174  Jennings Patricia A.        CHEM 108 - Protein Biochemistry Lab (B)   \n",
       "\n",
       "    Quarter  Total Enrolled in Course  Total CAPEs Given  \\\n",
       "169    SP23                       102                 41   \n",
       "170    SP23                        30                 13   \n",
       "172    SP23                        37                 11   \n",
       "173    SP23                        48                 16   \n",
       "174    SP23                        42                 17   \n",
       "\n",
       "    Percentage Recommended Class Percentage Recommended Professor  \\\n",
       "169                        66.7%                            69.4%   \n",
       "170                        83.3%                            83.3%   \n",
       "172                        72.7%                            90.9%   \n",
       "173                        81.3%                            56.3%   \n",
       "174                        58.8%                            50.0%   \n",
       "\n",
       "     Study Hours per Week Average Grade Expected Average Grade Received  \\\n",
       "169                 10.56               B (3.24)              B+ (3.35)   \n",
       "170                  8.96               B (3.23)               B (3.04)   \n",
       "172                  9.41              B- (2.91)              B- (2.87)   \n",
       "173                  7.50              B+ (3.31)              B+ (3.61)   \n",
       "174                  6.38              B+ (3.65)              B+ (3.57)   \n",
       "\n",
       "     Avg Int Grade Received  Year Department  Avg Int Grade Expected  \n",
       "169                    3.35    23       CHEM                    3.24  \n",
       "170                    3.04    23       CHEM                    3.23  \n",
       "172                    2.87    23       CHEM                    2.91  \n",
       "173                    3.61    23       CHEM                    3.31  \n",
       "174                    3.57    23       CHEM                    3.65  "
      ]
     },
     "execution_count": 15,
     "metadata": {},
     "output_type": "execute_result"
    }
   ],
   "source": [
    "STEM_CAPE.head()"
   ]
  },
  {
   "cell_type": "code",
   "execution_count": 16,
   "metadata": {},
   "outputs": [
    {
     "data": {
      "text/html": [
       "<div>\n",
       "<style scoped>\n",
       "    .dataframe tbody tr th:only-of-type {\n",
       "        vertical-align: middle;\n",
       "    }\n",
       "\n",
       "    .dataframe tbody tr th {\n",
       "        vertical-align: top;\n",
       "    }\n",
       "\n",
       "    .dataframe thead th {\n",
       "        text-align: right;\n",
       "    }\n",
       "</style>\n",
       "<table border=\"1\" class=\"dataframe\">\n",
       "  <thead>\n",
       "    <tr style=\"text-align: right;\">\n",
       "      <th></th>\n",
       "      <th>Instructor</th>\n",
       "      <th>Course</th>\n",
       "      <th>Quarter</th>\n",
       "      <th>Total Enrolled in Course</th>\n",
       "      <th>Total CAPEs Given</th>\n",
       "      <th>Percentage Recommended Class</th>\n",
       "      <th>Percentage Recommended Professor</th>\n",
       "      <th>Study Hours per Week</th>\n",
       "      <th>Average Grade Expected</th>\n",
       "      <th>Average Grade Received</th>\n",
       "      <th>Avg Int Grade Received</th>\n",
       "      <th>Year</th>\n",
       "      <th>Department</th>\n",
       "      <th>Avg Int Grade Expected</th>\n",
       "    </tr>\n",
       "  </thead>\n",
       "  <tbody>\n",
       "    <tr>\n",
       "      <th>83</th>\n",
       "      <td>Patrick Gentry</td>\n",
       "      <td>BILD 1 - The Cell (A)</td>\n",
       "      <td>SP23</td>\n",
       "      <td>134</td>\n",
       "      <td>44</td>\n",
       "      <td>87.8%</td>\n",
       "      <td>78.0%</td>\n",
       "      <td>5.86</td>\n",
       "      <td>B (3.03)</td>\n",
       "      <td>B- (2.91)</td>\n",
       "      <td>2.91</td>\n",
       "      <td>23</td>\n",
       "      <td>BILD</td>\n",
       "      <td>3.03</td>\n",
       "    </tr>\n",
       "    <tr>\n",
       "      <th>84</th>\n",
       "      <td>Rusert Jessica Marie</td>\n",
       "      <td>BILD 1 - The Cell (D)</td>\n",
       "      <td>SP23</td>\n",
       "      <td>157</td>\n",
       "      <td>102</td>\n",
       "      <td>81.2%</td>\n",
       "      <td>86.0%</td>\n",
       "      <td>5.81</td>\n",
       "      <td>B- (2.93)</td>\n",
       "      <td>C+ (2.44)</td>\n",
       "      <td>2.44</td>\n",
       "      <td>23</td>\n",
       "      <td>BILD</td>\n",
       "      <td>2.93</td>\n",
       "    </tr>\n",
       "    <tr>\n",
       "      <th>85</th>\n",
       "      <td>Burg Michael</td>\n",
       "      <td>BILD 2 - Multicellular Life (A)</td>\n",
       "      <td>SP23</td>\n",
       "      <td>238</td>\n",
       "      <td>186</td>\n",
       "      <td>96.2%</td>\n",
       "      <td>95.2%</td>\n",
       "      <td>5.39</td>\n",
       "      <td>B (3.23)</td>\n",
       "      <td>B- (2.94)</td>\n",
       "      <td>2.94</td>\n",
       "      <td>23</td>\n",
       "      <td>BILD</td>\n",
       "      <td>3.23</td>\n",
       "    </tr>\n",
       "    <tr>\n",
       "      <th>86</th>\n",
       "      <td>Park Ji Young</td>\n",
       "      <td>BILD 2 - Multicellular Life (B)</td>\n",
       "      <td>SP23</td>\n",
       "      <td>205</td>\n",
       "      <td>165</td>\n",
       "      <td>96.3%</td>\n",
       "      <td>96.3%</td>\n",
       "      <td>6.10</td>\n",
       "      <td>B+ (3.42)</td>\n",
       "      <td>B (3.01)</td>\n",
       "      <td>3.01</td>\n",
       "      <td>23</td>\n",
       "      <td>BILD</td>\n",
       "      <td>3.42</td>\n",
       "    </tr>\n",
       "    <tr>\n",
       "      <th>87</th>\n",
       "      <td>Park Ji Young</td>\n",
       "      <td>BILD 2 - Multicellular Life (C)</td>\n",
       "      <td>SP23</td>\n",
       "      <td>245</td>\n",
       "      <td>197</td>\n",
       "      <td>93.9%</td>\n",
       "      <td>93.8%</td>\n",
       "      <td>5.72</td>\n",
       "      <td>B+ (3.43)</td>\n",
       "      <td>B- (2.92)</td>\n",
       "      <td>2.92</td>\n",
       "      <td>23</td>\n",
       "      <td>BILD</td>\n",
       "      <td>3.43</td>\n",
       "    </tr>\n",
       "  </tbody>\n",
       "</table>\n",
       "</div>"
      ],
      "text/plain": [
       "              Instructor                           Course Quarter  \\\n",
       "83        Patrick Gentry            BILD 1 - The Cell (A)    SP23   \n",
       "84  Rusert Jessica Marie            BILD 1 - The Cell (D)    SP23   \n",
       "85          Burg Michael  BILD 2 - Multicellular Life (A)    SP23   \n",
       "86         Park Ji Young  BILD 2 - Multicellular Life (B)    SP23   \n",
       "87         Park Ji Young  BILD 2 - Multicellular Life (C)    SP23   \n",
       "\n",
       "    Total Enrolled in Course  Total CAPEs Given Percentage Recommended Class  \\\n",
       "83                       134                 44                        87.8%   \n",
       "84                       157                102                        81.2%   \n",
       "85                       238                186                        96.2%   \n",
       "86                       205                165                        96.3%   \n",
       "87                       245                197                        93.9%   \n",
       "\n",
       "   Percentage Recommended Professor  Study Hours per Week  \\\n",
       "83                            78.0%                  5.86   \n",
       "84                            86.0%                  5.81   \n",
       "85                            95.2%                  5.39   \n",
       "86                            96.3%                  6.10   \n",
       "87                            93.8%                  5.72   \n",
       "\n",
       "   Average Grade Expected Average Grade Received  Avg Int Grade Received  \\\n",
       "83               B (3.03)              B- (2.91)                    2.91   \n",
       "84              B- (2.93)              C+ (2.44)                    2.44   \n",
       "85               B (3.23)              B- (2.94)                    2.94   \n",
       "86              B+ (3.42)               B (3.01)                    3.01   \n",
       "87              B+ (3.43)              B- (2.92)                    2.92   \n",
       "\n",
       "    Year Department  Avg Int Grade Expected  \n",
       "83    23       BILD                    3.03  \n",
       "84    23       BILD                    2.93  \n",
       "85    23       BILD                    3.23  \n",
       "86    23       BILD                    3.42  \n",
       "87    23       BILD                    3.43  "
      ]
     },
     "execution_count": 16,
     "metadata": {},
     "output_type": "execute_result"
    }
   ],
   "source": [
    "HUM_CAPE.head()"
   ]
  },
  {
   "cell_type": "code",
   "execution_count": 17,
   "metadata": {},
   "outputs": [],
   "source": [
    "import matplotlib.pyplot as plt"
   ]
  },
  {
   "cell_type": "code",
   "execution_count": 18,
   "metadata": {},
   "outputs": [
    {
     "data": {
      "text/plain": [
       "<matplotlib.legend.Legend at 0x7f4bbe259760>"
      ]
     },
     "execution_count": 18,
     "metadata": {},
     "output_type": "execute_result"
    },
    {
     "data": {
      "image/png": "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\n",
      "text/plain": [
       "<Figure size 432x288 with 1 Axes>"
      ]
     },
     "metadata": {
      "needs_background": "light"
     },
     "output_type": "display_data"
    }
   ],
   "source": [
    "STEM_RECEIVED = STEM_CAPE['Avg Int Grade Received']\n",
    "HUM_RECEIVED = HUM_CAPE['Avg Int Grade Received']\n",
    "plt.hist(STEM_RECEIVED, alpha = 0.4, label = \"STEM_RECEIVED\", density = True, bins = 30)\n",
    "plt.hist(HUM_RECEIVED, alpha = 0.4, label = \"HUM_RECEIVED\", density = True, bins = 30)\n",
    "plt.title(\"Histogram of Grades From STEM and HUM\")\n",
    "plt.xlabel(\"Grade\")\n",
    "plt.ylabel(\"Density\")\n",
    "plt.legend()"
   ]
  },
  {
   "cell_type": "markdown",
   "metadata": {},
   "source": [
    "Here, we can see that the overall grades given by HUM departments have a notable contrast with those of the STEM departments. Specifically, the distribution of grades and the peaks in each category. Within STEM departments, the peak grade range falls between 2.5 to 3, showing that there is a moderate level of performance across the STEM disciplines. On the other hand, the peak of HUM is slightly higher, ranging between 3 to 3.5; and implying that students in HUM receive grades that are slightly higher than those who are in STEM disciplines. This prompts further investigation into the factors contributing to the differences in grading practices between STEM and HUM departments, which may be a result of various reasons. Due to this, analysis into both STEM and HUM is required."
   ]
  },
  {
   "cell_type": "code",
   "execution_count": 19,
   "metadata": {},
   "outputs": [
    {
     "data": {
      "text/html": [
       "<div>\n",
       "<style scoped>\n",
       "    .dataframe tbody tr th:only-of-type {\n",
       "        vertical-align: middle;\n",
       "    }\n",
       "\n",
       "    .dataframe tbody tr th {\n",
       "        vertical-align: top;\n",
       "    }\n",
       "\n",
       "    .dataframe thead th {\n",
       "        text-align: right;\n",
       "    }\n",
       "</style>\n",
       "<table border=\"1\" class=\"dataframe\">\n",
       "  <thead>\n",
       "    <tr style=\"text-align: right;\">\n",
       "      <th></th>\n",
       "      <th>Year</th>\n",
       "      <th>Avg Int Grade Received</th>\n",
       "    </tr>\n",
       "  </thead>\n",
       "  <tbody>\n",
       "    <tr>\n",
       "      <th>0</th>\n",
       "      <td>7</td>\n",
       "      <td>2.871333</td>\n",
       "    </tr>\n",
       "    <tr>\n",
       "      <th>1</th>\n",
       "      <td>8</td>\n",
       "      <td>2.868373</td>\n",
       "    </tr>\n",
       "    <tr>\n",
       "      <th>2</th>\n",
       "      <td>9</td>\n",
       "      <td>2.897060</td>\n",
       "    </tr>\n",
       "    <tr>\n",
       "      <th>3</th>\n",
       "      <td>10</td>\n",
       "      <td>2.913467</td>\n",
       "    </tr>\n",
       "    <tr>\n",
       "      <th>4</th>\n",
       "      <td>11</td>\n",
       "      <td>2.976430</td>\n",
       "    </tr>\n",
       "    <tr>\n",
       "      <th>5</th>\n",
       "      <td>12</td>\n",
       "      <td>2.942203</td>\n",
       "    </tr>\n",
       "    <tr>\n",
       "      <th>6</th>\n",
       "      <td>13</td>\n",
       "      <td>2.945239</td>\n",
       "    </tr>\n",
       "    <tr>\n",
       "      <th>7</th>\n",
       "      <td>14</td>\n",
       "      <td>2.974543</td>\n",
       "    </tr>\n",
       "    <tr>\n",
       "      <th>8</th>\n",
       "      <td>15</td>\n",
       "      <td>3.010443</td>\n",
       "    </tr>\n",
       "    <tr>\n",
       "      <th>9</th>\n",
       "      <td>16</td>\n",
       "      <td>3.004250</td>\n",
       "    </tr>\n",
       "    <tr>\n",
       "      <th>10</th>\n",
       "      <td>17</td>\n",
       "      <td>3.006349</td>\n",
       "    </tr>\n",
       "    <tr>\n",
       "      <th>11</th>\n",
       "      <td>18</td>\n",
       "      <td>2.993106</td>\n",
       "    </tr>\n",
       "    <tr>\n",
       "      <th>12</th>\n",
       "      <td>19</td>\n",
       "      <td>2.998390</td>\n",
       "    </tr>\n",
       "    <tr>\n",
       "      <th>13</th>\n",
       "      <td>20</td>\n",
       "      <td>3.255258</td>\n",
       "    </tr>\n",
       "    <tr>\n",
       "      <th>14</th>\n",
       "      <td>21</td>\n",
       "      <td>3.179365</td>\n",
       "    </tr>\n",
       "    <tr>\n",
       "      <th>15</th>\n",
       "      <td>22</td>\n",
       "      <td>3.086200</td>\n",
       "    </tr>\n",
       "    <tr>\n",
       "      <th>16</th>\n",
       "      <td>23</td>\n",
       "      <td>3.033271</td>\n",
       "    </tr>\n",
       "  </tbody>\n",
       "</table>\n",
       "</div>"
      ],
      "text/plain": [
       "    Year  Avg Int Grade Received\n",
       "0      7                2.871333\n",
       "1      8                2.868373\n",
       "2      9                2.897060\n",
       "3     10                2.913467\n",
       "4     11                2.976430\n",
       "5     12                2.942203\n",
       "6     13                2.945239\n",
       "7     14                2.974543\n",
       "8     15                3.010443\n",
       "9     16                3.004250\n",
       "10    17                3.006349\n",
       "11    18                2.993106\n",
       "12    19                2.998390\n",
       "13    20                3.255258\n",
       "14    21                3.179365\n",
       "15    22                3.086200\n",
       "16    23                3.033271"
      ]
     },
     "execution_count": 19,
     "metadata": {},
     "output_type": "execute_result"
    }
   ],
   "source": [
    "#Check the mean score each year\n",
    "STEM_GRA = STEM_CAPE.groupby(['Year'])['Avg Int Grade Received'].mean().reset_index()\n",
    "STEM_GRA"
   ]
  },
  {
   "cell_type": "code",
   "execution_count": 20,
   "metadata": {},
   "outputs": [
    {
     "data": {
      "text/html": [
       "<div>\n",
       "<style scoped>\n",
       "    .dataframe tbody tr th:only-of-type {\n",
       "        vertical-align: middle;\n",
       "    }\n",
       "\n",
       "    .dataframe tbody tr th {\n",
       "        vertical-align: top;\n",
       "    }\n",
       "\n",
       "    .dataframe thead th {\n",
       "        text-align: right;\n",
       "    }\n",
       "</style>\n",
       "<table border=\"1\" class=\"dataframe\">\n",
       "  <thead>\n",
       "    <tr style=\"text-align: right;\">\n",
       "      <th></th>\n",
       "      <th>Year</th>\n",
       "      <th>Avg Int Grade Received</th>\n",
       "    </tr>\n",
       "  </thead>\n",
       "  <tbody>\n",
       "    <tr>\n",
       "      <th>0</th>\n",
       "      <td>7</td>\n",
       "      <td>3.075781</td>\n",
       "    </tr>\n",
       "    <tr>\n",
       "      <th>1</th>\n",
       "      <td>8</td>\n",
       "      <td>3.139346</td>\n",
       "    </tr>\n",
       "    <tr>\n",
       "      <th>2</th>\n",
       "      <td>9</td>\n",
       "      <td>3.144966</td>\n",
       "    </tr>\n",
       "    <tr>\n",
       "      <th>3</th>\n",
       "      <td>10</td>\n",
       "      <td>3.129429</td>\n",
       "    </tr>\n",
       "    <tr>\n",
       "      <th>4</th>\n",
       "      <td>11</td>\n",
       "      <td>3.134179</td>\n",
       "    </tr>\n",
       "    <tr>\n",
       "      <th>5</th>\n",
       "      <td>12</td>\n",
       "      <td>3.174704</td>\n",
       "    </tr>\n",
       "    <tr>\n",
       "      <th>6</th>\n",
       "      <td>13</td>\n",
       "      <td>3.195466</td>\n",
       "    </tr>\n",
       "    <tr>\n",
       "      <th>7</th>\n",
       "      <td>14</td>\n",
       "      <td>3.219019</td>\n",
       "    </tr>\n",
       "    <tr>\n",
       "      <th>8</th>\n",
       "      <td>15</td>\n",
       "      <td>3.237237</td>\n",
       "    </tr>\n",
       "    <tr>\n",
       "      <th>9</th>\n",
       "      <td>16</td>\n",
       "      <td>3.279582</td>\n",
       "    </tr>\n",
       "    <tr>\n",
       "      <th>10</th>\n",
       "      <td>17</td>\n",
       "      <td>3.278133</td>\n",
       "    </tr>\n",
       "    <tr>\n",
       "      <th>11</th>\n",
       "      <td>18</td>\n",
       "      <td>3.290559</td>\n",
       "    </tr>\n",
       "    <tr>\n",
       "      <th>12</th>\n",
       "      <td>19</td>\n",
       "      <td>3.237041</td>\n",
       "    </tr>\n",
       "    <tr>\n",
       "      <th>13</th>\n",
       "      <td>20</td>\n",
       "      <td>3.481212</td>\n",
       "    </tr>\n",
       "    <tr>\n",
       "      <th>14</th>\n",
       "      <td>21</td>\n",
       "      <td>3.430417</td>\n",
       "    </tr>\n",
       "    <tr>\n",
       "      <th>15</th>\n",
       "      <td>22</td>\n",
       "      <td>3.350079</td>\n",
       "    </tr>\n",
       "    <tr>\n",
       "      <th>16</th>\n",
       "      <td>23</td>\n",
       "      <td>3.334615</td>\n",
       "    </tr>\n",
       "  </tbody>\n",
       "</table>\n",
       "</div>"
      ],
      "text/plain": [
       "    Year  Avg Int Grade Received\n",
       "0      7                3.075781\n",
       "1      8                3.139346\n",
       "2      9                3.144966\n",
       "3     10                3.129429\n",
       "4     11                3.134179\n",
       "5     12                3.174704\n",
       "6     13                3.195466\n",
       "7     14                3.219019\n",
       "8     15                3.237237\n",
       "9     16                3.279582\n",
       "10    17                3.278133\n",
       "11    18                3.290559\n",
       "12    19                3.237041\n",
       "13    20                3.481212\n",
       "14    21                3.430417\n",
       "15    22                3.350079\n",
       "16    23                3.334615"
      ]
     },
     "execution_count": 20,
     "metadata": {},
     "output_type": "execute_result"
    }
   ],
   "source": [
    "HUM_GRA = HUM_CAPE.groupby(['Year'])['Avg Int Grade Received'].mean().reset_index()\n",
    "HUM_GRA"
   ]
  },
  {
   "cell_type": "code",
   "execution_count": 21,
   "metadata": {},
   "outputs": [
    {
     "data": {
      "text/plain": [
       "<AxesSubplot:xlabel='Year'>"
      ]
     },
     "execution_count": 21,
     "metadata": {},
     "output_type": "execute_result"
    },
    {
     "data": {
      "image/png": "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\n",
      "text/plain": [
       "<Figure size 1080x360 with 1 Axes>"
      ]
     },
     "metadata": {
      "needs_background": "light"
     },
     "output_type": "display_data"
    }
   ],
   "source": [
    "STEM_CAPE.groupby(['Year'])['Avg Int Grade Received'].mean().plot(figsize = (15, 5))\n",
    "HUM_CAPE.groupby(['Year'])['Avg Int Grade Received'].mean().plot(figsize = (15, 5))"
   ]
  },
  {
   "cell_type": "markdown",
   "metadata": {},
   "source": [
    "Both STEM and HUM have maintained a relatively steady increase in average grades with the exception of the period of 2019 - 2020, followed by a large dip. STEM encountered a brief spike in 2011, before reaching a peak average of 3.255 in 2020 - marking an overall change of 2.87 in 2007, to 3.033 in 2022. HUM is similar in this regard, however it experienced a significant dip in 2019, followed by a similar peak in 2020 of 3.48. - marking an average change of 3.075 in 2007 to 3.335 in 2023. In order to delve deeper into these trends, we can examine the box plots which serves to identify outliers, variations, and patterns that may help to shed light on these numbers. "
   ]
  },
  {
   "cell_type": "code",
   "execution_count": 22,
   "metadata": {
    "scrolled": true
   },
   "outputs": [
    {
     "data": {
      "image/png": "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\n",
      "text/plain": [
       "<Figure size 1440x720 with 1 Axes>"
      ]
     },
     "metadata": {
      "needs_background": "light"
     },
     "output_type": "display_data"
    }
   ],
   "source": [
    "STEM_YEAR = STEM_CAPE[['Avg Int Grade Received','Year']]\n",
    "STEM_TREND = STEM_YEAR.boxplot(by='Year', meanline=True, showmeans=True, showcaps=True, \n",
    "                showbox=True, showfliers=True, return_type='axes', figsize = (20, 10))"
   ]
  },
  {
   "cell_type": "code",
   "execution_count": 23,
   "metadata": {},
   "outputs": [
    {
     "data": {
      "image/png": "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\n",
      "text/plain": [
       "<Figure size 1440x720 with 1 Axes>"
      ]
     },
     "metadata": {
      "needs_background": "light"
     },
     "output_type": "display_data"
    }
   ],
   "source": [
    "HUM_YEAR = HUM_CAPE[['Avg Int Grade Received','Year']]\n",
    "HUM_TREND = HUM_YEAR.boxplot(by='Year', meanline=True, showmeans=True, showcaps=True, \n",
    "                showbox=True, showfliers=True, return_type='axes', figsize = (20, 10))"
   ]
  },
  {
   "cell_type": "markdown",
   "metadata": {},
   "source": [
    "Upon examination, it's clear that HUM holds a greater mean average of grades as well as having a broader distribution of grades in comparison to STEM. It can be surmised then, that within HUM departments, there is a lean towards more generous grading practices which could be a reflection of standards or teaching approaches. To investigate further, we can look at grade inflation trends over time - or the consistent increase in average grades over successive years, which may suggest the relaxing of standards or a shift in evaluation criteria."
   ]
  },
  {
   "cell_type": "code",
   "execution_count": 24,
   "metadata": {},
   "outputs": [],
   "source": [
    "GPA_List_S = STEM_GRA['Avg Int Grade Received'].tolist()\n",
    "GPA_Inflation_S = []\n",
    "GPA_Inflation_S.append(0)\n",
    "base = GPA_List_S[0]\n",
    "for i in range(1,len(GPA_List_S)):\n",
    "    Rate  = ((GPA_List_S[i] - base)/base)*100\n",
    "    GPA_Inflation_S.append(Rate)\n",
    "    base = GPA_List_S[i]\n",
    "\n",
    "STEM_GRA['Inflation'] = GPA_Inflation_S"
   ]
  },
  {
   "cell_type": "code",
   "execution_count": 25,
   "metadata": {},
   "outputs": [],
   "source": [
    "GPA_List_H = HUM_GRA['Avg Int Grade Received'].tolist()\n",
    "GPA_Inflation_H = []\n",
    "GPA_Inflation_H.append(0)\n",
    "base = GPA_List_H[0]\n",
    "for i in range(1,len(GPA_List_H)):\n",
    "    Rate  = ((GPA_List_H[i] - base)/base)*100\n",
    "    GPA_Inflation_H.append(Rate)\n",
    "    base = GPA_List_H[i]\n",
    "\n",
    "HUM_GRA['Inflation'] = GPA_Inflation_H"
   ]
  },
  {
   "cell_type": "code",
   "execution_count": 26,
   "metadata": {},
   "outputs": [
    {
     "data": {
      "text/plain": [
       "<matplotlib.legend.Legend at 0x7f4bbdbd60a0>"
      ]
     },
     "execution_count": 26,
     "metadata": {},
     "output_type": "execute_result"
    },
    {
     "data": {
      "image/png": "iVBORw0KGgoAAAANSUhEUgAAA3cAAAFNCAYAAACjTZb0AAAAOXRFWHRTb2Z0d2FyZQBNYXRwbG90bGliIHZlcnNpb24zLjQuMiwgaHR0cHM6Ly9tYXRwbG90bGliLm9yZy8rg+JYAAAACXBIWXMAAAsTAAALEwEAmpwYAACAV0lEQVR4nO3dd1icVdrH8e+hJ0AgCaRBIL2TbroaW+y9t9V1y6uu7uq67uqua9li37WsW1zXsvbeVo3GbgKJpvcCiSGBVDqhw5z3jzMkhAAhCTDM8Ptc11zAPM/Mc88zk8zcc+5zH2OtRURERERERPxbkK8DEBERERERkSOn5E5ERERERCQAKLkTEREREREJAEruREREREREAoCSOxERERERkQCg5E5ERERERCQAKLkTEanHGPOVMebHh3nbJGPMHmNMcEvHdYhxXGeM2emNpbsxxhpjBh3mfV1ujJnT0jG2FWPMLGPMu76Ooy0dyfPdnnhfvwN8HUdrMMb83Bhzv6/jEJHAouRORAKSMWazMabM++FwhzHmOWNMVCsd58Tav621W6y1UdbamhY+ztXGmHnN3DcU+CswyxtL7iEcp583MQipvc5a+5K1dtahR93yDjPxvhfQh2ivI/nyoq15X7+bfB1HK/k3cIUxpoevAxGRwKHkTkQC2ZnW2ihgLDAOuN234bSZnkAEsNrXgRyKugllC97nUUCMtXZBS993W2mN89JW/Dn21mSMCbHWlgOzgR/4Oh4RCRxK7kQk4FlrdwCf4JI8AIwxU4wxacaYAmPMcmPMzIZua4wZaIz5whiTa4zJMca8ZIyJ9W57AUgC/ucdIfx13ZEvY8wlxphF9e7vZmPM+97fw40xDxtjtnhLKP9ljOnUnMfkHTH8lTFmhTGm0BjzmjEmwhgzBFjv3a3AGPNFA7c93Riz1BhTZIzZaoy5u87mb+rcdo8xZmr9UUNjzDRjzELvcRcaY6bV2faVMeaPxphUY0yxMWaOMSaukccw0xiTZYz5jTFmB/CsMaarMeYDY8xuY0y+9/dE7/5/Bo4GnvDG9oT3+mHGmE+NMXnGmPXGmIvqHOZU4Ot6xx1ZZ/+dxpjf1nk+HjXGbPNeHjXGhNeL9dfGmF3GmO3GmHOMMacZYzZ47+u3dY5xtzHmTe/zUmyMWWKMGVNn+23GmI3ebWuMMefW2Xa19/w9YozJA+4+2GvFGHOrN6ZtxphrGjrfBzmHjT6nDdzHZmPM7d64840xzxpjIpp4ToPqPN5cY8zrxphu3v0/NsbcUO/+lxtjzvP+vre81BgTY4x53vvayDTG3GGMCapzvl+scx/7jUB7z+km7/n+3hhzeQOPq5cxptQY073OdRO8xwv1/n2NMWat93F/YoxJrrPvY8b9eyoyxiw2xhxdZ1vt6+FFY0wRcLV301fA6Y2daxGRQ6XkTkQCnjc5OBXI8P6dAHwI/AnoBvwKeMsYE9/QzYH7gD7AcKAvcDeAtfZKYAveEUJr7YP1bvs+MNQYM7jOdZcBL3t/fwAYgks6BwEJwJ2H8NAuAk4B+gOjgauttRuAkd7tsdba4xu4XQlutCAW98HyOmPMOd5tx9S5bZS1dn7dG3o/lH8IPA50x5V/flj3A7H3Mf4Q6AGE4c5vY3rhnoNk4Ke496VnvX8nAWXAEwDW2t8Bc4EbvLHdYIyJBD7FndMewKXAP4wxtecghX3JLsaYaOAz4GPcczoI+Ny7+XfAFNzzMQaYBNxRL9YI9j1PTwFXABNwCdOdZv/5YWcDb3gf38vAu7VJArDRe5sY4B7gRWNM7zq3nQxs8j6mP9PEa8UYcwruHJ8EDAZOpBGNnMPmPKf1XQ6cDAz0xlX/PNV9Tn8OnAMcizvn+cDfvfu+jHvO8D6WEd7bfdjAMf+GO18DvPf1A9zrrEne18jjwKnW2mhgGrCs/n7eL4G+wv27qnUF8Kq1tsr7b+S3wHlAPO48vlJn34W456f2+X6jNun1Oht4E/fv7iXvdWtxrzURkZZhrdVFF110CbgLsBnYAxQDFvcBPta77TfAC/X2/wS4yvv7V8CPG7nfc4Cl9Y5zYp2/+3mPF+L9+0XgTu/vg73xdMYljSXAwDq3nQp838hxrwbm1TvuFXX+fhD4V0MxeK+zwKBG7vtR4JEmbrv32MCVwHf1bj8fl1jWnrs76my7Hvi4kePOBCqBiCaex7FAfp2/93tugIuBufVu8yRwl/f3T4Fr62y7tO7zV+92G4HT6vx9MrC5TqxlQLD372jveZpcZ//FwDne3+8GFtTZFgRsB45u5NjLgLPrnO8tdbY1+VoBngHur7NtyEGe7/rnsMnntJF/W3XP6WnAxsaeU1wCc0Kdv3sDVUCI9zyWAMnebX8Gnqn/ugWCgQpgRJ1t/wd8Ved8v9jQv0MgEigAzgc6NfZaq/N6SvX+HgzsACZ5/54N/Kjec1paG3sD95UPjKkT3zcN7DMYqGkqJl100UWXQ7lo5E5EAtk51n1TPxMYBtSWByYDFxpXkllgjCkAZuA+dO7HGNPDGPOqMSbbW071Yp37aY66IxOXAe9aa0tx3/x3BhbXieFj7/XNtaPO76VAsxrGGGMmG2O+9JabFQLX0vzH1AfIrHddJm4k6XDi2m3d3KPa2DobY570lt0V4cpEY03j3UeTgcn1nsvLcaNH4D5gR9fZvy8uiWtI/ceW6b2uVq7d1yinzPtzZ53tZez/WLfW/mKt9QBZtfdnjPmBMWZZnZhHsf9zsLXO7wd7rfSpt3/95+dgmvOc1lf/eHXP037PKe45eqdO7GuBGqCntbYYN0p3iXffS9g3qlVXHG4UuP7z01SMAFhrS3BJ27XAdmPMh8aYYY3s/h4wwjsCexJQaK39rs7jeKzO48jDJd4JAMaYW7wlm4Xe7TE0/pzWigYKD/YYRESaS8mdiAQ8a+3XwHPAw96rtuJG7mLrXCKttQ11VLwPNwIw2lrbBVemZere/UEOPweIM8aMxSV5tSWZObhkYGSdGGKsawDT2l7GlYz2tdbGAP9i32M62OPZhvuQW1cSkH2YsdQ/3i3AUNyIWBf2lYk2Ft9W4Ot6z2WUtfY67/YVuJGsuvsPbCSW+o8tyXvd4epb+4t3blgisM07T+sp4Aagu7U2FlhF46+rg71Wttc9ljfuptQ/h4fznNY/Xt3z1NBzdGq95yjCWlt7/68AlxpjpgKdgC8bOF4ObrSv/vNTex8luAS4Vq86v2Ot/cRaexLuC5x1uPN/AG9S+jruC4IrgRfqPY7/q/c4Ollr07zz636DK+ns6n1OCzn4/xXDgeUNxSIicjiU3IlIR/EocJI3yXoRONMYc7IxJti4RiQzvXPz6ovGlXcWeOfq3Vpv+07cHKAGWWurcfNsHsLNxfnUe70H9wHzEeNthW6MSTDGnHwEj7G5ooE8a225MWYSbkSx1m7AQ+OP6SNgiDHmMuOaxlwMjAA+aMHYynDnuxtwV73t9c/3B954rjTGhHovRxljhteJ99h6+/cyxtxkXJOSaGPMZO+2V4A7jDHxxjWBuRP3WjlcE4wx53mbetyEKytcgCsTtLhzjTHmh7iRuwY147XyOnC1MWaEMaYzB56z+uqfw8N5Tn9mjEn0Pke/BV5rYt9/AX+ubT7iPb9n1zt+MvAH4DXv492Pd8T0de/9RHvv65fse36WAccYt85kDHU64xpjehpjzvLOvavA/XtuaqmS53GlsWex//P/L+D22vmcxjV4udC7LRqoxj2nIcaYO4EuTRyj1rG4ck8RkRah5E5EOgRr7W7ch7bfW2u34pob/Bb3YWwrLmlr6P/Ee4DxuG/hPwTerrf9PlxCUGCMaaxxyMu4JhdveJO9Wr/BNXlZ4C1B/Aw3atXargf+YIwpxiUwr9du8JaM/hlI9T6mKXVvaN2aeWfgRthygV8DZ1hrc1ootkdxozc5uETo43rbHwMuMK5b4ePesr5ZuHK+bbiS0AeAcG+8S4DC2gTOu/9JwJnefdOB47z3/SdgEW60byWwxHvd4XoPVw6YjxsFOs9aW2WtXQP8BTevbSeu6UvqQe6r0deKtXY27rx94d3ngA6p9dQ/h4fznL6MG5Xe5L00dZ4ew40Uz/G+5hbgGsbgjb8C9+/qRPaNbDfkRtwI3SZgnnffZ7z38SkuwVyBm/tYNzEN8j62bbhSymNx/wYaZK1NxX3BscRau7nO9e/gXluvep+DVbhGTeDm7M4GNuDKRctpuAxzL2+zldOA/za1n4jIoTDWHqwCR0RExH8ZY2YB11trz2nDY96Na2hyRVsds60YYzbjGrJ85utYWotxS4i8bK39Tyse40ZcafSvW+sYItLxaHFREREJaNbaObhRJpGDMm7h+/G40f1WY639W2vev4h0TCrLFBEREQGMMf/Flbze5C3hFRHxKyrLFBERERERCQAauRMREREREQkASu5EREREREQCgF81VImLi7P9+vXzdRgiIiIiIiI+sXjx4hxrbXxD2/wquevXrx+LFi3ydRgiIiIiIiI+YYzJbGybyjJFREREREQCgJI7ERERERGRAKDkTkREREREJAD41Zw7ERERERE5MlVVVWRlZVFeXu7rUKQJERERJCYmEhoa2uzbKLkTEREREelAsrKyiI6Opl+/fhhjfB2ONMBaS25uLllZWfTv37/Zt1NZpoiIiIhIB1JeXk737t2V2LVjxhi6d+9+yKOrSu5ERERERDoYJXbt3+E8R0ruRERERESkTf35z39m5MiRjB49mrFjx/Ltt99y7rnnMnbsWAYNGkRMTAxjx45l7NixpKWlMXPmTIYOHbr3ugsuuACAu+++G2MMGRkZe+/7kUcewRjT4PrYM2fOPOi62bt372by5MmMGzeOuXPn0q9fP3Jycpq8zb333rvf39OmTWvuqWhRmnMnIiIiIiJtZv78+XzwwQcsWbKE8PBwcnJyqKys5J133gHgq6++4uGHH+aDDz7Y73YvvfQSEydOPOD+UlJSePXVV7njjjsAePPNNxkxYsRhx/f5558zbNgw/vvf/zb7Nvfeey+//e1v9/6dlpZ22Mc/Ehq5ExEREZGAlF9SyeLMPF+HIfVs376duLg4wsPDAYiLi6NPnz6HfX/nnHMO7733HgCbNm0iJiaG+Pj4g94uKiqK3/3ud4wZM4YpU6awc+dOli1bxq9//Ws++ugjxo4dS1lZ2QHHmjBhAiNHjuTf//43ALfddhtlZWWMHTuWyy+/fO99g2uMcuuttzJq1ChSUlJ47bXXAJfAzpw5kwsuuIBhw4Zx+eWXY6097HNQS8mdiIiIiASkRz/bwCX/XkBpZbWvQ5E6Zs2axdatWxkyZAjXX389X3/9dbNud/nll+8ty7z11lv3Xt+lSxf69u3LqlWreOWVV7j44oubdX8lJSVMmTKF5cuXc8wxx/DUU08xduxY/vCHP3DxxRezbNkyOnXqtN9tnnnmGRYvXsyiRYt4/PHHyc3N5f7776dTp04sW7aMl156ab/93377bZYtW8by5cv57LPPuPXWW9m+fTsAS5cu5dFHH2XNmjVs2rSJ1NTUZsXdFJVlioiIiEhAmpueQ1WNZc22Iib26+brcNqle/63mjXbilr0Pkf06cJdZ45sdHtUVBSLFy9m7ty5fPnll1x88cXcf//9XH311U3eb2NlmQCXXHIJr776Kp988gmff/45zz777EHjDAsL44wzzgBgwoQJfPrppwe9zeOPP763fHTr1q2kp6fTvXv3RvefN28el156KcHBwfTs2ZNjjz2WhQsX0qVLFyZNmkRiYiIAY8eOZfPmzcyYMeOgMTRFI3ciIiIiEnC2FZSxKacEgBVZhT6ORuoLDg5m5syZ3HPPPTzxxBO89dZbR3R/Z555Ji+88AJJSUl06dKlWbcJDQ3d25EyODiY6uqmR3i/+uorPvvsM+bPn8/y5csZN27cQZcqaKrUsrYstbnHbw6N3ImIiIhIwEnNcN0Nw4KDWJmt5K4xTY2wtZb169cTFBTE4MGDAVi2bBnJyclHdJ+dOnXigQceYMiQIS0RYoMKCwvp2rUrnTt3Zt26dSxYsGDvttDQUKqqqggNDd3vNscccwxPPvkkV111FXl5eXzzzTc89NBDrFu3rlViVHInIiIiIgEnbWMu3SPDGNs3lhVZBb4OR+rYs2cPN954IwUFBYSEhDBo0KC9zUmacvnll++dAxcXF8dnn3223/ZLLrmkVeKtdcopp/Cvf/2L0aNHM3ToUKZMmbJ3209/+lNGjx7N+PHj95t3d+655zJ//nzGjBmDMYYHH3yQXr16tVpyZ1qiK0tbmThxoj3YuhQiIiIi0rFZa5l07+dMGdCdwT2ieOSzDay4axbREaEHv3EHsHbtWoYPH+7rMKQZGnqujDGLrbUNTj7UnDsRERERCSjpu/awu7iC6QO7k5IYg7WwuoWbhoi0R0ruRERERCSg1M63mz4ojpSEGABWqqmKdACacyciIiIiASU1I4ekbp3p260zAAmxnVihpirSAfh05M4Yc7MxZrUxZpUx5hVjTIQv4xERERER/1Zd42HBpjymD4rbe11KQgwr1VRFOgCfJXfGmATg58BEa+0oIBho3RY3IiIiIhLQlmcVsqeimumD9i0snZIYw+bcUgpLq3wYmUjr8/WcuxCgkzEmBOgMbPNxPCIiIiLix9K88+2mDdw3cjc60c27W7VNpZkS2HyW3Flrs4GHgS3AdqDQWjvHV/GIiIiIiP+bl5HDiN5d6BYZtve6vU1VNO+u3YiKitrv7+eee44bbrgBgKuvvpo333yzwf03b96MMYbf//73e7fl5OQQGhq69/aN3W9Tbr31VkaOHMmtt97K3XffzcMPP9zk/u+++y5r1qzZ+/edd955wLp7vuDLssyuwNlAf6APEGmMuaKB/X5qjFlkjFm0e/futg5TRERERPxEaWU1S7cUMGNw3H7Xx3YOI6lbZ3XMDBADBgzggw8+2Pv3G2+8wciRI4/oPp988kmWLFnCQw891Kz96yd3f/jDHzjxxBOPKIaW4MuyzBOB7621u621VcDbwLT6O1lr/22tnWitnRgfH9/mQYqIiIiIf1i4OZ/KGg/TBnY/YFtKYgwrsgvaPihpcZ06dWL48OEsWrQIgNdee42LLrrooLe7+uqr+fnPf860adMYMGDA3tHBs846i5KSEiZPnsxrr722322eeuopjjrqKMaMGcP5559PaWkpaWlpvP/++9x6662MHTuWjRs37jfa+PnnnzNu3DhSUlK45pprqKioAKBfv37cddddjB8/npSUFNatW9eSpwXwbXK3BZhijOlsjDHACcBaH8YjIiIiIn4sLSOH0GDDpP7dDtg2OiGGrXll5JdU+iAyqa+srIyxY8fuvdx5552HdPtLLrmEV199laysLIKDg+nTp0+zbrd9+3bmzZvHBx98wG233QbA+++/T6dOnVi2bBkXX3zxfvufd955LFy4kOXLlzN8+HCefvpppk2bxllnncVDDz3EsmXLGDhw4N79y8vLufrqq3nttddYuXIl1dXV/POf/9y7PS4ujiVLlnDdddcdtPTzcPhsnTtr7bfGmDeBJUA1sBT4t6/iERERERH/Ni8jh3FJXekcduBH3JTEffPujhmiarC9Zt8GO1a27H32SoFT729yl9pkqtZzzz23dyTOjfvsr/51p5xyCr///e/p2bPnAQlZU8455xyCgoIYMWIEO3fuPOj+q1at4o477qCgoIA9e/Zw8sknN7n/+vXr6d+/P0OGDAHgqquu4u9//zs33XQT4JJFgAkTJvD22283O+7m8mm3TGvtXdbaYdbaUdbaK621Fb6MR0RERET8U15JJWu2FzFjUFyD20epqYrf6N69O/n5+Xv/zsvLIy5u/+c1LCyMCRMm8Je//IXzzz+/2fcdHh6+93dr7UH3v/rqq3niiSdYuXIld911F+Xl5U3uf7D7rD1+cHAw1dXVzYj40Phs5E5EREREpKXM35iLtey3vl1dXSJCGRAXyQotZr6/g4yw+cLMmTN59NFHueqqqwgLC+O5557juOOOO2C/W265hWOPPZbu3Rt+zltCcXExvXv3pqqqipdeeomEhAQAoqOjKS4uPmD/YcOGsXnzZjIyMhg0aBAvvPACxx57bKvFV5+SOxERERHxe6kbc4gKD2F0Ymyj+6QkxrDw+7y2C0oOyxlnnMHixYuZMGECwcHBDBw4kH/9618H7Ddy5Mgj7pJ5MH/84x+ZPHkyycnJpKSk7E3oLrnkEn7yk5/w+OOP77dsQ0REBM8++ywXXngh1dXVHHXUUVx77bWtGmNdpjnDke3FxIkTbW0troiIiIhIrWMf+pLBPaL4z1VHNbrPf+Zu4k8frmXh704kPjq80f0C3dq1axk+fLivw5BmaOi5MsYsttZObGh/n865ExERERE5UlvzSsnMLWXawHrz7UrzYOt3e/+sHdVbpXl3EqCU3ImIiIiIX0vbmANwwOLlfP0APHsalBcBMLJPF4yBFVrMXAKUkjsRERER8WupGbnER4czuEfU/hs2zwNPFWz9FoDI8BAGxUexUouZS4BSciciIiIifstaS9rGHKYP7L7/Wmhl+bBztft987y9V6ckxmjkjuYtAyC+dTjPkZI7EREREfFb63cWk7Onkmn117fb8i1gISwKMlP3Xj06IYZdxRXsLGp6vbJAFhERQW5urhK8dsxaS25uLhEREYd0Oy2FICIiIiJ+a166m283vX5yl5kKQaEw/ir47kmoLIGwSFK8TVVWZBVy0ohD++AcKBITE8nKymL37t2+DkWaEBERQWJi4iHdRsmdiIiIiPittI259I+LJCG20/4bMtMgYQIMOh4W/N3Nuxt4PCN6dyE4yLAyq4CTRvT0TdA+FhoaSv/+/X0dhrQClWWKiIiIiF+qqvHw7aZcpg/qvv+Gij2wfRkkT4O+k8EEw2ZXmtkpLJjBPaJYoeUQJAApuRMRERERv7R8awEllTVMr7++XdZC8FRD8nQIj4Y+Y/efd5cYw8qsQs05k4Cj5E5ERERE/NK8jByMgakD643cbZkPJgj6TnJ/J0+H7MVQVQZASmIsuSWVbCvsuE1VJDApuRMRERERv5SWkcuoPjHEdg7bf0NmGvRKgYgu7u9+M6CmErIWAa5jJsDKrII2jFak9Sm5ExERERG/U1JRzZIt+Qd2yayucGWZydP3XZc0xY3keUszh/WOJjTYaL07CThK7kRERETE73y3OY9qjz2wmcq2pVBd7pqp1IqIcSN53sXMw0OCGdormpVqqiIBRsmdiIiIiPid1PQcwkKCOKpft/03ZKa5n0lT978+eYYb0auuACAlIZYVaqoiAUbJnYiIiIj4ndSNuUxI6kpEaPD+GzLTIH4YRNYr1+w33Y3oZS8BXMfMwrIqtuaVtVHEIq1PyZ2IiIiI+JWcPRWs3V7EjMH1EjhPDWxZcOCoHey7LtOVZqZ4m6qsyC5oxUhF2paSOxERERHxK/M35gIwrf4SCDtWQmXx/s1UanXuBj1G7l3MfEjPaMJCglippioSQJTciYiIiIhfSc3IIToiZO/o21618+2SGxi5A1eaufU7qKkiLCSI4b27qGOmBBQldyIiIiLiV1I35jBlQHdCgut9lN2SBrHJEJPY8A2Tp0NVCWxbBrj17lZlF+LxqKmKBAYldyIiIiLiN7bklrI1r4wZ9de3s9aN3NVdAqG+2nLNOvPuiiuq2Zxb0krRirQtJXciIiIi4jfmZeQAHLi+Xc4GKM1tOrmLioe4oXvn3aUkurJOrXcngULJnYiIiIj4jdSNOfTsEs7A+Kj9N2S6hK3BZip19ZvuOmrWVDO4RxThIUGadycBQ8mdiIiIiPgFj8eSlpHD9IFxGGP235g5H6J6QrcBTd9J8nTXUXPHCkKCgxjZp4s6ZkrAUHInIiIiIn5h7Y4i8kurmN7gfLtUV5JZP+mrr98M99M70jc6MZZV2wqpUVMVCQBK7kRERETEL6TunW9XL7kr2AJF2ZDUxHy7WtG9oNvAvcsmpCTEUFpZw6bde1o6XJE2p+RORERERPxCakYuA+Mj6RUTsf+GvevbNSO5AzfvLjMNPB5Ge5uqaN6dBAIldyIiIiLS7lVWe/ju+7wDl0AAV2IZEQM9RjTvzpJnQHkB7FrNgPgoOocFq2OmBAQldyIiIiLS7i3dkk9ZVQ3TGkrutsx3JZlBzfxo28/bUXNzKsFBhlF9YliRVdBisYr4ipI7EREREWn3UjNyCDIwZUC99e2Kd0JuBiRPbf6dxSRCbPK+xcwTY1i9rYjqGk8LRizS9pTciYiIiEi7l7oxl5TEWGI6he6/YUvtfLuDrG9XX7J33p21jE6MoaLaQ/ouNVUR/6bkTkRERETateLyKpZtLWDGoO4HbsxMg9DO0HvMod1pv+lQmgu715GS4JqqaL078Xc+Te6MMbHGmDeNMeuMMWuNMYcwni4iIiIiHcF33+dR47FMH9hQM5X50HcSBIceuK0ptSN9m+fRr3sk0eEhrMguOOJYRXzJ1yN3jwEfW2uHAWOAtT6OR0RERETamXkZOYSHBDE+uev+G8ryYeeqQy/JBOjaD7okQGYqQUGGUQkxGrkTv+ez5M4Y0wU4BngawFpbaa0t8FU8IiIiItI+pWXkclS/bkSEBu+/Ycu3gIWkwyj+MsYlhZtT9867W7u9mMpqNVUR/+XLkbsBwG7gWWPMUmPMf4wxkT6MR0RERETamV3F5azfWcz0xta3CwqFxImHd+f9pkPJLsjNICUxhsoaDxt2Fh9ZwCI+5MvkLgQYD/zTWjsOKAFuq7+TMeanxphFxphFu3fvbusYRURERMSH5m/MBWB6Y81UEiZAaKfDu/PkGe7n5nmMTogFYIVKM8WP+TK5ywKyrLXfev9+E5fs7cda+29r7URr7cT4+Pg2DVBEREREfGteeg4xnUIZ2Sdm/w2VJbB9GSRPO/w77z4QonpCZip9u3UiplMoK9VURfyYz5I7a+0OYKsxZqj3qhOANb6KR0RERETaF2stqRk5TB3QneAgs//GrIXgqT6y5K7OvDsDjE6M0cid+DVfd8u8EXjJGLMCGAvc69twRERERKS92JxbyrbCcqYPbmi+XRqYILcMwpHoNx2Kt0H+ZlISYli/o5jyqpoju08RHwnx5cGttcuAw5wBKyIiIiKBLDUjB4DpAxuZb9crBSJiDtx2KGrn3WWmMjrxBKo9lnU7ihnbN/bI7lfEB3w9ciciIiIi0qDUjBz6xETQP65eQ/XqSleWeTjr29UXPxQ6x8HmVFISYwFYma3STPFPSu5EREREpN2p8Vjmb8pl2qA4jKk3327bUqguP7L5drWMcfeTOY8+MRF0jwxjZVbBkd+viA8ouRMRERGRdmfNtiIKSquY0dj6dnB4i5c3JHk6FGzBFGaRoqYq4seU3ImIiIhIu5O60c23m9bYfLu4oRDZQOJ3OPp5yzszUxmdEEP6rj2UVaqpivgfJXciIiIi0u6kZuQwpGcUPbpE7L/BUwNbv22ZksxaPUZCRCxsnkdKYiw1Hsua7UUtd/8ibUTJnYiIiIi0K+VVNSzcnMe0gQ2MzO1cBRVFLdNMpVZQkHfeXSqjE133Tc27E3+k5E5ERERE2pUlW/Ipr/I0Mt8uzf1MbqH5drWSp0PeJnqST4/ocFaoY6b4ISV3IiIiItKupGXkEhxkmDyg24EbM1MhNgliElv2oHXn3SXGsFJNVcQPKbkTERERkXZlXkYOYxJjiI4I3X+DtZA5v2VLMmv1Gg3hXdy8u4RYMnbvoaSiuuWPI9KKlNyJiIiISLtRVF7FiqwCpjdUkpmTDqU5LdtMpVZQMCRN2TtyZy2s3qamKuJflNyJiIiISLuxYGMuHkvDyV3t+natMXJXe785G0iJrQBghZqqiJ9RciciIiIi7UbaxlwiQoMYlxR74MbMNIjsAd0GtM7B+80AIC53EX1iIlippiriZ5TciYiIiEi7MS8jh0n9uxMeErz/BmvdyF3yNDCmdQ7eewyERkJmGilqqiJ+SMmdiIiIiLQLO4vKydi1hxmDuh+4sWALFGW3XkkmQHAoJE2GzamMToxlU04JReVVrXc8kRam5E5ERERE2oXUjByAhhcv3zLf/WyNZip1JU+HXasZF+cBYJVKM8WPKLkTERERkXZhXkYOXTuHMqJ3lwM3ZqZCRAz0GNG6QXhHBkfXrAFQaab4FSV3IiIiIuJz1lrSMnKZNjCOoKAG5tRlpkHSVAhq5Y+vCeMhJIKoHd/St1snVmjkTvyIkjsRERER8bmNu0vYUVTe8BIIxTshN6P1SzIBQsIh8SjYPI/RCbEauRO/ouRORERERHwubaObbze9oWYqe+fbtWIzlbr6zYAdK5nQM4gteaUUlFa2zXFFjpCSOxERERHxuXnpOSR27URSt84HbsxMg9DObqmCtpA8HbBMDdkAoPXuxG8ouRMRERERn6rxWOZvymX6wDhMQ2vYZaa5Usng0LYJKHEiBIcxoHQZACtUmil+QsmdiIiIiPjUyuxCisurmT64gfl2Zfmwc1XblWQChHaChImEZ82nf1yk5t2J31ByJyIiIiI+tW99u4bm230L2LZpplJXv+mwfTkTeoeqLFP8hpI7EREREfGp1IwchvWKJi4q/MCNW9IgKNSVSral5Olgazih8yayC8rI2VPRtscXOQxK7kRERETEZ8qraliUmd/wEgjg5tslTHClkm2p7yQICmF0zSpATVXEPyi5ExERERGfWbQ5n8pqDzMaSu4qS2DbUkie2vaBhUVCn/H0yl+MMWjenfgFJXciIiIi4jOpG3MICTJM6t/twI1ZC8FT3bbNVOrqN53g7UsZ3j1EHTPFLyi5ExERERGfSc3IYVxSLJHhIQduzJwPJsiVSPpC8gzwVHNGtyxWZhf4JgaRQ6DkTkRERER8orC0ipXZhUwb2Nh8u1TolQIRMW0bWK2kyWCCmBq8jp1FFewsKvdNHCLNpORORERERHxi/qYcrIUZDa1vV13pyjJ9VZIJEB4NvccwyLuYuebdSXun5E5EREREfCI1I5fOYcGMSYw9cOO2pVBdDkk+aKZSV/J0onKWE2EqWaGOmdLOKbkTEREREZ9Izchhcv9uhIU08JF0S5r72daLl9fXbwampoIzum1jZVaBb2MROQgldyIiIiLS5rYVlLEpp6Tp9e3ihkJkI9vbStJUwHBS5wxWZhdirfVtPCJNUHInIiIiIm0uNSMHoOHkzlMDWxb4ftQOoFMs9BrF6JpV5OypZHuhmqpI++Xz5M4YE2yMWWqM+cDXsYiIiIhI20jbmEv3yDCG9ow+cOPOVVBR1D6SO4DkGfQsXEEo1VrvTto1nyd3wC+Atb4OQkRERETahrWWeRk5TBsUR1CQOXCHzHYy365Wv+kE1ZQzLniT1ruTds2nyZ0xJhE4HfiPL+MQERERkbaTsWsPu4srmD6we8M7ZKZBbBLEJLZtYI1JcknmadGbNHIn7ZqvR+4eBX4NeHwch4iIiIi0kXlNzbez1iV3vlzfrr7I7tBjBNNC1qqpirRrPkvujDFnALustYsPst9PjTGLjDGLdu/e3UbRiYiIiEhrSc3IJalbZ/p263zgxpx0KM1pPyWZtZKn079sFXtKy8jKL/N1NCIN8uXI3XTgLGPMZuBV4HhjzIv1d7LW/ttaO9FaOzE+Pr6tYxQRERGRFlRd4+HbTblNLIGQ6n4mtbPkrt90QmvKGGU2qzRT2i2fJXfW2tuttYnW2n7AJcAX1torfBWPiIiIiLS+FdmFFFdUM6Ox5G7LfIjsAd0Htm1gB+MtE50asp4Vaqoi7ZSv59yJiIiISAeSmu7m201tqplK8jQwDXTR9KWoHhA3hOMjNrBSI3fSTrWL5M5a+5W19gxfxyEiIiIirSt1Yw4j+3ShW2TYgRsLtkDh1vbVTKWu5Gmk1KxhdXY+Ho+aqkj70y6SOxEREREJfGWVNSzJLGhivl3t+nZT2y6oQ5E8gwhPCYkVG8nMK/V1NCIHUHInIiIiIm1i4eY8Kms8TTdTiYiBHiPaNrDm6udGFKcErWVFVoFvYxFpQLOTO2NMsDGmjzEmqfbSmoGJiIiISGBJzcghNNhwVL+uDe+QOR+SpkJQcNsG1lxd+mC79mdq8DrNu5N2qVnJnTHmRmAn8CnwoffyQSvGJSIiIiIBJnVjDuOTutI5LOTAjXt2QW56+1vfrh7TbzqTg9ezMivf16GIHKC5I3e/AIZaa0daa1O8l9GtGZiIiIiIBI78kkpWbytqxny7dtpMpVbyDKJtMZXbVqmpirQ7zU3utgIaexYRERGRwzJ/Uy7W0nRyF9oZeo9p28AOlXfe3eia1WzKKfFxMCL7a2BMvEGbgK+MMR8CFbVXWmv/2ipRiYiIiEhAmZeRQ1R4CGMSYxreYUsaJB4FwaFtG9ihik2iKjqRyQVrWZldwKAeUb6OSGSv5o7cbcHNtwsDoutcREREREQOKjUjhykDuhES3MDHz7IC2LGq/ZdkegX3n8HkoHWs2Frg61BE9tOskTtr7T0Axpho96fd06pRiYiIiEjA2JpXSmZuKVdN7dfIDt8Ctt03U6kV1G8G3Ve8Sn7mSmCUr8MR2au53TJHGWOWAquA1caYxcaYka0bmoiIiIgEgrSNOQDMGNzE+nZBoZA4sQ2jOgLeeXdddy+kusbj42BE9mluWea/gV9aa5OttcnALcBTrReWiIiIiASK1Ixc4qPDGdzY/LTMNEgYD6Gd2jaww9W1P2URPRln17Bxt5qqSPvR3OQu0lr7Ze0f1tqvgMhWiUhEREREAoa1lrSNOUwf2B1jzIE7VJbCtqV+U5IJgDFU953G5KC1rNiq9e6k/WhucrfJGPN7Y0w/7+UO4PvWDExERERE/N/6ncXk7KlkWmNLIGQtBE+13zRTqRU55Bh6mgKyN632dSgiezU3ubsGiAfeBt7x/v7D1gpKRERERALDvHQ3367J9e1MEPSd1IZRHbmgfjMACNma5uNIRPZpbrfMfODnrRyLiIiIiASYtI259I+LJCG2kfl0manQcxRENLL+XXsVN5g9od3oW7SEqhoPoQ0t8SDSxpp8FRpjHvX+/J8x5v36lzaJUERERET8UlWNh2835TJ9UPeGd6iuhKxFfleSCYAxFPWYxESzlg07inwdjQhw8JG7F7w/H27tQEREREQksCzfWkBJZQ3TBzZSkrl9GVSX+VczlTrCBx1N9+yPWZK+hpEJ/vkYJLA0OXJnrV3s/XWstfbruhdgbKtHJyIiIiJ+a15GDsbA1IGNjNxlprqffprcdRtxHAAVG+f6OBIRp7nFwVc1cN3VLRiHiIiIiASYtIxcRvWJIbZzWMM7ZKZB3FCIbGRkr50z8cMpDupC7K7vfB2KCHCQskxjzKXAZUD/enPsooHc1gxMRERERPxXSUU1S7bk8+OjBzS8g6cGtiyAUee1bWAtKSiIbTHjGZq3gorqGsJDgn0dkXRwB5tzlwZsB+KAv9S5vhhY0VpBiYiIiIh/+25zHtUe23gzlZ2roaLIP5up1FHTdxp9879ibcZ6hg8b4etwpINrMrmz1mYCmcDUtglHRERERAJBanoOYSFBHNWvW8M7ZHrXh/PT+Xa1uo08DlbcS96aL0HJnfhYs+bcGWOmGGMWGmP2GGMqjTE1xhj1fBURERGRBqVuzGVCUlciQhspVcxMhdgkiEls28BaWM9B4ykiklAtZi7tQHMbqjwBXAqkA52AHwN/a62gRERERMR/5eypYO32ImYMbqRRirVu5C7Jv0ftAExwCBmdUuhTuMTXoYg0O7nDWpsBBFtra6y1zwLHtV5YIiIiIuKv5m90ffemD2okucvNgNIcvy/JrFXUYzKJnm2U52X7OhTp4Jqb3JUaY8KAZcaYB40xNwORrRiXiIiIiPip1IwcoiNCSEmIaXiHvevb+XczlVrhg44GYPuKz30ciXR0zU3urgSCgRuAEqAvcH5rBSUiIiIi/it1Yw5TB3QnOMg0vENmGkT2gO4D2zawVtJv1BSKbScqMrSYufjWwZZCAPZ2zQQoA+5pvXBERERExJ9tyS1la14ZP57RyPp24JK75GlgGkn+/Eyv2CjSgoYxcLcWMxffOtgi5isB29h2a+3oFo9IRERERPxW6sYcoIn5dgVboHArTLuxDaNqXcYYtseMZ3rB01CSA5GNPHaRVnawkbsLcaN1IiIiIiIHNS8jh55dwhkY30h7hsz57meANFOpVd13GhQ8TXnGN0SMOc/X4UgHdbA5dy97SzL/ZK3NrH9piwBFRERExD94PJb5G3OZPigO01jJZWYqRMRAj8Ba8LvHsCmU2nAK133l61CkAzvYyF2YMeYqYJox5oCvIKy1b7dOWCIiIiLib9buKCKvpJLpA5soS8xMg6SpENTI4uZ+alTfOBZ7BjNi63xfhyId2MFG7q4FpgCxwJn1Lme0amQiIiIi4lfSMg6yvt2eXZCb7pK7ANOjSwRrwlLouicdSvN8HY50UE2O3Flr5wHzjDGLrLVPt1FMItKOWWt5a0k2a7cX8dvThjfe5lpERDqceRk5DIyPpFdMRMM7bKmdbxcY69vVV9hjEkHbX3GPc9jpvg5HOqDmLoXwtDFmGtCv7m2stc8f7oGNMX2B54FegAf4t7X2scO9PxFpfYWlVfz2nZV8uHI7AL1jIvjx0U20uhYRkQ6jstrDd9/ncdHExMZ3ykyD0M7Qe0zbBdaGIgdMpnxbKEEbvyFMyZ34QLMWMTfGvAA8DMwAjvJeJh7hsauBW6y1w3Glnz8zxgTWzNr2rjAL3v857Fzt60jEDyzcnMdpj8/lk9U7+PUpQzlxeA8e+mQ9m3bv8XVoIiLSDizdkk9ZVQ3TGivJBNdMJfEoCAlru8Da0MikeJZ6BlO5cZ6vQ5EOqlkjd7hEboS1ttE17w6VtXY7sN37e7ExZi2QAKxpqWNIE3Iy4PmzoSgLVr0NFz4Lg0/ydVTSDlXXePjbFxn87Yt0+nbrzJvXTWNs31h2FZVz0iPf8Ks3lvPGtdNUniki0sGlbswlyMCUAd0b3qGsAHasgpm3t2lcbSklIYYX7DAm570L5YWuK6hIG2rWyB2wClc+2SqMMf2AccC3DWz7qTFmkTFm0e7du1srhI5l+3J45mSoLofL3oBu/eHli+C7p3wdmbQzWfmlXPLvBTz2eTrnjEvgw58fzdi+sYCbOH73WSNYsqWAZ+Z979tARUTE51IzckhJjCWmU2jDO2z9FrCQHHjNVGp1jwpnY6exBOGBLQt8HY50QM1N7uKANcaYT4wx79deWiIAY0wU8BZwk7W2qP52a+2/rbUTrbUT4+PjW+KQHVvmfHjuDAiJgGs+gSGz4IezYfDJ8NGvYPZt4KnxdZTSDvxv+TZOfWwu63cU89glY/nrRWOJCt9/sP+csQmcOLwnD89Zz0aVZ4qIdFjF5VUs21rAjEGNjNqBm28XFAoJRzqzp30zfY+iihBXgirSxppblnl3axzcGBOKS+xe0pp5bSD9M3jtCohJhB+8634ChEfBJS/BnN/Dgr9D3ia44GkIj/ZpuOIbJRXV3PX+at5cnMW4pFgev2Qcfbt1bnBfYwz3njuKkx75hltVniki0mF9930eNR578PXtEsZDWMPvKYFiWFIPlmUMYNymec3+oC3SUpo1cmet/bqhy5Ec2BhjgKeBtdbavx7JfUkzrHobXrkE4ga7kbqYep2sgoLhlHvh9L9AxmfwzKlQmO2bWMVnVmQVcMbf5vHWkixuPH4Qr//f1EYTu1o9ukRwz1kjWbKlgKfnbWqjSEVEpD1JzcglPCSI8cldG96hshS2LYHkaW0bmA+MTojlW89wgncsgwpVtUjbajK5M8YUG2OKGrgUG2MOKKE8RNOBK4HjjTHLvJfTjvA+pSGLn4M3r4HEiXD1BxDVRHnrUT+Gy16H/M3w1PGwbWlbRSk+5PFYnvx6I+f/M43yqhpe+ckUbpk1lNDg5lVunz22DyeN6MnDczaQsUtvZCIiHU1qRg5H9etGRGhwwztkLQRPdcCub1dXSkIM33qGY2yNd56hSNtp8pObtTbaWtulgUu0tbbLkRzYWjvPWmustaOttWO9l4+O5D6lAamPwf9+AYNOhCvebl7XpsEnwo/mQHAoPHsarPuw9eMUn9lVVM4PnvmO+2av44RhPZn9i6Mb73TWCGMMfz53FJ3Dgrn1zeXUeFqssa6IiLRzu4rLWb+zmOlNLYGwZT5goO+kNovLV2I6h7I7dgw1BGnenbS55jZUEX9jLXx2D3x6J4w8Dy55+dBq3HuOgB9/Dj2Gw6uXQ9oT7j4loHy+dienPDaXRZl53HdeCv+8YjyxnQ9v7aEe0a48c+mWAv4zV+WZIiIdxfyNuQBMb7KZSir0SukwSwMMSuzFOjMINiu5k7al5C4QeTzw4S0w768w4Wo4/z+Ht1hodE+46gMYcRbM+R18cDPUVLV4uNL2yqtquOu9Vfzov4vo1SWCD248mksnJeGmwh6+s8b04eSRPfnLpxvI2FXcQtGKiEh7Ni89h5hOoYzs00jiVl0JWxd2iJLMWqMTY5hbNRSbvdjNNxRpI0ruAk1NFbzzU1j0NEy/Cc541DVLOVxhneGC52DGzbD4WbceXnlhCwUrvrBhZzFnP5HKf+dncs30/rzzs2kM6hHVIvdtjOFP56QQGRbMr95YofJMEZEAZ60lNSOHqQO6N94tefsyqC7rEM1UaqUkxLLAMwzjqXLzDUXaiJK7QFJV5kooV74BJ9wFJ90DRzgSA0BQEJx4N5z1BHz/DTx9MuRnHvn9Spuy1vLCgkzO/Ns8cksqePaHR3HnmSMIDzmC5L8B8dHh3HP2KJZtLeAplWeKiAS0zbmlbCssZ/rgppZA8JYmJgXu4uX1jUrowiLPUDyadydtTMldoCgvghfPh/Q5cMYjcPQvW/4Y46+EK9+B4m3wnxNciYX4hbySSn76wmJ+/+4qpgzozuxfHMNxQ3u02vHOHN2bU0b24q+fbiB9p8ozRUQCVWpGDgDTBzY1324+xA1pult3gImOCKVHfDxbwjTvTtqWkrtAUJID/z3Dtds9/z8w8ZrWO1b/Y+BHn0FYpDvmKq09396lZeRw6mPf8PX63fz+jBE8e/VRxEeHt+oxjTH88ZxR3vLM5VTXeFr1eCIi4hupGTn0iYmgf1xkwzt4amDLgg5VkllrdEIMadVDXVlmVbmvw5EOQsmdvyvMhmdPhd3r4ZJXIOWC1j9m/BD48RfQeyy8+UP45mF10myHqmo8PPDxOi5/+lsiw0N4+/pp/GhGf4IamxPRwuKjw/nD2aNYnlXIv1WeKSIScGo8lvmbcpk2KK7xhlw7V0NFYYdqplIrJTGWL8qHQE0FZC/2dTjSQSi582e5G+GZU6B4hyuXHDKr7Y4d2R1+8B6kXAhf/BHe+5nrhiXtwuacEi74Zxr//GojlxzVlw9unMGohLZvP33G6N6cOqoXj36azgaVZ4qIBJQ124ooKK1iRlPr22WmuZ8dceQuMYbvPEOxGM27kzaj5M5f7VjpEruqErjqf775TzM0As57Co69DZa9BC+cC6V5bR+H7GWt5a3FWZz++Fy+zynhH5eP577zRtM5LMQn8dSWZ0ZFhLSv8kxPjUabpWOpqXYNsbav8HUkEkBSN7r5dtOaWt9uSxrEJEFMYhtF1X6M6N2FPSaK3ZGDYPM8X4cjHYSSO3+05Vt47nQIDoUffgx9xvouFmPguNtdkpf1HTx9khtRlDZXVF7FTa8t45Y3ljMyIYaPbzqG01J6+zos4qLC+cPZI1mRVciT3/i4PLO8EL68F+5Phr+OgPdvhLX/gwqNKkoAqqmGTV/D/26CvwyB/54JTx4N792gL+KkRaRm5DCkZxQ9oiMa3sFaN3LXAUftACLDQxjUI4rlQaNg63eqcJI24Zuv8+XwZXwGr10J0b3hB+9CbJKvI3JGXwQxfeHVy1wnzUte7rD/mfvCki35/OLVpWwrKOeWk4Zw/XGDGl9vyAfOGN2H2St38Nhn6Zw4vCdDe0W3bQAVe+C7JyH1cSgvgGFnuPUfV78LS56HoFBIngqDZ7lL3JCWWUZEAkZZZQ27iyuorKlhYHxU4/OLfM1T48q/Vr8La9+Hkt0QGglDT4ERZ0PWIljwD1j3oVsuZ+wVbrkbkUNUXlXDws15XDqpic8huRnuNdiBPw+kJMTy6bqBnOQpc+v99Z3k65AkwCm58yer34W3fgzxw+DKtyGq9VrZH5bkqfCTz+Gli+D5s926eGMu9nVUAa3GY/nHlxk8+nk6vWMieP3/pjIhuauvw2rQH84eyYJNudz65nLevm4aIcFt8IGyqgwWPQNz/wqlOTDkFDjut9B7jNteU+W6zKbPgfRPYc4d7hKbtC/R63c0hHVu/VilzXk8lvzSSnbvqWBXUQW7iyvYVVz7s5zd3t93F1dQXFG993YnDu/JH88ZSe+YTj6Mvg5PDWyZD6vfgTXvQ8kuCO3sXu8jz4VBJ+57DY84G8ZcCh/e4kaul74Ip/8Veo3y7WMQv7NkSz7lVR6mD2zG+nYdsJlKrdGJMTy2ZBBE4EozldxJKzPWj+adTJw40S5atMjXYfjGkufhf7+AxElw2WvQKdbXETWuLN+NLm6eC8f+BmberlGQVrCtoIybXlvGd9/ncdaYPvzp3FF0iQj1dVhN+mjldq5/aQm3njyUnx03qPUOVF0JS593nVyLt8OAmXDcHdD3qKZvV7AVMj51id6mr6CqFILDof/RLtEbdCJ0H9h6cUuLKK+qIWdP3UStNkkrd0mcN5nL2VNBtefA98DIsGB6dIkgPiqc+C7hxEeF08P7c1dxBX/7Ip2QoCB+c8pQLp+c3GYdaPdT215+zbuw5j3YsxNCOsGQk11CN3hW019KWAvLX3FfZpQVwORrXYl9eBuPqovfeviT9fzz640su/Mkoht773n7/2Dj5/Cr9A77OWDJlnzO+0caq3rcSVSPfnDFW74OSQKAMWaxtXZiQ9s0cucP0v7m3oAHngAXv+DWmGvPOnWFK96GD26Grx9wc/DO/rtrwCIt4uNV2/nNWyuprvHwlwvHcN74hPZbJlbHaSm9OX10bx79bEPrlGfWVMOKV+GrB6BwCyRNdfNB+x/dvNvH9nXrRE68Bqor3LfO6Z+5kb3Zv3b7dBvoHdU7yX0brdd1m7DWUlhW1eDoWv0krrCs6oDbGwPdI8PpER1OfHQ4Q3tGEx9d+3fE3uQtPjqcyPCm3xrPHN2H3727kt+/t5p3l23j/vNSGNyzDZIij8eNNK9+x5vQ7fAmdLPqJHTNfH8wBsZe5kb3Pv+DK9Vc/Tacch+MOKfDfhCX5puXkcOYxJjGEzvYN9+uA7+eRvTuQnCQIaPTGMZu+cS9TwXr47e0Ho3ctWfWwhd/grkPuzfb856CkDBfR9V81sK8R+Dze6DvZDcPL7KJ8g05qNLKav74wRpe+W4roxNjePyScfRrbOHYdip3TwWzHvmGPrGdePv6aYS2RHmmx+M+mH55L+RthD7j4HjvFyIt9aEib9O+RG/zXKgud6Vv/Y91id7gk9rPHFg/UlntIWdPwyWRu+qURbr5bgd2W40IDaJHdMTepG3fzwji61zXLTKsRUuBrbW8vSSbP364hpKKaq6fOYjrjxtIeEhwix0DcK/trO9cWf6ad91IdEiEe72NPBcGnwzhUUd+nKxF7gu5HSvcv5vTHtIotTSqqLyKsffM4YbjBvHLWUMb3qlgCzyaAqc+CJP/r20DbGdOfWwuZwTN52e5f4affAEJE3wdkvg5jdz5I4/HjRQsfArG/wDOeNQ1gPAnxsDRv4Ru/eGda+Gp4+HyNyC+kTeCQ7CrqJwnv9nEpt17GNGnC6P6xDAqIYbErp38YgTrcKzeVsjPX1nKppwSrps5kJtPHEJYiP81QugeFc6fzhnFdS8t4cmvN3LD8YMP/86shXUfuKRu1xroMdJ9iTD0tJb/prjbAJj8U3epLHVzJ9LnQPonsGG22yd+uDfRmwVJU1xHW9krfWcxry3cyvqdxXvLI/NKGu4e1y0ybG+iNiA+cm/CVj+JiwoP8cm/eWMM509IZObQeP74wRoe+zydD1du5/7zUpjYr9uR3bnHA9mL3Ajd6neheJsrD65N6Iac3PLlk4kT4SdfwqKn3ZeK/5gKM252F41OSz0LNubisTCtyfXt5rufHbiZSq3RCTG8u6YfPwPYnKrkTlqVRu7ao5oqtyj4itdg2s/hpD/4f0lD1iJ45RI3F+ri590cqMOws6icf361kZe/20KNx9I/LpLvc0qo8c6biekUyqgEl+yNTIhhVJ8u9Ose6Zs5MS3E47E8m7aZB2avI7ZzKI9cPJbpTb2h+okbXl7CJ6t38P4NMxjeu8uh3dha1zn2iz+57mPdB7v5QiPObfvOf9ZCTro30ZvjypA8VRAWDQNneufqnQRdfL8shS+UV9Uwe9V2Xv52Cws35xMWHMSIPl3oEV07j21fSWSPLi5hi4sKb5kR3Tb05fpd3PHOKrILyrhiShK/OWVY0+Vq9Vnr/p9c865L6IqyIDjMvXZqE7qIQ/x3criKd8Anv4NVb0LX/nD6w26+qYjX3e+v5rWFW1l210mNj1a//3P3ev719/735XQLe3FBJne8u4r0Xr8ntMdg1ztB5Ag0NXKn5K69qSqHN652IwEn3Akzfun/iV2t/Ex4+WLITYczHnEjks20o7Ccf329L6k7f3wCPztuEMndIymvqmH9jmJWbStkVXYhq7KLWL+jeG8JV1R4SJ3RvS6MSohhYHxUu1oqoDG7iyv41RvL+XrDbk4c3pMHLxhNt0g/Ks1tQl5JJbMe+ZqeXSJ492fTm/9h/vtvXFK39VtXBjnzdki5qP3MYagodmuLpc9xCWhRtru+V8q+DpwJE9tPvK1k4+49vPztFt5akkVBaRX94yK5dFJfLpjQN2Bew/WVVFTzlzkbeC7te3pER/CHs0cya2Svxm9gLWQvcSXFa96Dwq0uoRt4gkvohp4CETFt9wDq2/SV66qZm+G6bJ5yP3Tp47t4pN048a9f0ye2E89f00TnxyeOcl8OXP562wXWTq3IKuCsJ1L5Ztg7JG2fA79RwitHRsmdvygvcuvEbZ7nvik96se+jqjllRe65HXjFzD9JjjhriZHWhpK6m44bjBJ3ZtuTV9Z7SF9VzGrs4tYmV3Iqm2FrN1eRHmVS/giQoMY0dslem6UrwtDeka3q9GCr9bv4ldvLKe4vJo7Th/OFVOSA67k9ONV27n2xSX88qQh/PyEg5Rnbv0OvvijS+6i+8Cxt7o1utrzPFRrXblo7VILWxaArYGIWBh0gkv0Bp4AUfG+jrRFVFTX8Mnqnbz8bSYLNuUREmQ4eWQvLp+cxJQB3f16BP1QLNtawG1vrWDdjmJOS+nF3WeOpEcXb2mjtbBtiRudW/2ua/wTFOpeDyPPhaGn+jahq6+6AtIed51ng0LclymTrw34LyekcTuLypl87+f89rRh/PSYRuZl7tkNDw+CE++BGTe1aXztUUV1DaPu+oS/Dt/AmRl3wf99s29JHpHDoOTOH5Tkwkvnw/YVcO6TMPpCX0fUemqq3XzCRU/D8LPc463XsntHYTn//CqDVxZuxeOxnD8+kZ8dN+igSV1Tqms8bMop2Tu6tyq7kNXbCimprAEgLDiIYb2jGVk7wtcnhqG9ookIbdtv1yqqa3jw4/U8Pe97hvaM5vFLx7X9ot9t6MZXlvLxqu2Nl2duWwZf/tklSJHxcPQtMOGH/jkPqKwANn3pEr30T916ZBhIGL+vA2fvcX63qPTmnBJe+W4LbyzOIq+kkr7dOnHppCQunNCX+OhwX4fnE1U1Hv79zSYe+zyd8BDDw9Mts+x8zJp3XKOJoFAYeJw3oTutfS9vA5D3vft/O30O9Bzl1sZLmuzrqMQH3l6SxS9fX84HN85gVEIjX0SseQ9e/wH86LODL0HTQZz5t3n0Dy3g8R2Xw8n3wdTrfR2S+DEld+1d0TZ4/hwoyIQL/+tKcQKdtbDgn/DJb11nw0tfheiebC8s459fbeTV77bisZYLJrikrm+31llE2uOxbM4tYdW2IlZnF7pRvuxCisrdgsUhQYbBPaMZ1cc7ypfQheG9u9A5rHW+tc7YtYefv7KUNduLuGpqMrefNrzNk8u21mh55s418NW9sPZ/bqRrxk0w6aftfymQ5vJ4YMdyb6I3x823wkLnODe/afBJMPB46HyEzTlaSVWNh0/X7OSlbzNJzcglOMhw4vAeXD45mRmD4vYfpbPWdRetKnOXkHC3ZEoglyVZC9uXk7/oDSqXv0XPmu1UE0xl0rF0HncBDDvNnQN/UtvAaPZvXLnxuCvdnPB2+hqV1nHL68v5Yt1OFt9xUuOj8bN/49bn/U1m+66uaEO3v72SD1dsY3nXX2N6joJLXvJ1SOLHlNy1Z7kb4YVzoDQfLnsV+s3wdURta91H8NaPqI7oyr/63Mfjq8LwWMuFExO5fmbrJXVNsdaSlV/mRvi27Rvly/V29QsyMDA+ilEJMYz0Jn0j+nQ5ogXErbW8tnAr9/xvDRGhQTx0wRhOHNGzpR5Su/fxqh1c++Jibj5xCL8YFwRf3Qcr34SwKJh2A0y5rn2VqrWGkly32G/tXL2yfDBBkDhpXwfOXiktOwe3psot1F6bdFWVQXXZ/n9Xlbl9qsuhqpTC4mLWb91J5o5cqCqjW1gN/WODSIiCcE9Fw7evLmvg4MaNVnXu7i6dunl/77bvuv1+7+6S/PY8qmkt7Fjp7XL5DuR/D0Eh2P7HsjDyWG5ekcju6s784oTB/PSYAe2qDPyQVOxxa5gu+AeEd4GT7nEl0u35uZEWYa1l6n1fMCG5K3+/fHzjO/7raPfv+6r/tVls7d0r323h9rdXsmrce0RtngO3btK/GTlsSu7aqx2r4IVzwVMNV7zlSrM6mG0FZbz70Uecv/4WIinnjf5/4MSzrvBJUtcUay07isr3K+dcmV3IzqKKvfv0j4vcm+yN6uMSv67NaBxRUFrJ7W+vZPaqHcwYFMdfLhpDzy5+WHJ4hO55/iNGpD/JBSFzMSHhbl2kaT/vmKMCnhrXaKO2A+f2Ze766N5uVC9pKlhPI8lYaZ1RslLXpKlOcuau9/5uaw49NGsoJ4ya4AhCIyIJ7xSJCe3k1vwLjXA/Q7w/Qzs1cF2Em8dVmuu95NX7mQs1FQ0f3AS5BK9uwte5oaSwNmHs2voJobWwc5V3Dt07bp1FEwwDjnUll8PO2Psa3lVUzt3/W81HK3cwrFc0958/mrF9Y1svtta2c41ruLIlza1levpfodcoX0clrWjj7j2c8JevuffcFC6b3Mi6nuWFcH8yzLzNXQSAVdmFnPG3ebwzLZNxS26H69Kg50hfhyV+Sslde7T1O3jpAgiNhB+82yJrv/mTbQVl/OOrDF5fmIXFck1KOLfk3ElY7hq34Omkn/g6xGbZVVzOam9J56rsIlZtKyQrf98oRWLXTnu7dI70Jn115yB9uymXm15bxu7iCm49eSg/OXpAh2k6sVfRdpj7MHbxf6nyWD4KP43Tr3+I0Jgmugx2NMU73Whe+hzXjKii6MB9gsP3JVKhnSCkkze5qnPZe11tItbQdfsSsZ3lQXy4Jo+3VuaxdQ/ERnfh3KMGcPGkJPrEdmqdx2qtSzz3Jn+1iV9evety3ejm3oSw4fXyMEF1RgVrk8B6iWD9UcOImKZHSGsb5dSO0OVmuISu/9HehO5MiOze6M3nrN7Bne+tZmdxOVdP68evZg0lMtxPG5RYC8tfgTl3uDmlk691y5K09Dp80i48P38zd763mq9vnUly90ZK5DfMgZcvdKN2/Y9p2wDbscpqD6Pu/oRfTAjjZ8vPg9Me9pvPOtL+KLlrbzZ+Aa9eDtG94Mp3oWuyryNqM9kFZfzjywxeX7QVgAsn9uX6mQNJ7NrZlfq89WO3DMTk6+DkP/vlnJz8kkpWbyvauzTD6m1FfJ9Tsnd7zy7hpCTEENs5jLeXZJHUrTOPXzqO0YmxvgvaF/bshtRHYeF/3Oj1uCv5utdVXPXWNm46cTA3nTjE1xG2TzVVblmRkLA6iVxEi/1bqfFYvly3i5e/28JX63dhgZlD4rlscjLHDY0npD2WEloLlXsaTwTLGhgdLM1z6xE2JCjEjfrVHx3s1M2NmK7/CHI2uMSxnzehG34mRDZ//cni8ioe/Hg9LyzIJCG2E386dxTHDe3RQifEB0rz4PM/wOLn3HvbKffBiHMCZykfAeD/XljE6m1FzP31cY13b/70Lpj/d7htywHN0jq6s/+eSqcQw6slP4HEiXDRf30dkvgpJXftyZr34a0fQdwQuOJtiO4Y86qy8kv5x1cbecOb1F00sS/XHzeIhPrf/ntq3DfAC/4BQ06B85+G8CgfRNyyisqrWLOtaG+ytyq7kM25JZw9NoF7zhrpv9/aH46yfEj7Gyz4lyspHH0JHPtr6NYfgJteXcoHK7bz3g3TGdknwOfZtSM7Cst5deEWXlu4le2F5cRHh3PxxL5cfFTfdlcm3SKsdWsS1k/6yuqPENZLFrGQPN2b0J11xMtYLNqcx21vryRj1x7OHtuH358xgrgoP+4wmrUIPrgZdqxwy3yc9hB0b6RdvviVGo9l3B/mcOqo3jxwwejGd/zPSS6p/9GctgvOT/z+3VW8szSblaPfxGz6En6Vri9A5LAouWsvlr4E79/gFjC+/HX/65R2GOondRcf1ZfrZjaQ1NX33VOu7XbPkXDpaxCT0AbRti2Px3asEszyIvj2X5D2BFQUwqjz4djbIH7/EbqC0kpOeuQb4qLCee9n0wkLaYcjRQGixmP5Jn03L3+7hS/W7aLGYzl6cByXT07ihOE9/bfhR2ux1pV/hrRs8lVRXcM/v9rI37/MIDI8hDtOH8H54xP8d13Lmmq31M0Xf3LzK2fc7C7+uHyJ7LV8awFn/z2Vxy8dx1ljGlnMvrIU7k+CqT9zjXZkP68v2sqv31zBd6dm0+PLW+FnCw94DxRpjqaSuw40XOBj8/8Bn9zuWptf/GLgtHNvRFZ+KX//ciNvLt6KwTQ/qas16SfQtb9b8Pw/J7ilEvqMbc2Q21yHSewqS2HhUzDvUTcqMvR0OO63jTZeiO0cxr3npvCT5xfx9y8zuPkkvfG1tF1F5by+aCuvfLeV7IIyukeG8ZOjB3DppL6Nz6MR9w17Cyd2AOEhwdx04hBOT+nNbW+v5FdvLOfdpdnce27KEa3t6TPBIa4h0oiz4ZPfwdf3w4rX4PSHXUMg8UvzMnIAmDaw8fmkZC9y5c7J09soKv8yOtFVoywPGslJAJnzlNxJi1Ny19qshS/vhW8edCU85/+nVT4ctBdb80r5x1cZvLEoiyBjuOSoJK6bOfDwmi8MPhF+9Am8fDE8e6o7d8NOb/mgpXVUV7j5N3P/Ant2uhKt438HCRMOetOTRvTk3HEJ/P3LDE4a0bPxhXKl2TweS+rGHF7+dgufrtlJtccybWB3bj9tGLNG9NIIaTswuGc0b/zfVF76NpMHPl7PrEe/5pcnDeGa6f3b51zHg4nuBRc8DeOvdF01XzzfJXyn3A9dGhn5CTTWuiUxdqyEyB6QPNXXER22tI05DOsV3XTZcGYaYLTAfSMGxUcRERrE/PxYTorqBZtTYeI1vg5LAozKMluTxwMf3wbfPQnjroAzHnPfaAagrXml/P3LDN5c7E3qJvXlupkD6R3TAh31infCK5fAtqWuycqU61Wj3p7VVMGyl+Drh6Aoy32De/wdkDztkO6mtjyze2QY798wQ8nHYcrZU8Ebi7J45bstbMkrpWvnUC6YkMilk5IYEO//81kD1fbCMn7/7mo+W7uTUQlduP+80f79JUd1BaQ9Dt887BrWzLzdddYMpPfEmirYvd7NN9y+wv3csXL/7rYn3+tKFv1MeVUNo++Zw5VTkvn9GSMa3/G/Z7quqdfObbPY/M35/0wjyMAbcf9xyfAv1+ozjRwylWX6Qk01vPczWPEqTL0BZv0pIP/x1k/qLp+cxLUtldTViu4JV38I7/wffPJb13b81Ach+PAXDZdW4KmBlW+4BcjzN7u5pWc/AQNmHtZrP7ZzGPedm8KPn1/EE1+k88tZHWu5kCNhrWX+plxe+nYLc1bvoKrGMql/N26ZNYSTR/YiItT/utB2NL1jOvHUDyYwe9UO7np/NWf/PZUfz+jPTScOoVOYHz5/IeFwzK0w6gI3n3rO79wSCqf/BZKm+Dq6Q1dZAjtXw/bl+5K5XWv3rdEY0smVnqdcCL1HQ88USHvMvYft2Qkn3uNXnwkWZ+ZTWe1hxqAmOsJWV8LWhTDh6jaLyx+lJMTw2sKteMZPJ2jVW5C3SU2HpEUpuWsNVeXw5jWw/kM47g445ld+9Z94c2zJdUndW0uyCApqpaSurrDOcOF/4Ys/wLxHXPJw4XNuPSrxLY8H1r4HX94HOevdh5hLX4MhJx/x6/7EET05b1wCf/9qI7NG9vLvkYs2kFdSyVuL3SjdppwSukSEcMWUZC6blMTgnlp3zN8YYzgtpTfTB8Zx3+y1PPnNJmav2sG956YwY3Dzl11oV7r1h8teh3UfwuzfwDMnw7grXbLTxNqAPlWat38St2OF+5LRetz2Tl2h12iY/FPoNcYlc90HHbg8yQXPwke3QupjbimYsx73my8p52XkEBJkmNS/W+M7bV/uOiD7celpWxidGMNzaZvZ0mUc/QAyU5XcSYtSctfSKorh1cvg+2/g1Ifcf/YBZEtuKU98mc5bS7IJDjJcMSWZa48dSK+YNuiCFhQEJ94N3Qa4VttPz4LLXoOu/Vr/2HIga2HDJ/Dln1zpUdxQl4APP8s9Vy3krjNHMi8jh1+9sVzlmQ2w1vLd93m8/N0WZq/cQWWNhwnJXfnLcYM4fXRvjdIFgJjOodx//mjOHpvAb99ZyRVPf8v54xO54/ThdI0M83V4h84YGH6GG9X/+gG39M26D113xbFXtOj/H4fEWijM2j+J277ClZfX6pLokreR57mfvUZDTGLzvsgKCnYjlVE94at7oTTHfUnpBw3WUjNyGJcU2/SyPZmp7mfSoZXgdzS1TVUW7YmnX2S8m3c3/gc+jkoCiebctaTSPHjpAti2DM75J4y52NcRtZjM3BKe+CKDt5e6pO6ySa5RSs8uPmptvelreP1Kt/B58jQYehoMPXXvWmnSikpyIP1Tt/h49iLX1XTm7ZByQastOv/Fup1c89wibjx+ELeoPBOAwtIq3lqSxcvfbSFj1x6iw0M4b3wCl05OYlivLr4OT1pJeVUNf/sinSe/3kRMp1DuPHMEZ43p47/LJgDsXOMarmxJg76T4fS/NtpNt8V4atzo2/YVsGP5vmSuLN+7g4G4wS55q03ieo9xC9q3hEXPuMecMMGNZLbU/baQGo9l2dYCvtmwm6837GbZ1gJuPnEIvzhxcOM3euki1zzmhoVtF6gfqvFYRt/9CRdMSOSeigchewncvMrXYYmfabfr3BljTgEeA4KB/1hr729q/3ad3BVthxfOdbXTFz4Hw07zdUQtYnNOCU98mcE73qTu8slJXHusD5O6uvK+hyXPw/rZsHutuy5+uEvyhp7q5nz56hvgQOLxuA8/G+ZA+ifujQgLMUmu5HjsZW1SWnTL68t5d1k2714/nZTEjluembGrmH98tZEPV2ynotrDmL6xXD4piTPG9KZzmIoxOoq124u47a0VLM8q5Lih8fzp3JTmLzXTHlnr5uDNucM15Jh8LRx3O4S3QDlxVTnsWrP/iNzO1VBV6rYHh0GPEfsncT1Htv6I2pr34a0fQ9dkuOJtiO3busc7iO2FZXyzYTffbMhhXkYOhWVVGANjEmM5dkg81x47sPH5np4aeKA/jDoXznysbQP3Qxc9OZ+qGg/vTFgNs2+FX6xwrwORZmqXyZ0xJhjYAJwEZAELgUuttWsau027Te7yNsHz50BpLlz6CvQ/xtcRHbG6SV1IkOGy9pTUNSRvE6z/GNZ/5LpP2RqIjHfzvoae5sp//KD0pd0oL4JNX7qELuNT1wAA475lHnIyDJ7lPgS1YfJcWFbFrEe+JrZTGO/fOJ3wkI5VbphXUsmjn23gpW+3EBESxNnjErhsUpLmIXZgNR7Lc2mb+cuc9QD8atZQrprWj2B/XkOzNI/qT+8heOl/qezUgwVDbyUtbDpZBeXkFFcwuGcUE5O7MSG5K4ldOx04YllW4MrE6yZyu9e79wSA8BjolVInkRsNcUN8N/dt8zx45VIIi4Ir34Yew9vs0OVVNSzcnMfX63fzTfpuNuzcA0CP6HCOHRLPMUPimTEornmlvztWwr9mwLn/Dqiqpdbypw/W8MKCTFZdn0jov2e4aq+xl/k6LPEj7TW5mwrcba092fv37QDW2vsau017TO7WLF/AoNlXEGSryD7jRYITJxAZFkLn8GDCgoP8rlRmc04Jf/sig3eXuaTu8snJXHvsAHq016SuIWX5kPG5S/TSP3VtqEMiXII39FQYcopbf0n2sRZy0t3IXPocyJzvFqKNiHHr0w052S0+HOnbJg5frtvFD59byA3HDeJXJ3eM8szKag/Pz9/M45+ns6eimksnJXHzSUOaXmtKOpSs/FLueHcVX63fzZi+sTxwfkq7Ls0trawmO7+MrPwysvJL3c8C93d2fik5eyoZazL4U+gzjArazDeeMTwZdR3l0cms31HMnopqwDIyupTT43czOSKbQZ6NdClYiynI3HegqF77J3G9Rrs52u3tfXnHKnjxPKgudyWardQ91FrLxt0lbnQufTcLNuVSXuUhLDiIo/p33ZvQDe0ZfeifXb590nVBvWmVz0cg/cF7y7L5xavL+OjG6Yx4cSwMPR3O+buvwxI/0l6TuwuAU6y1P/b+fSUw2Vp7Q739fgr8FCApKWlCZmbmAfflMx4Pm++dQERVPldW3k66Tdxvc0iQoXNYMJHhIXQKC3ZJn/fvzrV/h9f7WXd7eAidQt3PyLBgOoeH0Dk0mKBW+Fb2+5wS/vZFOu8uzSY0OIgrpiTzf8f4WVLXkOpKN49j/WyX7BVscdcnTIAh3vLNniPb35t9W6gqd98a1yZ0+Zvd9T1GuJG5ISdD4qR2tw7Vr95YzjtLs3nn+mmMToz1dTitxlrLnDU7ue+jtWzOLeXowXHccfoIhvZS10s5kLWW95dv457/raGorIprjx3IDccP8klDnZKKarIL9iVu9RO53JLK/fYPCw4isWsnErp2IrFrJxK7dnY/Y0IZvOV1otMewFRXwJRr8RBEaeYSgnetpFNl3t77+N7Tk3X0pzBmOKGJY+k1dBIpwwbTJcI/ulGSvxleOA+Kst3UjqGntsjdFpVXkZaRy9cbdvPNht1kF5QBMCAukmOGxHPMkDimDOh+5CXdr/8AspfCzStbIOrA931OCcc9/BUPnJ/CxRm3ubLhXyzzdVjiR9prcnchcHK95G6StfbGxm7THkfuMtcvI78c8sP7UFJZTWlFjftZWUNpZTUlFd6flTWUVnh/1t3P+9NzCE+DS/iC6dxUshjmttfut/enN0ms/bmnvJonv9nIu0uzCQsJ4orJyfz02AH0iPbzpK4h1rr/QNfPdpds72spJmnfPL3k6RDih93nmqtgq0vk0ue4pjTVZW49pgHHuoRu8EkQm+TrKJtUWFbFyY98Q5dOIfzvxhkBWZ65elshf/pgLfM35TKoRxS/O304M4fE+10lgLS9vJJK/vThGt5eks2AuEjuPS+FKQNadomBkorqvcladkG9Ebj8MvLqJ28hQSTG1iZv3sTN+3vfrp2Iiwpv+kvL4h3wye9g1ZtuAfT44fuNyO3sNJiFO6pYtDmfxZn5rNleRI3HYgwM7RnNhOSuTOzXlYnJ3Rou5WwvSnJcU7btK9y8tfFXHvJdeDyWVdsK9zZCWbKlgBqPJSo8hGkDu3PMkHiOHRJP326dWy5ua+Hhwa7K47wnW+5+A5jHYxnzhzmcNaYPf+71jVv/8JdroUsfX4cmfqK9JncBUZbZEqy1VFR7KKmoTQpr6iWKdZLExpLFypr9EsuSimoqqj3NOn5EaIAndY0p3uFa+a+f7eaXVZdDeBdXfjj0VPeznXUwO2Q11ZD1nXuc6Z/CrtXu+tjkfXPn+s2AUP9qxPDl+l388NmFXD9zIL8+ZZivw2kxu4rKeXjOet5YnEVsp1BuPmkIl05KIjRYjYHk0MxN381v31nJ1rwyLp3Ul9tOHU5Mp+aNYu2pqHbJWl7ZfiNwtUlcfmnVfvuHhQTtP+JW7/e4yIMkb81VvMOtKRfSdElySUU1y7cWsCgzn0WZ+SzJzPeWcrr5ZBP7dWVCcjcmJndlRJ8u7evfV8Ue1wl64xdwwp0w45cHrSzZVVzO3A05fJO+m7npOXuT61EJXThmsEvmxid3bb3HmZMBT0yAMx+HCVe1zjEC0GVPLWBPRTXvnxcF/z4WzvsPjL7Q12GJn2ivyV0IrqHKCUA2rqHKZdba1Y3dJlCTu9ZSXeOhtKrmgFHC2iSxrLKGKo+HWSN6ER/dwefvVJbC91+70s31H0PJLjDB3mUWvKN63Qb4OsrmKcmBjM9cQrfxcygvdN92J03dV24ZN8TvS1FvfWM5by3J4p3rpzOmb6yvwzki5VU1/GfuJv7x1UaqajxcNbUfNx4/mJjOflJSJu1SaWU1j36Wzn/mbqJ7VDh/OGskp4zq5U3eassl6yRuBe73gnrJW/gByVvn/cooWyx5ayU1Hsv6HcUszsxzCd/m/L3liZ1CgxnTN4aJyd2Y2K8r45O7+r6Us7oS3rseVr7huoaefN9+zasqqz0szsznm/TdfL1+N2u2FwHQPTJsb6nljEHxbfe+vvi/8L+fww2L3PIR0iz3zV7LM/O+Z9VdJxL+l0HqNCqHpF0mdwDGmNOAR3FLITxjrf1zU/sruZM24fHAtiXeRG+2K+UEiB/mTfROc3P2WmlNt0NmLWxfvq/cMmsRYCGyhyuzHDwLBh7nmqMEkNryzOgIV57pj4t1186TevDj9WQXlDFrRE9uP204/ePU2VVazsqsQm57ewWrtxURHR5CsXcUq1ZEaNB+I20JsfuPwMVFhbXfUsbDtKOwnEWZee23lNPjgTm/cwu8jzqfLcf8ha83FvL1hhzmb8yhpLKGkCDD+GTXCOXYIfGM6N3FN0n22//nvkj8Vbrff2nYlj5csZ2fvbyE/90wg5Svf+K6ft+oz7jSPO02uTtUSu7EJ/K+hw0fu0QvMxU81dA5znXdHHqqS5zaepmFimLY+KU3ofsU9uxw1/cZv6/csvfYgF/nr7Y887qZA/mNn5VnLtmSzx8/WMPSLQWM6N2FO84YzrSBvu1GKoGrusbDiwsyydi954ARuO6RgZe8Har6pZxLM/P3JsG+KOUsqahmwcYcauY9xqxt/2BuzSiurbqZrl277e1qOW1gd6J9PcoI8EgKJIyDi573dSR+ZWteKUc/+CV/PncUl1e/C5/eCbdsgOievg5N/EBTyV37aoMn0h516w9TrnOXsgJX8rh+Nqz9Hyx7EYLD919moUvvlo/BWsjN8M6dm+PW8vNUuTmCA4/ft1RBVI+WP3Y7dtzQHlw8sS9Pfr2Rk0f2YqwflGdmF5TxwOx1vL98G/HR4Tx4/mjOn5Do32uTSbsXEhzE1dP7+zqMdisyPIRpg+KYNsh9wVLjsWzYWcyizHwWb3blnB+tdF+i1S3lnNCvK+OTujZ7PmNjrLWs3V7MN+muq+XCzXlU1Vg6hR7LLT06c03eIyzp9RhhV72FaU//zxdshcItMO2Gg+8r+0ns2onYzqGszCqEyTPclZmpMOo83wYmfk8jdyKHq6bKJVl7l1nwLtPRZ/y+eXo9Rx1+mUpVOWTOcyNzGz6B/O/d9fHD9s2d6zvZd4vvthNF5a48MzI8hA/acXlmSUU1//xqI0/N3QTAT44ewLUzBxIVru/YRPxBU6WcQ3pEM6FfVyYmu1LOvt0OXsqZX1LJ3Iwcvl6/m7npu9lVXAHAsF7Re7taTuzX1XUE3vAJvH6V+/Lwirfdl47twYrX4e2fwP/NdR1M5ZBc+fS35O6p5KMbpsIDyTDmEjj9L74OS/yAyjJFWpu1sHvdvnl6tfPeYvrWWWZhxsGXWSjMrrNUwVdQVeoWYO9/jHepglnQNbktHpFf+XrDbq565juuPXYgt53avsozazyWtxZn8dCc9ewuruCsMX34zanDSIj1rw6lIrK/Qy3lNMCyrQV7lylYkV2ItRDTKZSjB8e5ZiiD4+kV00jX6q3fwUsXQnAYXPFW+0im/vcLWPUO/Ob79jMP3Y889Mk6nvx6E6vuOZmIVy+Eom3wswW+Dkv8gJI7kbZWvNMtDr5+tpsbV10GYdEw+ETXkKV2mYWaashauC+h27nK3T4mCYbMgsEnu6UKwlpwTaIAddtbK3h90Vbeum4a45K6+jocAOZvzOWPH6xhzfYixiXF8vszRjC+ncQmIi2roVLOrPx9XTlDgg3F5dUEGRjbN5Zjh/TgmCFxjE6MbX5Z9q518OJ5UF4El77svvjzpSeOgq794fLXfRuHn/p41Q6ufXEx71w/jXGZz8Dnf4BbN0Fky65NKYdp4xcQGQ+9UnwdyQGU3In4UlWZWzB8/UeuMcuenW6ZhT7j3Dy68gL3d9LUfQld/FB1HTtExd7yzE5hwXz486N9Wp65OaeEez9ay5w1O+kTE8FvTh3GWWP6dPimFSIdzc6ichZtzmdRZh7lVR5mDIpjxqC4I1vmpDALXjzfdVc87ykYeU6LxXtI9uyGhwfBiffAjJt8E4Of21ZQxrT7v+APZ4/kBwk74ZlZcNELMOIsX4cmC5+Gj251X8a3wy8v1FBFxJdCO8HQU9zF44FtS12i9/03bhRvyCwYcBx0ivV1pH4tOiKU+88fzQ+e+Y5HPtvA7acOb/MYCsuq+Nvn6fx3/mZCg4P41awh/PjoAe12HqCItK6eXSI4fXRvTh/dgo22YhLhh7PhlUvgjauh9GE46sctd//NtWW++5k8ve2PHSB6x0QQFxXGiqxCOGochHRyTVWU3PmOpwbm/B4W/N1NhbngaV9HdMiU3Im0paAgSJzgLtLijhkSz6WT+vLUN5s4eWSvNiuBrK7x8PJ3W3jk0w0UlFVx0YS+3DJrCD26NDJ3RkTkSHTuBle+C2/+ED68Bfbsgpm3t23FR2aaS0Z6j2m7YwYYYwwpCTGuY2ZIGPSdBJtTfR1Wx1WxB976MWyYDZOvhVl/hmD/S5UCexEsEelwfnvacHrHdOLWN5ZTXlXT6sf7cv0uTnlsLne+t5phvbrwwY0zeOCC0UrsRKR1hXWGi1+CsVfA1w/ABze5UYe2kpkKfY86eKMwaVJKYizpu4oprax2o6A7V0FZvq/D6ngKs+HZU1y/hNMehlMf8MvEDpTciUiAceWZKWzcXcJfP93QasfZsLOYHzzzHT98diHVNR7+feUEXv7JZEb2iWm1Y4qI7Cc4BM5+Amb8EhY/B6//wC2j09rKC2HHSpVktoDRCTF4LKzZVgT9pgMWtqhjZpvathSeOh7yNsNlb8Ckn/g6oiOi5E5EAs7Rg+O5dFIST83dxOLMlv0GNHdPBb97ZyWnPPoNy7bkc8fpw5lz87HMGtlLDVNEpO0ZAyfeBafcD+s+cN00ywpa95hbvgUsJE9r3eN0ACmJ7gvBFVmFkDARgsNh8zwfR9WBrP0Anj3NLTHyozmuq7mfU3InIgHpd6cPp08LlmdWVNfw5NcbmfnQV7y6cCtXTknmq1uP48dHDyAsRP+VioiPTbkOzn/arYf37GlQtL31jrUlDYJCXTIiR6Rnlwh6dglnZXYhhEZA4kRX8iqty1pIfQxeuwJ6jICffA49R/g6qhahTyQiEpCiwkN48ILRbMop4S9z1h/2/Vhrmb1yOyf99Rvum72Oif268slNR3PP2aPoFqm5JiLSjqRc4Nq252+Gp2dBTkbrHCczzS3nozVYW0RKQiwrsgrcH8nTYftyt5ahtI6aKvjfz+HTO91SIld/AFE9fB1Vi1FyJyIBa/qgOC6fnMR/5n3P4sy8Q779yqxCLv73Aq57aQkRoUE8f80knv3hJAb1iG6FaEVEWsDA492H1apSt25a9uKWvf/KUsheopLMFjQ6MYZNOSUUl1e5eXfWA1u/9XVYgaks35UuL3kejrkVzn/GLVkVQJTciUhAu/202vLMFc0uz9xZVM4try/nrL/PI2PXHv50zig++vnRHDMkvpWjFRFpAQnj3fyhsEh47kzI+Kzl7jt7EXiq1EylBaUkxmAtrN5WBImTXMmr5t21vLxN8J+TIHM+nPMvOP4Ot0RVgAm8RyQiUkdUeAgPecszH/6k6fLMssoaHvssnZkPfcX/lm/jp0cP4KtbZ3LFlGRCgvXfpYj4ke4D4UefQrf+8PLFsOL1lrnfzPmAgaTJLXN/QkqCa6qyMqvQlbomjNe8u5aWmQZPnQClOfCD92Dspb6OqNX45wIOIiKHYNqgOK6YksTTqd9zyqheTOzXbb/tHo/lveXZPPjxerYXlnPqqF7cduowkrtH+ihiEZEWEN0LfvgRvHIZvP0TKMmBqdcf2X1mpkKvURChZV9aSlxUOAmxnViRXeiuSJ4OaY9DZYkbfZUjs/w1eP8GiE2Cy153X3wEMH0VLSIdwu2nDichthO3vrmCssp95ZmLM/M4959p3PzacrpHhfHaT6fwzysmKLETkcAQEQNXvAXDz4RPbodP73KdAg9HdaXrxqmSzBaXkhDDqtrkrt908FRr3t2Rsha++DO881PoO9mNZAd4YgdK7kSkg4j0ds/8PqeEh+esZ2teKT97eQnn/3M+OwrLePjCMbz/sxlMHtDd16GKiLSs0Ai48L8w8RpIfRTevd51DDxU25dDdZmaqbSClMQYvs8pobCsyiUiJhg2qzTzsFWVw1s/gm8ehHFXwhVvQ+duB79dAFBZpoh0GNMGxnHllGSeSf2eFxZkEmTg5ycM5tpjB9A5TP8dikgACwqG0/8KUT3hq/ugNBcufO7QljOonQeWpOSupY32Lma+OruQaYPioM9Yzbs7XHt2wauXQdZCOPEemP4LMMbXUbUZfZoRkQ7ltlOHsXZ7EUndOnPrKUPpHRNYLZBFRBplDMy8DSLj4aNfwfNnuTlIzR3R2DIf4oZAlDoHt7TapiorapO75Onw7b+gqizgWvW3ql1r4aWLoGQ3XPQCjDjL1xG1OZVlikiHEhkewpvXTeOvF49VYiciHdNRP3JlmtuXwzOnQGHWwW/jqXGdMpOmtn58HVBs5zD6duvkOmaCS+5qKt3okzRPxmfw9Cx33n74UYdM7EDJnYiIiEjHM+IsNw+peLv7QLxrbdP771oDFYVqptKKRifEsiK7wP2RNAUwmnfXXAv/40bsYpPhJ5+75SQ6KCV3IiIiIh1R/6PdCIen2o3gbWmiO2NmmvupZiqtJiUxhq15ZeSXVEKnWOiVonl3B+Opgdm3wYe3wKAT4ZrZEJPo66h8SsmdiIiISEfVKwV+NMfNu3v+LFg/u+H9MtMgJgli+7ZtfB3I6NrFzPcuiTDDlWVWV/gwqnasotg1Tvn2nzDlerj0FQiP9nVUPqfkTkRERKQj69oPrpkDPYbDq5fD0hf3326tS+6SNd+uNY2sn9wlT4fqcshe4sOo2qnCLHjmVEj/FE7/C5xyn+sIK0ruRERERDq8qHi46n/Q/xh472cw9y/7FjvP3Qglu1SS2cpiOoXSPy6SFVkF7ora8/3ZXW5EtabaZ7G1K9lL4KkToCATLn8djvqxryNqV5TciYiIiIgrabvsdRh1AXz+B/j4NvB49s37UjOVVpeSELOvY2bnbnDqg5C/GV65BB4bDV/e17zupoFqzfvw7GkQEubKiQed6OuI2h2tcyciIiIiTkgYnPeUWwvv23+69cKsdX93H+Tr6ALe6MQY3l++jd3FFcRHh8Pk/4OJ18CGj2Hxc/D1A/DNgzDoJJhwNQyeBcEd4OO8tZD6mBvFTDwKLnlF6y02ogO8GkRERESk2YKC3Bym6J7w2d3uuhFnu0XQpVXVLma+KruQ44b1cFcGh8LwM90lPxOWvgBLXoBXL4Xo3jDuShh/JcQm+TDyVlRdCR/+0j3ukefBOf/Qwu5NUFmmiIiIiOzPGJhxM5z9dzDBMPhkX0fUIYxMiMEYWFFbmllf12Q4/g64eTVc8jL0HAXfPASPjoYXL4B1HwbW3LyyfHjxPJfYHfNrOP9pJXYHoZE7EREREWnYuCtg+FlqMd9GosJDGBgfxcraxcwbExwCw053l4ItbiRv6QtuaYDo3u55G3elSwb9Ve5GePki9/jOfRLGXNJmh7bWMmfNTqLCQ5g+KK7NjtsSlNyJiIiISOMiuvg6gg5ldEIM8zJymn+D2CQ4/ndw7G8gfY6bm/fNw+4y6AQ3N2/IKa68019kprlEFQM/eL9Nl+FYsiWf+z5ay8LN+Zw0oqeSOxEREREROTwpiTG8vTSbnUXl9OwS0fwbBofAsNPcpWCrW69wyfPw2hUQ1cuN5o3/QfsfzVv+Krx3g1t/8fLXoduANjlsZm4JD368ng9XbicuKpw/nzuKiyf2bZNjtyQldyIiIiIi7cToRNdUZUVWISeNOITkrq7YvnDc7XDMrZDxqRvNm/dXt37hwOPdaN7QU9vXaJ7HA1/+GeY+7NZbvOh56NS11Q+bV1LJ45+n89K3mYQEBfGLEwbzk2MGEBXun2mST6I2xjwEnAlUAhuBH1prC3wRi4iIiIhIezGidwxBBlZmFXDSiJ5HdmfBIS6JG3qqWx+vdjTv9Sshsse+0bxu/Vsm+MNVVQbvXger33HxnP7XVk88y6tqeDZ1M//4MoOSymouPqovN584hB6HMlraDhlrbdsf1JhZwBfW2mpjzAMA1trfHOx2EydOtIsWLWr1+EREREREfOWUR7+hV0wEz/1wUsvfuacGMj5zo3kbPgbrgQHHwcQfwtDT2n40b88ueOVSyF4MJ/0Bpt3Yqstu1Hgs7y7N5i9z1rOtsJwThvXgtlOHMbin/zQNMsYsttZObGibT0burLVz6vy5ALjAF3GIiIiIiLQ3KQkxfLFuF9ZaTEsnOkHBMORkdynMrjOa9wPvaN7l3tG8NpjrtnMNvHwxlOyGi19wa/m1ornpu7n3o3Ws3V5ESkIMf7loLFMHdm/VY7a19lBMeg3wWmMbjTE/BX4KkJQUoIszioiIiIh4jU6M4Y3FWWwrLCchthXXdYtJgJm/gWN+BRmfu9G81Mdh3iMwYKZ3bt7pEBLW8sdO/wzeuBrCIuGa2dBnXMsfw2vNtiLum72Wuek5JHbtxGOXjOXM0X0ICmq9EUJfabXkzhjzGdCrgU2/s9a+593nd0A18FJj92Ot/Tfwb3Blma0QqoiIiIhIu5GSGAu4eXetmtzVCgqGIbPcpWgbLH0JlvzXJV+R8TDWO5rXfWDLHO+7p2D2r6HnSLj0NZdktoLthWU8/MkG3l6aRZeIUO44fThXTk0mPCS4VY7XHrRacmetPbGp7caYq4AzgBOsLyb+iYiIiIi0Q8N6RRMSZFiRVcgpo3q37cG79IFjb4Wjfwkbv3CjeWl/g9RHof+xbjRv2BmHN5rnqYFPfgff/hOGnArn/wfCo1r4AUBReRX/+mojT8/7HmvhJ0cP4GczBxHTuR11B20lvuqWeQrwG+BYa22pL2IQEREREWmPIkKDGdormpXZhb4LIigYBp/kLkXbYdmLsPh5ePOH0DkOxl7mEr3mjuZVFMObP4L0T2DKz2DWH90xWlBltYeXv83k8S8yyCup5Jyxfbhl1lD6duvcosdpz3w15+4JIBz41DtJdIG19lofxSIiIiIi0q6MTozho5U7WqepyqHq0tutmTfjl7DpSzeaN//vkPY49DvaddocdgaEhDd8+4Kt8MolsGstnPEITLymRcOz1jJ71Q4e/Hgdm3NLmTqgO789bTgp3jUDOxJfdcsc5IvjioiIiIj4g5SEWF75bitb88pI6t5ORp6CgmHQie5SvMPbafO/8OY10Lm7G80bfzXE1fmon73YLXVQVQZXvOkWUW9Bizbn8eeP1rJ0SwFDekbx7NVHMXNovO8TYh9pD90yRURERESkjtHeUaflWQXtJ7mrK7qX67JZdzRvwT/d/Lx+R7uSTWPg3Z9BVDz84H3oMazFDr9x9x4e/Hgdn6zeSY/ocB44P4XzxycSEhzUYsfwRz5ZxPxwaRFzEREREekIKqs9jL7nEzwemJDclaOHxHH0oHhG9unSflv4F++EZd5Om/mb3XWJk+CSl12C1wJy9lTw2GfpvPzdFiJCgrj22IH86Oj+dA7rOGNWTS1iruRORERERKQdWroln9mrdjA3PYe124sA6No5lGmD4jh6UBwzBseR2LUdjup5PPD917BjBUz6PwiNOOK7LKus4T9zN/GvrzdSXu3hsklJ/PyEwcRHNzLPL4ApuRMRERER8WO7iytIzchhbnoO8zJ2s7OoAoABcZHMGBzHjEFxTB3YneiIwGr3X+OxvLl4K3/9dAM7iyqYNaInvzl1GAPjW34JBX+h5E5EREREJEBYa8nYtYdv0nOYl76bBZvyKKuqITjIMK5vLDMGx3H04HjGJMb47Rw0ay1frd/N/bPXsX5nMeOSYvntacM5ql83X4fmc0ruREREREQCVEV1DUsyC5iXsZt56TmsyC7EWoiOCGHqgO4c7U32krt39osukquyC7n3o7WkbcwluXtnfnPKME4d1csvYm8LSu5ERERERDqI/JJK0jbmMi9jN99syCG7oAyAxK6d9iZ60wZ2J7ZzmI8j3V9WfikPf7Ked5dto2vnUH5xwmAum5xMWIh/jj62FiV3IiIiIiIdkLWWzbmlzEvfzdz0HOZvzKW4ohpjYHRCzN4SzvFJXX2WRBWWVvH3rzJ4LnUzxsCPZvTn2pkD6RJg8wdbipI7ERERERGhusbD8qwC15glPYelWwuo8Vg6hwUzuX83ZgyO55jBcQzqEdXqZZAV1TW8MD+Tv32RQVF5FeeNS+SWWUPoE9upVY/r75TciYiIiIjIAYrKq1iwMZd5GS7Z25RTAkDPLuHMGBTPMUPimD4ojriolltywOOxfLByOw99so6teWUcPTiO208dzog+XVrsGIFMyZ2IiIiIiBxUVn4p89JzmJuRQ2pGDgWlVQAM793FO18vjqP6dSMiNPiw7n/Bplzu+2gty7MKGdYrmt+eNpxjhrTMAucdhZI7ERERERE5JDUey+pthXtLOBdl5lFVYwkLCWJSv24cPdgtpD68VxeCgpou4UzfWcz9s9fx+bpd9I6J4JZZQzl3XALBB7mdHEjJnYiIiIiIHJHSymq+/T6Ped5kb/3OYgC6R4YxfVDc3k6cvWIi9t5mV1E5j3y2gdcWbiUyLITrjhvINdP7H/bInzSd3IW0dTAiIiIiIuJ/OoeFcNzQHhw3tAcAO4vKXaKXkcPc9BzeX74NgEE9opgxKI7OYcE8l7aZymoPP5jaj5+fMJhuke1r+YVAo5E7ERERERE5ItZa1u0o3jtf79tNuVRUezg9pTe3njyUfnGRvg4xYGjkTkREREREWo0xhuG9uzC8dxd+cswAyqtqyC+tpHeMljVoS1ruXUREREREWlREaLASOx9QciciIiIiIhIAlNyJiIiIiIgEACV3IiIiIiIiAUDJnYiIiIiISABQciciIiIiIhIAlNyJiIiIiIgEACV3IiIiIiIiAUDJnYiIiIiISABQciciIiIiIhIAlNyJiIiIiIgEAGOt9XUMzWaM2Q1k+jqOABQH5Pg6iA5K5953dO59R+fed3TufUfn3nd07n1H5751JFtr4xva4FfJnbQOY8wia+1EX8fREenc+47Ove/o3PuOzr3v6Nz7js697+jctz2VZYqIiIiIiAQAJXciIiIiIiIBQMmdAPzb1wF0YDr3vqNz7zs6976jc+87Ove+o3PvOzr3bUxz7kRERERERAKARu5EREREREQCgJK7DswYc7MxZrUxZpUx5hVjTISvYwpUxphnjDG7jDGr6lzXzRjzqTEm3fuzqy9jDGSNnP+HjDHrjDErjDHvGGNifRhiwGro3NfZ9itjjDXGxPkitkDX2Lk3xtxojFnv/f//QV/FF8ga+T9nrDFmgTFmmTFmkTFmki9jDFTGmL7GmC+NMWu9r/FfeK/Xe24ra+Lc6/22DSm566CMMQnAz4GJ1tpRQDBwiW+jCmjPAafUu+424HNr7WDgc+/f0jqe48Dz/ykwylo7GtgA3N7WQXUQz3HguccY0xc4CdjS1gF1IM9R79wbY44DzgZGW2tHAg/7IK6O4DkOfN0/CNxjrR0L3On9W1peNXCLtXY4MAX4mTFmBHrPbQuNnXu937YhJXcdWwjQyRgTAnQGtvk4noBlrf0GyKt39dnAf72//xc4py1j6kgaOv/W2jnW2mrvnwuAxDYPrANo5LUP8Ajwa0ATv1tJI+f+OuB+a22Fd59dbR5YB9DIubdAF+/vMeg9t1VYa7dba5d4fy8G1gIJ6D231TV27vV+27aU3HVQ1tps3De2W4DtQKG1do5vo+pwelprt4P7DxHo4eN4OrJrgNm+DqKjMMacBWRba5f7OpYOaAhwtDHmW2PM18aYo3wdUAdyE/CQMWYr7v1XoxetzBjTDxgHfIvec9tUvXNfl95vW5mSuw7KW2t+NtAf6ANEGmOu8G1UIm3PGPM7XCnJS76OpSMwxnQGfocrS5O2FwJ0xZVM3Qq8bowxvg2pw7gOuNla2xe4GXjax/EENGNMFPAWcJO1tsjX8XQkjZ17vd+2DSV3HdeJwPfW2t3W2irgbWCaj2PqaHYaY3oDeH+qPKqNGWOuAs4ALrdaF6atDMR9qbTcGLMZV56zxBjTy6dRdRxZwNvW+Q7wAGpo0zauwr3XArwBqKFKKzHGhOKSi5estbXnXO+5baCRc6/32zak5K7j2gJMMcZ09n5rewKuNlrazvu4N3u8P9/zYSwdjjHmFOA3wFnW2lJfx9NRWGtXWmt7WGv7WWv74ZKN8dbaHT4OraN4FzgewBgzBAgDcnwZUAeyDTjW+/vxQLoPYwlY3s80TwNrrbV/rbNJ77mtrLFzr/fbtqVFzDswY8w9wMW4IfKlwI9rJ9lLyzLGvALMxH1DvhO4C/ch63UgCZdsX2itbajxhByhRs7/7UA4kOvdbYG19lqfBBjAGjr31tqn62zfjOvaqwSjhTXyun8BeAYYC1QCv7LWfuGjEANWI+d+PfAYrjS2HLjeWrvYVzEGKmPMDGAusBI3Mg3wW9zcL73ntqImzv3j6P22zSi5ExERERERCQAqyxQREREREQkASu5EREREREQCgJI7ERERERGRAKDkTkREREREJAAouRMREREREQkASu5ERKTDM848Y8ypda67yBjzsS/jEhERORRaCkFERAQwxowC3gDGAcHAMuAUa+3Gw7ivYGttTctGKCIi0jQldyIiIl7GmAeBEiDS+zMZSMEtPH23tfY9Y0w/3GLgkd6b3WCtTTPGzMQtVr0dGGutHdG20YuISEen5E5ERMTLGBMJLAEqgQ+A1dbaF40xscB3uFE9C3isteXGmMHAK9baid7k7kNglLX2e1/ELyIiHVuIrwMQERFpL6y1JcaY14A9wEXAmcaYX3k3RwBJwDbgCWPMWKAGGFLnLr5TYiciIr6i5E5ERGR/Hu/FAOdba9fX3WiMuRvYCYzBNSYrr7O5pI1iFBEROYC6ZYqIiDTsE+BGY4wBMMaM814fA2y31nqAK3HNV0RERHxOyZ2IiEjD/giEAiuMMau8fwP8A7jKGLMAV5Kp0ToREWkX1FBFREREREQkAGjkTkREREREJAAouRMREREREQkASu5EREREREQCgJI7ERERERGRAKDkTkREREREJAAouRMREREREQkASu5EREREREQCgJI7ERERERGRAPD//399QGAJvT8AAAAASUVORK5CYII=\n",
      "text/plain": [
       "<Figure size 1080x360 with 1 Axes>"
      ]
     },
     "metadata": {
      "needs_background": "light"
     },
     "output_type": "display_data"
    }
   ],
   "source": [
    "STEM_GRA.groupby(['Year'])['Inflation'].mean().plot(figsize = (15, 5), label=\"STEM Inflation\")\n",
    "HUM_GRA.groupby(['Year'])['Inflation'].mean().plot(figsize = (15, 5),label=\"HUM Inflation\")\n",
    "plt.xlabel(\"Year\")\n",
    "plt.ylabel(\"Inflation\")\n",
    "plt.title(\"Relative Inflation rate(compared to previous year)\")\n",
    "plt.legend()"
   ]
  },
  {
   "cell_type": "markdown",
   "metadata": {},
   "source": [
    "This plot allows us to investigate the inflation of grades between 2007 and 2023, highlighting the differences between STEM and HUM. Despite HUM showing higher overall grades than STEM, the plot implies that there is no significant difference between the inflation of grades in the two categories. In order to look into this futher, we may look into absolute inflation which utilizes 2007 as it's base year. This will allow us to directly measure the changes in grades over time, providing further insight into the magnitude of grade inflation."
   ]
  },
  {
   "cell_type": "code",
   "execution_count": 27,
   "metadata": {},
   "outputs": [
    {
     "data": {
      "text/plain": [
       "<matplotlib.legend.Legend at 0x7f4bbdb56f10>"
      ]
     },
     "execution_count": 27,
     "metadata": {},
     "output_type": "execute_result"
    },
    {
     "data": {
      "image/png": "iVBORw0KGgoAAAANSUhEUgAAA3UAAAFNCAYAAACnuEbJAAAAOXRFWHRTb2Z0d2FyZQBNYXRwbG90bGliIHZlcnNpb24zLjQuMiwgaHR0cHM6Ly9tYXRwbG90bGliLm9yZy8rg+JYAAAACXBIWXMAAAsTAAALEwEAmpwYAABvBUlEQVR4nO3dd3iUVdrH8e9JT0gloUPovQUIRaRasWEXrFixrG3fVdd1m9tcV91ddXXX3hXsglhRaSK9915CTUIIpLc57x/PBJJICZCZJ5P8Ptc118w89Z5nJsncOefcx1hrERERERERkcAU5HYAIiIiIiIicvKU1ImIiIiIiAQwJXUiIiIiIiIBTEmdiIiIiIhIAFNSJyIiIiIiEsCU1ImIiIiIiAQwJXUiUi8YY94wxvy1ho95ozHmx5o8Zk0xxtxpjNlrjMk1xiQaY6wxpsNJHutaY8y3NR2jvxhjzjHGfOZ2HP50Ku93beL9/LZzOw5fMMbca4x53O04RKRuUFInInWKMWa6MWa/MSbc7VgqOtUE8ET2N8aEAv8CzrHWRltr953Aedp4E4KQ8mXW2netteeceNQ1z/v+3nqCuz0G6Muz10leQ1d4P7+b3Y7DR14CrjPGNHY7EBEJfErqRKTOMMa0AYYCFhjtbjSuagJEAKvcDuREVEwka/CY/YE4a+3cmj62v/jiuvhLIMfuS8aYEGttIfAVcIPb8YhI4FNSJyJ1yQ3AXOANYNwR1icZY6YaY3KMMTOMMa0BjOPfxph0Y8wBY8xyY0wP77o4Y8xbxpgMY8w2Y8zvjDE/+915pBau8hYRY0xX4AXgNG93smzv+nBjzFPGmO3erpIvGGMiq/NCjTFbjTEPeGM9YIx53xgTYYzpBKzzbpZtjPnhCPteYIxZYow5aIxJM8Y8WmH1zAr75hpjTqvaSmiMGWyMWeA97wJjzOAqr/kvxpjZ3uv8rTEm6SivYYQxZocx5tfGmD3A68aYBGPMFO/13u993NK7/d9wkvbnvLE9513exfu+Zhlj1hljrqpwmvOAGVXO273C9nuNMY9UeD+eNsbs8t6eLm/xrRDrQ97PyW5jzCXGmPONMeu9x3qkwjkeNcZ85H1fcowxi40xvSusf9gYs8m7brUx5tIK6270Xr9/G2OygEeP91kxxjzojWmXMebmI13v41zDo76nRzjGVmPMb7xx7zfGvG6MiTjGexpU4fXuM8Z8YIxp6N3+a2PM3VWOv8wYc5n38aFupOYYP4ve6/1OhWNU+nn0XtPN3uu9xRhz7RFeV1NjTL4xJrHCsn7e84V6n99sjFnjfd3fGO/vEO+6Z4zz83TQGLPIGDO0wrryz8M7xpiDwI3eVdOBC452rUVEqktJnYjUJTcA73pv5xpjmlRZfy3wFyAJWOrdDuAcYBjQCYgHxgDlXRb/A8QB7YDh3nPcdCJBWWvXAHcAc7zdyeK9q/7hPWcK0AFoAfzhBA59FTAKaAv0Am601q4HunvXx1trzzjCfnne1xGP84XyTmPMJd51wyrsG22tnVNxR++X8S+AZ4FEnG6eX1T8Igxcg3ONGgNhwAPHeA1NgYZAa2A8zt+l173Pk4EC4DkAa+1vgVnA3d7Y7jbGNACmAu95z3c18F9jTPk16MnhJBdjTAzwHfA10Bznun/vXf1bYBDO+9EbGAD8rkqsERx+n14GrgP64SRKfzCVx39dDHzofX3vAZ+VJwfAJu8+ccCfgHeMMc0q7DsQ2Ox9TX/jGJ8VY8wonGt8NtAROOtIF/oY17A672lV1wLnAu29cVW9ThXf03uBS3B+fpoD+4Hnvdu+h/Oe4X0t3bz7fXGEc57Uz6L3M/IscJ61NgYYjPPzX4m1dg9OklXxnwLXAROttSXen5FHgMuARjjXcUKFbRfgvD/l7/eH5cmu18XARzg/d+W/e9bgfNZERE6NtVY33XTTLeBvwBCgBEjyPl8L/LLC+jdwvpyVP48GyoBWwBnAepwv9EEVtgkGioBuFZbdDkz3Pr4R+NH7uA1Ot8+QCttOB26tuq33ucFJrtpXWHYasOUor6/q/luB6yo8fwJ44RixWKDDUY79NPDvY+xb8XVeD8yvsv8cnISy/DX/rsK6u4Cvj3LeEUAxEHGM9zUF2H+ka+p9PgaYVWWfF4E/eh9PBe6osO5qYMlRzrUJOL/C83OBrRViLQCCvc9jvNdpYIXtFwGXeB8/CsytsC4I2A0MPcq5lwIXV7je26v7WQFeAx6vsK7Tcd7vqtfwmO/pEfbfWuWang9sOtp7ipO4nFnheTOcn9UQ73XMA1p71/0NeK3q55bj/yw+CrxTYV0b774hQAMgG7gciDzaZ63C52m2PfzzvwcY4H3+FXBLlfc0vzz2IxxrP9C7Qnwzj7BNR6DsWDHppptuulXnppY6EakrxgHfWmszvc/f4+ddMNPKH1hrc4EsoLm19gec1qDngb3GmJeMMbE4LXphwLYKx9iG00pyqhoBUcAiY0y2cbpkfu1dXl17KjzOx0lUj8sYM9AYM83brewATiviEbtIHkFzKl8P+Pk1OZG4Mqwztqg8tihjzIve7nUHcbqDxhtjgo+yf2tgYPk19F7Ha3Fai8D5Yh1TYftWOMnbkVR9bdu8y8rts9aWeR8XeO/3VlhfQOXXWvHz5gF2lB/PGHODMWZphZh7UPk9SKvw+HifleZVtq/6/hxPdd7Tqqqer+J1qvSe4rxHn1aIfQ3OP1SaWGtzcFrlxnq3HcvhVqyKTvpn0Vqbh5Os3QHsNsZ8YYzpcpTNJwHdvC2uZwMHrLXzK7yOZyq8jiychLsFgDHmV96umQe86+M4+ntaLgY4cLzXICJyPErqRCTgeccWXQUMN8bs8Y7l+SXQ21QYx4Tzhb58n2icblK7AKy1z1pr++F0XewEPAhk4rQotK5wjGRg5xHCyPPeR1VY1rTCY1tl+0ycJKC7tTbee4uz1lYrMTtF7wGTgVbW2jic8X7mKHFWtYvK1wOOfk2qo+r5fgV0xmkBi+Vwd9CjxZcGzKhwDeOt063wTu/65TjvZ8Xt2x8llqqvLdm77GRV/LwFAS2BXd5xWC8DdwOJ1umOu5LDrxEqv87jfVZ2VzyXN+5jqXoNT+Y9rXq+itfpSO/ReVXeowhrbfnxJwBXG2NOAyKBaUc43/F+FvM4+s8e1tpvrLVn47QSrsW5/j/jTUY/wPnHwPXA21Vex+1VXkektfYn7/i5X+P8HkrwvqcHOPp7Wq4rsOxIsYiInAgldSJSF1yC85//bjjd9VJwvizNonJlufONMUOMMWE4Y+vmWWvTjDH9va1XoThfDgtxukSV4XzB+5sxJsb7Zfz/gHeowlqbgfMF8zpjTLBxilVUTB72Ai295y5vuXkZ+LfxljQ3xrQwxpxbI1fk2GKALGttoTFmAM4YuHIZgAdn3NKRfAl0MsZcY4wJMcaMwbnuU2owtgKcQi0NgT9WWb+3SmxTvPFcb4wJ9d76G6c4TXm8w6ts39QYc79xio/EGGMGetdNAH5njGlknOIuf+AI7/UJ6GeMucxbrON+nO6Dc3G6A1qca40x5iaclrojqsZn5QPgRmNMN2NMFD+/ZlVVvYYn857+whjT0vsePQK8f4xtX8D5GSovTNTIGHNxlfO3Bv4MvO99vZVU42dxKTDMGJNsjIkDflO+rzGmiTFmtHdsXRGQi/P74mjewukCO5rK7/8LwG/Kx2sap3DLld51MUApznsaYoz5AxB7jHOUG47TrVNE5JQoqRORumAc8Lq1dru1dk/5DadL5bXmcEXK93C+8GbhFLcor4AXi/OleT9Ol659wFPedffgJHqbgR+9x3jtKHHchtPCtw+nxe+nCut+wJliYI8xpryL6K+BjcBcb1fD73BaqXztLuDPxpgcnMTlg/IV1tp8nHFNs73dzAZV3NE6c95diNOitg94CLiwQrfXU/U0TmtNJk4C9HWV9c8AVxin+uCz3u575+B029uF0/XzH0C4N97FwIHyxM27/dnARd5tNwAjvcf+K7AQp3VvBbDYu+xkTcLp9rcfp9XnMmttibV2NfBPnHFre3GKucw+zrGO+lmx1n6Fc91+8G7zs4qnVVS9hifznr4HfIvzc7GZY1+nZ3Bahr/1fubm4hSCwRt/EfAJToGX945xnKP+LFprp+IklstxxjZWTEiDvK9tF87P/nCcn4EjstbOxvnHxmJr7dYKyz/F+WxN9L4HK3GqqwJ8g5Ocrcf5HVLIkbtbHuItonI+8OaxthMRqQ5j7fF62oiIiAQuY8w5wF3W2kv8eM5HcQqVXOevc/qLMWYrTqGV79yOxVeMMxXIe9baV3x4jntwukA/5KtziEj9oUlBRUSkTrPWfovTqiRyXMaZsL4vzhQEPmOt/Y8vjy8i9Yu6X4qIiIgAxpg3cbq23u/tqisiEhB81v3SGPMaTh/9dGttjyrrHgCeBBrV4DgMERERERGReseXLXVvAKOqLjTGtMIZpL7dh+cWERERERGpF3yW1FlrZ+JUmarq3ziVtVShRURERERE5BT5tVCKMWY0sNNau8wYc9ztyyUlJdk2bdr4LC4REREREZHabNGiRZnW2kZHWue3pM47IepvceYTqs7244HxAMnJySxcuNCH0YmIiIiIiNRexphtR1vnz+qX7YG2wDLvHDctgcXGmKZH2tha+5K1NtVam9qo0RETUhERERERkXrPby111toVQOPy597ELlXVL0VERERERE6ez1rqjDETgDlAZ2PMDmPMLb46l4iIiIiISH3ls5Y6a+3Vx1nfxlfnFhERERGRykpKStixYweFhYVuhyLHEBERQcuWLQkNDa32Pn6tfikiIiIiIu7YsWMHMTExtGnThhOpRC/+Y61l37597Nixg7Zt21Z7P38WShEREREREZcUFhaSmJiohK4WM8aQmJh4wq2pSupEREREROoJJXS138m8R0rqRERERETEL/72t7/RvXt3evXqRUpKCvPmzePSSy8lJSWFDh06EBcXR0pKCikpKfz000+MGDGCzp07H1p2xRVXAPDoo49ijGHjxo2Hjv3vf/8bY8wR57ceMWLEcee9zsjIYODAgfTp04dZs2bRpk0bMjOPXaj/scceq/R88ODB1b0UNUpj6kRERERExOfmzJnDlClTWLx4MeHh4WRmZlJcXMynn34KwPTp03nqqaeYMmVKpf3effddUlNTf3a8nj17MnHiRH73u98B8NFHH9GtW7eTju/777+nS5cuvPnmm9Xe57HHHuORRx459Pynn3466fOfCrXUiYiIiEidklNYwsKtWW6HIVXs3r2bpKQkwsPDAUhKSqJ58+YnfbxLLrmESZMmAbB582bi4uJo1KjRcfeLjo7mt7/9Lb1792bQoEHs3buXpUuX8tBDD/Hll1+SkpJCQUHBz87Vr18/unfvzksvvQTAww8/TEFBASkpKVx77bWHjg1OwZMHH3yQHj160LNnT95//33ASVxHjBjBFVdcQZcuXbj22mux1p70NSinpE5ERERE6pQnvl7HFS/M4bUft7gdilRwzjnnkJaWRqdOnbjrrruYMWNGtfa79tprD3W/fPDBBw8tj42NpVWrVqxcuZIJEyYwZsyYah0vLy+PQYMGsWzZMoYNG8bLL79MSkoKf/7znxkzZgxLly4lMjKy0j6vvfYaixYtYuHChTz77LPs27ePxx9/nMjISJYuXcq7775baftPPvmEpUuXsmzZMr777jsefPBBdu/eDcCSJUt4+umnWb16NZs3b2b27NnVivtY1P1SREREROoMay0/rE0nNNjw5ymrCQ02XH9aG7fDqnX+9PkqVu86WKPH7NY8lj9e1P2o66Ojo1m0aBGzZs1i2rRpjBkzhscff5wbb7zxmMc9WvdLgLFjxzJx4kS++eYbvv/+e15//fXjxhkWFsaFF14IQL9+/Zg6depx93n22WcPdRNNS0tjw4YNJCYmHnX7H3/8kauvvprg4GCaNGnC8OHDWbBgAbGxsQwYMICWLVsCkJKSwtatWxkyZMhxYzgWtdSJiIiISJ2xIT2XndkF/OHCbpzVtTG/n7SK9+Ztdzss8QoODmbEiBH86U9/4rnnnuPjjz8+peNddNFFvP322yQnJxMbG1utfUJDQw9VmAwODqa0tPSY20+fPp3vvvuOOXPmsGzZMvr06XPcKQeO1aWyvPtpdc9fHWqpExEREZE644e16VwYNIcxy55kzJl/5HZPIx75dAUhwYarUlu5HV6tcawWNV9Zt24dQUFBdOzYEYClS5fSunXrUzpmZGQk//jHP+jUqVNNhHhEBw4cICEhgaioKNauXcvcuXMPrQsNDaWkpITQ0NBK+wwbNowXX3yRcePGkZWVxcyZM3nyySdZu3atT2JUUiciIiIidca0tek8GvktYXvWwbuX8HKva7i73WX8+uPlhAQZLuvb0u0Q663c3FzuuecesrOzCQkJoUOHDoeKjhzLtddee2iMW1JSEt99912l9WPHjvVJvOVGjRrFCy+8QK9evejcuTODBg06tG78+PH06tWLvn37VhpXd+mllzJnzhx69+6NMYYnnniCpk2b+iypMzVRbcXXUlNT7fHmlRARERGR+u1gYQnn/Xkis8PuhqEPgC2D2c9ioxryXNit/HtPD/49pg8Xp7RwO1RXrFmzhq5du7odhlTDkd4rY8wia+0RBxeqpU5ERERE6oQfN2RytpnvPOk9FpI6Qo/LMZPv5Z5df2dw7ADue/86QoLO4YJezdwNVqQGqVCKiIiIiNQJ09amc1HoAmyjrk5CB9C0J9z6HZz7d/p6VjE14iEWf/AYX6/Y6W6wIjVISZ2IiIiIBDyPx7J87Xr6sBbT7eLKK4OC4bS7ML+YS2jbIfw+5C2afXgRc36a6U6wIjVMSZ2IiIiIBLxVuw7Sv3A2QViomtSVi08m5PqPyB/9Iq2DM0n95hK2fvAwlBy7PL1IbaekTkREREQC3rR16ZwXPJ/Shh2g8TGKgRhDVN+xBN29gOkRI2mz+n/kPzsQtqjVTgKXkjoRERERCXiL1mxgUNAaQrpfDN6JpY8lNrEJqfdO4DfRfyXjYAG8eRFM+gXkZ/khWpGapaRORERERALavtwimu3+gWA8R+96eQQJDcJ44I7x3BP3HC95RmOXToDnB8DKjyEApv0KRNHR0ZWev/HGG9x9990A3HjjjXz00UdH3H7r1q0YY/j9739/aF1mZiahoaGH9j/acY/lwQcfpHv37jz44IM8+uijPPXUU8fc/rPPPmP16tWHnv/hD3/42bx5blBSJyIiIiIBbeaGDM4LmkdRTDI07XVC+yZGh/Pa+OF8EH8rl5c9Rl5EM/joZnhvDGSn+ShiORnt2rVjypQph55/+OGHdO/e/ZSO+eKLL7J48WKefPLJam1fNan785//zFlnnXVKMdQEJXUiIiIiEtDmrtrM6cGrCOtxSbW6XlaVFB3Oe7cOJDu2C6dlPMyOAb+DrbPgv4Ng7gvgKav5oOWERUZG0rVrVxYuXAjA+++/z1VXXXXc/W688UbuvfdeBg8eTLt27Q61Bo4ePZq8vDwGDhzI+++/X2mfl19+mf79+9O7d28uv/xy8vPz+emnn5g8eTIPPvggKSkpbNq0qVLr4vfff0+fPn3o2bMnN998M0VFRQC0adOGP/7xj/Tt25eePXuydu3amrwsgJI6EREREQlgZR5L6MavCaEM0/2Skz5O49gI3rttEAkxUZw3rxerL/0WkgfB17+GV8+BvatqLuh6rKCggJSUlEO3P/zhDye0/9ixY5k4cSI7duwgODiY5s2bV2u/3bt38+OPPzJlyhQefvhhACZPnkxkZCRLly5lzJgxlba/7LLLWLBgAcuWLaNr1668+uqrDB48mNGjR/Pkk0+ydOlS2rdvf2j7wsJCbrzxRt5//31WrFhBaWkp//vf/w6tT0pKYvHixdx5553H7eJ5MkJq/IgiIiIiIn6yNG0/I8p+oiC6GZEt+p7SsZrGRTDhtkGMeWkOYz/YxXu3vkqPXlOdxO7FYXD6fTDsIQiNqKHoXfTVw7BnRc0es2lPOO/xY25SnkSVe+ONNw61vJkjtLJWXTZq1Ch+//vf06RJk58lYsdyySWXEBQURLdu3di7d+9xt1+5ciW/+93vyM7OJjc3l3PPPfeY269bt462bdvSqVMnAMaNG8fzzz/P/fffDzhJIkC/fv345JNPqh13damlTkREREQC1o8rNzM0aAVB3UefVNfLqprHR/LerYOIiQjl2lfnszrpXLh7IfS8Cmb9E/43GLbMqoHIparExET2799/6HlWVhZJSUmVtgkLC6Nfv37885//5PLLL6/2scPDww89ttUognPjjTfy3HPPsWLFCv74xz9SWHjsuQyPd8zy8wcHB1NaWlqNiE+MWupEREREJGAVrf6KcFMKvS6rsWO2ahh1qMXuulfnMeG2QXS+9H/Q60qY8kt480Locz2c8xeITKix8/rVcVrU3DBixAiefvppxo0bR1hYGG+88QYjR4782Xa/+tWvGD58OImJiT6LJScnh2bNmlFSUsK7775LixYtAIiJiSEnJ+dn23fp0oWtW7eyceNGOnTowNtvv83w4cN9Fl9VaqkTERERkYC050AhPQ/OIC8sCVoOqNFjJyc6iV1osOHaV+ayMT0H2p8Bd86BwffC0vfguQGw8hNNf1BDLrzwQoYOHUq/fv1ISUlh9uzZ/OMf//jZdt27d2fcuHE+jeUvf/kLAwcO5Oyzz6ZLly6Hlo8dO5Ynn3ySPn36sGnTpkPLIyIieP3117nyyivp2bMnQUFB3HHHHT6NsSJTneZHt6WmptryvrYiIiIiIgAfz1nLBV8PoaDHNSRc+axPzrEpI5exL80FYOL4QbRv5J1nbfcymHyPc99pFFzwT4hr6ZMYasqaNWvo2rWr22FINRzpvTLGLLLWph5pe7XUiYiIiEhAylz6BRGmhPjUK3x2jvaNonnv1oF4PJZrXp7L1sw8Z0Wz3nDrD3DOX2HLTHh+IMx7UdMfiCt8ltQZY14zxqQbY1ZWWPakMWatMWa5MeZTY0y8r84vIiIiInVXcamHVnumkhsSj2l9uk/P1bFJDO/dNojiUg9XvzyX7fvynRXBITD4HrhrDrQaAF89BK+dC3tXH/uAIjXMly11bwCjqiybCvSw1vYC1gO/8eH5RURERKSOWrxxF8NZTHbyuRAU7PPzdW4aw7u3DqKgpIyrX57Ljv35h1cmtIHrPoFLX4KszfDiUPj+L1By7IqJIjXFZ0mdtXYmkFVl2bfW2vIannOB2t3xWERERERqpbSFn9PAFJHU/0q/nbNb81jeuWUgOYUlXP3yXHZlFxxeaQz0HgO/WAA9roBZT8ELp8PWH/0WX3UEQj2N+u5k3iM3x9TdDHx1tJXGmPHGmIXGmIUZGRl+DEtEREREarv4bV+TGxRDRKcRfj1vjxZxvH3LQLLzSrjm5bnsOVClNa5BIlz2otNyV1YCb1wAk++Fgmy/xnkkERER7Nu3T4ldLWatZd++fUREnNgE9z6tfmmMaQNMsdb2qLL8t0AqcJmtRgCqfikiIiIi5dLS9xP3fFf2ND+HTre/5UoMi7bt54ZX59EkNoKJtw+iccwRvoQX58H0v8Oc56FBIzjvCeh2cY1Mkn4ySkpK2LFjx3En0hZ3RURE0LJlS0JDQystP1b1S79PPm6MGQdcCJxZnYRORERERKSi9XOncKYpIL/f5a7F0K91Am/cPIBxr83nmpfnMXH8IJKiwytvFNbAqY7Z4wpn+oMPx0Hn8+H8pyCuhd9jDg0NpW3btn4/r/ieX7tfGmNGAb8GRltr84+3vYiIiIhIVWHrPieXKJqmVK3J51/92zTktRv7s2N/Pte+PI+svOIjb9g8BW6bBmf/BTZNc6Y/mP8yeDx+jVfqLl9OaTABmAN0NsbsMMbcAjwHxABTjTFLjTEv+Or8IiIiIlL3FBYW0jP3RzY1HAoh4cffwccGtUvk1XH92bovj2tfmUd2/lESu+AQOP1eZ/qDlqnw5QPO9Afpa/wbsNRJvqx+ebW1tpm1NtRa29Ja+6q1toO1tpW1NsV7u8NX5xcRERGRumft3C+JN3kEd7/E7VAOOb1DEi/fkMqmjFyue3UeB/JLjr5xw7Zw/adw6YuwbyO8MBR++JumP5BT4mb1SxERERGRE1Ky4jPybDgdThvtdiiVDOvUiBev68f6Pbnc8No8DhYeI7EzBnqPhbsXQI/LYOYT8MIQ2PaT/wKWOkVJnYiIiIgEBFtWSod901gVfRoRUdFuh/MzI7s05r/X9mXVroPc+Np8cotKj71DgyS47CW47mMoK4LXz4PP76sV0x9IYFFSJyIiIiIBYdfyH0jgIIUdL3Q7lKM6q1sTnrumD8t2HOCm1+eTd7zEDqDDWXDXXDjtblj8llNIZfMM3wcrdYaSOhEREREJCNmLPqLAhtFh8KVuh3JMo3o049mxfVi8PZub31hAfnE1EruwBnDu3+C2HyAyHt67Cjb94PNYpW5QUiciIiIitZ/HQ/NdU1kU2o/mjZPcjua4LujVjH9d1ZsFW7O49c2FFJaUVW/H5n3gxi+hYXuYcDVsnu7TOKVuUFInIiIiIrVe/uafSPBksa+1u3PTnYiLU1rw1JW9mbN5H7e9dQKJXYNEGDcZGraD98aqK6Ycl5I6EREREan10ud+QJENoXn/S9wO5YRc1rcl/7isF7M2ZHLnO4soKq1uYpcEN0yGhDbw3hjYMsuncUpgU1InIiIiIrWbtcRv+4o59CKlY7Lb0Zywq/q34rFLezJtXQa/eHcJxaWe6u0Y3QjGfQ4JrZ0xdlt/9G2gErCU1ImIiIhIrWZ3LiK+JJ1tTc8mNDgwv75eMzCZP1/cne/W7OXeCUsoKTvBxC6uFbx7JWyd7dtAJSAF5k+FiIiIiNQb++Z/QIkNJq537Zpw/ETdcFob/nBhN75etYf7Jy6ltNqJXWNvYtfSSew0SblUoaRORERERGovawldP4WfPN0Z3LOD29GcspuHtOW353flixW7+dWHyyjz2OrtGNPESexim8M7V8C2Ob4NVAKKkjoRERERqb32LCeucCfLY0fQOCbC7WhqxG3D2vHQqM5MWrqLBz86kcSuKdw4BWKbwbtXwPZ5vg1UAoaSOhERERGptQqXf0qZNYR0u8DtUGrUXSM68H9nd+KTxTv5zSfL8ZxIYjduCkQ3gXcuh7T5vg1UAoKSOhERERGpnayldMWnzPV0Y2DPzm5HU+PuPbMj957RgQ8W7uB3k1ZibTUTu9hmTotddCN4+zJIW+DbQKXWU1InIiIiIrVT+hqic7cyI2QwvVvGux2NT/zy7E7cNaI9783bzh8nrzqBxK6502LXIAneuQx2LPRtoFKrKakTERERkVrJs3oSHgyFHc4jOMi4HY5PGGN48NzOjB/WjrfmbOPPU1ZXP7GLa+G02EU1hLcvhR2LfBus1FpK6kRERESkVipa/ikLPJ3p172L26H4lDGG35zXhZtOb8Prs7fy96/WnkBi19JpsYtMcBK7nYt9G6zUSkrqRERERKT2ydxA5P51fO0ZwLCOjdyOxueMMfzhwm7ccFprXpq5meenbaz+zvGtnBa7yDh4+xLYtcRncUrtpKRORERERGqf1ZMA2NH0LBIahLkcjH8YY3j0ou5c2qcF/5y6nu/X7K3+zvHJcOMXEBEHb10Cu5b6KkyphZTUiYiIiEitU7LyMxZ7OpDSvbvbofhVUJDh75f1pHvzWO6fuJRNGbnV3zk+2emKGR4Db10Mu5f5LlCpVZTUiYiIiEjtkrWF0PQVfFk2kBGd637Xy6oiQoN58fpUQkOCGP/WQnIKS6q/c0JrpytmWLQ3sVvuu0Cl1lBSJyIiIiK1y5rJACyMPJ1uzWJdDsYdLeIjef6avmzdl8+vPlhW/cnJARLaOIldaBS8NRr2rPBZnFI7KKkTERERkVrFs2oSq2hH5y49MaZuTmVQHae1T+S353fl29V7T6xwCkDDtk5iFxIJb46GPSt9E6TUCkrqRERERKT2yE4jaNcivijpz8gujd2OxnU3nd6GS/u04F/freeHtSdQOAWgYTtvYhfhtNjtXe2bIMV1SupEREREpPZY8zkAUxnI6R0SXQ7GfcY4hVO6NYvlvglL2XwihVMAEts7iV1wGLx5kRK7OkpJnYiIiIjUHqsnsTmoDY3adCcmItTtaGoFp3BKP6dwytuLyC0qPbEDJLZ3qmIGhTiJXfoa3wQqrlFSJyIiIiK1w8Hd2LR5fFaUysjO6npZUcuEKJ67pg9bMvP41QdLT6xwCkBSB6fFLijYm9it9U2g4gqfJXXGmNeMMenGmJUVljU0xkw1xmzw3if46vwiIiIiEmDWTsFg+dIzgJFd6t9UBsczuH0Sj5zflW9W7eW/00+wcApAUkenxQ7jJHYZ62s8RnGHL1vq3gBGVVn2MPC9tbYj8L33uYiIiIgIrJ7ErtBkihI60r5RtNvR1Eo3n96GS1Ka88+pJ1E4BaBRJ6fFDgtvXgiZG2o8RvE/nyV11tqZQFaVxRcDb3ofvwlc4qvzi4iIiEgAyc3AbpvNJG/Xy/o8lcGxOIVTejmFUyYuZUtm3okfpFFnp8XOeuANJXZ1gb/H1DWx1u4G8N6rs7SIiIiIOF0vrYfJJf01nu44IsOcwikhQYbxby088cIpAI27wLjPwVPqTexOojun1Bq1tlCKMWa8MWahMWZhRkaG2+GIiIiIiC+tmcy+8JZsDm7DoHaayuB4WiZE8fw1fdmcmccDHyzD2hMsnALQuKs3sStxumLu21TzgYpf+Dup22uMaQbgvU8/2obW2pestanW2tRGjTRQVkRERKTOys+CzTP4xjOA09onERkW7HZEAWFwhyR+c14Xvl61h/9OP8mErEk3J7ErLXJa7JTYBSR/J3WTgXHex+OASX4+v4iIiIjUNuu+BFvGhNy+nNFFXS9PxC1D2nJJSnOe+nYd09Yetb3k2Jp0h3GTobTQqYqZtblmgxSf8+WUBhOAOUBnY8wOY8wtwOPA2caYDcDZ3uciIiIiUp+tnkxORDNW2LaM6KSk7kSUF07p2jSWeycuObnCKQBNezqJXUk+vHERZG2p2UDFp3xZ/fJqa20za22otbaltfZVa+0+a+2Z1tqO3vuq1TFFREREpD4pPACbfmBWyGDaN4omOTHK7YgCTo0UTgEnsbthMhTnOi12+7fWaJziO7W2UIqIiIiI1APrvwFPCW9k91bVy1PQqmEUz13Tl00ZuTz44UkWTgFo1gtumARFOU6L3f5tNRuo+ISSOhERERFxz+pJFEY2ZkFpO0ZqPN0pOb1DEo+c35WvVp5C4RSA5ilww2dQdMCpipm9vaZCFB9RUiciIiIi7ijKhY3fsbjBMKLCQunfpqHbEQW8W4a05eLywinrTrJwCkDzPnD9Z1BwwKmKmZ1WYzFKzVNSJyIiIiLu2PAtlBbyzoHeDOmYRFiIvpqeKmMMj3sLp9w3YQlbT7ZwCkCLvnDDp1Cw32mxO7Cj5gKVGqWfHBERERFxx+pJlEYm8XVOW42nq0HlhVOCggzj315I3skWTgFo0c9pscvPclrsDuyssTil5iipExERERH/K86HDd+yLmEEHoIYoaSuRrVqGMVzV/dlY3ouD350CoVTAFr2g+s/hbxMp8Xu4K6aC1RqhJI6EREREfG/Td9DST6fFPalW7NYmsZFuB1RnTOkYxK/Oa8rX67Yw/9mnELhFICWqXD9J5Cb4bTYKbGrVZTUiYiIiIj/rZ6EJ7Ih7+xpxcgujdyOps66dWhbRvduzpPfrGP6qRROAWg1AK77GHL3OvPYHdxdM0HKKVNSJyIiIiL+VVoE675mR+MzKPIEazydDxlj+MflvejSNJZ7T7VwCkDyQCexO7jbSexy9tRMoHJKlNSJiIiIiH9tmgbFOXxrBxAXGUpKq3i3I6rTIsOCeclbOOX2txedWuEUgORB3sRulzex21szgcpJU1InIiIiIv61ehI2PJZXdrZiWKdGhATrK6mvlRdO2ZCec+qFUwBanwbXfeRUw3zzIsg9xa6dckr0EyQiIiIi/lNaDOu+YH/y2ezJs5yh8XR+M6RjEg+f16VmCqcAtB4M134AB9KU2LlMSZ2IiIiI+M/WmVB4gB9DBmMMDOuopM6fbhvajotqqnAKQJshcM0HsH8bvDnaqY4pfqekTkRERET8Z/UkCIvm7Yz29G4ZT2J0uNsR1StO4ZSedG4Sw70TlrBt3ykWTgFoOxSueR/2b4W3Rjvz2YlfKakTEREREf8oK4W1X1DU7hwW7sxX1UuXRIWF8PINqQQFGca/VQOFUwDaDYdrJkLWZnj1HJj6R1j5CezbBB7PqR9fjinE7QBEREREpJ7YNhvy97EkeijWovnpXNSqYRT/uboP416bz0MfL+e5q/tgjDm1g7Yb4XTFnPp7mPM8eEqc5WEx0KwXNO0FzXo7t6ROEKxUpKboSoqIiIiIf6yZDKFRfHCgK0nRefRoHud2RPXa0I6N+PWoLvz9q7X0aB7HnSPan/pB2w2H22c6cxGmr4E9y2H3Mue26A0oLXC2C4mAJt2dBK882WvcDUIjTj2GekhJnYiIiIj4nqcM1nyOp/1ZfL8uh7O7NSEo6BRbhuSUjR/WjhU7D/DEN2vp1jyW4Z1qqPU0JByapzi3cp4yyNzgJHjlyd6Kj2Hha876oBBo1KVyote0B4TH1ExMdZiSOhERERHxvbR5kLuXLY3P4sDSEo2nqyWMMTxxRS82pudy74QlTL77dFonNvDNyYKCoXEX59Z7jLPMWqfASsVEb8O3sPTd8gghsf3hbpvlyV5UQ9/EGKCU1ImIiIiI762eDMHhfF7Qg+CgvQzpmOR2ROIVFRbCS9enctFzP3L724v45K7BRIX5KU0wBhq2dW7dL3GWWQs5eyonemnzYeXHh/eLS3bG6VVM9GKaOserh5TUiYiIiIhveTzOeLoOZ/LNxnz6tU4gLjLU7aikguREp3DKja/P58GPaqhwyskyBmKbObfOow4vz886PD6vPNlbO+Xw+gaNDyd65cleQpt6kegpqRMRERER39q5CA7uJPu037Bm2UEePq+L2xHJEQzr1IiHRnXh8a/W0rNFHHcMr4HCKTUpqiG0H+ncyhXlwJ6VlRO9TdPAljnrI+IqV91s1hsSOzhdQesQJXUiIiIi4ltrJkFQKN97+gDbNJ6uFru9vHDK12vp1iyWYTVVOMVXwmOg9WnOrVxJIaSvrtyqN/9lKCty1odGQZMelVv1GnWFkDB3XkMNUFInIiIiIr5jLayeBO1G8O3mQprHRdCpSbTbUclRGGN48opebErP5Z4JS/j87iEkJ0a5HdaJCY2AFn2dW7myUshcXznRW/Y+LHjFWR8UCo27OglehzOh+6XuxH6SlNSJiIiIiO/sXgbZ2ykZ8gA/Ts7k4j4t3BurJdUSFRbCi9f3Y/Rzsxn/9kL/Fk7xleAQaNLNuaVc7SzzeGD/lsOJ3u5lsO5L5x8RSupERERERLxWTwITzOLIweQVr+cMdb0MCK0TG/Ds1X246fX5PPTRcv7jZuEUXwkKcqZLSGwPPS5zllkLpYXuxnUSgtwOQERERETqqPKul22HMnVLCWHBQQzukOh2VFJNwzs14sFzuzBl+W5emrnZ7XD8wxgIjXQ7ihOmpE5EREREfCN9NWRtgm4XM21dOgPbNQz8bnz1zB3D23FBz2b84+u1zNqQ4XY4chSuJHXGmF8aY1YZY1YaYyYYYyLciENEREREfGj1JMCwo8mZbMrIU9XLAGSM4YkretGpSQz3TFhCWla+2yHJEfg9qTPGtADuBVKttT2AYGCsv+MQERERER9bPRlan873aRaAkV2U1AWiBuFO4RRr4ba3FpJfXOp2SFKFW90vQ4BIY0wIEAXscikOEREREfGFjHWQseZQ18u2SQ1om9TA7ajkJJUXTlm3N4dff7wCa63bIUkFfk/qrLU7gaeA7cBu4IC19lt/xyEiIiIiPrR6MgAFHc5jzqZ9jOhcyyexluNyCqd05vNlu3h5Vj0pnBIg3Oh+mQBcDLQFmgMNjDHXHWG78caYhcaYhRkZGpQpIiIiElDWTIJWA5mbEU5RqUfj6eqIO4e35/yeTXn8q7X8uCHT7XDEy43ul2cBW6y1GdbaEuATYHDVjay1L1lrU621qY0a6T87IiIiIgFj3ybYswK6XcwPa9OJDA1mQNuGbkclNcAYw5NX9KZj4xjunrBYhVNqCTeSuu3AIGNMlHFmMDwTWONCHCIiIiLiC2ucrpe2y4VMW5fO6R0SiQgNdjkoqSkNwkN46YZ+eDyW8W8voqC4zO2Q6j03xtTNAz4CFgMrvDG85O84RERERMRHVk+G5n3ZVNKQHfsLVPWyDiovnLJ2z0F+/fFyFU5xmSvVL621f7TWdrHW9rDWXm+tLXIjDhERERGpYdnbYddi6DaaaWuduggjNJ6uThrRuTEPnNOZyct28cqsLW6HU6+5NaWBiIiIiNRFaz537ruOZtq6dDo3iaFFfKS7MYnP3DXCKZzy96/WqHCKi5TUiYiIiEjNWT0JmvYkp0Ey87dkMaKLCt7VZeWFUzo0juYeFU5xTbWTOmNMsDGmuTEmufzmy8BEREREJMAc3AVp86DrxczemEmpx2oqg3qgQXgIL12fSpnHcrsKp7iiWkmdMeYeYC8wFfjCe5viw7hEREREJNCs8X497HYx09ZmEBMRQr/WCe7GJH7RJqkBz1zdhzXewillHhVO8afqttTdB3S21na31vb03nr5MjARERERCTCrJ0Gjrtikjkxbl86wjo0IDdZon/piZOfGPHiuUzhl7Etz1BXTj6r7U5YGHPBlICIiIiISwHLTYdts6Daa1bsPkp5TxIjOGk9X39w1ogNPj0lh7e4czn9mFpOW7nQ7pHohpJrbbQamG2O+AA5NP2Ct/ZdPohIRERGRwLJ2CmCdrper0gEYrqSuXrqkTwv6tU7gl+8v5b6JS5m2Np0/X9KD2IhQt0Ors6rbUrcdZzxdGBBT4SYiIiIi4nS9TOwAjbsxbV0GvVrG0Tgmwu2oxCWtGkYxcfwg/u/sTny+fDfnPT2LBVuz3A6rzqpWS5219k8AxpgY56nN9WlUIiIiIhI48rNgyyw4/T7255ewZPt+7j6jo9tRictCgoO498yODOmYxC/fX8qYF+fwi5EduPfMjhprWcOqW/2yhzFmCbASWGWMWWSM6e7b0EREREQkIKz9AmwZdLuYmRsy8FgYqa6X4tU3OYEv7h3K5X1b8p8fNnLFC3PYmpnndlh1SnVT5JeA/7PWtrbWtgZ+Bbzsu7BEREREJGCsngTxydCsN9PWptOwQRi9Wsa7HZXUItHhITx5ZW+ev6YvWzJyOf/ZWXywMA1rNfVBTahuUtfAWjut/Im1djrQwCcRiYiIiEjgKMiGzdOh28WUWZixPoPhnRoRHGTcjkxqoQt6NePr+4fRq2UcD320nLvfW0J2frHbYQW86iZ1m40xvzfGtPHefgds8WVgIiIiIgGrtBjS18KBelDOff3X4CmBbpewbEc2+/NLGNmlsdtRSS3WPD6Sd28dxMPndeGbVXs475lZ/LQp0+2wAlp1pzS4GfgT8AlggJnATb4KSkRERCQg5GdB5gbIXO+9eR/v3+qMMQsKhREPw+n3Q3B1v3YFmNWTILYFNO/L9O82EGRgWMckt6OSWi44yHDH8Pac3j6J+yYu4dpX5nH7sPb839mdCAtREZUTVd3ql/uBe30ci4iIiEjt4ymD7G1HSN42QH6F1oXgMKekf9Me0OMySOwI67+CH/7izOF2yQvQuIt7r8MXinJg4/eQejMEBTFtXQZ9kxOIjwpzOzIJED1bxjHl3iH89Ys1vDBjEz9uzODpMX3o0Dja7dACyjGTOmPM09ba+40xnwM/G8VorR3ts8hERERE/Kko53Cylrke9nkf79sIZRXG/EQlQVIn6HKBc5/U0bnFt4ag4MrH7D0Guo6GL34FLw6FkY/AaffUnVa79d9AWRF0u5j0g4Ws2HmAB8/t7HZUEmCiwkJ47NKejOjUiF9/vJwL/zOL31/YjWsGJGOMxmZWx/F+o7ztvX/K14GIiIiI+Jy1cHBn5eStvOUtZ9fh7UwwNGzrJG0dzvImb94ELqrhiZ2zx2XQZgh88X/w3aOwZgpc8j9o1KlGX5or1kyG6CbQaiDTFzvjB0doKgM5Sed0b0pKq3h+9eEyfvvpSqatzeAfl/ckMTrc7dBqvWMmddbaRd6HKdbaZyquM8bcB8zwVWAiIiIiJ62kELI2VR7nlrkeMjdCSYX5scJjnUSt3XBvi5s3eUtoCyE12IUwujFc9Tas/Bi+fABeGAJn/A5O+8XPW/cCRXEebJgKKddAUBDT16XTJDacbs1i3Y5MAljj2AjevGkAr/+0lX98tZZRz8zin1f2Zlgn/bPgWKrb9j8OeKbKshuPsExERETEP6yFvMyfFynJXA/Z26k0ciQu2Una+g6unLxFNwZ/de8yBnpeAW2GwpRfwtTfw5rPnVa7pA7+iaEmbfwOSvKh62hKyjzMWp/JBb2aqbucnLKgIMMtQ9oyuH0i901cwg2vzefm09vy0KjORIQG6D9BfOx4Y+quBq4B2hpjJldYFQPs82VgIiIicorys2DOc7B3FQSFQHCocx8U6ozpOvQ41GktOuLjkJ/vGxTsfe5dFhxylMdV9z/CvkHVqHJXVuJUk6xapCRzPRRmH94uJNJJjlqmOq1HSR2dYiWJHSAsyldX+cTFNIGx78LyD+Crh+CF0+HMP8DAOwKr1W71ZIhKhNans2jbfnKKShnRWVMZSM3p2iyWyXcP4fGv1vLa7C38tCmTZ8b2oXPTGLdDq3WO11L3E7AbSAL+WWF5DrDcV0GJiIjIKSjOg7n/g9nPQtFBaNIdrMdJjjylzu3Q4xKnumNZifPYevwbqwk6RkLoTXAO7HBiLRfd1EnYelx+uEhJUieIbVm9JLE2MMYpotJ2GEy5H755xGm1u/h5SGzvdnTHV1LozE/X43IIDmHa2nRCgw2nd0h0OzKpYyJCg3l0dHeGd2rEgx8t46LnfuSR87owbnAbtQpXcLwxdduAbcBp/glHRERETlppMSx+E2Y8AXnp0Pl8Z9xWk+7VP4bHUyHZK4Wyio+PlBRWSRDLSo/y2Js8VutYFRJN64Hul1UoVNIBIuJ8dw39LbYZXD0Rlk2Arx6G/50OZ/8J+t9WuxPUTT9AcS50cwqhT1uXTv82DYmJCHU5MKmrRnZpzNf3D+Ohj5bz6OermbYugyev7EXjmAi3Q6sVqjWmzhgzCPgP0BUIA4KBPGutRsKKiIi4zeNxCnBM+6vTTTF5MIx5B5IHnvixgoIgKAznz734hTFOd9F2I2DyvU6XzNWT4eLnnAqctdGayRARD22Hs2N/Puv35nJVaiu3o5I6Lik6nFfHpfLOvO38dcpqznt6Fk9c0YszuzZxOzTXVfdfQM8BVwMbgEjgVpwkT0RERNxiLaz/1pn/7JNbISwGrv0Ibvry5BI6cVdsc7j2Qxj9HOxZ7rTazX/ZSdprk9JiWPulM09fcCjT12UAaDyd+IUxhusHtWbKPUNoHBvBLW8u5PefraSguMzt0FxV7XZ9a+1GINhaW2atfR0Y6buwRERE5Ji2z4XXz4f3rnS6wV3+Ktw+Ezqe7b9qjlLzjIG+18Ndc5zE/MsH4O2LYf82tyM7bMtMKDrgTKoOTFubTquGkbRv1MDlwKQ+6dgkhs9+MZjbhrbl7bnbuOi5H1m164DbYbmmukldvjEmDFhqjHnCGPNLQD+5IiIi/rZnJbw3Bl4715mH7YJ/wi8WOKXya/MYLDkxcS3huk/gomdg52L432BY+JrTOuu21Z85rcLtR1JYUsbsTZmM7NxYRSvE78JDgvntBd1455aBHCwo4ZLnZ/PyzM14PLXg58TPqvvb/3qccXR3A3lAK+ByXwUlIiIiVWRtgU/GO5NWb5vjlMC/dwn0v7VmJ8mW2sMY6Hej02rXop8zt93bl0J2mnsxlZXC2i+g83kQEs68LVkUlngY2UVdL8U9Qzom8c39wzijS2P+9uUarn9tHnsOFLodll9VK6mz1m6z1hZYaw9aa/9krf0/b3dMERER8aXcdPjyQXiuP6yeBKffB/cthaG/gjB1mqkX4pPhhklwwb8gbT789zRY/JY7rXbbfoSCrMNVL9emEx4SxGntNJWBuCuhQRgvXNePxy/ryeJt2Yx6ZiZfr9ztdlh+c7zJx1cAR/2NYa3tdTInNcbEA68APbzHv9laO+dkjiUiIlInFR6An/4Dc/4LpYXQ9wYY/pBTTEPqH2Og/y3Q4UyYdDdMvsdJ8i96FuJa+C+O1ZMgtAF0OAuA6evSGdw+kYjQAJo0XeosYwxjByQzoG1D7n9/KXe8s5gxqa34w0XdaBBeraL/Aet4r+5KoMAH530G+Npae4V3rF6UD84hIiISeEoKnIqHP/4LCvY7c7Sd8bvAmJBafC+hDdwwGRa8At/90Wm1G/V3Z0oEX49p85Q5E6R3PBtCI9mckcvWffncPKSWTrsg9Va7RtF8fOdgnv5uPf+dvon5W7N4ekwKvVvFux2azxyv++V73gnI/+rtglnpdjInNMbEAsOAVwGstcXW2uyTOZaIiEidUVYKi96EZ/vC1N9D874wfgZc+boSOqksKAgGjoc7ZzsTy0+6yymec9DHXc22z4W8DOh2MQDTvFMZjNRUBlILhQYH8eC5XZhw2yCKSsq4/H8/8fy0jZTV0SIqx0vqwowx44DBxpjLqt5O8pztgAzgdWPMEmPMK8YYDQoQEZH6yVpY9Rn8dxB8fq/TlW7cFLj+E2ie4nZ0Ups1bAc3fgGjHnemGfjvQFg20Xdj7VZPgpAI6HgO4HS97NA4mlYN1eFKaq9B7RL56r5hjOrRlCe/WcfVL89lZ7YvOiK663hJ3R3AICAeuKjK7cKTPGcI0Bf4n7W2D041zYerbmSMGW+MWWiMWZiRkXGSpxIREanFNk2Dl0fCh+MgKBjGvge3TIW2Q92OTAJFUBAMutNptWvUBT69HSZeAzl7a/Y8Ho/T9bLDWRAeTV5RKfM2ZzGyc6OaPY+ID8RFhfKfq/vwr6t6s3rXQUY9PZPJy3a5HVaNOuaYOmvtj8CPxpiF1tpXa+icO4Ad1tp53ucfcYSkzlr7EvASQGpqat1sJxURkfpp5yL47k+wZQbEtYJL/ge9xjiJncjJSGwPN30Fc/8HP/zFabU7/ynocXnNjLXbuRBydkG3PwEwe2MmxWUedb2UgGGM4bK+LUlt3ZD731/CvROWMH1tOn+6uDsxEaFuh3fKqlUGxlr7qjFmMNCm4j7W2rdO9ITW2j3GmDRjTGdr7TrgTGD1iR5HREQk4GSsd75wr5kMUYlOt7nUmyEk3O3IpC4ICobBdzvdIz+7Ez6+BVZ9Chf+G6JPMflaPQmCw6DTuYAznq5BWDCpbRrWQOAi/pOcGMUHt5/Gc9M28uz3G1iwzSmi0q91YH+WqzVPnTHmbeApYAjQ33tLPYXz3gO8a4xZDqQAj53CsURERGq3Aztg0i+c1pNNP8CIR+C+ZU63OSV0UtMadYJbvoWz/gQbpsLzA2HlJyd/PGth9WRoNxIi4rDWMn1dOkM6JhEWUq2vkiK1SkhwEPef1YkP7zgNgCtfmMO/p66ntMzjcmQnr7oTNqQC3aytmZG31tqlnFpSKCIiUvvl7XOmJpj/MmBh4J0w9P+gQZLbkUldFxQMQ+6HTqOcVruPbnJa2y7454l//nYtgQPbYYQzWmbd3hx2Hyjk/rM61nzcIn7Ur3VDvrx3KH+cvIpnvt/ArA0ZPD2mD8mJgVf8p7r/XlkJNPVlICIiInVGUS7MeAKe6Q1z/ws9r4R7FsGox5TQiX817uIU3znzD7D2C6fVbvWkEzvG6kkQFAKdzwNg2lqngN0IjaeTOiAmIpR/XZXCs1f3YUN6Luc/O4uPF+1wO6wTVt2WuiRgtTFmPlBUvtBaO9onUYmIiASi0iJY9AbMfNKZz6vLhXDG750v1iJuCQ6Bob+CTuc5rXYf3OAUUDn/KYg6zjgia50xoG2HHdp22tp0ujWLpUlshB+CF/GP0b2b0691Ar98fymrdh3k8n5uR3RiqpvUPerLIERERAKapwxWfAjT/gbZ26HNULh6IrTUSAOpRZp0g1u/gx+fhhn/gC2znCIqXY8xS9XelZC1GU6/D4AD+SUs2r6fO4a380/MIn7UIj6SCbcNCsgJyqtb/XKGrwMREREJONbCuq+cipbpq6FZb7jwaWh/Rs2UkRepacGhMPxBpyvlZ3fA+9dCz6vgvH8cudVu9WQwQU6rMzBrYwZlHqupDKTOCg4yBAcF3u/vYyZ1xpgc4EipqgGstTbWJ1GJiIjUdltnw3ePwo750LA9XPkGdL3YmQxapLZr2gNumwaz/ul0F94yAy565tC4uUNWT4LWpx8aCzptbQbxUaH0SU5wIWgROZrjTT4e469AREREAsLu5fD9n2HjVIhp5nwRTrnWaQERCSTBoU5Fy87nwad3woSx0PtqGPV3iEyA9LWQuQ4G3AaAx2OZsT6dYR0bBWRLhkhdVt0xdSIiIvXbvk0w7TFY+RFExMPZf4YB4yE00u3IRE5Ns94wfjrMfAJm/Qs2T4eLnoXdSwEDXS8CYMXOA2TmFjOySyMXgxWRI1FSJyIicjRFObBjodMFbcnbEBwGQx+AwfdAZLzb0YnUnJAwOON30Pl8+OwueO9KCG0AyYMgxpnVatq6dIyBYR2V1InUNkrqREREwCl6ciANts+DtHmQNhf2rgLrcebo6ncTDHsQYpq4HamI77ToC7fPgOmPw+ynoffYQ6umrcsgpVU8idHh7sUnIkekpE5EROqnshLYs7xCEjcPcnY760IbONMRDHsQWg2Alv0hIs7deEX8JSQczvojDLkfwp2aeJm5RSzfkc0vz+rkbmwickRK6kREpH7Iz4IdC2D7XEibDzsXQWmBsy4u2anwlzzISeIad3cmbBapzyr8I2PGugysRVMZiNRS+oslIiJ1j7Wwb6PT+laexGWuc9YFhUDTXtDvRkgeCK0GQmxzV8MVqe2mrUsnKTqc7s01m5VIbaSkTkREAl9JAexa4k3ivF0pC7KcdRHxTuLWe4xz37wvhEW5Gq5IICkt8zBzfQbndG9KkKYyEKmVlNSJiEjgydlTOYHbvQw8Jc66xI5OBb/yVrjEjpoQXOQULEnL5mBhKWd0UddLkdpKSZ2IiNRunjJIX105icve5qwLiXBa3k77hTMeruUAaJBY4yGUlnkICVZiKPXTtLXpBAcZhnRMcjsUETkKJXUiIlK7FOU4BU3S5jvj4XYshOIcZ110E6f1beDtzn3TXs78Wj6yatcBnp+2ka9W7iE8JIjEBuEkRofRsIFzS4oOr/A4jIYNwklsEEZidBhRYfoTK3XDD2vTSW2dQGxEqNuhiMhR6C+OiIi4x1rI3n54SoHt8yDdOzccBpr0gF5XHa5KGd8ajO/H9Czatp/np23kh7XpxISHcOPgNoQEGfblFrMvr5h9ucVs2JtLZm4RRaWeIx4jItRJAht6k7yGDcK8CV/4occVE8OosGCMH16byInYfaCAtXtyePi8Lm6HIiLHoKRORET8p7QY9qxwJvYuT+Jy9zjrwmK8c8M95IyHa5EKEf6rtGetZc6mfTw3bSM/bdpHQlQoD5zTietPa0Nc5JFbKKy15BeXkZVXTGZuEVl5h5O+rLyiQ4+rkwSGhwRVavlLjC5P/A63/jnJYLi3JTBwkkCPx1Jc5qGo1ENxqYfiMue+qLTMee69FZV5KCo5vL641EOZx0PrxAZ0aRpDo5jwgHnNdcX0dRmApjIQqe2U1ImIiO94ymDnYtjwDWz7yTs3XKGzLr41tB12uKBJ424QFOz3EK21TFuXznM/bGTx9mwax4Tzuwu6cs3A5ON2oTTG0CA8hAbhIbRqePyKmhWTQCfhcxK/rJ89LmZjei778oooLDl6Eniklr/E6PAKj50kMDw0yJsslR1OrEp/nmSVJ1pFlRIvT6XEy0nOyiqtO9pxypeVlNmTem+qatggjC5NY+jcNIauTWPp3DSGTk1iiAzz/+emvpi2Np0W8ZF0ahLtdigicgxK6kREpGYVHoBNP8D6b2DDVMjPBBMMzVMg9RYniWs5AGKbuRqmx2P5etUenvthI6t3H6RFfCR/vaQHV/RrSUSob5KEE00CAfKLSw91+8zKKyIz10n8KrYOZuUdPwk8WaHBhrDgIMJCDt/CQ4IrLYuJCCG8fH1wle0qLAv33g4dKzj40PKwCvuHV9gXYHNmLuv25LB2dw5r9+YwcX4aBSVl3msKbbwteZ2bxtClaSxdmsaQ3DBK5fdPUVFpGbM3ZnJJnxZqIRWp5ZTUiYjIqSmf6Hv9N7D+a9g+BzylEJkAHc6GTudChzOd57VAaZmHyct28fy0jWzKyKNdUgOeurI3F6c0J7QWVriMCgshquGpJYElZZ5KCdbPkqvy5aHBlRKwsOCgWpEYNY2LYHD7w5UXyzyW7Vn5rNtzkDW7c1i3J4c1uw/y9ao9WG+jYFRYMB2bxNC1SrKX0MB3hXXqmgVb9pNXXKaulyIBQEmdiIicuNJi2Dbb2xr3DWRtdpY37g6D74FOo6Blf1e6Ux5NUWkZHy3awQszNpGWVUCXpjE8d00fzuvRjOBakLjUlBNNAgNRcJChbVID2iY1YFSPwy2++cWlrN+bWynZ+2bVHiYuSDu0TZPY8EMJXpdmMXRuEkv7xg0ID6k9n9XaYtq6dMKCgxjcoeanCRGRmqWkTkREqidnL2yc6rTGbZruTDMQEuGMizvtF9DxXIhv5XaUP1NQXMZ787fz8szN7DlYSEqreP54YXfO7NpYXcrqmKiwEFJaxZPSKv7QMmstGTlFrNmTw7o9B50unHtymLNpH8VlTlfVkCBDu0YN6OIdp9e1WQydm8bSPC6i3nxGrLXkFZeRnV9Mdn4J2fklTF29l4HtGmp6DpEAoJ9SERE5Mo8H9izzdqv8BnYtdpbHtoBeVzpJXNthEFY7W4RyCkt4a842XvtxC/vyihnUriFPXdmb0zsk1psv6uKMY2wcG0Hj2AiGd2p0aHlJmYetmXmVkr1F2/YzedmuQ9vERIQ4LXoVkr1OTWKIqcXztVlrySkq5YA3McsuKE/SvPcFzvID3uX784s54F1W6vl5QZvxw9q58CpE5EQZa2umIpUvpaam2oULF7odhohI3VeUC5unO61xG76F3L2AcbpSdjrXuTXp4Ze54k7W/rxiXp+9hTd+2srBwlJGdG7E3SM7kNqmoduhSQA4WFjC+j05lZK9dXtyyCkqPbRNy4TISl04uzSNoU1iA0JqcEymx+MkZ5WTscMJ2P78Yidx8y7PLig59LzsCMlZuaiwYBKiwoiLDCU+yrnFRYYRHxVKQlQo8ZFhxEWFEh8ZSmJ0GO0bReufICK1hDFmkbU29Ujr1FInIlLfZW05PDZu649QVgzhcdDhDGdsXIezoEHS8Y/jsvScQl6ZtYV35m4jv7iMUd2b8ouRHejZMs7t0CSAxEaEktqmYaV/Alhr2Zld4FTgLL/tPsi0demHEqiwkCA6No6uPF6vaQyJDcLJKSyplJgdajk71GrmPN9f4fGBghKOkZsRHR5yKDFLiAqjWXwk8eWJmjcxS4gK8z4PJS4qlLjIUI0dFKmj1FInIlLflJU4E3+v/xrWfwuZ65zlSZ2clriO50LyIAiuvV3MKtqZXcCLMzYxcUEapWUeRvduzl0jO9CpSYzboUkdV1hSxqaMXKc1b69TgXPdnhzSc4qqfYyYiJBDiVi8N/EqT8acpC3scLJWYXltrNQqIr5VK1vqjDHBwEJgp7X2QrfiEBGpF/L2eYucfAMbv4eiAxAcBq1Ph9SbodM50DCwxs5syczjf9M38sninRgDl/dtyR3D29MmqYHboUk9EREaTPfmcXRvXrk1OCuvmLXerpvZ+cWHkrGKXR3jI53krCa7bIpI/eVm98v7gDVArIsxiIjUTdbC3lWHx8alzQcsRDeBbqOdFrl2IyA88Fqz1u45yPPTNvHF8l2EBgdx3aDWjB/WjubxkW6HJgJAwwZhDG6fVGluPRERX3IlqTPGtAQuAP4G/J8bMYiI1DnF+bB11uFulQd3OMub94ERD0PHc6BZCgQFZsvAsrRsnpu2kamr99IgLJjxw9pzy5C2NIoJdzs0ERERV7nVUvc08BAQeP8iFhGpTbLTnAIn67+FLTOgtBDCop1WuBEPQ8ezIaap21Geknmb9/HctI3M2pBJXGQo95/VkRsHtyE+Kszt0ERERGoFvyd1xpgLgXRr7SJjzIhjbDceGA+QnJzsn+BERGo7TxnsWHB47rj0Vc7yhDbQ7yZnbFzr0yEksFuvrLXM3JDJ8z9sZP7WLJKiw3j4vC5cN6g10eEq3CwiIlKR36tfGmP+DlwPlAIROGPqPrHWXne0fVT9UkTqtYO7YMtM2PQDbJgKBVkQFALJpx2uVpnUsVbPHVddHo9l6pq9PD9tI8t3HKBZXAS3D2vH2AHJRISqFLuIiNRftar6pbX2N8BvALwtdQ8cK6ETEal38rOcsXGbZzjJ3L4NzvKoRGdcXKdzof0ZEBnvapg1qcxjmbJ8F/+dtol1e3NonRjF45f15LK+LQkLCcwxgCIiIv6iPiwiIm4ryoXtc2HLdCeR27MCsM7YuNaDod+N0HYYNOkRsEVOjqa41MNnS3by3+kb2bovn46No3lmbAoX9GymUu8iIiLV5GpSZ62dDkx3MwYREb8rLXbGxW3xtsTtWACeUmfeuJYDYOQj0HY4tOgbMBOAn6jCkjI+WJjGC9M3setAIT1axPLCdf04p1sTgoICvxupiIiIP6mlTkSq7UB+CZsyc+nTKh5TB8Zv+Y2nDHYvcxK4LTOcVrmSfDBBzhQDp90N7YZDq0EQFuV2tD6VV1TKu/O28dLMLWTmFpHaOoHHLuvJ8E6N9JkSERE5SUrqRKRaNqbncPMbC9melU+3ZrHcPrydusgdjbWQud47Jm4GbP0RCrOddY26QJ/rne6UbYbUqXFxx3Igv4Q3ftrK6z9tITu/hCEdkrj7jD4MbNtQyZyIiMgpUlInIsc1a0MGd727mPCQYB4+rwsfLkzjvolLeeLrddw6tC1j+rciKqye/zrJTnMSuPLiJrl7nOVxydD1Qmg7wknkYpq4GaVfWWtZtG0/E+an8cWKXRSWeDira2N+MbIDfZIT3A5PRESkzvD7lAYnQ1MaiLjnnbnb+OPkVXRsHM0r41JpmRCFx2P5fm06L83cxIKt+4mPCuX6Qa0ZN7gNSdGBPT9ateVlHh4Tt3kG7N/iLG/QyEne2g5zxsU1bOtunC7Iyivmk8U7mLggjY3puTQIC2Z0SgtuOK01XZvFuh2eiIhIQDrWlAZK6kTkiMo8lr99sYbXZm9hZOdGPHt1H2Iifl60Y9G2LF6csZmpa/YSFhzEFf1actvQdrRJauBC1D5UeBC2/XQ4kdu70lkeHutM9t1uuJPINe5WJ+aLO1Eej2XO5n1MmL+db1ftpbjMQ5/keK7un8wFvZrRQBOGi4iInBIldSJyQnKLSrl3whJ+WJvOzae35bcXdCX4OBUJN2Xk8sqszXy8aCclHg+jujfl9uHtSWkV75+ga1pJIaTNO1zcZOdisGUQHA7Jg5wErt0Ip9BJcP1NWNIPFvLhoh28vyCN7Vn5xEWGclnfFoztn0znpjFuhyciIlJnKKkTkWrbsT+fW99cyIb0XP40ujvXDWp9Qvun5xTy5k9beXvONg4WljKwbUNuH96OEZ0a1+5S9WWlsHspbJ7uJHJp86C0EEywM7VAW29LXKuBEBrhdrSuKi3zMGN9BhMXpPHD2nTKPJZB7Rpy9YBkzu3elIjQYLdDFBERqXOU1IlItSzZvp/b3lpEUWkZ/722L0M7NjrpY+UWlTJx/nZe+3ELuw4U0qlJNOOHtWd07+aEhdSCipnWQvrqw2Pits2GooPOusbdvd0phzuTf0doHBg4Cf8HC9L4YOEO9hwsJCk6nCv6tWRM/1a0rWvdbUVERGoZJXUiclxTlu/iVx8so3FsOK+N60/HJjXTda6kzMOU5bt4ccZm1u7JoWlsBDcPacPVA5KPOEbPpw7sgI3febtUzoS8DGd5Qltvd8rh0GYYRJ98MlvXFJd6+G7NXiYuSGPWBud6De/UiLH9W3Fm1yaEakoLERERv1BSJyJHZa3lPz9s5F9T19O/TQIvXNePRB9UsLTWMnNDJi/O2MRPm/YREx7CNYOSufn0tjSJ9XF3xqwtMPMpWDbBGRcX3cRphSsvbhKf7NvzB6DNGbm8vyCNjxbtYF9eMc3jIrgytRVX9W9Fi/hIt8MTERGpd5TUicgRFZaU8fDHy/ls6S4u69OCv1/ek/AQ34+HWrHjAC/O3MSXK3YTHGS4tE8Lxg9rR4fGNVxYI3u7k8wtfReCQiD1Zug7Dhp1rpcVKo+nsKSMr1buZsL8NOZvySIkyHBm18aMHZDMsI6NjlssR0RERHxHSZ2I/My+3CJuf3sRC7ft54FzOvGLkR0wfk50tu/L55UfN/PBwrRDE1PfPrw9qa0TTi2WAzth1j9h8VtO8tbvJhjyS4htVnPB1yFrdh9k4vztfLpkJwcLS2mdGMWY/q24ol9LGsfU76IwIiIitYWSOhGpZMPeHG5+cwHpB4v411UpXNDL3WQnK6+Yt+Zs5c2ftrI/v4Q+yfHcPqw9Z3drcmKtQzl7YNa/YNHrTiGUvtfD0F9BXEvfBR+gcotKmbJsFxMWpLEsLZuw4CBG9WjK2AGtGNQ2sXZXKhUREamHlNSJyCEz1mdw97uLCQ8N5pVxqbVqHrmC4jI+WpTGy7O2sD0rn3ZJDbh1aDsu69vi2GXyc9Phx6dh4atQVgJ9roWhD0DCiU3HUNdZa1m24wAT52/n82W7yCsuo1OTaMb2T+bSPi1IaBDmdogiIiJyFErqRASAt+ds5dHPV9OxcTSv3ti/1ha8KC3z8PWqPbw4YzMrdh4gKTqcm05vw3UDWxMXVaFiZl4mzH4G5r8MZUXQ+2oY9gA0bOde8LXQgfwSPl2yg4kL0li7J4fI0GAu7NWMsQOS6Zsc7/dutyIiInLilNSJ1HOlZR7++sUa3vhpK2d2acwzV/chOjzE7bCOy1rLnM37eHHGZmaszyAqLJix/ZO5LTWOZqtegXkvQkk+9LoKhj0ESR3cDrnWsNYyf0sWExek8eWK3RSVeujZIo6xA1oxundz/08nISIiIqfkWEld7f9WJyKnJKewhHsmLGH6ugxuGdKWR87vGjBVDI0xDG6fxOD2SazZfZC3py0jYf6TRC/8Co8pJKf9RcSN+p1TzVIAyMwt4uNFO3h/QRqbM/OICQ/hqtRWjOnfih4t4twOT0RERHxASZ1IHZaWlc+tby5kY0Yuf7u0B9cODNAxZoUH6br+BR7b9hwEH2B1wkh+s+98lq1qwdDibO4Ynsng9on1thuhx2OZtTGT9xdsZ+rqvZSUWVJbJ3DXyA5c0LMZkWG+n6ZCRERE3KOkTqSOWrx9P+PfWkhRqYc3bxrAkI5Jbod04opyYP5LMPtZKMyGLhfCiIfp1rQnb+WX8M68bbw+eyvXvjKPHi1iGT+sPef3aEpIcJDbkfvF7gMFfLjQaZXbmV1AQlQo405rw9gBrWp+zj8RERGptTSmTqQOmrxsFw98uIxmcRG8Oq4/HRpHux3SiSnOgwWvOEVQ8vdBp1Ew4mFo3udnmxaWlPHZkp28NHMzmzPzaJkQyW1D23Flakuiwure/61Kyzz8sDadiQvSmL4uHY+FIR2SGNO/Fed0b+KXyeNFRETE/1QoRaSesNbyzPcbePq7DQxo05AXru9Hw0AqU19SAAtfgx//DXkZ0P5MGPkItDzi769KPB7L1DV7eXHGJhZvzyY+KpQbTmvDuNNakxgd7ofgT57HYykq9ZBfXEpBSRmFJWXkF5dRUFxGfkkZhcXO800ZuXy0aAfpOUU0jgnnytSWjElNJjkxyu2XICIiIj6mpE6kHigsKeOhj5YzedkuLu/bkscu6xE4rTYlhbD4TZj1T8jdC22HO8lc8qCTOtzCrVm8MGMz363ZS3hIEFeltuLWoW1pndjg5MIr85BfXDnZKig5fJ9fXHp4Xfnyn21T+XnV++oIMjCyc2PGDkhmZOdG9aabqYiIiCipE6nzMnOLGP/WQhZvz+ahUZ25c3j7wCgaUloES96Gmf+EnF3Q+nQnmWszpEYOvzE9h5dnbuHTJTsp9XgY1aMpnZvEepMpp1WsoMRz6PGREraC4jJKPSf2e9IYiAwNJiosmAjvfWRohcdhwUSGhhAZFkRUWEilbSLL78v3Dzu8Lj4qjLhITUUgIiJSHympE6nD1u3J4ZY3F5CZW8S/r0rhvJ7N3A7p+MpKYOm7MPMpOJAGrQbCyN9C22FORlTD0g8W8vpPW3ln7jZyCksJCw4iItRJqCIrJFNHTcLKk62wis9DKiVukWHBRHnvw0OCAiOpFhERkYChpE6kjpq+Lp2731tCZFgwr45LpVfLeLdDOrayUlg+EWY8AdnboEWq0zLX/gyfJHM/O73HYq1Vt0UREREJOJp8XKQOevOnrfzp81V0aRrLK+NSaR4f6XZIR+cpgxUfwYzHIWszNEuB85+Cjmf7JZkr50y6rhY0ERERqVuU1EntZS0U50LB/sO3/CznPiQcmvaCRl0gJICqO9aA0jIPf56ymrfmbOOsrk14ZmwKDcJr6Y+ypwxWfQrTH4d9G6BJTxg7ATqf59dkTkRERKQuq6XfBKVO8Xig6EDl5Kwgu8rzo9w8pcc+dnAYNO4KzXp7bynQpDuE1uJWq1NwsLCEe95bwoz1GYwf1o5fj+ribX2qZTweWDPZSeYy1kDjbnDV287k4UHq+igiIiJSk/ye1BljWgFvAU0BD/CStfYZf8chJ6GsFAqzq5eMVU3gOMbYzbAYiEyAyHjnvnE37/Nj3IrzYM8y2O29rfkcFr/lHM8EQ6POhxO9pr2gaU+IiPX9NfKhtKx8bnlzAZsz8nj8sp6MHZDsdkg/Zy2s/QKm/x32roSkTnDFa9DtUiVzIiIiIj7iRktdKfAra+1iY0wMsMgYM9Vau9qFWOqv/CxnPrATScyKDh7jgAYi4ionXgltj5+cRcZD8EmWaE/qAD0udx5b61RR3L0Mdi937jdNg2UTDm/fsH2FFj3vLarhyZ3bzxZty2L8W4soKfPw1s0DGNwhye2QKrMW1n8D0/4Ge5Y71/qyl533JyhA5soTERERCVB+T+qstbuB3d7HOcaYNUALQEmdP1gLs5+G7/8M1vPz9Sa4ctIV3RQadT12UhaZ4CR0bn55Nwbik51b14sOL8/ZczjJ270Udi6EVZ8cXh+XDM16VU70Ypr6PfxjmbR0Jw9+tJzmcRG8emN/2jeKdjukw6yFjd87ydyuxZDQBi75H/S8CoLVu1tERETEH1z91mWMaQP0Aea5GUe9UZQLk+6C1ZOg2yXQbbQ3MWt4OEkLj6lbBSximjq3TuccXpaf5bQmlXfd3L3M6TJY3kU0uknlJK9pLydZ9PN1sdby9HcbeOb7DQxs25AXrutHQoNaUhTGWtg8HaY9BjvmO8nx6P9A76tPvuVVRERERE6Ka0mdMSYa+Bi431r7s359xpjxwHiA5ORaOHYo0OzbBBOvhcx1cM7f4LRf1K3k7URENYR2I5xbuaIc2LOycqK38XuwZc76iPgqXTdToGE7n40TKywp48GPlvP5sl1c0a8lj13ak7CQWjAmzVrY+qOTzG3/CWJbwIX/hpTr6l0VUhEREZHawpXJx40xocAU4Btr7b+Ot70mHz9F67+Fj291ukde+XrlZEaOrqQA9q52um2Wt+ztXQVlxc76sGinAEvFZC+p8yl3O8zIKWL82wtZsj2bX4/qwh3D22FqKgEvLXbGRhYeOHxfePAIjw86RXHKH1dc7ylxuuUOewD63uBMLyEiIiIiPlWrJh83zrfTV4E11Uno5BR4PPDjP+GHv0HTHjDmXUho7XZUgSM0Elr2c27lykogY22FFr3lsPhtKHnBWR8S4UypULHrZuNuEBpRrVOu3XOQW95YyL68Il64ri+jejQ7vNJTViEZO8FErHxZacHxgwiLcSqFhsc699GNIbHD4WUN20KvMXV22ggRERGRQOP3ljpjzBBgFrACZ0oDgEestV8ebR+11J2Eohz49A5YO8UpWnHRMxAW5XZUdZOnzOneWl6MpTzZKzrgrA8KcYrNHEr0egDmZ4nYtl17mLt6CwnB+ZzWPIwYk185KSvOPX4soVGHk7HwWKeATcUELSIOwuOOvj48VtUqRURERGqhY7XUudL98kQpqTtBmRuc8XP7NsK5f4OBd9Tf8XNusRayt1Ueo7drKeRnHnWXIhtCflA0MXENCYmKq5J0xVVIyo6UtHnvVaREREREpE6qVd0vxcfWfgmf3g7BYXDDJGg71O2I6idjnPL+CW2g28XOMmshZ7czTi8oCMLjKA2L4akZe3h90T6GdWvF02NSCAnXj6WIiIiIVJ++PdYVHg/MfAKm/92pzDjmHYhv5XZUUpExENvcuQEHC0v4xbuLmbUhh9uHd+HX53YhKEgtqiIiIiJyYpTU1QWFB+CT22H9V9D7GrjwXypiUctt35fPLW8uYEtmHv+4vCdj+mvaDhERERE5OUrqAl3GOph4DezfCuc/Bf1v1fi5Wm7B1ixuf3sRZR7L27cM5LT2iW6HJCIiIiIBTEldIFvzuVPhMjQSxn0OrQe7HZFUUVzqYc3ugyzevp8l27NZkraftKwC2iY14NVxqbRrFO12iCIiIiIS4JTUBSJPmTN2buaT0KIfXPU2xLVwOyoB9hwo9CZwThK3YucBikqdmTuaxIbTNzmBGwa14arUVsRFqVKliIiIiJw6JXWBpiAbPrkNNnwLfa6HC/4JIeFuR1UvFZaUsWrXAacFbns2i7fvZ/eBQgDCgoPo0SKW6we1pk9yAn1bx9MsTuMcRURERKTmKakLJHtXw/vXQnYaXPhv6HeTxs/5ibWWHfsLWJKWzZLt+1m8PZvVuw5QUubM89giPpLUNg3p0yqevq0T6NoshvAQTeItIiIiIr6npC5QrPoMPrsLwqPhxi8geaDbEdVpBcVlLN+RzZK0bBZv28+StGwycooAiAgNolfLeG4e0pa+yQn0aRVP49gIlyMWERERkfpKSV1t5ymDH/4CP/4bWg6Aq96C2GZuR1WnWGvZti+fJWn7WbzNKWayZncOZR6nFa5NYhRDOiTRNzmePskJdG4aQ2hwkMtRi4iIiIg4lNTVZvlZ8PEtsOkHSL0ZRv0DQsLcjirg5RaVsjwtu0JFymyy8ooBaBAWTO9W8dw5vD19vElcwwa65iIiIiJSeympq632rHTmn8vZDRc9C/3GuR1RQPJ4LJsz8w4ncNv3s35vDt5GONo3asCZXRofKmbSsXEMwUEapygiIiIigUNJXW204iOYfA9ExMNNX0HLVLcjChgHCkpYWqGYydLt+zlYWApATEQIfZITOLd7U/q2TiClZbymFRARERGRgKekrjYpK4XvH4Wf/gPJp8GVb0JME7ejqrXKPJYN6TnOdALeYiYb03MBpyho5yYxXNCrmdMKlxxPu6RogtQKJyIiIiJ1jJK62iJvH3x0E2yZAQPGwzl/0/i5I8jMLeKzJTuZti6dZWkHyC1yWuESokLpk5zAJSnN6ZOcQK+WccREqBVOREREROo+JXW1we5lMPE6yN0LF/8X+lzrdkS1SmmZh5kbMvhgwQ6+W7OXUo+la7NYLu3T4lAxkzaJURjN2SciIiIi9ZCSOrctex8+vxeiEuHmr6FFX7cjqjW2Zubx4aI0Plq0g70Hi0hsEMZNp7fhqtRWdGwS43Z4IiIiIiK1gpI6t5SVwNQ/wNz/QushcOUbEN3I7ahcV1BcxpcrdvPBwjTmbckiyMCIzo350+hWnNm1seaHExERERGpQkmdG3IznPFzW2fBoLvg7D9DcP0d/2WtZdmOA3ywMI3Pl+4ip6iUNolRPHhuZ67o15ImsRFuhygiIiIiUmspqfO3nYvh/eshPxMufQl6j3E7Itdk5RXz6ZKdfLAgjXV7c4gIDeL8ns0Yk9qKAW0baoyciIiIiEg1KKnzpyXvwpRfQnQTuPkbaJ7idkR+V+axzNyQwYcL05i6ei8lZZaUVvE8dmlPLurdTBUrRUREREROkJI6fygrgW8egfkvQdvhcMXr0CDR7aj8avu+/ENFT3YfKKRhgzBuOM0petK5qYqeiIiIiIicLCV1vpabDh+Mg+0/weB74MxHIbh+XPbCkjK+XrmH9xekMWfzPoIMDO/UiD9c2I0zuzYhLERFT0RERERETlX9yC7csmOhM36uYD9c/ir0vMLtiHzOWsuKnU7Rk0lLd5FTWEpywygeOKcTl/drSbO4SLdDFBERERGpU5TU+crit+CLX0FMM7h1KjTt6XZEPrU/r5jPlu7k/QVprN2TQ3iIU/TkqtRWDGzbkKAgFT0REREREfEFJXU1rbQYvv41LHwN2o2EK16DqIZuR+UTZR7L7I2ZvL8wjamr9lJc5qFXyzj+ekkPRqc0J1ZFT0REREREfE5JXU3K2QMf3ABp8+D0++HMP0BQsNtR1bi0rHw+XLSDjxamsetAIQlRoVw7KJmrUlvRtVms2+GJiIiIiNQrSupqyvZ5TkJXlANXvgHdL3U7ohpVWFLGN6v28MHCNGZv3IcxMLRjI357QTfO6taY8JC6l7yKiIiIiAQCV5I6Y8wo4BkgGHjFWvu4G3HUmIWvwZcPQVxLuP5TaNLN7YhqzEpv0ZPPluzkYGEpLRMi+b+zO3FFv5Y0j1fRExERERERt/k9qTPGBAPPA2cDO4AFxpjJ1trV/o7llJUWwZcPOEVROpwNl78MkQluR3XKsvOLmbR0F+8vSGP17oOEhQRxXo+mjEltxaB2iSp6IiIiIiJSi7jRUjcA2Git3QxgjJkIXAwEVFK3dcsGmnx1G5HpS8gbeD9lw39DVFhYwPZn9Xgsszdl8sHCHXyzag/FpR56tIjlLxd3Z3TvFsRFqeiJiIiIiEht5EYO0gJIq/B8BzDQhThOnrXw7lWUlezi9pJf8s2M/jDjewBCgw0RocFEhgYTGVblPjSYCO/jKO99RJX1FfepeJyoCs9Dgw3G1Exr2Y79+Xy0aAcfLtzBzuwC4iJDuWZAMlemtqR787gaOYeIiIiIiPiOG0ndkbIR+7ONjBkPjAdITk72dUwnxhgKz32KJcVhnBvZlmElZRQUl1FYUkZ+cRkFJc7jAu/jfO+6g4Ul3u083uWlFJZ4Tvj0wUHmKMlikDdhDPEmi0GV1kdVSBaLSj18vmwXP27MBGBIhyQePq8LZ3drQkSoip6IiIiIiAQKN5K6HUCrCs9bAruqbmStfQl4CSA1NfVnSZ/buvQ/ky41cByPx1JU6iR5BSVlFBSXUlBc8fnxk8Xy5wUlZWTmFlNQUnBov/Ll9ghXsEV8JPed2ZEr+rWkZUJUDbwaERERERHxNzeSugVAR2NMW2AnMBa4xoU4aoWgIOO0uIX5rnXMWm/iWCH5K/NYOjSKVtETEREREZEA5/ekzlpbaoy5G/gGZ0qD16y1q/wdR31ijDPOLyI0mMCvzSkiIiIiIhW5UqzRWvsl8KUb5xYREREREalLgtwOQERERERERE6ekjoREREREZEApqROREREREQkgCmpExERERERCWBK6kRERERERAKYkjoREREREZEApqROREREREQkgCmpExERERERCWBK6kRERERERAKYsda6HcNxGWMygG1ux1EHJQGZbgdRT+nau0fX3j269u7RtXePrr17dO3do2vvG62ttY2OtCIgkjrxDWPMQmttqttx1Ee69u7RtXePrr17dO3do2vvHl179+ja+5+6X4qIiIiIiAQwJXUiIiIiIiIBTEld/faS2wHUY7r27tG1d4+uvXt07d2ja+8eXXv36Nr7mcbUiYiIiIiIBDC11ImIiIiIiAQwJXX1kDHml8aYVcaYlcaYCcaYCLdjqquMMa8ZY9KNMSsrLGtojJlqjNngvU9wM8a67CjX/0ljzFpjzHJjzKfGmHgXQ6yzjnTtK6x7wBhjjTFJbsRW1x3t2htj7jHGrPP+/n/CrfjqsqP8zkkxxsw1xiw1xiw0xgxwM8a6yhjTyhgzzRizxvsZv8+7XH9zfewY115/b/1ISV09Y4xpAdwLpFprewDBwFh3o6rT3gBGVVn2MPC9tbYj8L33ufjGG/z8+k8FelhrewHrgd/4O6h64g1+fu0xxrQCzga2+zugeuQNqlx7Y8xI4GKgl7W2O/CUC3HVB2/w88/9E8CfrLUpwB+8z6XmlQK/stZ2BQYBvzDGdEN/c/3haNdef2/9SEld/RQCRBpjQoAoYJfL8dRZ1tqZQFaVxRcDb3ofvwlc4s+Y6pMjXX9r7bfW2lLv07lAS78HVg8c5bMP8G/gIUADun3kKNf+TuBxa22Rd5t0vwdWDxzl2lsg1vs4Dv3N9Qlr7W5r7WLv4xxgDdAC/c31uaNde/299S8ldfWMtXYnzn9otwO7gQPW2m/djareaWKt3Q3OL0Kgscvx1Gc3A1+5HUR9YYwZDey01i5zO5Z6qBMw1BgzzxgzwxjT3+2A6pH7gSeNMWk4f3/VWuFjxpg2QB9gHvqb61dVrn1F+nvrY0rq6hlvX/KLgbZAc6CBMeY6d6MS8T9jzG9xuoy863Ys9YExJgr4LU73M/G/ECABp2vUg8AHxhjjbkj1xp3AL621rYBfAq+6HE+dZoyJBj4G7rfWHnQ7nvrkaNdef2/9Q0ld/XMWsMVam2GtLQE+AQa7HFN9s9cY0wzAe69uUH5mjBkHXAhcazWvi7+0x/ln0jJjzFacbjiLjTFNXY2q/tgBfGId8wEPoEI1/jEO528twIeACqX4iDEmFCepeNdaW37N9TfXD45y7fX31o+U1NU/24FBxpgo739pz8Tp+yz+Mxnnjzze+0kuxlLvGGNGAb8GRltr892Op76w1q6w1ja21rax1rbBSTL6Wmv3uBxaffEZcAaAMaYTEAZkuhlQPbILGO59fAawwcVY6izvd5pXgTXW2n9VWKW/uT52tGuvv7f+pcnH6yFjzJ+AMThN4UuAW8sHz0vNMsZMAEbg/Ed8L/BHnC9XHwDJOEn2ldbaIxWUkFN0lOv/GyAc2OfdbK619g5XAqzDjnTtrbWvVli/FacKrxKLGnaUz/3bwGtAClAMPGCt/cGlEOuso1z7dcAzOF1gC4G7rLWL3IqxrjLGDAFmAStwWqIBHsEZ26W/uT50jGv/LPp76zdK6kRERERERAKYul+KiIiIiIgEMCV1IiIiIiIiAUxJnYiIiIiISABTUiciIiIiIhLAlNSJiIiIiIgEMCV1IiJSbxnHj8aY8yosu8oY87WbcYmIiJwITWkgIiL1mjGmB/Ah0AcIBpYCo6y1m07iWMHW2rKajVBEROTYlNSJiEi9Z4x5AsgDGnjvWwM9cSaMftRaO8kY0wZnEu8G3t3uttb+ZIwZgTPJ9G4gxVrbzb/Ri4hIfaekTkRE6j1jTANgMVAMTAFWWWvfMcbEA/NxWvEs4LHWFhpjOgITrLWp3qTuC6CHtXaLG/GLiEj9FuJ2ACIiIm6z1uYZY94HcoGrgIuMMQ94V0cAycAu4DljTApQBnSqcIj5SuhERMQtSupEREQcHu/NAJdba9dVXGmMeRTYC/TGKTRWWGF1np9iFBER+RlVvxQREansG+AeY4wBMMb08S6PA3Zbaz3A9ThFVURERFynpE5ERKSyvwChwHJjzErvc4D/AuOMMXNxul6qdU5ERGoFFUoREREREREJYGqpExERERERCWBK6kRERERERAKYkjoREREREZEApqROREREREQkgCmpExERERERCWBK6kRERERERAKYkjoREREREZEApqROREREREQkgP0/yA/hIIeedd4AAAAASUVORK5CYII=\n",
      "text/plain": [
       "<Figure size 1080x360 with 1 Axes>"
      ]
     },
     "metadata": {
      "needs_background": "light"
     },
     "output_type": "display_data"
    }
   ],
   "source": [
    "GPA_List_S = STEM_GRA['Avg Int Grade Received'].tolist()\n",
    "GPA_Inflation_S = []\n",
    "GPA_Inflation_S.append(0)\n",
    "base = GPA_List_S[0]\n",
    "for i in range(1,len(GPA_List_S)):\n",
    "    Rate  = ((GPA_List_S[i] - base)/base)*100\n",
    "    GPA_Inflation_S.append(Rate)\n",
    "    \n",
    "\n",
    "STEM_GRA['Absolute Inflation'] = GPA_Inflation_S\n",
    "GPA_List_H = HUM_GRA['Avg Int Grade Received'].tolist()\n",
    "GPA_Inflation_H = []\n",
    "GPA_Inflation_H.append(0)\n",
    "base = GPA_List_H[0]\n",
    "for i in range(1,len(GPA_List_H)):\n",
    "    Rate  = ((GPA_List_H[i] - base)/base)*100\n",
    "    GPA_Inflation_H.append(Rate)\n",
    "\n",
    "HUM_GRA['Absolute Inflation'] = GPA_Inflation_H\n",
    "STEM_GRA.groupby(['Year'])['Absolute Inflation'].mean().plot(figsize = (15, 5), label=\"STEM Inflation\")\n",
    "HUM_GRA.groupby(['Year'])['Absolute Inflation'].mean().plot(figsize = (15, 5),label=\"HUM Inflation\")\n",
    "plt.xlabel(\"Year\")\n",
    "plt.ylabel(\"Inflation\")\n",
    "plt.title(\"Absolute Inflation rate(compared to previous year)\")\n",
    "plt.legend()"
   ]
  },
  {
   "cell_type": "markdown",
   "metadata": {},
   "source": [
    "The plot shown suggests that HUM inflation outpaces STEM inflation. The difference between the two along with the comparison of relative inflation suggests that HUM is less affected by short term factors such as the COVID 19 pandemic, however both departments experience grade inflation at similar rates. However, HUM Inflation appears to be faster due to long-term factors, which would gradually inflate the grade but may not be apparent in relative inflation rate.\n",
    "\n",
    "Thus, based on our hypothesis, we turn to look at the student's expected and actual grades. We believe that if the expected grades is close to the actual grade, that it indicates a higher chance of leniency towards students within the department. In this case, we want to know whether HUM departments have a closer alignment between expected grade and actual grade than STEM departments.\n",
    "\n",
    "If the analysis confirms this, then it means that HUM departments are much more affected by the expectations of students, causing grade inflation."
   ]
  },
  {
   "cell_type": "code",
   "execution_count": 28,
   "metadata": {},
   "outputs": [],
   "source": [
    "STEM_GRA['Expected'] = STEM_CAPE.groupby(['Year'])['Avg Int Grade Expected'].mean().tolist()\n",
    "Expected = STEM_GRA['Expected'].tolist()\n",
    "Actual = STEM_GRA['Avg Int Grade Received'].tolist()\n",
    "rate = []\n",
    "for i in range(0,len(Actual)):\n",
    "    rate.append(((Expected[i] - Actual[i])/Actual[i])*100)\n",
    "STEM_GRA[\"EX_AC_R\"] = rate"
   ]
  },
  {
   "cell_type": "code",
   "execution_count": 29,
   "metadata": {},
   "outputs": [],
   "source": [
    "HUM_GRA['Expected'] = HUM_CAPE.groupby(['Year'])['Avg Int Grade Expected'].mean().tolist()\n",
    "Expected = HUM_GRA['Expected'].tolist()\n",
    "Actual = HUM_GRA['Avg Int Grade Received'].tolist()\n",
    "rate = []\n",
    "for i in range(0,len(Actual)):\n",
    "    rate.append(((Expected[i] - Actual[i])/Actual[i])*100)\n",
    "HUM_GRA[\"EX_AC_R\"] = rate"
   ]
  },
  {
   "cell_type": "code",
   "execution_count": 30,
   "metadata": {},
   "outputs": [
    {
     "data": {
      "text/plain": [
       "<matplotlib.legend.Legend at 0x7f4bbdb46a60>"
      ]
     },
     "execution_count": 30,
     "metadata": {},
     "output_type": "execute_result"
    },
    {
     "data": {
      "image/png": "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\n",
      "text/plain": [
       "<Figure size 1080x360 with 1 Axes>"
      ]
     },
     "metadata": {
      "needs_background": "light"
     },
     "output_type": "display_data"
    }
   ],
   "source": [
    "STEM_GRA.groupby(['Year'])['EX_AC_R'].mean().plot(figsize = (15, 5), label=\"STEM Expectation\")\n",
    "HUM_GRA.groupby(['Year'])['EX_AC_R'].mean().plot(figsize = (15, 5),label=\"HUM Expectation\")\n",
    "plt.xlabel(\"Year\")\n",
    "plt.ylabel(\"Expectation\")\n",
    "plt.title(\"Degrees between Expected Grades and Actual Grades\")\n",
    "plt.legend()"
   ]
  },
  {
   "cell_type": "markdown",
   "metadata": {},
   "source": [
    "Here, we are able to see that the expected grades within STEM  is much higher than the actual grades, implying that STEM departments have strict grade control practices. However, HUM Departments seem to be more affected by students' expectation.\n",
    "\n",
    "\n",
    "Now, we turn our attention to the quality of professors to determine if this is a contributing factor. \n",
    "The dataset includes a column labeled 'Percentage Recommended Professor', which seems to reflect students' recommendations of professors. However, the data is currently stored as objects and thus hinders analysis by quantitative means. Therefore, we want to convert the values to a numerical format in order to calculate them..\n",
    "\n",
    "To accomplish this, we will develop a function to convert the percentage values into numerical representations - allowing us to quantify students' recommendations of professors."
   ]
  },
  {
   "cell_type": "code",
   "execution_count": 31,
   "metadata": {},
   "outputs": [
    {
     "name": "stderr",
     "output_type": "stream",
     "text": [
      "/tmp/ipykernel_453/2200279708.py:5: SettingWithCopyWarning: \n",
      "A value is trying to be set on a copy of a slice from a DataFrame.\n",
      "Try using .loc[row_indexer,col_indexer] = value instead\n",
      "\n",
      "See the caveats in the documentation: https://pandas.pydata.org/pandas-docs/stable/user_guide/indexing.html#returning-a-view-versus-a-copy\n",
      "  drop_empty['Percentage Recommended Professor'] = drop_empty['Percentage Recommended Professor'].apply(lambda x: convert_to_num(x))\n"
     ]
    }
   ],
   "source": [
    "def convert_to_num(object):\n",
    "    object = pd.to_numeric(object.replace('%', ''))\n",
    "    return object\n",
    "\n",
    "drop_empty['Percentage Recommended Professor'] = drop_empty['Percentage Recommended Professor'].apply(lambda x: convert_to_num(x))"
   ]
  },
  {
   "cell_type": "code",
   "execution_count": 32,
   "metadata": {},
   "outputs": [
    {
     "data": {
      "text/html": [
       "<div>\n",
       "<style scoped>\n",
       "    .dataframe tbody tr th:only-of-type {\n",
       "        vertical-align: middle;\n",
       "    }\n",
       "\n",
       "    .dataframe tbody tr th {\n",
       "        vertical-align: top;\n",
       "    }\n",
       "\n",
       "    .dataframe thead th {\n",
       "        text-align: right;\n",
       "    }\n",
       "</style>\n",
       "<table border=\"1\" class=\"dataframe\">\n",
       "  <thead>\n",
       "    <tr style=\"text-align: right;\">\n",
       "      <th></th>\n",
       "      <th>Instructor</th>\n",
       "      <th>Course</th>\n",
       "      <th>Quarter</th>\n",
       "      <th>Total Enrolled in Course</th>\n",
       "      <th>Total CAPEs Given</th>\n",
       "      <th>Percentage Recommended Class</th>\n",
       "      <th>Percentage Recommended Professor</th>\n",
       "      <th>Study Hours per Week</th>\n",
       "      <th>Average Grade Expected</th>\n",
       "      <th>Average Grade Received</th>\n",
       "      <th>Avg Int Grade Received</th>\n",
       "      <th>Year</th>\n",
       "      <th>Department</th>\n",
       "      <th>Avg Int Grade Expected</th>\n",
       "    </tr>\n",
       "  </thead>\n",
       "  <tbody>\n",
       "    <tr>\n",
       "      <th>0</th>\n",
       "      <td>Butler Elizabeth Annette</td>\n",
       "      <td>AAS 10 - Intro/African-American Studies (A)</td>\n",
       "      <td>SP23</td>\n",
       "      <td>66</td>\n",
       "      <td>48</td>\n",
       "      <td>93.5%</td>\n",
       "      <td>100.0</td>\n",
       "      <td>2.80</td>\n",
       "      <td>A- (3.84)</td>\n",
       "      <td>B+ (3.67)</td>\n",
       "      <td>3.67</td>\n",
       "      <td>23</td>\n",
       "      <td>AAS</td>\n",
       "      <td>3.84</td>\n",
       "    </tr>\n",
       "    <tr>\n",
       "      <th>1</th>\n",
       "      <td>Butler Elizabeth Annette</td>\n",
       "      <td>AAS 170 - Legacies of Research (A)</td>\n",
       "      <td>SP23</td>\n",
       "      <td>20</td>\n",
       "      <td>7</td>\n",
       "      <td>100.0%</td>\n",
       "      <td>100.0</td>\n",
       "      <td>2.50</td>\n",
       "      <td>A- (3.86)</td>\n",
       "      <td>A- (3.92)</td>\n",
       "      <td>3.92</td>\n",
       "      <td>23</td>\n",
       "      <td>AAS</td>\n",
       "      <td>3.86</td>\n",
       "    </tr>\n",
       "    <tr>\n",
       "      <th>3</th>\n",
       "      <td>Shtienberg Gilad</td>\n",
       "      <td>ANAR 115 - Coastal Geomorphology/Environ (A)</td>\n",
       "      <td>SP23</td>\n",
       "      <td>26</td>\n",
       "      <td>6</td>\n",
       "      <td>100.0%</td>\n",
       "      <td>83.3</td>\n",
       "      <td>3.83</td>\n",
       "      <td>B+ (3.50)</td>\n",
       "      <td>B (3.07)</td>\n",
       "      <td>3.07</td>\n",
       "      <td>23</td>\n",
       "      <td>ANAR</td>\n",
       "      <td>3.50</td>\n",
       "    </tr>\n",
       "    <tr>\n",
       "      <th>4</th>\n",
       "      <td>Braswell Geoffrey E.</td>\n",
       "      <td>ANAR 155 - Stdy Abrd: Ancient Mesoamerica (A)</td>\n",
       "      <td>SP23</td>\n",
       "      <td>22</td>\n",
       "      <td>9</td>\n",
       "      <td>100.0%</td>\n",
       "      <td>100.0</td>\n",
       "      <td>5.17</td>\n",
       "      <td>A (4.00)</td>\n",
       "      <td>A (4.00)</td>\n",
       "      <td>4.00</td>\n",
       "      <td>23</td>\n",
       "      <td>ANAR</td>\n",
       "      <td>4.00</td>\n",
       "    </tr>\n",
       "    <tr>\n",
       "      <th>5</th>\n",
       "      <td>Hrvoj Mihic Branka</td>\n",
       "      <td>ANBI 111 - Human Evolution (A)</td>\n",
       "      <td>SP23</td>\n",
       "      <td>22</td>\n",
       "      <td>4</td>\n",
       "      <td>100.0%</td>\n",
       "      <td>100.0</td>\n",
       "      <td>2.50</td>\n",
       "      <td>A (4.00)</td>\n",
       "      <td>B- (2.95)</td>\n",
       "      <td>2.95</td>\n",
       "      <td>23</td>\n",
       "      <td>ANBI</td>\n",
       "      <td>4.00</td>\n",
       "    </tr>\n",
       "  </tbody>\n",
       "</table>\n",
       "</div>"
      ],
      "text/plain": [
       "                 Instructor                                         Course  \\\n",
       "0  Butler Elizabeth Annette    AAS 10 - Intro/African-American Studies (A)   \n",
       "1  Butler Elizabeth Annette             AAS 170 - Legacies of Research (A)   \n",
       "3          Shtienberg Gilad   ANAR 115 - Coastal Geomorphology/Environ (A)   \n",
       "4      Braswell Geoffrey E.  ANAR 155 - Stdy Abrd: Ancient Mesoamerica (A)   \n",
       "5        Hrvoj Mihic Branka                 ANBI 111 - Human Evolution (A)   \n",
       "\n",
       "  Quarter  Total Enrolled in Course  Total CAPEs Given  \\\n",
       "0    SP23                        66                 48   \n",
       "1    SP23                        20                  7   \n",
       "3    SP23                        26                  6   \n",
       "4    SP23                        22                  9   \n",
       "5    SP23                        22                  4   \n",
       "\n",
       "  Percentage Recommended Class  Percentage Recommended Professor  \\\n",
       "0                        93.5%                             100.0   \n",
       "1                       100.0%                             100.0   \n",
       "3                       100.0%                              83.3   \n",
       "4                       100.0%                             100.0   \n",
       "5                       100.0%                             100.0   \n",
       "\n",
       "   Study Hours per Week Average Grade Expected Average Grade Received  \\\n",
       "0                  2.80              A- (3.84)              B+ (3.67)   \n",
       "1                  2.50              A- (3.86)              A- (3.92)   \n",
       "3                  3.83              B+ (3.50)               B (3.07)   \n",
       "4                  5.17               A (4.00)               A (4.00)   \n",
       "5                  2.50               A (4.00)              B- (2.95)   \n",
       "\n",
       "   Avg Int Grade Received  Year Department  Avg Int Grade Expected  \n",
       "0                    3.67    23        AAS                    3.84  \n",
       "1                    3.92    23        AAS                    3.86  \n",
       "3                    3.07    23       ANAR                    3.50  \n",
       "4                    4.00    23       ANAR                    4.00  \n",
       "5                    2.95    23       ANBI                    4.00  "
      ]
     },
     "execution_count": 32,
     "metadata": {},
     "output_type": "execute_result"
    }
   ],
   "source": [
    "drop_empty.head()"
   ]
  },
  {
   "cell_type": "markdown",
   "metadata": {},
   "source": [
    "Now you can see that we have all numbers in the percentage recommended professor column."
   ]
  },
  {
   "cell_type": "markdown",
   "metadata": {},
   "source": [
    "Then we want to take a look at the average percentage recommended professor for both hum classes and stem classes."
   ]
  },
  {
   "cell_type": "code",
   "execution_count": 33,
   "metadata": {},
   "outputs": [
    {
     "name": "stderr",
     "output_type": "stream",
     "text": [
      "/tmp/ipykernel_453/4034083666.py:1: SettingWithCopyWarning: \n",
      "A value is trying to be set on a copy of a slice from a DataFrame.\n",
      "Try using .loc[row_indexer,col_indexer] = value instead\n",
      "\n",
      "See the caveats in the documentation: https://pandas.pydata.org/pandas-docs/stable/user_guide/indexing.html#returning-a-view-versus-a-copy\n",
      "  STEM_CAPE['Percentage Recommended Professor'] = STEM_CAPE['Percentage Recommended Professor'].apply(lambda x: convert_to_num(x))\n"
     ]
    }
   ],
   "source": [
    "STEM_CAPE['Percentage Recommended Professor'] = STEM_CAPE['Percentage Recommended Professor'].apply(lambda x: convert_to_num(x))"
   ]
  },
  {
   "cell_type": "code",
   "execution_count": 34,
   "metadata": {},
   "outputs": [
    {
     "name": "stderr",
     "output_type": "stream",
     "text": [
      "/tmp/ipykernel_453/2889756173.py:1: SettingWithCopyWarning: \n",
      "A value is trying to be set on a copy of a slice from a DataFrame.\n",
      "Try using .loc[row_indexer,col_indexer] = value instead\n",
      "\n",
      "See the caveats in the documentation: https://pandas.pydata.org/pandas-docs/stable/user_guide/indexing.html#returning-a-view-versus-a-copy\n",
      "  HUM_CAPE['Percentage Recommended Professor'] = HUM_CAPE['Percentage Recommended Professor'].apply(lambda x: convert_to_num(x))\n"
     ]
    }
   ],
   "source": [
    "HUM_CAPE['Percentage Recommended Professor'] = HUM_CAPE['Percentage Recommended Professor'].apply(lambda x: convert_to_num(x))"
   ]
  },
  {
   "cell_type": "code",
   "execution_count": 35,
   "metadata": {},
   "outputs": [
    {
     "name": "stdout",
     "output_type": "stream",
     "text": [
      "Average percentage recommended professor in stem classes:  83.01391024494905     Average percentage recommended professor in hum classes:  90.90673749327595\n"
     ]
    }
   ],
   "source": [
    "average_recom_prof_stem = STEM_CAPE['Percentage Recommended Professor'].mean()\n",
    "average_recom_prof_hum = HUM_CAPE['Percentage Recommended Professor'].mean()\n",
    "print(\"Average percentage recommended professor in stem classes: \",average_recom_prof_stem,\"    Average percentage recommended professor in hum classes: \", average_recom_prof_hum)"
   ]
  },
  {
   "cell_type": "markdown",
   "metadata": {},
   "source": [
    "From here, we can see that the average percentage of recommended professor is higher in hum classes than stem classes."
   ]
  },
  {
   "cell_type": "code",
   "execution_count": 37,
   "metadata": {},
   "outputs": [
    {
     "data": {
      "image/png": "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\n",
      "text/plain": [
       "<Figure size 720x432 with 1 Axes>"
      ]
     },
     "metadata": {
      "needs_background": "light"
     },
     "output_type": "display_data"
    }
   ],
   "source": [
    "import matplotlib.pyplot as plt\n",
    "\n",
    "# Set the size of the plot\n",
    "plt.figure(figsize=(10, 6))\n",
    "\n",
    "# Plot histogram for HUM classes\n",
    "HUM_CAPE['Percentage Recommended Professor'].hist(alpha=0.5, bins=20, label='HUM', color='blue')\n",
    "\n",
    "# Plot histogram for STEM classes\n",
    "STEM_CAPE['Percentage Recommended Professor'].hist(alpha=0.5, bins=20, label='STEM', color='red')\n",
    "\n",
    "# Adding plot title and labels\n",
    "plt.title('Histogram of Professor Recommendations')\n",
    "plt.xlabel('Percentage Recommended Professor')\n",
    "plt.ylabel('Frequency')\n",
    "plt.legend()\n",
    "\n",
    "# Show the plot\n",
    "plt.show()"
   ]
  },
  {
   "cell_type": "markdown",
   "metadata": {},
   "source": [
    "Based on the histogram, it appears that professors in both humanities (HUM) and STEM fields generally receive high recommendation percentages from students, with a right-skewed distribution indicating that most professors are well-recommended. Notably, humanities professors tend to have a larger proportion of near-perfect recommendations, with the peak of the histogram nearing the 100% mark, suggesting that they are particularly well-regarded. In contrast, the STEM field shows a broader spread and slightly lower peak, indicating more variability in student recommendations. This implies that while highly recommended professors are present in STEM, they do not dominate to the same extent as in the humanities. The overall trend suggests that humanities professors may engage or resonate with students in a manner that prompts a higher rate of strong recommendations, though further detailed analysis would be necessary to draw more definitive conclusions about the factors contributing to these observations.\n",
    "\n",
    "\n",
    "\n",
    "So is there really a difference between the recommended professors' percentages between hum and stem classes?\n",
    "I want to use a t test to test it."
   ]
  },
  {
   "cell_type": "code",
   "execution_count": 38,
   "metadata": {},
   "outputs": [
    {
     "name": "stdout",
     "output_type": "stream",
     "text": [
      "T-statistic: 35.93447491594879\n",
      "P-value: 1.8061634189753402e-273\n",
      "We reject the null hypothesis. There is a significant difference between groups.\n"
     ]
    }
   ],
   "source": [
    "from scipy.stats import ttest_ind\n",
    "\n",
    "hum_percentages = HUM_CAPE['Percentage Recommended Professor'].dropna().values\n",
    "stem_percentages = STEM_CAPE['Percentage Recommended Professor'].dropna().values\n",
    "\n",
    "# Perform the t-test\n",
    "t_stat, p_val = ttest_ind(hum_percentages, stem_percentages)\n",
    "\n",
    "# t_stat is the calculated t-statistic, and p_val is the p-value\n",
    "print(\"T-statistic:\", t_stat)\n",
    "print(\"P-value:\", p_val)\n",
    "\n",
    "# Interpret the p-value\n",
    "alpha = 0.05\n",
    "if p_val < alpha:\n",
    "    print(\"We reject the null hypothesis. There is a significant difference between groups.\")\n",
    "else:\n",
    "    print(\"We fail to reject the null hypothesis. There is no significant difference between groups.\")\n"
   ]
  },
  {
   "cell_type": "markdown",
   "metadata": {},
   "source": [
    "Based on the results obtained from the t-test, with a T-statistic of 35.9345 and an extremely small p-value (1.806e-273), we can confidently reject the null hypothesis. This indicates that there is a statistically significant difference between the percentages of professors recommended in humanities (HUM) classes compared to STEM classes. Specifically, the large positive T-statistic suggests that the average percentage of professors recommended is higher in HUM classes than in STEM classes. \n",
    "\n",
    "The significance of this difference underlines the potential influence of professor recommendations on students' perceptions and potentially their choices between HUM and STEM courses. This could reflect differences in teaching styles, course content, or student engagement across these disciplines. Further investigation into the factors contributing to higher professor recommendations in humanities classes could provide valuable insights for enhancing educational practices across all disciplines."
   ]
  },
  {
   "cell_type": "markdown",
   "metadata": {},
   "source": [
    "Then I want to use a correlation test to see if the recommended professor percentage is strong impacting the recieved grades from the students."
   ]
  },
  {
   "cell_type": "code",
   "execution_count": 39,
   "metadata": {},
   "outputs": [
    {
     "name": "stdout",
     "output_type": "stream",
     "text": [
      "Correlation coefficient: 0.2939132803517709\n",
      "P-value: 0.0\n"
     ]
    }
   ],
   "source": [
    "from scipy.stats import pearsonr\n",
    "import numpy as np\n",
    "grades = drop_empty['Avg Int Grade Received'].values  \n",
    "percentage_recommended_professor = drop_empty['Percentage Recommended Professor'].values\n",
    "\n",
    "# Remove any NaN values from both arrays to ensure equal lengths\n",
    "valid_indices = ~np.isnan(grades) & ~np.isnan(percentage_recommended_professor)\n",
    "grades_clean = grades[valid_indices]\n",
    "percentage_recommended_professor_clean = percentage_recommended_professor[valid_indices]\n",
    "\n",
    "# Perform the Pearson correlation test\n",
    "correlation_coefficient, p_value = pearsonr(grades_clean, percentage_recommended_professor_clean)\n",
    "\n",
    "print(f\"Correlation coefficient: {correlation_coefficient}\")\n",
    "print(f\"P-value: {p_value}\")"
   ]
  },
  {
   "cell_type": "markdown",
   "metadata": {},
   "source": [
    "The Pearson correlation test between the percentage of students recommending their professors and the average grades received across all courses indicates a positive correlation of approximately 0.294, with a statistically significant p-value of 0.0. This suggests that there is a positive, albeit weak, association between how highly students rate their professors and their academic performance across a wide range of courses, not limited to any specific department. The statistical significance of this correlation reinforces the idea that the quality of teaching, as perceived by students, may have some impact on their grades. However, the correlation's relatively low magnitude highlights that professor recommendations are just one of many factors influencing academic outcomes. This suggests that while positive perceptions of instructors can be associated with slightly better academic performance, they are far from the only determinant of student success. Other variables, such as study habits, course content, and student motivation, likely play more substantial roles in shaping educational achievements."
   ]
  },
  {
   "cell_type": "markdown",
   "metadata": {},
   "source": [
    "\n",
    "The analyses conducted have provided illuminating insights into the relationship between professor recommendations, course discipline (HUM vs. STEM), and student grades. A key finding from our investigation is the statistically significant difference in professor recommendation percentages between humanities and STEM classes, with humanities professors generally receiving higher recommendations. This distinction suggests that students might perceive or experience teaching quality differently across these two broad areas of study.\n",
    "\n",
    "However, when examining the broader impact of professor recommendations on student grades across all courses, the correlation, while positive, is not particularly strong. This indicates that while students may appreciate and recommend professors more in certain contexts (notably in humanities courses), these recommendations do not strongly predict the grades students receive. This finding challenges the assumption that higher professor recommendation rates directly correlate with improved student performance, underscoring the complexity of educational outcomes and the myriad factors that contribute to academic success.\n",
    "\n",
    "Given the distinct patterns observed between HUM and STEM classes in terms of professor recommendations, we proceeded to conduct separate correlation analyses for each discipline. The goal was to determine whether the strength of the relationship between professor recommendations and student grades varied significantly when these fields were examined independently. Such an analysis is crucial for understanding whether the broader trends observed hold true within the specific contexts of humanities and STEM education, or if different dynamics are at play that could inform targeted strategies for enhancing teaching effectiveness and student engagement in these areas."
   ]
  },
  {
   "cell_type": "code",
   "execution_count": 40,
   "metadata": {},
   "outputs": [
    {
     "data": {
      "text/plain": [
       "((0.19675360831881522, 5.008225293796713e-98),\n",
       " (0.28766354316266746, 1.1832825721196956e-141))"
      ]
     },
     "execution_count": 40,
     "metadata": {},
     "output_type": "execute_result"
    }
   ],
   "source": [
    "# Prepare data for STEM classes\n",
    "stem_grades = STEM_CAPE['Avg Int Grade Received'].dropna().values\n",
    "stem_prof_rec = STEM_CAPE['Percentage Recommended Professor'].dropna().values\n",
    "\n",
    "# Calculate Pearson correlation coefficient for STEM classes\n",
    "stem_correlation_coefficient, stem_p_value = pearsonr(stem_grades, stem_prof_rec)\n",
    "\n",
    "# Prepare data for HUM classes\n",
    "hum_grades = HUM_CAPE['Avg Int Grade Received'].dropna().values\n",
    "hum_prof_rec = HUM_CAPE['Percentage Recommended Professor'].dropna().values\n",
    "\n",
    "# Calculate Pearson correlation coefficient for HUM classes\n",
    "hum_correlation_coefficient, hum_p_value = pearsonr(hum_grades, hum_prof_rec)\n",
    "\n",
    "(stem_correlation_coefficient, stem_p_value), (hum_correlation_coefficient, hum_p_value)"
   ]
  },
  {
   "cell_type": "markdown",
   "metadata": {},
   "source": [
    "Based on the correlation test results, we observe a positive correlation between the percentage of professors recommended and the average grades received in both humanities (HUM) and STEM classes. The correlation coefficient for HUM classes is approximately 0.197 with a highly significant p-value (5.008e-98), indicating a weak but statistically significant positive relationship. For STEM classes, the correlation coefficient is stronger at about 0.288, also with a highly significant p-value (1.183e-141), suggesting a moderate positive relationship.\n",
    "\n",
    "These findings imply that while the overall percentage of professors recommended is significantly higher in HUM classes compared to STEM classes, the influence of professor recommendations on student grades exhibits a positive trend in both fields, albeit more pronounced in STEM. The weak to moderate correlation coefficients indicate that professor recommendations contribute to but are not the sole determinant of student academic performance. Other factors, such as individual student effort, course difficulty, and teaching methods, likely play a more significant role in determining grades. Nonetheless, the statistically significant correlations suggest that positive perceptions of professors are associated with better academic outcomes to some extent in both humanities and STEM disciplines.\n",
    "\n",
    "These results underscore the importance of quality teaching and the potential impact of positive student-teacher interactions on academic success. They also highlight the need for further research into the various factors influencing student grades and the role of professor recommendations in enhancing educational experiences across different academic fields."
   ]
  },
  {
   "cell_type": "markdown",
   "metadata": {},
   "source": [
    "# Ethics & Privacy"
   ]
  },
  {
   "cell_type": "markdown",
   "metadata": {},
   "source": [
    "- Thoughtful discussion of ethical concerns included\n",
    "- Ethical concerns consider the whole data science process (question asked, data collected, data being used, the bias in data, analysis, post-analysis, etc.)\n",
    "- How your group handled bias/ethical concerns clearly described\n",
    "\n",
    "Acknowledge and address any ethics & privacy related issues of your question(s), proposed dataset(s), and/or analyses. Use the information provided in lecture to guide your group discussion and thinking. If you need further guidance, check out [Deon's Ethics Checklist](http://deon.drivendata.org/#data-science-ethics-checklist). In particular:\n",
    "\n",
    "- Are there any biases/privacy/terms of use issues with the data you propsed?\n",
    "- Are there potential biases in your dataset(s), in terms of who it composes, and how it was collected, that may be problematic in terms of it allowing for equitable analysis? (For example, does your data exclude particular populations, or is it likely to reflect particular human biases in a way that could be a problem?)\n",
    "- How will you set out to detect these specific biases before, during, and after/when communicating your analysis?\n",
    "- Are there any other issues related to your topic area, data, and/or analyses that are potentially problematic in terms of data privacy and equitable impact?\n",
    "- How will you handle issues you identified?"
   ]
  },
  {
   "cell_type": "markdown",
   "metadata": {},
   "source": [
    "There are very minimal ethics and privacy concerns related to this dataset since there is no personal information about the student's individual grades available on the dataset.\n",
    "\n",
    "There may be a slight bias in who composes the data because the students who fill out CAPES are already more willing to participate in the class for extra credit. The grade expected and the grade recieved are different because the people who fill out capes are a different section than the overall class demographic. While this selection bias exists in the dataset, we don't suspect it having a large affect on the conclusions made by our research. This reason why this is the case is because we are studying an overall trend of growth or decay in grades. If this bias where to exist, then it would exist in every year that we analyze CAPES so ranges would be uneffected by this bias.\n",
    "\n",
    "We will communitcate these specfic biases that we find when discussing our analysis to inform readers about this potential issue.\n",
    "\n",
    "There are no other issues related to your topic area, data, and/or analyses that are potentially problematic in terms of data privacy and equitable impact. There is little our project can do to fix any issues however we will mention these issues to highlight them to the reader."
   ]
  },
  {
   "cell_type": "markdown",
   "metadata": {},
   "source": [
    "# Discusison and Conclusion\n",
    "\n",
    "Wrap it all up here.  Somewhere between 3 and 10 paragraphs roughly.  A good time to refer back to your Background section and review how this work extended the previous stuff. \n",
    "\n",
    "**Discussion:**\n",
    "\n",
    "Our research question delves into the phenomenon of grade inflation at the University of California, San Diego (UCSD) over the past 15 years, specifically focusing on whether certain departments exhibit more pronounced grade inflation trends than others. We aim to analyze the average grades awarded within departments to discern any patterns indicative of grade inflation. Grade inflation is a critical issue in academia as it can impact students' perceptions of effort and achievement, as well as their preparedness for the workforce. Moreover, it can influence institutional reputations and the value of academic credentials.\n",
    "\n",
    "Prior studies have highlighted the prevalence of grade inflation nationally and its potential consequences. While some research suggests a general rise in grades across institutions, specific departmental-level analyses are scarce, particularly for universities like UCSD. Existing data indicates a gradual increase in the university's overall average GPA from 2009 to 2024, but the specific departmental contributions to this trend remain unclear. Furthermore, the factors driving grade inflation, such as institutional competition and the impact of online resources, warrant further investigation.\n",
    "\n",
    "Our hypothesis posits that grade inflation, particularly in the humanities departments, has become more pronounced at UCSD. This conjecture is informed by observations of similar trends in other prestigious universities and the increased availability of online resources facilitating academic performance. We anticipate that humanities courses, which often prioritize qualitative assessments and subjective evaluations, may exhibit higher average grades over time compared to STEM disciplines.\n",
    "\n",
    "To investigate these hypotheses, we employ the UCSD CAPEs dataset, which contains comprehensive evaluations of courses and instructors by students. By analyzing variables such as average grade received, study hours per week, and departmental distinctions, we aim to discern patterns indicative of grade inflation. Data preprocessing involves standardizing grade representations and organizing courses by department for comparative analysis.\n",
    "\n",
    "**Conclusion:**\n",
    "\n",
    "In summary, our research seeks to address a critical gap in understanding the dynamics of grade inflation at UCSD, particularly at the departmental level. By leveraging the UCSD CAPEs dataset and employing robust data analysis techniques, we aim to shed light on the prevalence and drivers of grade inflation within specific academic disciplines. Our findings have implications for both academic policy and changes in teaching style (especially during the peak of Covid-19 with many classes being taught online), as well as broader discussions on educational equity and integrity. Ultimately, by describing the factors and complexities of grade inflation, we contribute to informed decision-making and accountability within higher education institutions.\n",
    "\n",
    "# Team Contributions\n",
    "\n",
    "Speficy who did what.  This should be pretty granular, perhaps bullet points, no more than a few sentences per person.\n",
    "\n",
    "-Sirui Huang:\n",
    "\n",
    "-Tianqi Li:\n",
    "\n",
    "-Jacob McCoy: Helped come up with ideas for proposal, research, hypothesis, and other factors related to what to focus on for EDA.  Edited, cleaned, and added onto analysis of data. Served as second check for portions EDA and data checkpoint sections.  \n",
    "\n",
    "-Shreya Nagunuri: \n",
    "\n",
    "-Juliet Raynovich: Wrote some code to compare departments with each other in data, based off imported kaggle information and divided between the humanities and STEM departments. Helped come up with ideas for the proposal, research, and hypothesis and certain factors to focus on in each dataset including # of evaluations filled out vs how many grades were recorded. Wrote the conclusion/ discussion and cleaned up some code and titles of sections from previous data checkpoints."
   ]
  }
 ],
 "metadata": {
  "kernelspec": {
   "display_name": "Python 3 (ipykernel)",
   "language": "python",
   "name": "python3"
  },
  "language_info": {
   "codemirror_mode": {
    "name": "ipython",
    "version": 3
   },
   "file_extension": ".py",
   "mimetype": "text/x-python",
   "name": "python",
   "nbconvert_exporter": "python",
   "pygments_lexer": "ipython3",
   "version": "3.9.5"
  }
 },
 "nbformat": 4,
 "nbformat_minor": 2
}
