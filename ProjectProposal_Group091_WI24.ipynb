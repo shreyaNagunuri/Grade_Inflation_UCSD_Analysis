{
 "cells": [
  {
   "cell_type": "markdown",
   "metadata": {},
   "source": [
    "# COGS 108 - Project Proposal"
   ]
  },
  {
   "cell_type": "markdown",
   "metadata": {},
   "source": [
    "# Names\n",
    "\n",
    "- Juliet Raynovich\n",
    "- Sirui Huang\n",
    "- Tianqi Li\n",
    "- Jacob Mccoy\n",
    "- Shreya Nagunuri"
   ]
  },
  {
   "cell_type": "markdown",
   "metadata": {},
   "source": [
    "# Research Question"
   ]
  },
  {
   "cell_type": "markdown",
   "metadata": {},
   "source": [
    "-  Include a specific, clear data science question.\n",
    "-  Make sure what you're measuring (variables) to answer the question is clear\n",
    "\n",
    "What is your research question? Include the specific question you're setting out to answer. This question should be specific, answerable with data, and clear. A general question with specific subquestions is permitted. (1-2 sentences)\n"
   ]
  },
  {
   "cell_type": "markdown",
   "metadata": {},
   "source": [
    "Using CAPES data, has there been a trend of grade inflation at UCSD over the past 15 years, and if so has it affected particular departments more than others. In this research question, we would like to study a department's average grade over time. "
   ]
  },
  {
   "cell_type": "markdown",
   "metadata": {},
   "source": [
    "## Background and Prior Work"
   ]
  },
  {
   "cell_type": "markdown",
   "metadata": {},
   "source": [
    "\n",
    "- Include a general introduction to your topic\n",
    "- Include explanation of what work has been done previously\n",
    "- Include citations or links to previous work\n",
    "\n",
    "This section will present the background and context of your topic and question in a few paragraphs. Include a general introduction to your topic and then describe what information you currently know about the topic after doing your initial research. Include references to other projects who have asked similar questions or approached similar problems. Explain what others have learned in their projects.\n",
    "\n",
    "Find some relevant prior work, and reference those sources, summarizing what each did and what they learned. Even if you think you have a totally novel question, find the most similar prior work that you can and discuss how it relates to your project.\n",
    "\n",
    "References can be research publications, but they need not be. Blogs, GitHub repositories, company websites, etc., are all viable references if they are relevant to your project. It must be clear which information comes from which references. (2-3 paragraphs, including at least 2 references)\n",
    "\n",
    " **Use inline citation through HTML footnotes to specify which references support which statements** \n",
    "\n",
    "For example: After government genocide in the 20th century, real birds were replaced with surveillance drones designed to look just like birds.<a name=\"cite_ref-1\"></a>[<sup>1</sup>](#cite_note-1) Use a minimum of 2 or 3 citations, but we prefer more.<a name=\"cite_ref-2\"></a>[<sup>2</sup>](#cite_note-2) You need enough to fully explain and back up important facts. \n",
    "\n",
    "Note that if you click a footnote number in the paragraph above it will transport you to the proper entry in the footnotes list below.  And if you click the ^ in the footnote entry, it will return you to the place in the main text where the footnote is made.\n",
    "\n",
    "To understand the HTML here, `<a name=\"#...\"> </a>` is a tag that allows you produce a named reference for a given location.  Markdown has the construciton `[text with hyperlink](#named reference)` that will produce a clickable link that transports you the named reference.\n",
    "\n",
    "1. <a name=\"cite_note-1\"></a> [^](#cite_ref-1) Lorenz, T. (9 Dec 2021) Birds Aren’t Real, or Are They? Inside a Gen Z Conspiracy Theory. *The New York Times*. https://www.nytimes.com/2021/12/09/technology/birds-arent-real-gen-z-misinformation.html \n",
    "2. <a name=\"cite_note-2\"></a> [^](#cite_ref-2) Also refs should be important to the background, not some randomly chosen vaguely related stuff. Include a web link if possible in refs as above.\n"
   ]
  },
  {
   "cell_type": "markdown",
   "metadata": {},
   "source": [
    "   Grade inflation is a reference to the trend of increasin grade over time, in this case, at universities. Experts find grade inflation to be a significant issue in society because it signals that students shouldn't try as hard to get the grade that they deserve.<a name=\"cite_ref-1\"></a>[<sup>1</sup>](#cite_note-1) In addition, it may signal to employers that students are not prepared to leave their learning and join the workforce.<a name=\"cite_ref-1\"></a>[<sup>1</sup>](#cite_note-1) Thus, universities try to curb the impact of grade inflation by grading on a curve and reducing the number of As given much to the chargin of students. This system was created in hopes for students feel as if they deserved their grade more, although someone has to fill the lower quota of students.<a name=\"cite_ref-2\"></a>[<sup>2</sup>](#cite_note-2) \n",
    "\n",
    "   There hasn't been much research on grade inflation at UCSD especially on a department level. However, we do know that the average GPA of UCSD students has increased from 2000 to 2015 from a 3.0 to a 3.15<a name=\"cite_ref-3\"></a>[<sup>3</sup>](#cite_note-3). This analysis is limited to an overall perspective and we don't know if a particular department drives this growth. In addition, this increase may not even be attributed to grade inflation but the growth of UCSD to a more prestigious university. <a name=\"cite_ref-4\"></a>[<sup>4</sup>](#cite_note-4) There has been research done on grade inflation on a national level and some researchers find that \"grades have risen at high schools and dropped at four-year colleges, in general, and selective four-year institutions, in particular\". This heavily contridicts previous reporting most likely because this research paper defines grade inflation as the \"signalling power of grades\".<a name=\"cite_ref-5\"></a>[<sup>5</sup>](#cite_note-5)\n",
    "   \n",
    "   Our research aims to build on previous research in a couple different ways. Firstly, our research would include more recent student grades from Fall Quarter 2023. In addition, we would aim to understand inflation on a departmental level since there many be specific departments that award higher grades every year compared to other departments. \n",
    "\n",
    "1. <a name=\"cite_note-1\"></a> [^](#cite_ref-1) Hess, F. (5 Sept 2023) Grade Inflation Is Not A Victimless Crime. *Forbes*. https://www.forbes.com/sites/frederickhess/2023/09/05/grade-inflation-is-not-a-victimless-crime/?sh=709c81af17b2\n",
    "\n",
    "2. <a name=\"cite_note-2\"></a> [^](#cite_ref-2) (11 Oct 2010) The Gaurdian. *Making the Grade*. https://ucsdguardian.org/2010/10/11/making-the-grade-3/\n",
    "\n",
    "3. <a name=\"cite_note-3\"></a> [^](#cite_ref-3) (2023) University of California – San Diego. *Grade Inflation*. https://www.gradeinflation.com/Ucsandiego.html\n",
    "\n",
    "4. <a name=\"cite_note-4\"></a> [^](#cite_ref-4) Rubalcava, A. (18 Sept 2023) UC San Diego Climbs to Nation’s 6th Best Public University in U.S. News & World Report Rankings. *UC San Diego Today*. https://today.ucsd.edu/story/uc-san-diego-climbs-to-nations-6th-best-public-university-in-u.s-news-world-report-rankings#:~:text=The%20University%20of%20California%20San,Best%20Colleges%20rankings%20released%20today.\n",
    "\n",
    "5. <a name=\"cite_note-5\"></a> [^](#cite_ref-5) Pattison E, Grodsky E, Muller C. (1 June 2013) Is the Sky Falling? Grade Inflation and the Signaling Power of Grades. *NCBI*. https://www.ncbi.nlm.nih.gov/pmc/articles/PMC4185208/"
   ]
  },
  {
   "cell_type": "markdown",
   "metadata": {},
   "source": [
    "# Hypothesis\n"
   ]
  },
  {
   "cell_type": "markdown",
   "metadata": {},
   "source": [
    "\n",
    "- Include your team's hypothesis\n",
    "- Ensure that this hypothesis is clear to readers\n",
    "- Explain why you think this will be the outcome (what was your thinking?)\n",
    "\n",
    "What is your main hypothesis/predictions about what the answer to your question is? Briefly explain your thinking. (2-3 sentences)"
   ]
  },
  {
   "cell_type": "markdown",
   "metadata": {},
   "source": [
    "Grade inflation at UCSD (from 2007 Summer Session to 2023 Spring) has become more prominent specifically in the humanties departments. \n",
    "\n",
    "The reason why we think that grade inflation has increased at UCSD because grade inflation has been a trend in other top universities like the Ivy Leagues. In order to keep up with the competition, other universities like the UC system, including UCSD have implemented systems to increase grades. In addition, due to COVID-19 online resources like Chat-GPT and Chegg have become more common which has lead to the democratization of information. We believe that this results in students doing better in class and thus increasing grades. The reason why we suspect this to be the case in the humanities departments is because those classes have become more labor based instead of based on a specific criteria. Writing classes at UCSD have become more forgiving in writing standards in order to become a more inclusive place for ideas and growth. "
   ]
  },
  {
   "cell_type": "markdown",
   "metadata": {},
   "source": [
    "# Data"
   ]
  },
  {
   "cell_type": "markdown",
   "metadata": {},
   "source": [
    "1. Explain what the **ideal** dataset you would want to answer this question. (This should include: What variables? How many observations? Who/what/how would these data be collected? How would these data be stored/organized?)\n",
    "1. Search for potential **real** datasets that could provide you with something useful for this project.  You do not have to find every piece of data you will use, but you do need to have demonstrated some idea that (a) this data is gettable and (b) that this data may be different from what your ideal is."
   ]
  },
  {
   "cell_type": "markdown",
   "metadata": {},
   "source": [
    "1. The ideal dataset that we would like to use to answer this question would be a summary of the average grade recieved per department with the year attached to it. To be more specific, we would like for there to be one column for a year, another column for the department name, and another column for the average grade reported for that department. Preferably this data would be collected from the professor's themselves or scrappped directly from the school's academic history and would be stored in a CSV file for easy access. \n",
    "\n",
    "2. Luckily there is a dataset that has this information however it's granuality is on a class level instead of a department level. In addition, the data isn't divided on a yearly basis but on a quarterly basis. The data comes from CAPES which is how students were able to evaluate their professors and classes. CAPES no longer exists but the data from previous years (2007 to 2023) is still saved in this dataset: https://www.kaggle.com/datasets/sanbornpnguyen/ucsdcapes?utm_medium=social&utm_campaign=kaggle-dataset-share"
   ]
  },
  {
   "cell_type": "markdown",
   "metadata": {},
   "source": [
    "# Ethics & Privacy"
   ]
  },
  {
   "cell_type": "markdown",
   "metadata": {},
   "source": [
    "- Thoughtful discussion of ethical concerns included\n",
    "- Ethical concerns consider the whole data science process (question asked, data collected, data being used, the bias in data, analysis, post-analysis, etc.)\n",
    "- How your group handled bias/ethical concerns clearly described\n",
    "\n",
    "Acknowledge and address any ethics & privacy related issues of your question(s), proposed dataset(s), and/or analyses. Use the information provided in lecture to guide your group discussion and thinking. If you need further guidance, check out [Deon's Ethics Checklist](http://deon.drivendata.org/#data-science-ethics-checklist). In particular:\n",
    "\n",
    "- Are there any biases/privacy/terms of use issues with the data you propsed?\n",
    "\n",
    "- Are there potential biases in your dataset(s), in terms of who it composes, and how it was collected, that may be problematic in terms of it allowing for equitable analysis? (For example, does your data exclude particular populations, or is it likely to reflect particular human biases in a way that could be a problem?)\n",
    "\n",
    "- How will you set out to detect these specific biases before, during, and after/when communicating your analysis?\n",
    "\n",
    "- Are there any other issues related to your topic area, data, and/or analyses that are potentially problematic in terms of data privacy and equitable impact?\n",
    "\n",
    "- How will you handle issues you identified?\n",
    "There is little our project can do to fix the issues mentioned however we will mention these issues to highlight them to the reader. "
   ]
  },
  {
   "cell_type": "markdown",
   "metadata": {},
   "source": [
    "There are very minimal ethics and privacy concerns related to this dataset since there is no personal information about the student's individual grades available on the dataset. \n",
    "\n",
    "There may be a slight bias in who composes the data because the students who fill out CAPES are already more willing to participate in the class for extra credit. The grade expected and the grade recieved are different because the people who fill out capes are a different section than the overall class demographic. While this selection bias exists in the dataset, we don't suspect it having a large affect on the conclusions made by our research. This reason why this is the case is because we are studying an overall trend of growth or decay in grades. If this bias where to exist, then it would exist in every year that we analyze CAPES so ranges would be uneffected by this bias. \n",
    "\n",
    "We will communitcate these specfic biases that we find when discussing our analysis to inform readers about this potential issue. \n",
    "\n",
    "There are no other issues related to your topic area, data, and/or analyses that are potentially problematic in terms of data privacy and equitable impact. There is little our project can do to fix any issues however we will mention these issues to highlight them to the reader. "
   ]
  },
  {
   "cell_type": "markdown",
   "metadata": {},
   "source": [
    "# Team Expectations "
   ]
  },
  {
   "cell_type": "markdown",
   "metadata": {},
   "source": [
    "\n",
    "Read over the [COGS108 Team Policies](https://github.com/COGS108/Projects/blob/master/COGS108_TeamPolicies.md) individually. Then, include your group’s expectations of one another for successful completion of your COGS108 project below. Discuss and agree on what all of your expectations are. Discuss how your team will communicate throughout the quarter and consider how you will communicate respectfully should conflicts arise. By including each member’s name above and by adding their name to the submission, you are indicating that you have read the COGS108 Team Policies, accept your team’s expectations below, and have every intention to fulfill them. These expectations are for your team’s use and benefit — they won’t be graded for their details.\n",
    "\n",
    "* Meeting once a week AT LEAST! \n",
    "* Communication in the discord channel is vital if you are not able to make it to the meeting! Communication is key\n",
    "* Equal contribution on Github!\n",
    "* Aim to finish all work on time and if someone can not make a deadline, make it obvious in the group chat so someone can cover that work. "
   ]
  },
  {
   "cell_type": "markdown",
   "metadata": {},
   "source": [
    "# Project Timeline Proposal"
   ]
  },
  {
   "cell_type": "markdown",
   "metadata": {},
   "source": [
    "Specify your team's specific project timeline. An example timeline has been provided. Changes the dates, times, names, and details to fit your group's plan.\n",
    "\n",
    "If you think you will need any special resources or training outside what we have covered in COGS 108 to solve your problem, then your proposal should state these clearly. For example, if you have selected a problem that involves implementing multiple neural networks, please state this so we can make sure you know what you’re doing and so we can point you to resources you will need to implement your project. Note that you are not required to use outside methods.\n",
    "\n",
    "\n",
    "\n",
    "| Meeting Date  | Meeting Time| Completed Before Meeting  | Discuss at Meeting |\n",
    "|---|---|---|---|\n",
    "| 2/11  |  2 PM | Read & Think about COGS 108 expectations; brainstorm topics/questions  | Discuss and decide on final project topic; discuss hypothesis; begin background research | \n",
    "| 2/25  |  2 PM |  Do background research on topic and write down specific subquestions that should be answered by the dataset | Find a perfect dataset to answer the research question and do EDA on the dataset | \n",
    "| 3/10  | 2 PM  |  Clean and wrangle the dataset to get meaningful results | Discuss cleaning the data; include citations; data analysis should be written out (plots don't need to be done but there should be an understanding)   |\n",
    "| 3/15  | 6 PM  | Finalize all plots and code that everyone has done | Review/Edit wrangling/EDA; Discuss Analysis Plan and anything that has currently been written  |\n",
    "| 3/20  | Before 11:59 PM  | Report any potential issues | Turn in Final Project & Group Project Surveys |"
   ]
  }
 ],
 "metadata": {
  "kernelspec": {
   "display_name": "Python 3 (ipykernel)",
   "language": "python",
   "name": "python3"
  },
  "language_info": {
   "codemirror_mode": {
    "name": "ipython",
    "version": 3
   },
   "file_extension": ".py",
   "mimetype": "text/x-python",
   "name": "python",
   "nbconvert_exporter": "python",
   "pygments_lexer": "ipython3",
   "version": "3.9.5"
  }
 },
 "nbformat": 4,
 "nbformat_minor": 2
}
